{
 "cells": [
  {
   "cell_type": "code",
   "execution_count": 1,
   "metadata": {},
   "outputs": [],
   "source": [
    "import numpy as np\n",
    "import copy \n",
    "import matplotlib.pyplot as plt\n",
    "import tensorflow as tf\n",
    "import tensorflow_probability as tfp\n",
    "# Main C3 objects\n",
    "from c3.c3objs import Quantity as Qty\n",
    "from c3.parametermap import ParameterMap as PMap\n",
    "from c3.experiment import Experiment as Exp\n",
    "from c3.model import Model as Mdl\n",
    "from c3.generator.generator import Generator as Gnr\n",
    "\n",
    "# Building blocks\n",
    "import c3.generator.devices as devices\n",
    "import c3.signal.gates as gates\n",
    "import c3.libraries.chip as chip\n",
    "import c3.signal.pulse as pulse\n",
    "import c3.libraries.tasks as tasks\n",
    "\n",
    "# Libs and helpers\n",
    "import c3.libraries.algorithms as algorithms\n",
    "import c3.libraries.hamiltonians as hamiltonians\n",
    "import c3.libraries.fidelities as fidelities\n",
    "import c3.libraries.envelopes as envelopes\n",
    "import c3.utils.qt_utils as qt_utils\n",
    "import c3.utils.tf_utils as tf_utils\n",
    "\n",
    "# Plotting\n",
    "import plotly.express as px\n",
    "import plotly.graph_objects as go\n",
    "from plotting import plot_dynamics_plotly\n",
    "\n",
    "# Utilities functions\n",
    "import utilities_functions as ut"
   ]
  },
  {
   "cell_type": "code",
   "execution_count": 2,
   "metadata": {},
   "outputs": [],
   "source": [
    "Num_qubits = 2\n",
    "Num_coupler = Num_qubits - 1\n",
    "\n",
    "qubit_levels = [3, 3]\n",
    "coupler_levels = [3]\n",
    "\n",
    "freq_q_arr = [4e9, 4e9]\n",
    "anharm_q_arr = [-210e6, -210e6]\n",
    "t1_q_arr = [27e-6, 27e-6]\n",
    "t2star_q_arr = [39e-6, 39e-6]\n",
    "phi_q = [0.1, 0.1]\n",
    "phi_0_q = [10.0, 10.0]\n",
    "d_q = [0.0, 0.0]\n",
    "\n",
    "freq_c_arr = [4e9]\n",
    "anharm_c_arr = [-210e6]\n",
    "t1_c_arr = [27e-6]\n",
    "t2star_c_arr = [39e-6]\n",
    "phi_c = [0.1]\n",
    "phi_0_c = [10.0]\n",
    "d_c = [0.0]\n",
    "\n",
    "qubit_temp = 50e-3\n"
   ]
  },
  {
   "cell_type": "code",
   "execution_count": 10,
   "metadata": {},
   "outputs": [
    {
     "name": "stdout",
     "output_type": "stream",
     "text": [
      "Q1\n",
      "Q2\n",
      "C1\n"
     ]
    }
   ],
   "source": [
    "qubits = ut.intialize_qubits(\n",
    "                    Num_qubits=Num_qubits,\n",
    "                    qubit_levels_list=qubit_levels,\n",
    "                    freq_list=freq_q_arr,\n",
    "                    anharm_list=anharm_q_arr,\n",
    "                    t1_list=t1_q_arr,\n",
    "                    t2star_list=t2star_q_arr,\n",
    "                    phi_list=phi_q,\n",
    "                    phi0_list=phi_0_q,\n",
    "                    d_list=d_q,\n",
    "                    qubit_temp=qubit_temp\n",
    ")\n",
    "\n",
    "couplers = ut.initialize_coupler(\n",
    "                    Num_coupler=Num_coupler,\n",
    "                    coupler_levels_list=coupler_levels,\n",
    "                    freq_list=freq_c_arr,\n",
    "                    anharm_list=anharm_c_arr,\n",
    "                    t1_list=t1_c_arr,\n",
    "                    t2star_list=t2star_q_arr,\n",
    "                    phi_list=phi_c,\n",
    "                    phi0_list=phi_0_c,\n",
    "                    d_list=d_c,\n",
    "                    qubit_temp=qubit_temp\n",
    ")\n",
    "\n",
    "for i in qubits:\n",
    "    print(i.name)\n",
    "\n",
    "for i in couplers:\n",
    "    print(i.name)"
   ]
  },
  {
   "cell_type": "code",
   "execution_count": 12,
   "metadata": {},
   "outputs": [
    {
     "name": "stdout",
     "output_type": "stream",
     "text": [
      "Q1-C1 ['Q1', 'C1']\n",
      "Q2-C1 ['Q2', 'C1']\n"
     ]
    }
   ],
   "source": [
    "NN_coupling_strength = [20e6, 20e6]\n",
    "NNN_coupling_strength = []\n",
    "\n",
    "couplings = ut.generate_couplings(\n",
    "                Num_qubits=Num_qubits,\n",
    "                Num_coupler=Num_coupler,\n",
    "                NN_coupling_strength=NN_coupling_strength,\n",
    "                NNN_coupling_strength=NNN_coupling_strength,\n",
    "                qubit_array=qubits,\n",
    "                coupler_array=couplers\n",
    ")\n",
    "\n",
    "for i in couplings:\n",
    "    print(i.name, i.connected)"
   ]
  },
  {
   "cell_type": "code",
   "execution_count": 11,
   "metadata": {},
   "outputs": [
    {
     "name": "stdout",
     "output_type": "stream",
     "text": [
      "d1 ['Q1']\n",
      "d2 ['Q2']\n"
     ]
    }
   ],
   "source": [
    "drives = ut.initialize_qubit_drives(\n",
    "                Num_qubits=Num_qubits,\n",
    "                qubit_array=qubits\n",
    ")\n",
    "\n",
    "for i in drives:\n",
    "    print(i.name, i.connected)"
   ]
  },
  {
   "cell_type": "code",
   "execution_count": 13,
   "metadata": {},
   "outputs": [],
   "source": [
    "init_temp = 50e-3\n",
    "init_ground = tasks.InitialiseGround(\n",
    "        init_temp = Qty(\n",
    "                value = init_temp,\n",
    "                min_val = -0.001,\n",
    "                max_val = 0.22,\n",
    "                unit = \"K\"\n",
    "        )\n",
    ")"
   ]
  },
  {
   "cell_type": "code",
   "execution_count": 14,
   "metadata": {},
   "outputs": [
    {
     "name": "stderr",
     "output_type": "stream",
     "text": [
      "C:\\Users\\Ashutosh\\AppData\\Local\\Programs\\Python\\Python39\\lib\\site-packages\\c3\\model.py:384: UserWarning: C3 Warning: Some states are overly dressed, trying to recover...18 states, 2 is lowest failed state\n",
      "  warnings.warn(\n"
     ]
    }
   ],
   "source": [
    "model = Mdl(\n",
    "        qubits + couplers,\n",
    "        drives + couplings\n",
    ")\n",
    "model.set_lindbladian(False)\n",
    "model.set_dressed(True)"
   ]
  },
  {
   "cell_type": "code",
   "execution_count": 15,
   "metadata": {},
   "outputs": [],
   "source": [
    "sim_res = 100e9\n",
    "awg_res = 2e9\n",
    "v2hz = 1e9\n",
    "\n",
    "generator = ut.build_generator(\n",
    "                Num_qubits=Num_qubits,\n",
    "                drive_array=drives,\n",
    "                sim_res=sim_res,\n",
    "                awg_res=awg_res,\n",
    "                v2hz=v2hz\n",
    ")"
   ]
  },
  {
   "cell_type": "code",
   "execution_count": null,
   "metadata": {},
   "outputs": [],
   "source": []
  }
 ],
 "metadata": {
  "interpreter": {
   "hash": "2dc235e31e0ace8bc2c319776b0aa8d7867e381513fdba6f5d6439c35fc25844"
  },
  "kernelspec": {
   "display_name": "Python 3.9.6 64-bit",
   "name": "python3"
  },
  "language_info": {
   "codemirror_mode": {
    "name": "ipython",
    "version": 3
   },
   "file_extension": ".py",
   "mimetype": "text/x-python",
   "name": "python",
   "nbconvert_exporter": "python",
   "pygments_lexer": "ipython3",
   "version": "3.9.6"
  },
  "orig_nbformat": 4
 },
 "nbformat": 4,
 "nbformat_minor": 2
}
