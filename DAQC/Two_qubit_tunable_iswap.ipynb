{
 "cells": [
  {
   "cell_type": "markdown",
   "metadata": {},
   "source": [
    "# Two Tunable Qubits + One Tunable Coupler: Engtangling gates"
   ]
  },
  {
   "cell_type": "markdown",
   "metadata": {},
   "source": [
    "### Imports"
   ]
  },
  {
   "cell_type": "code",
   "execution_count": 1,
   "metadata": {},
   "outputs": [],
   "source": [
    "import os\n",
    "import tempfile\n",
    "import numpy as np\n",
    "import copy\n",
    "import matplotlib.pyplot as plt\n",
    "import tensorflow as tf\n",
    "from tensorflow.python.eager.context import num_gpus\n",
    "import tensorflow_probability as tfp\n",
    "# Main C3 objects\n",
    "from c3.c3objs import Quantity as Qty\n",
    "from c3.parametermap import ParameterMap as PMap\n",
    "from c3.experiment import Experiment as Exp\n",
    "from c3.model import Model as Mdl\n",
    "from c3.generator.generator import Generator as Gnr\n",
    "\n",
    "# Building blocks\n",
    "import c3.generator.devices as devices\n",
    "import c3.signal.gates as gates\n",
    "import c3.libraries.chip as chip\n",
    "import c3.signal.pulse as pulse\n",
    "import c3.libraries.tasks as tasks\n",
    "\n",
    "# Libs and helpers\n",
    "import c3.libraries.algorithms as algorithms\n",
    "import c3.libraries.hamiltonians as hamiltonians\n",
    "import c3.libraries.fidelities as fidelities\n",
    "import c3.libraries.envelopes as envelopes\n",
    "import c3.utils.qt_utils as qt_utils\n",
    "import c3.utils.tf_utils as tf_utils\n",
    "from c3.optimizers.optimalcontrol import OptimalControl\n",
    "\n",
    "#%matplotlib widget\n",
    "import plotly.graph_objects as go\n",
    "from utilities_functions import *\n",
    "from plotting import *"
   ]
  },
  {
   "cell_type": "markdown",
   "metadata": {},
   "source": [
    "### Define Qubits and coupler"
   ]
  },
  {
   "cell_type": "markdown",
   "metadata": {},
   "source": [
    "Define Qubits, coupler and couplings"
   ]
  },
  {
   "cell_type": "code",
   "execution_count": 3,
   "metadata": {},
   "outputs": [],
   "source": [
    "qubit_levels = [3, 3]\n",
    "qubit_frequencies = [4.16e9, 4.0e9]\n",
    "anharmonicities = [-220e6, -210e6]\n",
    "t1 = [60e-6, 30e-6]\n",
    "t2star = [66e-6, 5e-6]\n",
    "qubit_temp = [50e-3, 50e-3]\n",
    "transmon_phi = [1.2088, 0.0]\n",
    "transmon_phi_0 = [10.0, 10.0]\n",
    "transmon_d = [0.0, 0.0]\n",
    "\n",
    "\n",
    "qubits = createQubits(qubit_levels, qubit_frequencies, anharmonicities, t1,\n",
    "                      t2star, transmon_phi, transmon_phi_0, transmon_d, qubit_temp)\n",
    "\n",
    "coupler_levels = 3\n",
    "frequency_coupler = 5.45e9\n",
    "anharmonicity_coupler = -90e6\n",
    "t1_coupler = 10e-6\n",
    "t2star_coupler = 1e-6\n",
    "coupler_temp = 50e-3\n",
    "phi_coupler = 3.0227\n",
    "phi_0_coupler = 10.0\n",
    "d_coupler = 0.0\n",
    "\n",
    "c1 = chip.Transmon(\n",
    "    name=\"C1\",\n",
    "    desc=\"Tunable coupler coupling Qubit 1 and Qubit 2\",\n",
    "    freq=Qty(value=frequency_coupler, min_val=2e9, max_val=8e9, unit=\"Hz 2pi\"),\n",
    "    anhar=Qty(value=anharmonicity_coupler, min_val=-380e6, max_val=-50e6, unit=\"Hz 2pi\"),\n",
    "    hilbert_dim=coupler_levels,\n",
    "    t1=Qty(value=t1_coupler, min_val=1e-6, max_val=90e-6, unit=\"s\"),\n",
    "    t2star=Qty(value=t2star_coupler, min_val=1e-6, max_val=90e-6, unit=\"s\"),\n",
    "    temp=Qty(value=coupler_temp, min_val=0.0, max_val=0.12, unit=\"K\"),\n",
    "    phi=Qty(value=phi_coupler, max_val=5.0, min_val=0.0, unit=\"Wb\"),\n",
    "    phi_0=Qty(value=phi_0_coupler, max_val=11.0, min_val=9.0, unit=\"Wb\"),\n",
    "    d=Qty(value=d_coupler, max_val=0.1, min_val=-0.1, unit=\"\")\n",
    ")\n",
    "\n",
    "# Couple the qubits to the coupler\n",
    "coupling_strengths = [72.5e6, 71.5e6]\n",
    "couplings = createChainCouplingsWithCouplers(coupling_strengths, qubits, [c1])"
   ]
  },
  {
   "cell_type": "markdown",
   "metadata": {},
   "source": [
    "Define the drives (Z-drives are tuning the flux of the qubits)"
   ]
  },
  {
   "cell_type": "code",
   "execution_count": null,
   "metadata": {},
   "outputs": [],
   "source": [
    "drives = createDrives(qubits)\n",
    "\n",
    "drive_coupler = chip.Drive(\n",
    "                name = \"dC\",\n",
    "                desc= \"Drive coupler\",\n",
    "                comment = \"Drive for coupler frequency tuning\",\n",
    "                connected = [\"C1\"],\n",
    "                hamiltonian_func = hamiltonians.z_drive\n",
    ")\n",
    "\n",
    "drive_q1_flux = chip.Drive(\n",
    "                name = \"d1F\",\n",
    "                desc= \"Drive qubit 1 flux\",\n",
    "                comment = \"Drive for qubit 1 frequency tuning\",\n",
    "                connected = [\"Q1\"],\n",
    "                hamiltonian_func = hamiltonians.z_drive\n",
    ")\n",
    "\n",
    "drive_q2_flux = chip.Drive(\n",
    "                name = \"d2F\",\n",
    "                desc= \"Drive qubit 2 flux\",\n",
    "                comment = \"Drive for qubit 2 frequency tuning\",\n",
    "                connected = [\"Q2\"],\n",
    "                hamiltonian_func = hamiltonians.z_drive"
   ]
  }
 ],
 "metadata": {
  "interpreter": {
   "hash": "e28890cb4de9a29dd2656789eaffb1572434759cf7c2fbee1e969d93987603ba"
  },
  "kernelspec": {
   "display_name": "Python 3.8.10 64-bit",
   "language": "python",
   "name": "python3"
  },
  "language_info": {
   "codemirror_mode": {
    "name": "ipython",
    "version": 3
   },
   "file_extension": ".py",
   "mimetype": "text/x-python",
   "name": "python",
   "nbconvert_exporter": "python",
   "pygments_lexer": "ipython3",
   "version": "3.8.10"
  },
  "orig_nbformat": 4
 },
 "nbformat": 4,
 "nbformat_minor": 2
}
