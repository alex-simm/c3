{
 "cells": [
  {
   "cell_type": "code",
   "execution_count": 1,
   "metadata": {
    "collapsed": true
   },
   "outputs": [
    {
     "name": "stderr",
     "output_type": "stream",
     "text": [
      "2021-09-02 18:44:51.065804: W tensorflow/stream_executor/platform/default/dso_loader.cc:60] Could not load dynamic library 'libcudart.so.11.0'; dlerror: libcudart.so.11.0: cannot open shared object file: No such file or directory\n",
      "2021-09-02 18:44:51.065857: I tensorflow/stream_executor/cuda/cudart_stub.cc:29] Ignore above cudart dlerror if you do not have a GPU set up on your machine.\n"
     ]
    }
   ],
   "source": [
    "from utils import *\n",
    "import c3.libraries.algorithms as algorithms\n",
    "from SingleQubitExperiment import SingleQubitExperiment"
   ]
  },
  {
   "cell_type": "code",
   "execution_count": 4,
   "metadata": {
    "pycharm": {
     "name": "#%%\n"
    }
   },
   "outputs": [],
   "source": [
    "\n",
    "def test_fidelity(propagators: dict, instructions: dict, index, dims,\n",
    "                  qubit: chip.Qubit, generator: Generator, drive: chip.Drive, n_eval=-1):\n",
    "    numPeaks = 2\n",
    "    # find energies of the qubit\n",
    "    energies = qubit.get_Hamiltonian().numpy().diagonal().real\n",
    "    vec1 = np.array([energies[3] - energies[2], energies[1] - energies[0]]) / (2 * np.pi)\n",
    "\n",
    "    infids = []\n",
    "    for gate, propagator in propagators.items():\n",
    "        # create signal and find peaks\n",
    "        instr = instructions[gate]\n",
    "        signal = generator.generate_signals(instr)[drive.name]\n",
    "        peakFrequencies, peakValues = findFrequencyPeaks(signal[\"ts\"].numpy(), signal[\"values\"].numpy(), numPeaks)\n",
    "\n",
    "        # add frequency offsets to infidelity\n",
    "        #infid = np.linalg.norm(vec1 - peakFrequencies)\n",
    "        infid1 = np.abs(vec1[0] - peakFrequencies[0]) / peakFrequencies[0]\n",
    "        infid1 += np.abs(vec1[1] - peakFrequencies[1]) / peakFrequencies[1]\n",
    "\n",
    "        # add peak height difference to infidelity\n",
    "        if peakFrequencies[1] > peakFrequencies[0]:\n",
    "            a = peakValues[1]\n",
    "            b = np.sqrt(2) * peakValues[0]\n",
    "        else:\n",
    "            a = peakValues[0]\n",
    "            b = np.sqrt(2) * peakValues[1]\n",
    "        infid2 = np.abs(a - b) / np.maximum(a, b)\n",
    "        infid = infid1 * (1 + infid2)\n",
    "        print(\"peaks: \", np.sort(peakFrequencies), \" => \", vec1, \"; infidelity: \", infid1, infid2, infid)\n",
    "        infids.append(infid)\n",
    "    return tf.reduce_mean(infids)\n",
    "\n",
    "\n",
    "def runExperiment(\n",
    "        t_final: float,\n",
    "        freq: float,\n",
    "        anharm: float,\n",
    "        carrier_freq: float,\n",
    "        envelope: pulse.Envelope,\n",
    "        optimisable_params: dict,\n",
    "        algorithm: Callable,\n",
    "        algorithm_options: {},\n",
    "        file_suffix: str,\n",
    "        directory: str = None,\n",
    "        num_gates=1\n",
    ") -> dict:\n",
    "    exper = SingleQubitExperiment(file_suffix=file_suffix, directory=directory)\n",
    "    exper.prepare(t_final, freq, anharm, carrier_freq, envelope)\n",
    "    return exper.optimise(optimisable_params, algorithm, algorithm_options)"
   ]
  },
  {
   "cell_type": "code",
   "execution_count": 5,
   "outputs": [
    {
     "name": "stdout",
     "output_type": "stream",
     "text": [
      "energies:  [5000000000.0, 4670000000.000003, 4339999999.999994, 4010000000.0000033]\n",
      "saving plot in ./output/test/signal_before_.png\n",
      "peaks:  [3.30165083e+09 4.40220110e+09 5.10255128e+09 6.20310155e+09]\n",
      "saving plot in ./output/test/populations_before_.png\n",
      "C3:STATUS:Saving as: /home/user/c3/output/test/log__10.00/c1_unitary_infid_set_cmaes/2021_09_02_T_18_46_22/open_loop.log\n",
      "(4_w,9)-aCMA-ES (mu_w=2.8,w_1=49%) in dimension 7 (seed=670059, Thu Sep  2 18:46:22 2021)\n",
      "Iterat #Fevals   function value  axis ratio  sigma  min&max std  t[m:s]\n",
      "    1      9 7.244079174581552e-01 1.0e+00 9.65e-02  9e-02  1e-01 0:06.1\n",
      "    2     18 6.027187497652191e-01 1.2e+00 9.91e-02  9e-02  1e-01 0:12.8\n",
      "    3     27 4.898990690625926e-01 1.3e+00 9.50e-02  8e-02  1e-01 0:19.7\n",
      "before:\n",
      " lower-X[0]-d1-gauss-amp               : 3.000 V \n",
      "lower-X[0]-d1-gauss-sigma             : 666.667 ps \n",
      "lower-X[0]-d1-gauss-sigma2            : 666.667 ps \n",
      "lower-X[0]-d1-gauss-relative_amp      : 1.414  \n",
      "lower-X[0]-d1-gauss-delta             : 0.000  \n",
      "lower-X[0]-d1-carrier-freq            : 4.750 GHz 2pi \n",
      "lower-X[0]-d1-carrier-framechange     : 0.000 rad \n",
      "\n",
      "after:\n",
      " 0.4481087316039958\n",
      "fidelity:\n",
      " lower-X[0]-d1-gauss-amp               : 2.793 V \n",
      "lower-X[0]-d1-gauss-sigma             : 621.893 ps \n",
      "lower-X[0]-d1-gauss-sigma2            : 630.554 ps \n",
      "lower-X[0]-d1-gauss-relative_amp      : 1.250  \n",
      "lower-X[0]-d1-gauss-delta             : 661.601 m \n",
      "lower-X[0]-d1-carrier-freq            : 4.997 GHz 2pi \n",
      "lower-X[0]-d1-carrier-framechange     : 886.466 mrad \n",
      "\n",
      "saving plot in ./output/test/signal_after_.png\n",
      "peaks:  [4.50225113e+09 5.00250125e+09 5.30265133e+09 6.40320160e+09]\n",
      "saving plot in ./output/test/populations_after_.png\n",
      "0.4481087316039958\n"
     ]
    }
   ],
   "source": [
    "freq = 5e9\n",
    "anharm = 330e6\n",
    "t_final = 10e-9\n",
    "sigma = t_final / 15\n",
    "sigma2 = sigma\n",
    "relative_amp = np.sqrt(2)\n",
    "carrier_freq = 4.7e9\n",
    "optimisable_params = {\n",
    "    \"gauss\": [\"amp\", \"sigma\",\n",
    "              #\"xy_angle\", \"freq_offset\",  # for single gaussian envelope\n",
    "              #\"t_final\", \"t_bin_start\", \"t_bin_end\",\n",
    "              \"sigma2\", \"relative_amp\",  # for double-gaussian envelope\n",
    "              \"delta\",  # for DRAG\n",
    "              #\"inphase\",\n",
    "              ],\n",
    "    \"carrier\": [\n",
    "        \"freq\",\n",
    "        \"framechange\"\n",
    "    ]\n",
    "}\n",
    "\n",
    "#amp = 2.9898805422620756 #V\n",
    "#sigma = 7.914863107804569e-10 #s\n",
    "#sigma2 = 6.955276846125239e-10 #s\n",
    "#relative_amp = 1.8131542761817843 #\n",
    "#delta = 0.004339356027326602 #\n",
    "#carrier_freq = 4655811329.747005 #Hz 2pi\n",
    "#framechange = 2.55339714228929 #rad\n",
    "\n",
    "#for idx, delta in enumerate(np.linspace(-1, 5, 50)):\n",
    "envelope = createDoubleGaussianPulse(t_final, sigma, sigma2, relative_amp)\n",
    "paramsResult = runExperiment(t_final, freq, anharm, carrier_freq,\n",
    "                             envelope=envelope,\n",
    "                             optimisable_params=optimisable_params,\n",
    "                             algorithm=algorithms.cmaes,\n",
    "                             algorithm_options={\"stop_at_convergence\": 30},\n",
    "                             #file_suffix=f\"{idx}_{delta}\",\n",
    "                             file_suffix=\"\",\n",
    "                             directory=\"./output/test\",\n",
    "                             num_gates=1\n",
    "                             )\n",
    "print(paramsResult)"
   ],
   "metadata": {
    "collapsed": false,
    "pycharm": {
     "name": "#%%\n"
    }
   }
  },
  {
   "cell_type": "code",
   "execution_count": null,
   "outputs": [],
   "source": [],
   "metadata": {
    "collapsed": false,
    "pycharm": {
     "name": "#%%\n"
    }
   }
  }
 ],
 "metadata": {
  "kernelspec": {
   "display_name": "Python 3 (ipykernel)",
   "language": "python",
   "name": "python3"
  },
  "language_info": {
   "codemirror_mode": {
    "name": "ipython",
    "version": 3
   },
   "file_extension": ".py",
   "mimetype": "text/x-python",
   "name": "python",
   "nbconvert_exporter": "python",
   "pygments_lexer": "ipython3",
   "version": "3.9.6"
  }
 },
 "nbformat": 4,
 "nbformat_minor": 1
}