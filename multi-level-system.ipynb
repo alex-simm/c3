{
 "cells": [
  {
   "cell_type": "code",
   "execution_count": 1,
   "metadata": {
    "collapsed": true
   },
   "outputs": [
    {
     "name": "stderr",
     "output_type": "stream",
     "text": [
      "2021-10-20 15:53:10.818894: W tensorflow/stream_executor/platform/default/dso_loader.cc:60] Could not load dynamic library 'libcudart.so.11.0'; dlerror: libcudart.so.11.0: cannot open shared object file: No such file or directory\n",
      "2021-10-20 15:53:10.818926: I tensorflow/stream_executor/cuda/cudart_stub.cc:29] Ignore above cudart dlerror if you do not have a GPU set up on your machine.\n"
     ]
    }
   ],
   "source": [
    "import numpy as np\n",
    "import argparse\n",
    "import c3.libraries.fidelities as fidelities\n",
    "from utils import *\n",
    "import c3.libraries.algorithms as algorithms\n",
    "import c3.utils.qt_utils as qt_utils\n",
    "import c3.libraries.constants as constants\n",
    "from multi_level_qubits.TwoQubitsExperiment import TwoQubitsExperiment"
   ]
  },
  {
   "cell_type": "code",
   "execution_count": 2,
   "metadata": {
    "pycharm": {
     "name": "#%%\n"
    }
   },
   "outputs": [],
   "source": [
    "parser = argparse.ArgumentParser()\n",
    "parser.add_argument(\"output\", help=\"Output directory\")\n",
    "args = parser.parse_args()\n",
    "output_dir = args.output"
   ]
  },
  {
   "cell_type": "code",
   "execution_count": 3,
   "metadata": {
    "pycharm": {
     "name": "#%%\n"
    }
   },
   "outputs": [],
   "source": [
    "def spectral_peaks_goal(propagators: dict, instructions: dict, index, dims,\n",
    "                        qubit: chip.Qubit, generator: Generator, drive: chip.Drive,\n",
    "                        n_eval=-1, num_peaks=2) -> tf.Tensor:\n",
    "    # find energies of the qubit\n",
    "    energies = qubit.get_Hamiltonian().numpy().diagonal().real\n",
    "    vec1 = np.array([energies[3] - energies[2], energies[1] - energies[0]]) / (2 * np.pi)\n",
    "\n",
    "    infids = []\n",
    "    for gate, propagator in propagators.items():\n",
    "        # create signal and find peaks\n",
    "        instr = instructions[gate]\n",
    "        signal = generator.generate_signals(instr)[drive.name]\n",
    "        peakFrequencies, peakValues = findFrequencyPeaks(signal[\"ts\"].numpy(), signal[\"values\"].numpy(), num_peaks)\n",
    "        peakFrequencies = tf.convert_to_tensor(peakFrequencies)\n",
    "        peakValues = tf.convert_to_tensor(peakValues)\n",
    "\n",
    "        # add frequency offsets to infidelity\n",
    "        #infid = np.linalg.norm(vec1 - peakFrequencies)\n",
    "        infid1 = tf.abs(vec1[0] - peakFrequencies[0]) / peakFrequencies[0]\n",
    "        infid1 += tf.abs(vec1[1] - peakFrequencies[1]) / peakFrequencies[1]\n",
    "\n",
    "        # add peak height difference to infidelity\n",
    "        if peakFrequencies[1] > peakFrequencies[0]:\n",
    "            a = peakValues[1]\n",
    "            b = np.sqrt(2) * peakValues[0]\n",
    "        else:\n",
    "            a = peakValues[0]\n",
    "            b = np.sqrt(2) * peakValues[1]\n",
    "        infid2 = tf.abs(a - b) / tf.maximum(a, b)\n",
    "        infid = infid1 * (1 + infid2)\n",
    "        infids.append(infid)\n",
    "    result = tf.reduce_mean(infids)\n",
    "    print(\"type: \", type(result))\n",
    "    return result\n",
    "\n",
    "\n",
    "def printInformation(exper: TwoQubitsExperiment, name: str) -> None:\n",
    "    signal = exper.generateSignal()\n",
    "    peakFrequencies, peakValues = findFrequencyPeaks(signal[\"ts\"].numpy(), signal[\"values\"].numpy(), 4)\n",
    "    print(\"peaks: \", np.sort(peakFrequencies))\n",
    "    exper.saveSignal(\"signal_\" + name)\n",
    "    exper.plotSignal(\"signal_\" + name)\n",
    "    exper.saveTimeEvolution(\"populations_\" + name)\n",
    "    exper.plotTimeEvolution(\"populations_\" + name)\n",
    "    exper.savePropagator(\"propagator_\" + name)\n",
    "    exper.plotPropagator(\"propagator_\" + name)"
   ]
  },
  {
   "cell_type": "code",
   "execution_count": 4,
   "metadata": {
    "pycharm": {
     "name": "#%%\n"
    }
   },
   "outputs": [],
   "source": [
    "freq1 = 5e9\n",
    "freq2 = 4e9\n",
    "anharm = 300e6\n",
    "t_final = 15e-9\n",
    "sigma = t_final / 15\n",
    "sigma2 = sigma / 2\n",
    "relative_amp = 2\n",
    "carrier_freq = 4.7e9\n",
    "coupling_strength = 0 #20e6\n",
    "optimisable_params = {\n",
    "    \"pwc\": [\n",
    "        \"amp\",\n",
    "        \"xy_angle\", \"freq_offset\",\n",
    "        \"delta\",\n",
    "        \"t_final\", #\"t_bin_start\", \"t_bin_end\",\n",
    "        \"inphase\"\n",
    "    ],\n",
    "    \"carrier\": [\n",
    "        \"freq\",\n",
    "        \"framechange\"\n",
    "    ]\n",
    "}"
   ]
  },
  {
   "cell_type": "code",
   "execution_count": null,
   "outputs": [],
   "source": [
    "ideal_Unity = qt_utils.np_kron_n([constants.Id, constants.Id])\n",
    "ideal_X90_q1 = qt_utils.np_kron_n([constants.x90p, constants.Id])\n",
    "ideal_X90_q2 = qt_utils.np_kron_n([constants.Id, constants.x90p])\n",
    "ideal_CNOT_q1 = np.array([[1, 0, 0, 0], [0, 1, 0, 0], [0, 0, 0, 1], [0, 0, 1, 0]], dtype=np.complex128)\n",
    "ideal_CNOT_q2 = constants.GATES[\"cx\"]"
   ],
   "metadata": {
    "collapsed": false,
    "pycharm": {
     "name": "#%%\n"
    }
   }
  },
  {
   "cell_type": "code",
   "execution_count": 5,
   "metadata": {
    "pycharm": {
     "name": "#%%\n"
    }
   },
   "outputs": [
    {
     "name": "stderr",
     "output_type": "stream",
     "text": [
      "2021-10-20 15:53:41.634032: I tensorflow/compiler/jit/xla_cpu_device.cc:41] Not creating XLA devices, tf_xla_enable_xla_devices not set\n",
      "2021-10-20 15:53:41.634239: W tensorflow/stream_executor/platform/default/dso_loader.cc:60] Could not load dynamic library 'libcuda.so.1'; dlerror: libcuda.so.1: cannot open shared object file: No such file or directory\n",
      "2021-10-20 15:53:41.634253: W tensorflow/stream_executor/cuda/cuda_driver.cc:326] failed call to cuInit: UNKNOWN ERROR (303)\n",
      "2021-10-20 15:53:41.634273: I tensorflow/stream_executor/cuda/cuda_diagnostics.cc:156] kernel driver does not appear to be running on this host (localhost.localdomain): /proc/driver/nvidia/version does not exist\n",
      "2021-10-20 15:53:41.634882: I tensorflow/compiler/jit/xla_gpu_device.cc:99] Not creating XLA devices, tf_xla_enable_xla_devices not set\n"
     ]
    },
    {
     "name": "stdout",
     "output_type": "stream",
     "text": [
      "Dimensions:  25\n",
      "enabling DRAG2\n"
     ]
    },
    {
     "name": "stderr",
     "output_type": "stream",
     "text": [
      "2021-10-20 15:53:48.644297: I tensorflow/compiler/mlir/mlir_graph_optimization_pass.cc:116] None of the MLIR optimization passes are enabled (registered 2)\n",
      "2021-10-20 15:53:48.660615: I tensorflow/core/platform/profile_utils/cpu_utils.cc:112] CPU Frequency: 2793540000 Hz\n"
     ]
    },
    {
     "name": "stdout",
     "output_type": "stream",
     "text": [
      "energies:  [-2.79259937e+05  2.51296511e+10  4.83757632e+10  6.97374037e+10\n",
      "  8.92159401e+10  3.14178611e+10  5.65444429e+10  7.97898310e+10\n",
      "  1.01151296e+11  1.20625834e+11  6.09531732e+10  8.60696421e+10\n",
      "  1.09315784e+11  1.30678041e+11  1.50147518e+11  8.86104349e+10\n",
      "  1.13655472e+11  1.36944365e+11  1.58314016e+11  1.77778209e+11\n",
      "  1.14444010e+11  1.39537488e+11  1.62779834e+11  1.84141307e+11\n",
      "  2.03580790e+11]\n",
      "energies differences:  [3999552640.2391567, 3699733644.580575, 3399810676.420923, 3100105355.5315375, -9198849979.099773, 3999019701.598215, 3699618425.235013, 3399782719.982929, 3099469073.674329, -9497199005.288082, 3997410185.5457864, 3699738428.256548, 3399908804.4514093, 3098663525.75392, -9793931027.118484, 3986041502.0616775, 3706542412.304876, 3401085506.6842456, 3097822562.231657, -10079950811.207684, 3993751094.1205506, 3699134195.3207116, 3399784101.643265, 3093889682.32495]\n",
      "C3:STATUS:Saving as: /home/user/c3/output_0/log/c1_unitary_infid_set_lbfgs/2021_10_20_T_15_53_49/open_loop.log\n",
      "WARNING:tensorflow:Tensor._shape is private, use Tensor.shape instead. Tensor._shape will eventually be removed.\n"
     ]
    },
    {
     "ename": "FileNotFoundError",
     "evalue": "[Errno 2] No such file or directory: '/home/user/c3/output_0/log/c1_unitary_infid_set_lbfgs/2021_10_20_T_15_53_49/best_point_open_loop.log'",
     "output_type": "error",
     "traceback": [
      "\u001B[0;31m---------------------------------------------------------------------------\u001B[0m",
      "\u001B[0;31mFileNotFoundError\u001B[0m                         Traceback (most recent call last)",
      "\u001B[0;32m/tmp/ipykernel_5477/2024867732.py\u001B[0m in \u001B[0;36m<module>\u001B[0;34m\u001B[0m\n\u001B[1;32m     32\u001B[0m \u001B[0;31m# first optimisation\u001B[0m\u001B[0;34m\u001B[0m\u001B[0;34m\u001B[0m\u001B[0;34m\u001B[0m\u001B[0m\n\u001B[1;32m     33\u001B[0m \u001B[0mcallback\u001B[0m \u001B[0;34m=\u001B[0m \u001B[0;32mlambda\u001B[0m \u001B[0minfid\u001B[0m\u001B[0;34m:\u001B[0m \u001B[0mprint\u001B[0m\u001B[0;34m(\u001B[0m\u001B[0minfid\u001B[0m\u001B[0;34m)\u001B[0m\u001B[0;34m\u001B[0m\u001B[0;34m\u001B[0m\u001B[0m\n\u001B[0;32m---> 34\u001B[0;31m params_after = exper.optimise(\n\u001B[0m\u001B[1;32m     35\u001B[0m     \u001B[0moptimisable_params\u001B[0m\u001B[0;34m,\u001B[0m\u001B[0;34m\u001B[0m\u001B[0;34m\u001B[0m\u001B[0m\n\u001B[1;32m     36\u001B[0m     \u001B[0malgorithm\u001B[0m\u001B[0;34m=\u001B[0m\u001B[0malgorithms\u001B[0m\u001B[0;34m.\u001B[0m\u001B[0mlbfgs\u001B[0m\u001B[0;34m,\u001B[0m\u001B[0;34m\u001B[0m\u001B[0;34m\u001B[0m\u001B[0m\n",
      "\u001B[0;32m~/c3/multi_level_qubits/TwoQubitsExperiment.py\u001B[0m in \u001B[0;36moptimise\u001B[0;34m(self, optimisable_params, algorithm, algorithm_options, fidelity_function, fidelity_params, callback)\u001B[0m\n\u001B[1;32m    165\u001B[0m             \u001B[0mself\u001B[0m\u001B[0;34m.\u001B[0m\u001B[0m__experiment\u001B[0m\u001B[0;34m,\u001B[0m \u001B[0moptimisable_gates\u001B[0m\u001B[0;34m,\u001B[0m \u001B[0moptimisable_params\u001B[0m\u001B[0;34m\u001B[0m\u001B[0;34m\u001B[0m\u001B[0m\n\u001B[1;32m    166\u001B[0m         )\n\u001B[0;32m--> 167\u001B[0;31m         params_before, final_fidelity, params_after = utils.optimise(\n\u001B[0m\u001B[1;32m    168\u001B[0m             \u001B[0mself\u001B[0m\u001B[0;34m.\u001B[0m\u001B[0m__experiment\u001B[0m\u001B[0;34m,\u001B[0m\u001B[0;34m\u001B[0m\u001B[0;34m\u001B[0m\u001B[0m\n\u001B[1;32m    169\u001B[0m             \u001B[0moptimisable_gates\u001B[0m\u001B[0;34m,\u001B[0m\u001B[0;34m\u001B[0m\u001B[0;34m\u001B[0m\u001B[0m\n",
      "\u001B[0;32m~/c3/utils.py\u001B[0m in \u001B[0;36moptimise\u001B[0;34m(experiment, gates, optimisable_parameters, fidelity_fctn, fidelity_params, algorithm, algo_options, callback, log_dir)\u001B[0m\n\u001B[1;32m    581\u001B[0m     \u001B[0;31m# start optimisation\u001B[0m\u001B[0;34m\u001B[0m\u001B[0;34m\u001B[0m\u001B[0;34m\u001B[0m\u001B[0m\n\u001B[1;32m    582\u001B[0m     \u001B[0mparams_before\u001B[0m \u001B[0;34m=\u001B[0m \u001B[0mexperiment\u001B[0m\u001B[0;34m.\u001B[0m\u001B[0mpmap\u001B[0m\u001B[0;34m.\u001B[0m\u001B[0mstr_parameters\u001B[0m\u001B[0;34m(\u001B[0m\u001B[0;34m)\u001B[0m\u001B[0;34m\u001B[0m\u001B[0;34m\u001B[0m\u001B[0m\n\u001B[0;32m--> 583\u001B[0;31m     \u001B[0mopt\u001B[0m\u001B[0;34m.\u001B[0m\u001B[0moptimize_controls\u001B[0m\u001B[0;34m(\u001B[0m\u001B[0;34m)\u001B[0m\u001B[0;34m\u001B[0m\u001B[0;34m\u001B[0m\u001B[0m\n\u001B[0m\u001B[1;32m    584\u001B[0m     \u001B[0mresult\u001B[0m \u001B[0;34m=\u001B[0m \u001B[0mopt\u001B[0m\u001B[0;34m.\u001B[0m\u001B[0mcurrent_best_goal\u001B[0m\u001B[0;34m\u001B[0m\u001B[0;34m\u001B[0m\u001B[0m\n\u001B[1;32m    585\u001B[0m     \u001B[0mparams_after\u001B[0m \u001B[0;34m=\u001B[0m \u001B[0mexperiment\u001B[0m\u001B[0;34m.\u001B[0m\u001B[0mpmap\u001B[0m\u001B[0;34m.\u001B[0m\u001B[0mstr_parameters\u001B[0m\u001B[0;34m(\u001B[0m\u001B[0;34m)\u001B[0m\u001B[0;34m\u001B[0m\u001B[0;34m\u001B[0m\u001B[0m\n",
      "\u001B[0;32m~/c3/c3/optimizers/optimalcontrol.py\u001B[0m in \u001B[0;36moptimize_controls\u001B[0;34m(self, setup_log)\u001B[0m\n\u001B[1;32m    144\u001B[0m         \u001B[0mx_init\u001B[0m \u001B[0;34m=\u001B[0m \u001B[0mself\u001B[0m\u001B[0;34m.\u001B[0m\u001B[0mpmap\u001B[0m\u001B[0;34m.\u001B[0m\u001B[0mget_parameters_scaled\u001B[0m\u001B[0;34m(\u001B[0m\u001B[0;34m)\u001B[0m\u001B[0;34m\u001B[0m\u001B[0;34m\u001B[0m\u001B[0m\n\u001B[1;32m    145\u001B[0m         \u001B[0;32mtry\u001B[0m\u001B[0;34m:\u001B[0m\u001B[0;34m\u001B[0m\u001B[0;34m\u001B[0m\u001B[0m\n\u001B[0;32m--> 146\u001B[0;31m             self.algorithm(\n\u001B[0m\u001B[1;32m    147\u001B[0m                 \u001B[0mx_init\u001B[0m\u001B[0;34m,\u001B[0m\u001B[0;34m\u001B[0m\u001B[0;34m\u001B[0m\u001B[0m\n\u001B[1;32m    148\u001B[0m                 \u001B[0mfun\u001B[0m\u001B[0;34m=\u001B[0m\u001B[0mself\u001B[0m\u001B[0;34m.\u001B[0m\u001B[0mfct_to_min\u001B[0m\u001B[0;34m,\u001B[0m\u001B[0;34m\u001B[0m\u001B[0;34m\u001B[0m\u001B[0m\n",
      "\u001B[0;32m~/c3/c3/optimizers/optimizer.py\u001B[0m in \u001B[0;36mload_best\u001B[0;34m(self, init_point)\u001B[0m\n\u001B[1;32m    111\u001B[0m \u001B[0;34m\u001B[0m\u001B[0m\n\u001B[1;32m    112\u001B[0m         \"\"\"\n\u001B[0;32m--> 113\u001B[0;31m         \u001B[0mself\u001B[0m\u001B[0;34m.\u001B[0m\u001B[0mpmap\u001B[0m\u001B[0;34m.\u001B[0m\u001B[0mload_values\u001B[0m\u001B[0;34m(\u001B[0m\u001B[0minit_point\u001B[0m\u001B[0;34m)\u001B[0m\u001B[0;34m\u001B[0m\u001B[0;34m\u001B[0m\u001B[0m\n\u001B[0m\u001B[1;32m    114\u001B[0m \u001B[0;34m\u001B[0m\u001B[0m\n\u001B[1;32m    115\u001B[0m     \u001B[0;32mdef\u001B[0m \u001B[0mstart_log\u001B[0m\u001B[0;34m(\u001B[0m\u001B[0mself\u001B[0m\u001B[0;34m)\u001B[0m \u001B[0;34m->\u001B[0m \u001B[0;32mNone\u001B[0m\u001B[0;34m:\u001B[0m\u001B[0;34m\u001B[0m\u001B[0;34m\u001B[0m\u001B[0m\n",
      "\u001B[0;32m~/c3/c3/parametermap.py\u001B[0m in \u001B[0;36mload_values\u001B[0;34m(self, init_point)\u001B[0m\n\u001B[1;32m     75\u001B[0m \u001B[0;34m\u001B[0m\u001B[0m\n\u001B[1;32m     76\u001B[0m         \"\"\"\n\u001B[0;32m---> 77\u001B[0;31m         \u001B[0;32mwith\u001B[0m \u001B[0mopen\u001B[0m\u001B[0;34m(\u001B[0m\u001B[0minit_point\u001B[0m\u001B[0;34m)\u001B[0m \u001B[0;32mas\u001B[0m \u001B[0minit_file\u001B[0m\u001B[0;34m:\u001B[0m\u001B[0;34m\u001B[0m\u001B[0;34m\u001B[0m\u001B[0m\n\u001B[0m\u001B[1;32m     78\u001B[0m             \u001B[0mbest\u001B[0m \u001B[0;34m=\u001B[0m \u001B[0mhjson\u001B[0m\u001B[0;34m.\u001B[0m\u001B[0mload\u001B[0m\u001B[0;34m(\u001B[0m\u001B[0minit_file\u001B[0m\u001B[0;34m,\u001B[0m \u001B[0mobject_pairs_hook\u001B[0m\u001B[0;34m=\u001B[0m\u001B[0mhjson_decode\u001B[0m\u001B[0;34m)\u001B[0m\u001B[0;34m\u001B[0m\u001B[0;34m\u001B[0m\u001B[0m\n\u001B[1;32m     79\u001B[0m \u001B[0;34m\u001B[0m\u001B[0m\n",
      "\u001B[0;31mFileNotFoundError\u001B[0m: [Errno 2] No such file or directory: '/home/user/c3/output_0/log/c1_unitary_infid_set_lbfgs/2021_10_20_T_15_53_49/best_point_open_loop.log'"
     ]
    }
   ],
   "source": [
    "envelope = createPWCDoubleGaussianPulse(t_final, sigma, sigma2, relative_amp, 30)\n",
    "\n",
    "exper = TwoQubitsExperiment(directory=f\"{output_dir}/\")\n",
    "exper.prepare(t_final, (freq1, freq2), (anharm, anharm), carrier_freq, envelope,\n",
    "              ideal_gate=ideal_X90_q2,\n",
    "              occupied_levels=[0,2],\n",
    "              useDrag=True)\n",
    "\n",
    "exper.saveIdealPropagator(name=\"ideal_propagator\")\n",
    "\n",
    "# print information\n",
    "energies = exper.getEnergies()\n",
    "print(\"energies: \", energies)\n",
    "print(\"energies differences: \", [(energies[i + 1] - energies[i]) / (2 * np.pi) for i in range(len(energies) - 1)])\n",
    "printInformation(exper, \"before\")\n",
    "\n",
    "# first optimisation\n",
    "callback = lambda infid: print(infid)\n",
    "params_after = exper.optimise(\n",
    "    optimisable_params,\n",
    "    algorithm=algorithms.lbfgs,\n",
    "    algorithm_options={\n",
    "        #\"stop_at_convergence\": 15,\n",
    "        #\"spread\": 0.2,\n",
    "        #\"popsize\": 25,\n",
    "        \"maxfun\": 200,\n",
    "    },\n",
    "    fidelity_function=fidelities.unitary_infid_set,\n",
    "    fidelity_params={\n",
    "        \"active_levels\": 4,\n",
    "        #\"qubit\": exper.getQubit(),\n",
    "        #\"generator\": exper.getExperiment().pmap.generator,\n",
    "        #\"drive\": getDrive(exper.getExperiment().pmap.model, exper.getQubit())\n",
    "        #\"penalty_factor\": 1\n",
    "    },\n",
    "    callback=callback,\n",
    ")\n",
    "printInformation(exper, \"after\")\n",
    "print(params_after)"
   ]
  },
  {
   "cell_type": "code",
   "execution_count": null,
   "metadata": {
    "pycharm": {
     "name": "#%%\n"
    }
   },
   "outputs": [],
   "source": []
  }
 ],
 "metadata": {
  "kernelspec": {
   "display_name": "Python 3 (ipykernel)",
   "language": "python",
   "name": "python3"
  },
  "language_info": {
   "codemirror_mode": {
    "name": "ipython",
    "version": 3
   },
   "file_extension": ".py",
   "mimetype": "text/x-python",
   "name": "python",
   "nbconvert_exporter": "python",
   "pygments_lexer": "ipython3",
   "version": "3.9.7"
  }
 },
 "nbformat": 4,
 "nbformat_minor": 1
}