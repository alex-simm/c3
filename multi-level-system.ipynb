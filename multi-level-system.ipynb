{
 "cells": [
  {
   "cell_type": "code",
   "execution_count": 1,
   "metadata": {
    "collapsed": true
   },
   "outputs": [
    {
     "name": "stderr",
     "output_type": "stream",
     "text": [
      "2021-10-05 16:57:23.341965: W tensorflow/stream_executor/platform/default/dso_loader.cc:60] Could not load dynamic library 'libcudart.so.11.0'; dlerror: libcudart.so.11.0: cannot open shared object file: No such file or directory\n",
      "2021-10-05 16:57:23.342004: I tensorflow/stream_executor/cuda/cudart_stub.cc:29] Ignore above cudart dlerror if you do not have a GPU set up on your machine.\n"
     ]
    }
   ],
   "source": [
    "import numpy as np\n",
    "import argparse\n",
    "import c3.libraries.fidelities as fidelities\n",
    "from utils import *\n",
    "import c3.libraries.algorithms as algorithms\n",
    "import c3.utils.qt_utils as qt_utils\n",
    "import c3.libraries.constants as constants\n",
    "from SingleQubitExperiment import SingleQubitExperiment"
   ]
  },
  {
   "cell_type": "code",
   "execution_count": null,
   "metadata": {
    "pycharm": {
     "name": "#%%\n"
    }
   },
   "outputs": [],
   "source": [
    "parser = argparse.ArgumentParser()\n",
    "parser.add_argument(\"output\", help=\"Output directory\")\n",
    "args = parser.parse_args()\n",
    "output_dir = args.output\n",
    "#output_dir = './output'"
   ]
  },
  {
   "cell_type": "code",
   "execution_count": 3,
   "metadata": {
    "pycharm": {
     "name": "#%%\n"
    }
   },
   "outputs": [],
   "source": [
    "def spectral_peaks_goal(propagators: dict, instructions: dict, index, dims,\n",
    "                        qubit: chip.Qubit, generator: Generator, drive: chip.Drive,\n",
    "                        n_eval=-1, num_peaks=2) -> tf.Tensor:\n",
    "    # find energies of the qubit\n",
    "    energies = qubit.get_Hamiltonian().numpy().diagonal().real\n",
    "    vec1 = np.array([energies[3] - energies[2], energies[1] - energies[0]]) / (2 * np.pi)\n",
    "\n",
    "    infids = []\n",
    "    for gate, propagator in propagators.items():\n",
    "        # create signal and find peaks\n",
    "        instr = instructions[gate]\n",
    "        signal = generator.generate_signals(instr)[drive.name]\n",
    "        peakFrequencies, peakValues = findFrequencyPeaks(signal[\"ts\"].numpy(), signal[\"values\"].numpy(), num_peaks)\n",
    "        peakFrequencies = tf.convert_to_tensor(peakFrequencies)\n",
    "        peakValues = tf.convert_to_tensor(peakValues)\n",
    "\n",
    "        # add frequency offsets to infidelity\n",
    "        #infid = np.linalg.norm(vec1 - peakFrequencies)\n",
    "        infid1 = tf.abs(vec1[0] - peakFrequencies[0]) / peakFrequencies[0]\n",
    "        infid1 += tf.abs(vec1[1] - peakFrequencies[1]) / peakFrequencies[1]\n",
    "\n",
    "        # add peak height difference to infidelity\n",
    "        if peakFrequencies[1] > peakFrequencies[0]:\n",
    "            a = peakValues[1]\n",
    "            b = np.sqrt(2) * peakValues[0]\n",
    "        else:\n",
    "            a = peakValues[0]\n",
    "            b = np.sqrt(2) * peakValues[1]\n",
    "        infid2 = tf.abs(a - b) / tf.maximum(a, b)\n",
    "        infid = infid1 * (1 + infid2)\n",
    "        infids.append(infid)\n",
    "    result = tf.reduce_mean(infids)\n",
    "    print(\"type: \", type(result))\n",
    "    return result\n",
    "\n",
    "\n",
    "def printInformation(exper: SingleQubitExperiment, name: str) -> None:\n",
    "    signal = exper.generateSignal()\n",
    "    peakFrequencies, peakValues = findFrequencyPeaks(signal[\"ts\"].numpy(), signal[\"values\"].numpy(), 4)\n",
    "    print(\"peaks: \", np.sort(peakFrequencies))\n",
    "    exper.saveSignal(\"signal_\" + name)\n",
    "    exper.plotSignal(\"signal_\" + name)\n",
    "    exper.saveTimeEvolution(\"populations_\" + name)\n",
    "    exper.plotTimeEvolution(\"populations_\" + name)\n",
    "    exper.savePropagator(\"propagator_\" + name)\n",
    "    exper.plotPropagator(\"propagator_\" + name)"
   ]
  },
  {
   "cell_type": "code",
   "execution_count": 4,
   "metadata": {
    "pycharm": {
     "name": "#%%\n"
    }
   },
   "outputs": [],
   "source": [
    "freq = 5e9\n",
    "anharm = 300e6\n",
    "t_final = 15e-9\n",
    "sigma = t_final / 15\n",
    "sigma2 = sigma / 2\n",
    "relative_amp = 2\n",
    "carrier_freq = 4.7e9\n",
    "optimisable_params = {\n",
    "    \"pwc\": [\n",
    "        \"amp\",\n",
    "        \"xy_angle\", \"freq_offset\",\n",
    "        \"delta\",\n",
    "        \"t_final\", #\"t_bin_start\", \"t_bin_end\",\n",
    "        \"inphase\"\n",
    "    ],\n",
    "    \"carrier\": [\n",
    "        \"freq\",\n",
    "        \"framechange\"\n",
    "    ]\n",
    "}"
   ]
  },
  {
   "cell_type": "code",
   "execution_count": 6,
   "metadata": {
    "pycharm": {
     "name": "#%%\n"
    }
   },
   "outputs": [
    {
     "ename": "NameError",
     "evalue": "name 'output_dir' is not defined",
     "output_type": "error",
     "traceback": [
      "\u001B[0;31m---------------------------------------------------------------------------\u001B[0m",
      "\u001B[0;31mNameError\u001B[0m                                 Traceback (most recent call last)",
      "\u001B[0;32m/tmp/ipykernel_11590/498232485.py\u001B[0m in \u001B[0;36m<module>\u001B[0;34m\u001B[0m\n\u001B[1;32m      4\u001B[0m     \u001B[0menvelope\u001B[0m \u001B[0;34m=\u001B[0m \u001B[0mcreatePWCGaussianPulse\u001B[0m\u001B[0;34m(\u001B[0m\u001B[0mt_final\u001B[0m\u001B[0;34m,\u001B[0m \u001B[0msigma\u001B[0m\u001B[0;34m,\u001B[0m \u001B[0;36m30\u001B[0m\u001B[0;34m)\u001B[0m\u001B[0;34m\u001B[0m\u001B[0;34m\u001B[0m\u001B[0m\n\u001B[1;32m      5\u001B[0m     \u001B[0;31m#envelope = createPWCCustomPulse(t_final, sigma=1.794e-9, cosine_frequency=303.160e6, num_pieces=60, custom_params=custom_params)\u001B[0m\u001B[0;34m\u001B[0m\u001B[0;34m\u001B[0m\u001B[0;34m\u001B[0m\u001B[0m\n\u001B[0;32m----> 6\u001B[0;31m     \u001B[0mexper\u001B[0m \u001B[0;34m=\u001B[0m \u001B[0mSingleQubitExperiment\u001B[0m\u001B[0;34m(\u001B[0m\u001B[0mdirectory\u001B[0m\u001B[0;34m=\u001B[0m\u001B[0;34mf\"{output_dir}/\"\u001B[0m\u001B[0;34m,\u001B[0m \u001B[0mfile_suffix\u001B[0m\u001B[0;34m=\u001B[0m\u001B[0;34mf\"{i}\"\u001B[0m\u001B[0;34m)\u001B[0m\u001B[0;34m\u001B[0m\u001B[0;34m\u001B[0m\u001B[0m\n\u001B[0m\u001B[1;32m      7\u001B[0m     \u001B[0mexper\u001B[0m\u001B[0;34m.\u001B[0m\u001B[0mprepare\u001B[0m\u001B[0;34m(\u001B[0m\u001B[0mt_final\u001B[0m\u001B[0;34m,\u001B[0m \u001B[0mfreq\u001B[0m\u001B[0;34m,\u001B[0m \u001B[0manharm\u001B[0m\u001B[0;34m,\u001B[0m \u001B[0mcarrier_freq\u001B[0m\u001B[0;34m,\u001B[0m \u001B[0menvelope\u001B[0m\u001B[0;34m,\u001B[0m \u001B[0museDrag\u001B[0m\u001B[0;34m=\u001B[0m\u001B[0;32mFalse\u001B[0m\u001B[0;34m)\u001B[0m\u001B[0;34m\u001B[0m\u001B[0;34m\u001B[0m\u001B[0m\n\u001B[1;32m      8\u001B[0m \u001B[0;34m\u001B[0m\u001B[0m\n",
      "\u001B[0;31mNameError\u001B[0m: name 'output_dir' is not defined"
     ]
    }
   ],
   "source": [
    "envelope = createPWCDoubleGaussianPulse(t_final, sigma, sigma2, relative_amp, 30)\n",
    "exper = SingleQubitExperiment(directory=f\"{output_dir}/\")\n",
    "exper.prepare(t_final, freq, anharm, carrier_freq, envelope,\n",
    "              #ideal_gate=qt_utils.np_kron_n([constants.Id, constants.y90p]),\n",
    "              #ideal_gate=constants.GATES[\"cx\"],\n",
    "              #ideal_gate=np.array([[1, 0, 0, 0], [0, 1, 0, 0], [0, 0, 0, 1], [0, 0, 1, 0]], dtype=np.complex128),\n",
    "              ideal_gate=qt_utils.np_kron_n([constants.Id, constants.y90p]),\n",
    "              useDrag=True)\n",
    "\n",
    "# print information\n",
    "energies = exper.getEnergies()\n",
    "print(\"energies: \", [(energies[i + 1] - energies[i]) / (2 * np.pi) for i in range(len(energies) - 1)])\n",
    "printInformation(exper, \"before\")\n",
    "\n",
    "# first optimisation\n",
    "callback = lambda infid: print(infid)\n",
    "params_after = exper.optimise(\n",
    "    optimisable_params,\n",
    "    algorithm=algorithms.lbfgs,\n",
    "    algorithm_options={\n",
    "        #\"stop_at_convergence\": 15,\n",
    "        #\"spread\": 0.2,\n",
    "        #\"popsize\": 25,\n",
    "        \"maxfun\": 200,\n",
    "    },\n",
    "    fidelity_function=fidelities.unitary_infid_set_with_penalty,\n",
    "    fidelity_params={\n",
    "        \"active_levels\": 4,\n",
    "        #\"qubit\": exper.getQubit(),\n",
    "        #\"generator\": exper.getExperiment().pmap.generator,\n",
    "        #\"drive\": getDrive(exper.getExperiment().pmap.model, exper.getQubit())\n",
    "        \"penalty_factor\": 1\n",
    "    },\n",
    "    callback=callback,\n",
    ")\n",
    "printInformation(exper, \"after\")\n",
    "print(params_after)\n",
    "\n",
    "# second experiment\n",
    "'''\n",
    "    envelope2 = createPWCCustomPulse(t_final, optimisedParams['lower-X[0]-d1-custom-sigma'], optimisedParams['lower-X[0]-d1-custom-cosine_frequency'], 30)\n",
    "    exper2 = SingleQubitExperiment(directory=f\"{output_dir}/\", file_suffix=f\"{i}\")\n",
    "    carrier_freq2 = optimisedParams['lower-X[0]-d1-carrier-freq']\n",
    "    exper2.prepare(t_final, freq, anharm, carrier_freq2, envelope2, useDrag=False)\n",
    "\n",
    "    # second optimisation\n",
    "    callback = lambda infid: print(\"infidelity: \", infid)\n",
    "    params_after = exper.optimise(\n",
    "        optimisable_params,\n",
    "        algorithm=algorithms.lbfgs,\n",
    "        algorithm_options={\n",
    "            #\"stop_at_convergence\": 15,\n",
    "            #\"spread\": 0.15,\n",
    "            #\"popsize\": 20,\n",
    "            \"maxfun\": 100\n",
    "        },\n",
    "        fidelity_function=fidelities.unitary_infid_set,\n",
    "        fidelity_params={\n",
    "            \"active_levels\": 4,\n",
    "        },\n",
    "        callback=callback\n",
    "    )\n",
    "    printInformation(exper, \"after\")\n",
    "    print(params_after)\n",
    "    '''"
   ]
  },
  {
   "cell_type": "code",
   "execution_count": null,
   "metadata": {
    "pycharm": {
     "name": "#%%\n"
    }
   },
   "outputs": [],
   "source": []
  }
 ],
 "metadata": {
  "kernelspec": {
   "display_name": "Python 3 (ipykernel)",
   "language": "python",
   "name": "python3"
  },
  "language_info": {
   "codemirror_mode": {
    "name": "ipython",
    "version": 3
   },
   "file_extension": ".py",
   "mimetype": "text/x-python",
   "name": "python",
   "nbconvert_exporter": "python",
   "pygments_lexer": "ipython3",
   "version": "3.9.7"
  }
 },
 "nbformat": 4,
 "nbformat_minor": 1
}