{
 "cells": [
  {
   "cell_type": "code",
   "execution_count": 8,
   "metadata": {
    "collapsed": true
   },
   "outputs": [],
   "source": [
    "import pathlib\n",
    "import matplotlib.pyplot as plt\n",
    "\n",
    "from c3.libraries import fidelities\n",
    "from c3.parametermap import ParameterMap\n",
    "from utils import *\n",
    "from c3.experiment import Experiment\n",
    "import c3.libraries.constants as constants"
   ]
  },
  {
   "cell_type": "code",
   "execution_count": 9,
   "outputs": [],
   "source": [
    "# plotting functions\n",
    "def plotOccupations(\n",
    "        experiment: Experiment,\n",
    "        populations: np.array,\n",
    "        gate_sequence: List[str],\n",
    "        level_names: List[str] = None,\n",
    "        filename: str = None,\n",
    ") -> None:\n",
    "    \"\"\"\n",
    "    Plots time dependent populations. They need to be calculated with `runTimeEvolution` first.\n",
    "\n",
    "    Parameters\n",
    "    ----------\n",
    "    experiment: Experiment\n",
    "        The experiment containing the model and propagators\n",
    "    populations: np.array\n",
    "        Population vector for each time step\n",
    "    gate_sequence: List[str]\n",
    "        List of gate names that will be applied to the state\n",
    "    level_names: List[str]\n",
    "        Optional list of names for the levels. If none, the default list\n",
    "        from the experiment will be used.\n",
    "    filename: str\n",
    "        Optional name of the file to which the plot will be saved. If none,\n",
    "        it will only be shown.\n",
    "\n",
    "    Returns\n",
    "    -------\n",
    "\n",
    "    \"\"\"\n",
    "    # plot populations\n",
    "    fig, axs = plt.subplots(1, 1)\n",
    "    dt = experiment.ts[1] - experiment.ts[0]\n",
    "    ts = np.linspace(0.0, dt * populations.shape[1], populations.shape[1])\n",
    "    axs.plot(ts / 1e-9, populations.T)\n",
    "\n",
    "    # plot vertical lines\n",
    "    gate_steps = [experiment.partial_propagators[g].shape[0] for g in gate_sequence]\n",
    "    for i in range(1, len(gate_steps)):\n",
    "        gate_steps[i] += gate_steps[i - 1]\n",
    "    gate_times = gate_steps * dt\n",
    "    plt.vlines(gate_times / 1e-9, tf.reduce_min(populations), tf.reduce_max(populations),\n",
    "               linestyles=':', colors=\"black\")\n",
    "\n",
    "    # set plot properties\n",
    "    axs.tick_params(direction=\"in\", left=True, right=True, top=False, bottom=True)\n",
    "    axs.set_xlabel('Time [ns]')\n",
    "    axs.set_ylabel('Population')\n",
    "    plt.legend(level_names if level_names else model.state_labels)\n",
    "    plt.tight_layout()\n",
    "\n",
    "    # show and save\n",
    "    if filename:\n",
    "        print(\"saving plot in \" + filename)\n",
    "        plt.savefig(filename)\n",
    "    else:\n",
    "        plt.show()\n",
    "    plt.close()\n",
    "\n",
    "\n",
    "def plotSignal(time, signal, filename=None, spectrum_cut=1e-4) -> None:\n",
    "    \"\"\"\n",
    "    Plots a time dependent signal and its normalised frequency spectrum.\n",
    "\n",
    "    Parameters\n",
    "    ----------\n",
    "    time\n",
    "        timestamps\n",
    "    signal\n",
    "        signal value\n",
    "    filename: str\n",
    "        Optional name of the file to which the plot will be saved. If none,\n",
    "        it will only be shown.\n",
    "    spectrum_cut:\n",
    "        If not None, only the part of the normalised spectrum will be plotted\n",
    "        whose absolute square is larger than this value.\n",
    "\n",
    "    Returns\n",
    "    -------\n",
    "\n",
    "    \"\"\"\n",
    "    # plot time domain\n",
    "    fig, axs = plt.subplots(1, 2, figsize=(12, 5))\n",
    "    axs[0].set_title('Signal')\n",
    "    axs[0].plot(time, signal)\n",
    "    axs[0].set_xlabel('time')\n",
    "\n",
    "    # calculate frequency spectrum\n",
    "    n_samples = time.shape[-1]\n",
    "    freq_signal = np.fft.rfft(signal)\n",
    "    normalised = freq_signal / np.max(freq_signal)\n",
    "    freq = np.fft.rfftfreq(n_samples, time[-1] / n_samples)\n",
    "\n",
    "    # cut spectrum if necessary\n",
    "    if spectrum_cut is not None:\n",
    "        limits = np.flatnonzero(np.abs(normalised) ** 2 > 1e-4)\n",
    "        freq = freq[limits[0]:limits[-1]]\n",
    "        normalised = normalised[limits[0]:limits[-1]]\n",
    "\n",
    "    # plot frequency domain\n",
    "    axs[1].set_title('Spectrum')\n",
    "    axs[1].plot(freq, normalised.real, label=\"Re\")\n",
    "    axs[1].plot(freq, normalised.imag, label=\"Im\")\n",
    "    axs[1].plot(freq, np.abs(normalised) ** 2, label=\"Square\")\n",
    "    axs[1].set_xlabel('frequency')\n",
    "    axs[1].legend()\n",
    "\n",
    "    # show and save\n",
    "    plt.tight_layout()\n",
    "    if filename:\n",
    "        print(\"saving plot in \" + filename)\n",
    "        plt.savefig(filename)\n",
    "    else:\n",
    "        plt.show()\n",
    "    plt.close()"
   ],
   "metadata": {
    "collapsed": false,
    "pycharm": {
     "name": "#%%\n"
    }
   }
  },
  {
   "cell_type": "code",
   "execution_count": 18,
   "outputs": [
    {
     "name": "stdout",
     "output_type": "stream",
     "text": [
      "unitaries:  {'lower-X[0]': (5, 5)}\n",
      "initial state= [1.+0.j 0.+0.j 0.+0.j 0.+0.j 0.+0.j] , occupation= [1. 0. 0. 0. 0.]\n"
     ]
    }
   ],
   "source": [
    "# preparation\n",
    "active_levels = 2\n",
    "occupied_levels = [0]\n",
    "directory = \"./output\"\n",
    "output_dir = pathlib.Path(directory)\n",
    "output_dir.mkdir(parents=True, exist_ok=True)\n",
    "\n",
    "# model\n",
    "q1 = createQubit(1, 5, 5e9, -300e6)\n",
    "model = createModel([q1])\n",
    "generator = createGenerator(model)\n",
    "\n",
    "# gate\n",
    "t_final = 7e-9\n",
    "envelope = createGaussianPulse(t_final)\n",
    "ideal = constants.x90p\n",
    "gate = createSingleQubitGate(\"lower-X\", t_final, 5e9, envelope, model, q1, ideal)\n",
    "gates = [gate]\n",
    "gate_names = list(map(lambda g: g.get_key(), gates))\n",
    "\n",
    "# experiment\n",
    "exp = Experiment(pmap=ParameterMap(instructions=gates, model=model, generator=generator))\n",
    "exp.set_opt_gates(gate_names)\n",
    "unitaries = exp.compute_propagators()\n",
    "print('unitaries: ', dict(map(lambda kv: (kv[0], kv[1].numpy().shape), unitaries.items())))\n",
    "\n",
    "# initial state\n",
    "init_state = createState(model, occupied_levels)\n",
    "state = init_state.numpy().flatten()\n",
    "print(\"initial state=\", state, \", occupation=\", exp.populations(state, model.lindbladian).numpy())"
   ],
   "metadata": {
    "collapsed": false,
    "pycharm": {
     "name": "#%%\n"
    }
   }
  },
  {
   "cell_type": "code",
   "execution_count": 19,
   "outputs": [
    {
     "name": "stdout",
     "output_type": "stream",
     "text": [
      "saving plot in ./output/populations_before.png\n",
      "saving plot in ./output/signal_before.png\n"
     ]
    }
   ],
   "source": [
    "# time evolution and signal before optimisation\n",
    "sequence = [\"lower-X[0]\"] * 3\n",
    "populations = runTimeEvolutionDefault(exp, init_state, sequence)\n",
    "plotOccupations(exp, populations, sequence, filename=directory + \"/populations_before.png\")\n",
    "signal = generator.generate_signals(gate)[getDrive(model, q1).name]\n",
    "plotSignal(signal['ts'], signal['values'], directory + \"/signal_before.png\", spectrum_cut=1e-4)"
   ],
   "metadata": {
    "collapsed": false,
    "pycharm": {
     "name": "#%%\n"
    }
   }
  },
  {
   "cell_type": "code",
   "execution_count": 20,
   "outputs": [
    {
     "name": "stdout",
     "output_type": "stream",
     "text": [
      "C3:STATUS:Saving as: /home/user/c3/output/log_7.00/c1_state_transfer_infid_set_lbfgs/2021_08_17_T_16_22_35/open_loop.log\n",
      "0.032027105510051945\n"
     ]
    },
    {
     "name": "stderr",
     "output_type": "stream",
     "text": [
      "/home/user/c3/c3/optimizers/optimizer.py:290: Warning: lower-X[0]-d1-carrier-framechange has no gradient. This might indicate no usage for current experiment.\n",
      "  warnings.warn(\n"
     ]
    },
    {
     "name": "stdout",
     "output_type": "stream",
     "text": [
      "0.9264719703390792\n",
      "0.029084009571448854\n",
      "0.02456100471841416\n",
      "0.012962704053639196\n",
      "0.002027090282770372\n",
      "7.966722438312868e-05\n",
      "5.9212312887413354e-05\n",
      "5.808528734574381e-05\n",
      "5.767625577701718e-05\n",
      "5.654645265495972e-05\n",
      "before:\n",
      " lower-X[0]-d1-gauss-amp               : 500.000 mV \n",
      "lower-X[0]-d1-gauss-freq_offset       : -53.000 MHz 2pi \n",
      "lower-X[0]-d1-gauss-xy_angle          : -444.089 arad \n",
      "lower-X[0]-d1-gauss-delta             : -1.000  \n",
      "lower-X[0]-d1-carrier-framechange     : 0.000 rad \n",
      "\n",
      "after:\n",
      " 5.654645265495972e-05\n",
      "fidelity:\n",
      " lower-X[0]-d1-gauss-amp               : 378.838 mV \n",
      "lower-X[0]-d1-gauss-freq_offset       : -52.987 MHz 2pi \n",
      "lower-X[0]-d1-gauss-xy_angle          : 21.949 mrad \n",
      "lower-X[0]-d1-gauss-delta             : -809.275 m \n",
      "lower-X[0]-d1-carrier-framechange     : 0.000 rad \n",
      "\n"
     ]
    }
   ],
   "source": [
    "# optimise\n",
    "optimisable_gates = list(filter(lambda g: g.get_key() != \"id[]\", gates))\n",
    "\n",
    "# add all optimisable parameters to a map\n",
    "drives = filterValues(model.couplings, chip.Drive)\n",
    "gateset_opt_map = []\n",
    "for gate in gates:\n",
    "    for target in gate.targets:\n",
    "        # TODO: target as index might not always work\n",
    "        drive = drives[target]\n",
    "        gateset_opt_map.append([(gate.get_key(), drive.name, \"gauss\", \"amp\")])\n",
    "        gateset_opt_map.append([(gate.get_key(), drive.name, \"gauss\", \"freq_offset\")])\n",
    "        gateset_opt_map.append([(gate.get_key(), drive.name, \"gauss\", \"xy_angle\")])\n",
    "        gateset_opt_map.append([(gate.get_key(), drive.name, \"gauss\", \"delta\")])\n",
    "        gateset_opt_map.append([(gate.get_key(), drive.name, \"carrier\", \"framechange\")])\n",
    "\n",
    "callback = lambda fidelity: print(fidelity)\n",
    "params_before, final_fidelity, params_after = optimise(\n",
    "    exp, optimisable_gates,\n",
    "    optimisable_parameters=gateset_opt_map,\n",
    "    fidelity_fctn=fidelities.state_transfer_infid_set,\n",
    "    fidelity_params={\n",
    "        'psi_0': init_state[:active_levels],\n",
    "        #'qubit_levels': 4,\n",
    "    },\n",
    "    callback=callback,\n",
    "    log_dir=(directory + (\"/log_{0:.2f}/\".format(t_final * 1e9)))\n",
    ")\n",
    "print('before:\\n', params_before)\n",
    "print('after:\\n', params_after)\n",
    "print('fidelity:\\n', final_fidelity)"
   ],
   "metadata": {
    "collapsed": false,
    "pycharm": {
     "name": "#%%\n"
    }
   }
  },
  {
   "cell_type": "code",
   "execution_count": 21,
   "outputs": [
    {
     "name": "stdout",
     "output_type": "stream",
     "text": [
      "saving plot in ./output/populations_after.png\n",
      "saving plot in ./output/signal_after.png\n"
     ]
    }
   ],
   "source": [
    "# time evolution and signal after optimisation\n",
    "sequence = [\"lower-X[0]\"] * 3\n",
    "populations = runTimeEvolutionDefault(exp, init_state, sequence)\n",
    "plotOccupations(exp, populations, sequence, filename=directory + \"/populations_after.png\")\n",
    "signal = generator.generate_signals(gate)[getDrive(model, q1).name]\n",
    "plotSignal(signal['ts'], signal['values'], directory + \"/signal_after.png\", spectrum_cut=1e-4)"
   ],
   "metadata": {
    "collapsed": false,
    "pycharm": {
     "name": "#%%\n"
    }
   }
  },
  {
   "cell_type": "code",
   "execution_count": null,
   "outputs": [],
   "source": [],
   "metadata": {
    "collapsed": false,
    "pycharm": {
     "name": "#%%\n"
    }
   }
  }
 ],
 "metadata": {
  "kernelspec": {
   "display_name": "Python 3",
   "language": "python",
   "name": "python3"
  },
  "language_info": {
   "codemirror_mode": {
    "name": "ipython",
    "version": 2
   },
   "file_extension": ".py",
   "mimetype": "text/x-python",
   "name": "python",
   "nbconvert_exporter": "python",
   "pygments_lexer": "ipython2",
   "version": "2.7.6"
  }
 },
 "nbformat": 4,
 "nbformat_minor": 0
}