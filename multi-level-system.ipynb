{
 "cells": [
  {
   "cell_type": "code",
   "execution_count": 1,
   "metadata": {
    "collapsed": true
   },
   "outputs": [
    {
     "name": "stderr",
     "output_type": "stream",
     "text": [
      "2021-08-17 14:02:12.440566: W tensorflow/stream_executor/platform/default/dso_loader.cc:60] Could not load dynamic library 'libcudart.so.11.0'; dlerror: libcudart.so.11.0: cannot open shared object file: No such file or directory\n",
      "2021-08-17 14:02:12.440601: I tensorflow/stream_executor/cuda/cudart_stub.cc:29] Ignore above cudart dlerror if you do not have a GPU set up on your machine.\n"
     ]
    }
   ],
   "source": [
    "import pathlib\n",
    "import matplotlib.pyplot as plt\n",
    "from c3.parametermap import ParameterMap\n",
    "from utils import *\n",
    "from c3.experiment import Experiment\n",
    "import c3.libraries.constants as constants"
   ]
  },
  {
   "cell_type": "code",
   "execution_count": 20,
   "outputs": [],
   "source": [
    "# plotting functions\n",
    "def plotOccupations(\n",
    "        experiment: Experiment,\n",
    "        populations: np.array,\n",
    "        gate_sequence: List[str],\n",
    "        level_names: List[str] = None,\n",
    "        filename: str = None,\n",
    ") -> None:\n",
    "    \"\"\"\n",
    "    Plots time dependent populations. They need to be calculated with `runTimeEvolution` first.\n",
    "\n",
    "    Parameters\n",
    "    ----------\n",
    "    experiment: Experiment\n",
    "        The experiment containing the model and propagators\n",
    "    populations: np.array\n",
    "        Population vector for each time step\n",
    "    gate_sequence: List[str]\n",
    "        List of gate names that will be applied to the state\n",
    "    level_names: List[str]\n",
    "        Optional list of names for the levels. If none, the default list\n",
    "        from the experiment will be used.\n",
    "    filename: str\n",
    "        Optional name of the file to which the plot will be saved. If none,\n",
    "        it will only be shown.\n",
    "\n",
    "    Returns\n",
    "    -------\n",
    "\n",
    "    \"\"\"\n",
    "    # plot populations\n",
    "    fig, axs = plt.subplots(1, 1)\n",
    "    dt = experiment.ts[1] - experiment.ts[0]\n",
    "    ts = np.linspace(0.0, dt * populations.shape[1], populations.shape[1])\n",
    "    axs.plot(ts / 1e-9, populations.T)\n",
    "\n",
    "    # plot vertical lines\n",
    "    gate_steps = [experiment.partial_propagators[g].shape[0] for g in gate_sequence]\n",
    "    for i in range(1, len(gate_steps)):\n",
    "        gate_steps[i] += gate_steps[i - 1]\n",
    "    gate_times = gate_steps * dt\n",
    "    plt.vlines(gate_times / 1e-9, tf.reduce_min(populations), tf.reduce_max(populations),\n",
    "               linestyles=':', colors=\"black\")\n",
    "\n",
    "    # set plot properties\n",
    "    axs.tick_params(direction=\"in\", left=True, right=True, top=False, bottom=True)\n",
    "    axs.set_xlabel('Time [ns]')\n",
    "    axs.set_ylabel('Population')\n",
    "    plt.legend(level_names if level_names else model.state_labels)\n",
    "    plt.tight_layout()\n",
    "\n",
    "    # show and save\n",
    "    if filename:\n",
    "        print(\"saving plot in \" + filename)\n",
    "        plt.savefig(filename)\n",
    "    else:\n",
    "        plt.show()\n",
    "    plt.close()\n",
    "\n",
    "\n",
    "def plotSignal(time, signal, filename=None, spectrum_cut=1e-4) -> None:\n",
    "    \"\"\"\n",
    "    Plots a time dependent signal and its normalised frequency spectrum.\n",
    "\n",
    "    Parameters\n",
    "    ----------\n",
    "    time\n",
    "        timestamps\n",
    "    signal\n",
    "        signal value\n",
    "    filename: str\n",
    "        Optional name of the file to which the plot will be saved. If none,\n",
    "        it will only be shown.\n",
    "    spectrum_cut:\n",
    "        If not None, only the part of the normalised spectrum will be plotted\n",
    "        whose absolute square is larger than this value.\n",
    "\n",
    "    Returns\n",
    "    -------\n",
    "\n",
    "    \"\"\"\n",
    "    # plot time domain\n",
    "    fig, axs = plt.subplots(1, 2, figsize=(12, 5))\n",
    "    axs[0].set_title('Signal')\n",
    "    axs[0].plot(time, signal)\n",
    "    axs[0].set_xlabel('time')\n",
    "\n",
    "    # calculate frequency spectrum\n",
    "    n_samples = time.shape[-1]\n",
    "    freq_signal = np.fft.rfft(signal)\n",
    "    normalised = freq_signal / np.max(freq_signal)\n",
    "    freq = np.fft.rfftfreq(n_samples, time[-1] / n_samples)\n",
    "\n",
    "    # cut spectrum if necessary\n",
    "    if spectrum_cut is not None:\n",
    "        limits = np.flatnonzero(np.abs(normalised) ** 2 > 1e-4)\n",
    "        freq = freq[limits[0]:limits[-1]]\n",
    "        normalised = normalised[limits[0]:limits[-1]]\n",
    "\n",
    "    # plot frequency domain\n",
    "    axs[1].set_title('Spectrum')\n",
    "    axs[1].plot(freq, normalised.real, label=\"Re\")\n",
    "    axs[1].plot(freq, normalised.imag, label=\"Im\")\n",
    "    axs[1].plot(freq, np.abs(normalised) ** 2, label=\"Square\")\n",
    "    axs[1].set_xlabel('frequency')\n",
    "    axs[1].legend()\n",
    "\n",
    "    # show and save\n",
    "    plt.tight_layout()\n",
    "    if filename:\n",
    "        print(\"saving plot in \" + filename)\n",
    "        plt.savefig(filename)\n",
    "    else:\n",
    "        plt.show()\n",
    "    plt.close()"
   ],
   "metadata": {
    "collapsed": false,
    "pycharm": {
     "name": "#%%\n"
    }
   }
  },
  {
   "cell_type": "code",
   "execution_count": 3,
   "outputs": [],
   "source": [
    "# preparation\n",
    "occupied_levels = [0]\n",
    "directory = \"./output\"\n",
    "output_dir = pathlib.Path(directory)\n",
    "output_dir.mkdir(parents=True, exist_ok=True)"
   ],
   "metadata": {
    "collapsed": false,
    "pycharm": {
     "name": "#%%\n"
    }
   }
  },
  {
   "cell_type": "code",
   "execution_count": 4,
   "outputs": [
    {
     "name": "stderr",
     "output_type": "stream",
     "text": [
      "2021-08-17 14:02:19.404045: I tensorflow/compiler/jit/xla_cpu_device.cc:41] Not creating XLA devices, tf_xla_enable_xla_devices not set\n",
      "2021-08-17 14:02:19.404743: W tensorflow/stream_executor/platform/default/dso_loader.cc:60] Could not load dynamic library 'libcuda.so.1'; dlerror: libcuda.so.1: cannot open shared object file: No such file or directory\n",
      "2021-08-17 14:02:19.405231: W tensorflow/stream_executor/cuda/cuda_driver.cc:326] failed call to cuInit: UNKNOWN ERROR (303)\n",
      "2021-08-17 14:02:19.405349: I tensorflow/stream_executor/cuda/cuda_diagnostics.cc:156] kernel driver does not appear to be running on this host (localhost.localdomain): /proc/driver/nvidia/version does not exist\n",
      "2021-08-17 14:02:19.407246: I tensorflow/compiler/jit/xla_gpu_device.cc:99] Not creating XLA devices, tf_xla_enable_xla_devices not set\n"
     ]
    }
   ],
   "source": [
    "# model\n",
    "q1 = createQubit(1, 5, 5e9, -300e6)\n",
    "model = createModel([q1])\n",
    "generator = createGenerator(model)"
   ],
   "metadata": {
    "collapsed": false,
    "pycharm": {
     "name": "#%%\n"
    }
   }
  },
  {
   "cell_type": "code",
   "execution_count": 5,
   "outputs": [
    {
     "name": "stderr",
     "output_type": "stream",
     "text": [
      "2021-08-17 14:02:21.726700: I tensorflow/compiler/mlir/mlir_graph_optimization_pass.cc:116] None of the MLIR optimization passes are enabled (registered 2)\n",
      "2021-08-17 14:02:21.744356: I tensorflow/core/platform/profile_utils/cpu_utils.cc:112] CPU Frequency: 2793465000 Hz\n"
     ]
    },
    {
     "name": "stdout",
     "output_type": "stream",
     "text": [
      "unitaries:  {'lower-X[0]': (5, 5)}\n",
      "initial state= [1.+0.j 0.+0.j 0.+0.j 0.+0.j 0.+0.j] , occupation= [1. 0. 0. 0. 0.]\n"
     ]
    }
   ],
   "source": [
    "# gate\n",
    "envelope = createGaussianPulse(7e-9)\n",
    "ideal = constants.X\n",
    "gate = createSingleQubitGate(\"lower-X\", 7e-9, 5e9, envelope, model, q1, ideal)\n",
    "gates = [gate]\n",
    "gate_names = list(map(lambda g: g.get_key(), gates))\n",
    "\n",
    "# experiment\n",
    "exp = Experiment(pmap=ParameterMap(instructions=gates, model=model, generator=generator))\n",
    "exp.set_opt_gates(gate_names)\n",
    "unitaries = exp.compute_propagators()\n",
    "print('unitaries: ', dict(map(lambda kv: (kv[0], kv[1].numpy().shape), unitaries.items())))\n",
    "\n",
    "# initial state\n",
    "init_state = createState(model, occupied_levels)\n",
    "state = init_state.numpy().flatten()\n",
    "print(\"initial state=\", state, \", occupation=\", exp.populations(state, model.lindbladian).numpy())"
   ],
   "metadata": {
    "collapsed": false,
    "pycharm": {
     "name": "#%%\n"
    }
   }
  },
  {
   "cell_type": "code",
   "execution_count": 16,
   "outputs": [
    {
     "data": {
      "text/plain": "<Figure size 432x288 with 1 Axes>",
      "image/png": "[encoded data removed]"
     },
     "metadata": {
      "needs_background": "light"
     },
     "output_type": "display_data"
    }
   ],
   "source": [
    "sequence = [\"lower-X[0]\"] * 3\n",
    "populations = runTimeEvolutionDefault(exp, init_state, sequence)\n",
    "plotOccupations(exp, populations, sequence)"
   ],
   "metadata": {
    "collapsed": false,
    "pycharm": {
     "name": "#%%\n"
    }
   }
  },
  {
   "cell_type": "code",
   "execution_count": 21,
   "outputs": [
    {
     "name": "stdout",
     "output_type": "stream",
     "text": [
      "saving plot in ./output/signal_before.png\n"
     ]
    }
   ],
   "source": [
    "signal = generator.generate_signals(gate)[getDrive(model, q1).name]\n",
    "plotSignal(signal['ts'], signal['values'], directory + \"/signal_before.png\", spectrum_cut=1e-4)"
   ],
   "metadata": {
    "collapsed": false,
    "pycharm": {
     "name": "#%%\n"
    }
   }
  }
 ],
 "metadata": {
  "kernelspec": {
   "display_name": "Python 3",
   "language": "python",
   "name": "python3"
  },
  "language_info": {
   "codemirror_mode": {
    "name": "ipython",
    "version": 2
   },
   "file_extension": ".py",
   "mimetype": "text/x-python",
   "name": "python",
   "nbconvert_exporter": "python",
   "pygments_lexer": "ipython2",
   "version": "2.7.6"
  }
 },
 "nbformat": 4,
 "nbformat_minor": 0
}