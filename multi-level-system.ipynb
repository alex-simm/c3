{
 "cells": [
  {
   "cell_type": "code",
   "execution_count": 1,
   "metadata": {
    "collapsed": true
   },
   "outputs": [
    {
     "name": "stderr",
     "output_type": "stream",
     "text": [
      "2021-09-03 09:52:59.320926: W tensorflow/stream_executor/platform/default/dso_loader.cc:60] Could not load dynamic library 'libcudart.so.11.0'; dlerror: libcudart.so.11.0: cannot open shared object file: No such file or directory\n",
      "2021-09-03 09:52:59.320962: I tensorflow/stream_executor/cuda/cudart_stub.cc:29] Ignore above cudart dlerror if you do not have a GPU set up on your machine.\n"
     ]
    }
   ],
   "source": [
    "import c3.libraries.fidelities as fidelities\n",
    "from utils import *\n",
    "import c3.libraries.algorithms as algorithms\n",
    "from SingleQubitExperiment import SingleQubitExperiment"
   ]
  },
  {
   "cell_type": "code",
   "execution_count": 2,
   "metadata": {
    "pycharm": {
     "name": "#%%\n"
    }
   },
   "outputs": [],
   "source": [
    "\n",
    "def test_fidelity(propagators: dict, instructions: dict, index, dims,\n",
    "                  qubit: chip.Qubit, generator: Generator, drive: chip.Drive, n_eval=-1):\n",
    "    numPeaks = 2\n",
    "    # find energies of the qubit\n",
    "    energies = qubit.get_Hamiltonian().numpy().diagonal().real\n",
    "    vec1 = np.array([energies[3] - energies[2], energies[1] - energies[0]]) / (2 * np.pi)\n",
    "\n",
    "    infids = []\n",
    "    for gate, propagator in propagators.items():\n",
    "        # create signal and find peaks\n",
    "        instr = instructions[gate]\n",
    "        signal = generator.generate_signals(instr)[drive.name]\n",
    "        peakFrequencies, peakValues = findFrequencyPeaks(signal[\"ts\"].numpy(), signal[\"values\"].numpy(), numPeaks)\n",
    "\n",
    "        # add frequency offsets to infidelity\n",
    "        #infid = np.linalg.norm(vec1 - peakFrequencies)\n",
    "        infid1 = np.abs(vec1[0] - peakFrequencies[0]) / peakFrequencies[0]\n",
    "        infid1 += np.abs(vec1[1] - peakFrequencies[1]) / peakFrequencies[1]\n",
    "\n",
    "        # add peak height difference to infidelity\n",
    "        if peakFrequencies[1] > peakFrequencies[0]:\n",
    "            a = peakValues[1]\n",
    "            b = np.sqrt(2) * peakValues[0]\n",
    "        else:\n",
    "            a = peakValues[0]\n",
    "            b = np.sqrt(2) * peakValues[1]\n",
    "        infid2 = np.abs(a - b) / np.maximum(a, b)\n",
    "        infid = infid1 * (1 + infid2)\n",
    "        print(\"peaks: \", np.sort(peakFrequencies), \" => \", vec1, \"; infidelity: \", infid1, infid2, infid)\n",
    "        infids.append(infid)\n",
    "    return tf.reduce_mean(infids)\n",
    "\n",
    "\n",
    "def printInformation(exper: SingleQubitExperiment, name: str) -> None:\n",
    "    signal = exper.generateSignal()\n",
    "    peakFrequencies, peakValues = findFrequencyPeaks(signal[\"ts\"].numpy(), signal[\"values\"].numpy(), 4)\n",
    "    print(\"peaks: \", np.sort(peakFrequencies))\n",
    "    exper.plotSignal(\"signal_\" + name)\n",
    "    exper.plotTimeEvolution(\"populations_\" + name)\n"
   ]
  },
  {
   "cell_type": "code",
   "execution_count": 3,
   "outputs": [
    {
     "name": "stderr",
     "output_type": "stream",
     "text": [
      "2021-09-03 09:54:58.055449: I tensorflow/compiler/jit/xla_cpu_device.cc:41] Not creating XLA devices, tf_xla_enable_xla_devices not set\n",
      "2021-09-03 09:54:58.055742: W tensorflow/stream_executor/platform/default/dso_loader.cc:60] Could not load dynamic library 'libcuda.so.1'; dlerror: libcuda.so.1: cannot open shared object file: No such file or directory\n",
      "2021-09-03 09:54:58.055762: W tensorflow/stream_executor/cuda/cuda_driver.cc:326] failed call to cuInit: UNKNOWN ERROR (303)\n",
      "2021-09-03 09:54:58.055796: I tensorflow/stream_executor/cuda/cuda_diagnostics.cc:156] kernel driver does not appear to be running on this host (localhost.localdomain): /proc/driver/nvidia/version does not exist\n",
      "2021-09-03 09:54:58.056425: I tensorflow/compiler/jit/xla_gpu_device.cc:99] Not creating XLA devices, tf_xla_enable_xla_devices not set\n",
      "2021-09-03 09:54:59.096990: I tensorflow/compiler/mlir/mlir_graph_optimization_pass.cc:116] None of the MLIR optimization passes are enabled (registered 2)\n",
      "2021-09-03 09:54:59.113579: I tensorflow/core/platform/profile_utils/cpu_utils.cc:112] CPU Frequency: 2793715000 Hz\n"
     ]
    },
    {
     "name": "stdout",
     "output_type": "stream",
     "text": [
      "energies:  [5000000000.0, 4670000000.000003, 4339999999.999994, 4010000000.0000033]\n",
      "peaks:  [3.30165083e+09 4.40220110e+09 5.10255128e+09 6.20310155e+09]\n",
      "saving plot in ./output/test/signal_before_None.png\n",
      "saving plot in ./output/test/populations_before.png\n",
      "C3:STATUS:Saving as: /home/user/c3/output/test/log_None_10.00/c1_unitary_infid_set_cmaes/2021_09_03_T_09_55_01/open_loop.log\n",
      "(4_w,9)-aCMA-ES (mu_w=2.8,w_1=49%) in dimension 7 (seed=768255, Fri Sep  3 09:55:01 2021)\n",
      "Iterat #Fevals   function value  axis ratio  sigma  min&max std  t[m:s]\n",
      "    1      9 7.098985294497424e-01 1.0e+00 8.60e-02  8e-02  9e-02 0:06.4\n",
      "    2     18 4.459025994718221e-01 1.2e+00 9.33e-02  9e-02  1e-01 0:12.7\n",
      "    3     27 5.743817724068945e-01 1.5e+00 1.03e-01  9e-02  1e-01 0:19.1\n",
      "before:\n",
      " lower-X[0]-d1-gauss-amp               : 3.000 V \n",
      "lower-X[0]-d1-gauss-sigma             : 666.667 ps \n",
      "lower-X[0]-d1-gauss-sigma2            : 666.667 ps \n",
      "lower-X[0]-d1-gauss-relative_amp      : 1.414  \n",
      "lower-X[0]-d1-gauss-delta             : 0.000  \n",
      "lower-X[0]-d1-carrier-freq            : 4.750 GHz 2pi \n",
      "lower-X[0]-d1-carrier-framechange     : 0.000 rad \n",
      "\n",
      "after:\n",
      " 0.4459025994718221\n",
      "fidelity:\n",
      " lower-X[0]-d1-gauss-amp               : 2.894 V \n",
      "lower-X[0]-d1-gauss-sigma             : 752.484 ps \n",
      "lower-X[0]-d1-gauss-sigma2            : 562.782 ps \n",
      "lower-X[0]-d1-gauss-relative_amp      : 1.252  \n",
      "lower-X[0]-d1-gauss-delta             : 179.781 m \n",
      "lower-X[0]-d1-carrier-freq            : 5.006 GHz 2pi \n",
      "lower-X[0]-d1-carrier-framechange     : -27.121 mrad \n",
      "\n",
      "peaks:  [4.50225113e+09 5.00250125e+09 5.40270135e+09 6.40320160e+09]\n",
      "saving plot in ./output/test/signal_after_None.png\n",
      "saving plot in ./output/test/populations_after.png\n",
      "0.4459025994718221\n"
     ]
    }
   ],
   "source": [
    "freq = 5e9\n",
    "anharm = 330e6\n",
    "t_final = 7e-9\n",
    "sigma = t_final / 4\n",
    "#sigma2 = sigma\n",
    "#relative_amp = np.sqrt(2)\n",
    "carrier_freq = 5e9\n",
    "optimisable_params = {\n",
    "    \"gauss\": [\"amp\", #\"sigma\",\n",
    "              \"xy_angle\", \"freq_offset\",  # for single gaussian envelope\n",
    "              #\"t_final\", \"t_bin_start\", \"t_bin_end\",\n",
    "              #\"sigma2\", \"relative_amp\",  # for double-gaussian envelope\n",
    "              \"delta\",  # for DRAG\n",
    "              \"inphase\",\n",
    "              ],\n",
    "    \"carrier\": [\n",
    "        \"freq\",\n",
    "        \"framechange\"\n",
    "    ]\n",
    "}\n",
    "\n",
    "#amp = 2.9898805422620756 #V\n",
    "#sigma = 7.914863107804569e-10 #s\n",
    "#sigma2 = 6.955276846125239e-10 #s\n",
    "#relative_amp = 1.8131542761817843 #\n",
    "#delta = 0.004339356027326602 #\n",
    "#carrier_freq = 4655811329.747005 #Hz 2pi\n",
    "#framechange = 2.55339714228929 #rad\n",
    "\n",
    "for i in range(3):\n",
    "    envelope = createPWCDoubleGaussianPulse(t_final, sigma, 30)\n",
    "    exper = SingleQubitExperiment(directory=f\"./output/c_pwcG_{i}\")\n",
    "    exper.prepare(t_final, freq, anharm, carrier_freq, envelope)\n",
    "\n",
    "    # print information\n",
    "    energies = exper.getEnergies()\n",
    "    print(\"energies: \", [(energies[i + 1] - energies[i]) / (2 * np.pi) for i in range(len(energies) - 1)])\n",
    "    printInformation(exper, \"before\")\n",
    "\n",
    "    params_after = exper.optimise(\n",
    "        optimisable_params,\n",
    "        algorithm=algorithms.cmaes,\n",
    "        algorithm_options={\"stop_at_convergence\": 30},\n",
    "        fidelity_function=fidelities.unitary_infid_set,\n",
    "        fidelity_params={\n",
    "            #'psi_0': exper.getInitialState()[:4],\n",
    "            \"active_levels\": 4,\n",
    "            # 'num_gates': len(gates)\n",
    "            # \"qubit\": q1,\n",
    "            # \"generator\": generator,\n",
    "            # \"drive\": getDrive(model, q1)\n",
    "        },\n",
    "    )\n",
    "    printInformation(exper, \"after\")\n",
    "    print(params_after)"
   ],
   "metadata": {
    "collapsed": false,
    "pycharm": {
     "name": "#%%\n"
    }
   }
  },
  {
   "cell_type": "code",
   "execution_count": null,
   "outputs": [],
   "source": [],
   "metadata": {
    "collapsed": false,
    "pycharm": {
     "name": "#%%\n"
    }
   }
  }
 ],
 "metadata": {
  "kernelspec": {
   "display_name": "Python 3 (ipykernel)",
   "language": "python",
   "name": "python3"
  },
  "language_info": {
   "codemirror_mode": {
    "name": "ipython",
    "version": 3
   },
   "file_extension": ".py",
   "mimetype": "text/x-python",
   "name": "python",
   "nbconvert_exporter": "python",
   "pygments_lexer": "ipython3",
   "version": "3.9.6"
  }
 },
 "nbformat": 4,
 "nbformat_minor": 1
}