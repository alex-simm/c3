{
 "cells": [
  {
   "cell_type": "code",
   "execution_count": 1,
   "metadata": {
    "collapsed": true
   },
   "outputs": [
    {
     "name": "stderr",
     "output_type": "stream",
     "text": [
      "2021-10-21 16:16:32.488842: W tensorflow/stream_executor/platform/default/dso_loader.cc:60] Could not load dynamic library 'libcudart.so.11.0'; dlerror: libcudart.so.11.0: cannot open shared object file: No such file or directory\n",
      "2021-10-21 16:16:32.488907: I tensorflow/stream_executor/cuda/cudart_stub.cc:29] Ignore above cudart dlerror if you do not have a GPU set up on your machine.\n"
     ]
    }
   ],
   "source": [
    "import numpy as np\n",
    "import argparse\n",
    "import c3.libraries.fidelities as fidelities\n",
    "import utils\n",
    "from utils import *\n",
    "import c3.libraries.algorithms as algorithms\n",
    "import c3.utils.qt_utils as qt_utils\n",
    "import c3.libraries.constants as constants\n",
    "from multi_level_qubits.TwoQubitsExperiment import TwoQubitsExperiment"
   ]
  },
  {
   "cell_type": "code",
   "execution_count": 2,
   "metadata": {
    "pycharm": {
     "name": "#%%\n"
    }
   },
   "outputs": [],
   "source": [
    "parser = argparse.ArgumentParser()\n",
    "parser.add_argument(\"output\", help=\"Output directory\")\n",
    "args = parser.parse_args()\n",
    "output_dir = args.output\n",
    "#output_dir = \"./output_1\""
   ]
  },
  {
   "cell_type": "code",
   "execution_count": 3,
   "metadata": {
    "pycharm": {
     "name": "#%%\n"
    }
   },
   "outputs": [],
   "source": [
    "def spectral_peaks_goal(propagators: dict, instructions: dict, index, dims,\n",
    "                        qubit: chip.Qubit, generator: Generator, drive: chip.Drive,\n",
    "                        n_eval=-1, num_peaks=2) -> tf.Tensor:\n",
    "    # find energies of the qubit\n",
    "    energies = qubit.get_Hamiltonian().numpy().diagonal().real\n",
    "    vec1 = np.array([energies[3] - energies[2], energies[1] - energies[0]]) / (2 * np.pi)\n",
    "\n",
    "    infids = []\n",
    "    for gate, propagator in propagators.items():\n",
    "        # create signal and find peaks\n",
    "        instr = instructions[gate]\n",
    "        signal = generator.generate_signals(instr)[drive.name]\n",
    "        peakFrequencies, peakValues = findFrequencyPeaks(signal[\"ts\"].numpy(), signal[\"values\"].numpy(), num_peaks)\n",
    "        peakFrequencies = tf.convert_to_tensor(peakFrequencies)\n",
    "        peakValues = tf.convert_to_tensor(peakValues)\n",
    "\n",
    "        # add frequency offsets to infidelity\n",
    "        #infid = np.linalg.norm(vec1 - peakFrequencies)\n",
    "        infid1 = tf.abs(vec1[0] - peakFrequencies[0]) / peakFrequencies[0]\n",
    "        infid1 += tf.abs(vec1[1] - peakFrequencies[1]) / peakFrequencies[1]\n",
    "\n",
    "        # add peak height difference to infidelity\n",
    "        if peakFrequencies[1] > peakFrequencies[0]:\n",
    "            a = peakValues[1]\n",
    "            b = np.sqrt(2) * peakValues[0]\n",
    "        else:\n",
    "            a = peakValues[0]\n",
    "            b = np.sqrt(2) * peakValues[1]\n",
    "        infid2 = tf.abs(a - b) / tf.maximum(a, b)\n",
    "        infid = infid1 * (1 + infid2)\n",
    "        infids.append(infid)\n",
    "    result = tf.reduce_mean(infids)\n",
    "    print(\"type: \", type(result))\n",
    "    return result\n",
    "\n",
    "\n",
    "def printInformation(exper: TwoQubitsExperiment, name: str) -> None:\n",
    "    signal = exper.generateSignal()\n",
    "    peakFrequencies, peakValues = findFrequencyPeaks(signal[\"ts\"].numpy(), signal[\"values\"].numpy(), 4)\n",
    "    print(\"peaks: \", np.sort(peakFrequencies))\n",
    "    exper.saveSignal(\"signal_\" + name)\n",
    "    exper.plotSignal(\"signal_\" + name)\n",
    "    exper.saveTimeEvolution(\"populations_\" + name)\n",
    "    exper.plotTimeEvolution(\"populations_\" + name)\n",
    "    exper.savePropagator(\"propagator_\" + name)\n",
    "    exper.plotPropagator(\"propagator_\" + name)"
   ]
  },
  {
   "cell_type": "code",
   "execution_count": 4,
   "metadata": {
    "pycharm": {
     "name": "#%%\n"
    }
   },
   "outputs": [],
   "source": [
    "freq1 = 5e9\n",
    "freq2 = 4e9\n",
    "anharm = 300e6\n",
    "t_final = 15e-9\n",
    "sigma = t_final / 15\n",
    "sigma2 = sigma / 2\n",
    "relative_amp = 2\n",
    "carrier_freq = 4.7e9\n",
    "coupling_strength = 0 #20e6\n",
    "optimisable_params = {\n",
    "    \"pwc\": [\n",
    "        \"amp\",\n",
    "        \"xy_angle\", \"freq_offset\",\n",
    "        \"delta\",\n",
    "        \"t_final\", #\"t_bin_start\", \"t_bin_end\",\n",
    "        \"inphase\"\n",
    "    ],\n",
    "    \"carrier\": [\n",
    "        \"freq\",\n",
    "        \"framechange\"\n",
    "    ]\n",
    "}"
   ]
  },
  {
   "cell_type": "code",
   "execution_count": 5,
   "outputs": [],
   "source": [
    "ideal_Unity = qt_utils.np_kron_n([constants.Id, constants.Id])\n",
    "ideal_X90_q1 = qt_utils.np_kron_n([constants.x90p, constants.Id])\n",
    "ideal_X90_q2 = qt_utils.np_kron_n([constants.Id, constants.x90p])\n",
    "ideal_CNOT_q1 = np.array([[1, 0, 0, 0], [0, 1, 0, 0], [0, 0, 0, 1], [0, 0, 1, 0]], dtype=np.complex128)\n",
    "ideal_CNOT_q2 = constants.GATES[\"cx\"]"
   ],
   "metadata": {
    "collapsed": false,
    "pycharm": {
     "name": "#%%\n"
    }
   }
  },
  {
   "cell_type": "code",
   "execution_count": 6,
   "metadata": {
    "pycharm": {
     "name": "#%%\n"
    }
   },
   "outputs": [
    {
     "name": "stderr",
     "output_type": "stream",
     "text": [
      "2021-10-21 16:16:46.957103: I tensorflow/compiler/jit/xla_cpu_device.cc:41] Not creating XLA devices, tf_xla_enable_xla_devices not set\n",
      "2021-10-21 16:16:46.957388: W tensorflow/stream_executor/platform/default/dso_loader.cc:60] Could not load dynamic library 'libcuda.so.1'; dlerror: libcuda.so.1: cannot open shared object file: No such file or directory\n",
      "2021-10-21 16:16:46.957409: W tensorflow/stream_executor/cuda/cuda_driver.cc:326] failed call to cuInit: UNKNOWN ERROR (303)\n",
      "2021-10-21 16:16:46.957447: I tensorflow/stream_executor/cuda/cuda_diagnostics.cc:156] kernel driver does not appear to be running on this host (localhost.localdomain): /proc/driver/nvidia/version does not exist\n",
      "2021-10-21 16:16:46.958365: I tensorflow/compiler/jit/xla_gpu_device.cc:99] Not creating XLA devices, tf_xla_enable_xla_devices not set\n"
     ]
    },
    {
     "name": "stdout",
     "output_type": "stream",
     "text": [
      "enabling DRAG2\n"
     ]
    },
    {
     "name": "stderr",
     "output_type": "stream",
     "text": [
      "2021-10-21 16:16:53.751786: I tensorflow/compiler/mlir/mlir_graph_optimization_pass.cc:116] None of the MLIR optimization passes are enabled (registered 2)\n",
      "2021-10-21 16:16:53.768703: I tensorflow/core/platform/profile_utils/cpu_utils.cc:112] CPU Frequency: 2793760000 Hz\n"
     ]
    },
    {
     "name": "stdout",
     "output_type": "stream",
     "text": [
      "saving plot in ./output_1//ideal_propagator.png\n",
      "saving plot in ./output_1//ideal_propagator_phases.png\n",
      "energies:  [0.00000000e+00 2.51327412e+10 4.83805269e+10 6.97433569e+10\n",
      " 8.92212314e+10 3.14159265e+10 5.65486678e+10 7.97964534e+10\n",
      " 1.01159283e+11 1.20637158e+11 6.09468975e+10 8.60796387e+10\n",
      " 1.09327424e+11 1.30690254e+11 1.50168129e+11 8.85929128e+10\n",
      " 1.13725654e+11 1.36973440e+11 1.58336270e+11 1.77814144e+11\n",
      " 1.14353973e+11 1.39486714e+11 1.62734499e+11 1.84097330e+11\n",
      " 2.03575204e+11]\n",
      "energies differences:  [4000000000.0, 3700000000.000001, 3399999999.9999986, 3100000000.000002, -9200000000.000002, 3999999999.9999995, 3700000000.0000024, 3399999999.9999986, 3100000000.000002, -9500000000.0, 4000000000.0000014, 3700000000.0, 3399999999.9999986, 3100000000.000002, -9800000000.000006, 4000000000.0000014, 3700000000.0, 3399999999.999996, 3100000000.0000043, -10100000000.0, 4000000000.0000014, 3700000000.0000024, 3399999999.9999986, 3099999999.9999995]\n",
      "peaks:  [3.20106702e+09 4.20140047e+09 4.53484495e+09 5.00166722e+09]\n",
      "saving plot in ./output_1//signal_before.png\n",
      "saving plot in ./output_1//populations_before.png\n",
      "saving plot in ./output_1//populations_before_splitted.png\n",
      "saving plot in ./output_1//propagator_before.png\n",
      "saving plot in ./output_1//propagator_before_phase.png\n",
      "saving plot in ./output_1//propagator_before_abs.png\n"
     ]
    },
    {
     "ename": "KeyboardInterrupt",
     "evalue": "",
     "output_type": "error",
     "traceback": [
      "\u001B[0;31m---------------------------------------------------------------------------\u001B[0m",
      "\u001B[0;31mKeyboardInterrupt\u001B[0m                         Traceback (most recent call last)",
      "\u001B[0;32m/tmp/ipykernel_8129/2891389182.py\u001B[0m in \u001B[0;36m<module>\u001B[0;34m\u001B[0m\n\u001B[1;32m     18\u001B[0m \u001B[0;31m# first optimisation\u001B[0m\u001B[0;34m\u001B[0m\u001B[0;34m\u001B[0m\u001B[0;34m\u001B[0m\u001B[0m\n\u001B[1;32m     19\u001B[0m \u001B[0mcallback\u001B[0m \u001B[0;34m=\u001B[0m \u001B[0;32mlambda\u001B[0m \u001B[0minfid\u001B[0m\u001B[0;34m:\u001B[0m \u001B[0mprint\u001B[0m\u001B[0;34m(\u001B[0m\u001B[0minfid\u001B[0m\u001B[0;34m)\u001B[0m\u001B[0;34m\u001B[0m\u001B[0;34m\u001B[0m\u001B[0m\n\u001B[0;32m---> 20\u001B[0;31m params_after = exper.optimise(\n\u001B[0m\u001B[1;32m     21\u001B[0m     \u001B[0moptimisable_params\u001B[0m\u001B[0;34m,\u001B[0m\u001B[0;34m\u001B[0m\u001B[0;34m\u001B[0m\u001B[0m\n\u001B[1;32m     22\u001B[0m     \u001B[0malgorithm\u001B[0m\u001B[0;34m=\u001B[0m\u001B[0malgorithms\u001B[0m\u001B[0;34m.\u001B[0m\u001B[0mlbfgs_grad_free\u001B[0m\u001B[0;34m,\u001B[0m\u001B[0;34m\u001B[0m\u001B[0;34m\u001B[0m\u001B[0m\n",
      "\u001B[0;32m~/c3/multi_level_qubits/TwoQubitsExperiment.py\u001B[0m in \u001B[0;36moptimise\u001B[0;34m(self, optimisable_params, algorithm, algorithm_options, fidelity_function, fidelity_params, callback)\u001B[0m\n\u001B[1;32m    159\u001B[0m     ):\n\u001B[1;32m    160\u001B[0m         \u001B[0moptimisable_gates\u001B[0m \u001B[0;34m=\u001B[0m \u001B[0mlist\u001B[0m\u001B[0;34m(\u001B[0m\u001B[0mfilter\u001B[0m\u001B[0;34m(\u001B[0m\u001B[0;32mlambda\u001B[0m \u001B[0mg\u001B[0m\u001B[0;34m:\u001B[0m \u001B[0mg\u001B[0m\u001B[0;34m.\u001B[0m\u001B[0mget_key\u001B[0m\u001B[0;34m(\u001B[0m\u001B[0;34m)\u001B[0m \u001B[0;34m!=\u001B[0m \u001B[0;34m\"id[]\"\u001B[0m\u001B[0;34m,\u001B[0m \u001B[0;34m[\u001B[0m\u001B[0mself\u001B[0m\u001B[0;34m.\u001B[0m\u001B[0m__gate\u001B[0m\u001B[0;34m]\u001B[0m\u001B[0;34m)\u001B[0m\u001B[0;34m)\u001B[0m\u001B[0;34m\u001B[0m\u001B[0;34m\u001B[0m\u001B[0m\n\u001B[0;32m--> 161\u001B[0;31m         gateset_opt_map = utils.createOptimisableParameterMap(\n\u001B[0m\u001B[1;32m    162\u001B[0m             \u001B[0mself\u001B[0m\u001B[0;34m.\u001B[0m\u001B[0m__experiment\u001B[0m\u001B[0;34m,\u001B[0m \u001B[0moptimisable_gates\u001B[0m\u001B[0;34m,\u001B[0m \u001B[0moptimisable_params\u001B[0m\u001B[0;34m\u001B[0m\u001B[0;34m\u001B[0m\u001B[0m\n\u001B[1;32m    163\u001B[0m         )\n",
      "\u001B[0;32m~/c3/utils.py\u001B[0m in \u001B[0;36mcreateOptimisableParameterMap\u001B[0;34m(experiment, gates, param_map)\u001B[0m\n\u001B[1;32m    534\u001B[0m                         \u001B[0;34m[\u001B[0m\u001B[0;34m(\u001B[0m\u001B[0mgate\u001B[0m\u001B[0;34m.\u001B[0m\u001B[0mget_key\u001B[0m\u001B[0;34m(\u001B[0m\u001B[0;34m)\u001B[0m\u001B[0;34m,\u001B[0m \u001B[0mdrive\u001B[0m\u001B[0;34m.\u001B[0m\u001B[0mname\u001B[0m\u001B[0;34m,\u001B[0m \u001B[0mcomponent_name\u001B[0m\u001B[0;34m,\u001B[0m \u001B[0mparam\u001B[0m\u001B[0;34m)\u001B[0m\u001B[0;34m]\u001B[0m\u001B[0;34m\u001B[0m\u001B[0;34m\u001B[0m\u001B[0m\n\u001B[1;32m    535\u001B[0m                     )\n\u001B[0;32m--> 536\u001B[0;31m     \u001B[0;32mreturn\u001B[0m \u001B[0mgateset_opt_map\u001B[0m\u001B[0;34m\u001B[0m\u001B[0;34m\u001B[0m\u001B[0m\n\u001B[0m\u001B[1;32m    537\u001B[0m \u001B[0;34m\u001B[0m\u001B[0m\n\u001B[1;32m    538\u001B[0m \u001B[0;34m\u001B[0m\u001B[0m\n",
      "\u001B[0;32m~/c3/utils.py\u001B[0m in \u001B[0;36mcreateOptimisableParameterMap\u001B[0;34m(experiment, gates, param_map)\u001B[0m\n\u001B[1;32m    534\u001B[0m                         \u001B[0;34m[\u001B[0m\u001B[0;34m(\u001B[0m\u001B[0mgate\u001B[0m\u001B[0;34m.\u001B[0m\u001B[0mget_key\u001B[0m\u001B[0;34m(\u001B[0m\u001B[0;34m)\u001B[0m\u001B[0;34m,\u001B[0m \u001B[0mdrive\u001B[0m\u001B[0;34m.\u001B[0m\u001B[0mname\u001B[0m\u001B[0;34m,\u001B[0m \u001B[0mcomponent_name\u001B[0m\u001B[0;34m,\u001B[0m \u001B[0mparam\u001B[0m\u001B[0;34m)\u001B[0m\u001B[0;34m]\u001B[0m\u001B[0;34m\u001B[0m\u001B[0;34m\u001B[0m\u001B[0m\n\u001B[1;32m    535\u001B[0m                     )\n\u001B[0;32m--> 536\u001B[0;31m     \u001B[0;32mreturn\u001B[0m \u001B[0mgateset_opt_map\u001B[0m\u001B[0;34m\u001B[0m\u001B[0;34m\u001B[0m\u001B[0m\n\u001B[0m\u001B[1;32m    537\u001B[0m \u001B[0;34m\u001B[0m\u001B[0m\n\u001B[1;32m    538\u001B[0m \u001B[0;34m\u001B[0m\u001B[0m\n",
      "\u001B[0;32m~/Programme/PyCharm/plugins/python/helpers/pydev/_pydevd_bundle/pydevd_frame.py\u001B[0m in \u001B[0;36mtrace_dispatch\u001B[0;34m(self, frame, event, arg)\u001B[0m\n\u001B[1;32m    882\u001B[0m                     \u001B[0;32mif\u001B[0m \u001B[0mis_line\u001B[0m\u001B[0;34m:\u001B[0m\u001B[0;34m\u001B[0m\u001B[0;34m\u001B[0m\u001B[0m\n\u001B[1;32m    883\u001B[0m                         \u001B[0mself\u001B[0m\u001B[0;34m.\u001B[0m\u001B[0mset_suspend\u001B[0m\u001B[0;34m(\u001B[0m\u001B[0mthread\u001B[0m\u001B[0;34m,\u001B[0m \u001B[0mstep_cmd\u001B[0m\u001B[0;34m)\u001B[0m\u001B[0;34m\u001B[0m\u001B[0;34m\u001B[0m\u001B[0m\n\u001B[0;32m--> 884\u001B[0;31m                         \u001B[0mself\u001B[0m\u001B[0;34m.\u001B[0m\u001B[0mdo_wait_suspend\u001B[0m\u001B[0;34m(\u001B[0m\u001B[0mthread\u001B[0m\u001B[0;34m,\u001B[0m \u001B[0mframe\u001B[0m\u001B[0;34m,\u001B[0m \u001B[0mevent\u001B[0m\u001B[0;34m,\u001B[0m \u001B[0marg\u001B[0m\u001B[0;34m)\u001B[0m\u001B[0;34m\u001B[0m\u001B[0;34m\u001B[0m\u001B[0m\n\u001B[0m\u001B[1;32m    885\u001B[0m                     \u001B[0;32melse\u001B[0m\u001B[0;34m:\u001B[0m  \u001B[0;31m# return event\u001B[0m\u001B[0;34m\u001B[0m\u001B[0;34m\u001B[0m\u001B[0m\n\u001B[1;32m    886\u001B[0m                         \u001B[0mback\u001B[0m \u001B[0;34m=\u001B[0m \u001B[0mframe\u001B[0m\u001B[0;34m.\u001B[0m\u001B[0mf_back\u001B[0m\u001B[0;34m\u001B[0m\u001B[0;34m\u001B[0m\u001B[0m\n",
      "\u001B[0;32m~/Programme/PyCharm/plugins/python/helpers/pydev/_pydevd_bundle/pydevd_frame.py\u001B[0m in \u001B[0;36mdo_wait_suspend\u001B[0;34m(self, *args, **kwargs)\u001B[0m\n\u001B[1;32m    142\u001B[0m \u001B[0;34m\u001B[0m\u001B[0m\n\u001B[1;32m    143\u001B[0m     \u001B[0;32mdef\u001B[0m \u001B[0mdo_wait_suspend\u001B[0m\u001B[0;34m(\u001B[0m\u001B[0mself\u001B[0m\u001B[0;34m,\u001B[0m \u001B[0;34m*\u001B[0m\u001B[0margs\u001B[0m\u001B[0;34m,\u001B[0m \u001B[0;34m**\u001B[0m\u001B[0mkwargs\u001B[0m\u001B[0;34m)\u001B[0m\u001B[0;34m:\u001B[0m\u001B[0;34m\u001B[0m\u001B[0;34m\u001B[0m\u001B[0m\n\u001B[0;32m--> 144\u001B[0;31m         \u001B[0mself\u001B[0m\u001B[0;34m.\u001B[0m\u001B[0m_args\u001B[0m\u001B[0;34m[\u001B[0m\u001B[0;36m0\u001B[0m\u001B[0;34m]\u001B[0m\u001B[0;34m.\u001B[0m\u001B[0mdo_wait_suspend\u001B[0m\u001B[0;34m(\u001B[0m\u001B[0;34m*\u001B[0m\u001B[0margs\u001B[0m\u001B[0;34m,\u001B[0m \u001B[0;34m**\u001B[0m\u001B[0mkwargs\u001B[0m\u001B[0;34m)\u001B[0m\u001B[0;34m\u001B[0m\u001B[0;34m\u001B[0m\u001B[0m\n\u001B[0m\u001B[1;32m    145\u001B[0m \u001B[0;34m\u001B[0m\u001B[0m\n\u001B[1;32m    146\u001B[0m     \u001B[0;31m# IFDEF CYTHON\u001B[0m\u001B[0;34m\u001B[0m\u001B[0;34m\u001B[0m\u001B[0;34m\u001B[0m\u001B[0m\n",
      "\u001B[0;32m~/Programme/PyCharm/plugins/python/helpers/pydev/pydevd.py\u001B[0m in \u001B[0;36mdo_wait_suspend\u001B[0;34m(self, thread, frame, event, arg, send_suspend_message, is_unhandled_exception)\u001B[0m\n\u001B[1;32m   1145\u001B[0m \u001B[0;34m\u001B[0m\u001B[0m\n\u001B[1;32m   1146\u001B[0m         \u001B[0;32mwith\u001B[0m \u001B[0mself\u001B[0m\u001B[0;34m.\u001B[0m\u001B[0m_threads_suspended_single_notification\u001B[0m\u001B[0;34m.\u001B[0m\u001B[0mnotify_thread_suspended\u001B[0m\u001B[0;34m(\u001B[0m\u001B[0mthread_id\u001B[0m\u001B[0;34m,\u001B[0m \u001B[0mstop_reason\u001B[0m\u001B[0;34m)\u001B[0m\u001B[0;34m:\u001B[0m\u001B[0;34m\u001B[0m\u001B[0;34m\u001B[0m\u001B[0m\n\u001B[0;32m-> 1147\u001B[0;31m             \u001B[0mself\u001B[0m\u001B[0;34m.\u001B[0m\u001B[0m_do_wait_suspend\u001B[0m\u001B[0;34m(\u001B[0m\u001B[0mthread\u001B[0m\u001B[0;34m,\u001B[0m \u001B[0mframe\u001B[0m\u001B[0;34m,\u001B[0m \u001B[0mevent\u001B[0m\u001B[0;34m,\u001B[0m \u001B[0marg\u001B[0m\u001B[0;34m,\u001B[0m \u001B[0msuspend_type\u001B[0m\u001B[0;34m,\u001B[0m \u001B[0mfrom_this_thread\u001B[0m\u001B[0;34m)\u001B[0m\u001B[0;34m\u001B[0m\u001B[0;34m\u001B[0m\u001B[0m\n\u001B[0m\u001B[1;32m   1148\u001B[0m \u001B[0;34m\u001B[0m\u001B[0m\n\u001B[1;32m   1149\u001B[0m     \u001B[0;32mdef\u001B[0m \u001B[0m_do_wait_suspend\u001B[0m\u001B[0;34m(\u001B[0m\u001B[0mself\u001B[0m\u001B[0;34m,\u001B[0m \u001B[0mthread\u001B[0m\u001B[0;34m,\u001B[0m \u001B[0mframe\u001B[0m\u001B[0;34m,\u001B[0m \u001B[0mevent\u001B[0m\u001B[0;34m,\u001B[0m \u001B[0marg\u001B[0m\u001B[0;34m,\u001B[0m \u001B[0msuspend_type\u001B[0m\u001B[0;34m,\u001B[0m \u001B[0mfrom_this_thread\u001B[0m\u001B[0;34m)\u001B[0m\u001B[0;34m:\u001B[0m\u001B[0;34m\u001B[0m\u001B[0;34m\u001B[0m\u001B[0m\n",
      "\u001B[0;32m~/Programme/PyCharm/plugins/python/helpers/pydev/pydevd.py\u001B[0m in \u001B[0;36m_do_wait_suspend\u001B[0;34m(self, thread, frame, event, arg, suspend_type, from_this_thread)\u001B[0m\n\u001B[1;32m   1160\u001B[0m \u001B[0;34m\u001B[0m\u001B[0m\n\u001B[1;32m   1161\u001B[0m                 \u001B[0mself\u001B[0m\u001B[0;34m.\u001B[0m\u001B[0mprocess_internal_commands\u001B[0m\u001B[0;34m(\u001B[0m\u001B[0;34m)\u001B[0m\u001B[0;34m\u001B[0m\u001B[0;34m\u001B[0m\u001B[0m\n\u001B[0;32m-> 1162\u001B[0;31m                 \u001B[0mtime\u001B[0m\u001B[0;34m.\u001B[0m\u001B[0msleep\u001B[0m\u001B[0;34m(\u001B[0m\u001B[0;36m0.01\u001B[0m\u001B[0;34m)\u001B[0m\u001B[0;34m\u001B[0m\u001B[0;34m\u001B[0m\u001B[0m\n\u001B[0m\u001B[1;32m   1163\u001B[0m \u001B[0;34m\u001B[0m\u001B[0m\n\u001B[1;32m   1164\u001B[0m         \u001B[0mself\u001B[0m\u001B[0;34m.\u001B[0m\u001B[0mcancel_async_evaluation\u001B[0m\u001B[0;34m(\u001B[0m\u001B[0mget_current_thread_id\u001B[0m\u001B[0;34m(\u001B[0m\u001B[0mthread\u001B[0m\u001B[0;34m)\u001B[0m\u001B[0;34m,\u001B[0m \u001B[0mstr\u001B[0m\u001B[0;34m(\u001B[0m\u001B[0mid\u001B[0m\u001B[0;34m(\u001B[0m\u001B[0mframe\u001B[0m\u001B[0;34m)\u001B[0m\u001B[0;34m)\u001B[0m\u001B[0;34m)\u001B[0m\u001B[0;34m\u001B[0m\u001B[0;34m\u001B[0m\u001B[0m\n",
      "\u001B[0;31mKeyboardInterrupt\u001B[0m: "
     ]
    }
   ],
   "source": [
    "envelope = createPWCDoubleGaussianPulse(t_final, sigma, sigma2, relative_amp, 30)\n",
    "\n",
    "exper = TwoQubitsExperiment(directory=f\"{output_dir}/\")\n",
    "exper.prepare(t_final, (freq1, freq2), (anharm, anharm), carrier_freq, envelope,\n",
    "              ideal_gate=ideal_X90_q2,\n",
    "              occupied_levels=[0],\n",
    "              useDrag=True)\n",
    "\n",
    "#exper.saveIdealPropagator(name=\"ideal_propagator\")\n",
    "\n",
    "# print information\n",
    "energies = exper.getEnergies()\n",
    "print(\"energies: \", energies)\n",
    "print(\"energies differences: \", [(energies[i + 1] - energies[i]) / (2 * np.pi) for i in range(len(energies) - 1)])\n",
    "printInformation(exper, \"before\")\n",
    "\n",
    "# first optimisation\n",
    "callback = lambda infid: print(infid)\n",
    "params_after = exper.optimise(\n",
    "    optimisable_params,\n",
    "    algorithm=algorithms.cmaes,\n",
    "    algorithm_options={\n",
    "        \"stop_at_convergence\": 15,\n",
    "        \"spread\": 0.2,\n",
    "        \"popsize\": 25,\n",
    "        #\"maxfun\": 200,\n",
    "    },\n",
    "    fidelity_function=fidelities.unitary_infid_set_with_penalty,\n",
    "    fidelity_params={\n",
    "        \"active_levels\": 4,\n",
    "        #\"qubit\": exper.getQubit(),\n",
    "        #\"generator\": exper.getExperiment().pmap.generator,\n",
    "        #\"drive\": getDrive(exper.getExperiment().pmap.model, exper.getQubit())\n",
    "        \"penalty_factor\": 1\n",
    "    },\n",
    "    callback=callback,\n",
    ")\n",
    "printInformation(exper, \"after\")\n",
    "print(params_after)"
   ]
  },
  {
   "cell_type": "code",
   "execution_count": null,
   "outputs": [],
   "source": [],
   "metadata": {
    "collapsed": false,
    "pycharm": {
     "name": "#%%\n"
    }
   }
  }
 ],
 "metadata": {
  "kernelspec": {
   "display_name": "Python 3 (ipykernel)",
   "language": "python",
   "name": "python3"
  },
  "language_info": {
   "codemirror_mode": {
    "name": "ipython",
    "version": 3
   },
   "file_extension": ".py",
   "mimetype": "text/x-python",
   "name": "python",
   "nbconvert_exporter": "python",
   "pygments_lexer": "ipython3",
   "version": "3.9.7"
  }
 },
 "nbformat": 4,
 "nbformat_minor": 1
}