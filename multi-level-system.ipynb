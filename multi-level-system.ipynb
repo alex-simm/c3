{
 "cells": [
  {
   "cell_type": "code",
   "execution_count": 1,
   "metadata": {
    "collapsed": true
   },
   "outputs": [
    {
     "name": "stderr",
     "output_type": "stream",
     "text": [
      "2021-10-05 16:57:23.341965: W tensorflow/stream_executor/platform/default/dso_loader.cc:60] Could not load dynamic library 'libcudart.so.11.0'; dlerror: libcudart.so.11.0: cannot open shared object file: No such file or directory\n",
      "2021-10-05 16:57:23.342004: I tensorflow/stream_executor/cuda/cudart_stub.cc:29] Ignore above cudart dlerror if you do not have a GPU set up on your machine.\n"
     ]
    }
   ],
   "source": [
    "import numpy as np\n",
    "import argparse\n",
    "import c3.libraries.fidelities as fidelities\n",
    "from utils import *\n",
    "import c3.libraries.algorithms as algorithms\n",
    "from SingleQubitExperiment import SingleQubitExperiment"
   ]
  },
  {
   "cell_type": "code",
   "execution_count": null,
   "outputs": [],
   "source": [
    "parser = argparse.ArgumentParser()\n",
    "parser.add_argument(\"output\", help=\"Output directory\")\n",
    "args = parser.parse_args()\n",
    "output_dir = args.output\n",
    "#output_dir = './output'"
   ],
   "metadata": {
    "collapsed": false,
    "pycharm": {
     "name": "#%%\n"
    }
   }
  },
  {
   "cell_type": "code",
   "execution_count": 3,
   "outputs": [],
   "source": [
    "def spectral_peaks_goal(propagators: dict, instructions: dict, index, dims,\n",
    "                        qubit: chip.Qubit, generator: Generator, drive: chip.Drive,\n",
    "                        n_eval=-1, num_peaks=2) -> tf.Tensor:\n",
    "    # find energies of the qubit\n",
    "    energies = qubit.get_Hamiltonian().numpy().diagonal().real\n",
    "    vec1 = np.array([energies[3] - energies[2], energies[1] - energies[0]]) / (2 * np.pi)\n",
    "\n",
    "    infids = []\n",
    "    for gate, propagator in propagators.items():\n",
    "        # create signal and find peaks\n",
    "        instr = instructions[gate]\n",
    "        signal = generator.generate_signals(instr)[drive.name]\n",
    "        peakFrequencies, peakValues = findFrequencyPeaks(signal[\"ts\"].numpy(), signal[\"values\"].numpy(), num_peaks)\n",
    "        peakFrequencies = tf.convert_to_tensor(peakFrequencies)\n",
    "        peakValues = tf.convert_to_tensor(peakValues)\n",
    "\n",
    "        # add frequency offsets to infidelity\n",
    "        #infid = np.linalg.norm(vec1 - peakFrequencies)\n",
    "        infid1 = tf.abs(vec1[0] - peakFrequencies[0]) / peakFrequencies[0]\n",
    "        infid1 += tf.abs(vec1[1] - peakFrequencies[1]) / peakFrequencies[1]\n",
    "\n",
    "        # add peak height difference to infidelity\n",
    "        if peakFrequencies[1] > peakFrequencies[0]:\n",
    "            a = peakValues[1]\n",
    "            b = np.sqrt(2) * peakValues[0]\n",
    "        else:\n",
    "            a = peakValues[0]\n",
    "            b = np.sqrt(2) * peakValues[1]\n",
    "        infid2 = tf.abs(a - b) / tf.maximum(a, b)\n",
    "        infid = infid1 * (1 + infid2)\n",
    "        infids.append(infid)\n",
    "    result = tf.reduce_mean(infids)\n",
    "    print(\"type: \", type(result))\n",
    "    return result\n",
    "\n",
    "\n",
    "def printInformation(exper: SingleQubitExperiment, name: str) -> None:\n",
    "    signal = exper.generateSignal()\n",
    "    peakFrequencies, peakValues = findFrequencyPeaks(signal[\"ts\"].numpy(), signal[\"values\"].numpy(), 4)\n",
    "    print(\"peaks: \", np.sort(peakFrequencies))\n",
    "    exper.plotSignal(\"signal_\" + name)\n",
    "    exper.plotTimeEvolution(\"populations_\" + name)\n",
    "    exper.plotPropagator(\"propagator_\" + name)\n",
    "\n",
    "\n",
    "def setOptimalValues(envelope: pulse.Envelope, params: dict) -> None:\n",
    "    for key, value in params.items():\n",
    "        envelope.params[key].set_value(value)"
   ],
   "metadata": {
    "collapsed": false,
    "pycharm": {
     "name": "#%%\n"
    }
   }
  },
  {
   "cell_type": "code",
   "execution_count": 4,
   "outputs": [],
   "source": [
    "'''\n",
    "optimal_values = {\n",
    "    \"amp\": 0.5982053163520968,\n",
    "    #\"sigma\": 0.020022993947430123,\n",
    "    \"xy_angle\": -1.855052604814916,\n",
    "    \"freq_offset\": -54371228.73199173,\n",
    "    \"delta\": -0.14784432135434766,\n",
    "    #\"carrier-freq\": 5222459053.481677,\n",
    "    #\"framechange\": 2.5942825630048745\n",
    "}\n",
    "inphase = tf.convert_to_tensor([0.2860119617309102, 0.2515755091876439, 0.173873025201375, 0.0007877386279906926, 0.013990268564515115, 1.0829353284431187, 0.12363579320739716, 0.533448750207164, 0.8241718971826906, 1.0126588320674026, 0.14054899938732912, 0.4154462095036047, 0.27790851911436115, 0.23695097592812822, 0.77387916183715, 0.13882356089751952, 0.17031455162574796, 0.015579040202510648, 0.10100116240706104, 0.8967235745253517, 0.2340774787995677, 0.4065161651870501, 0.14357762493498727, 0.9778244879245249, 0.21827392144642413, 0.7419575443378293, 0.9844786602582266, 0.774177092939803, 1.034049069101188, 0.8755064255501308, 0.6625810857937209, 0.5166892426294151, 1.0869475685574725, 1.0267639229288643, 0.9169247779955447, 0.05928266478720349, 0.375552034589335, 0.1452760805899441, 0.8011251527567873, 0.1722525872387966, 0.6124577751630437, 0.15228718221912907, 0.013159047422195423, 0.2084289367907402, 0.965936486818863, 0.4794322168470483, 7.777490527675845e-05, 1.0527621402872498, 0.5854932409328775, 0.8591261219539706, 0.27456047754898577, 0.03254927163527047, 0.8025139099221452, 1.0105039386343857, 0.9750845205896466, 0.06200624813674867, 0.3584582169425935, 0.4312511943969614, 0.6545680324609726, 0.18879975173915983])\n",
    "'''\n",
    "\n",
    "freq = 5e9  #5222459053.481677\n",
    "anharm = 300e6\n",
    "t_final = 25e-9\n",
    "sigma = t_final / 5  #0.020022993947430123\n",
    "#sigma2 = sigma / 2\n",
    "#relative_amp = 2\n",
    "carrier_freq = 4.7e9\n",
    "#optimisable_params_1 = {\n",
    "#    \"custom\": [\n",
    "#        \"amp\", \"sigma\",\n",
    "#        \"cosine_frequency\",\n",
    "#        \"xy_angle\", \"freq_offset\",  # for single gaussian envelope\n",
    "#        \"t_final\",\n",
    "#        #\"delta\",  # for DRAG\n",
    "#    ],\n",
    "#    \"carrier\": [\n",
    "#        \"freq\",\n",
    "#        \"framechange\"\n",
    "#    ]\n",
    "#}\n",
    "optimisable_params = {\n",
    "    \"pwc\": [\n",
    "        \"amp\",\n",
    "        #\"cosine_frequency\",\n",
    "        \"xy_angle\", \"freq_offset\",\n",
    "        \"delta\",\n",
    "        #\"t_final\", \"t_bin_start\", \"t_bin_end\",\n",
    "        \"inphase\"\n",
    "    ],\n",
    "    \"carrier\": [\n",
    "        \"freq\",\n",
    "        \"framechange\"\n",
    "    ]\n",
    "}\n",
    "#custom_params = {\n",
    "#    \"amp\": 0.485342,\n",
    "#    \"xy_angle\": -0.050221,\n",
    "#    \"freq_offset\": -53e6,\n",
    "#}"
   ],
   "metadata": {
    "collapsed": false,
    "pycharm": {
     "name": "#%%\n"
    }
   }
  },
  {
   "cell_type": "code",
   "execution_count": 6,
   "outputs": [
    {
     "ename": "NameError",
     "evalue": "name 'output_dir' is not defined",
     "output_type": "error",
     "traceback": [
      "\u001B[0;31m---------------------------------------------------------------------------\u001B[0m",
      "\u001B[0;31mNameError\u001B[0m                                 Traceback (most recent call last)",
      "\u001B[0;32m/tmp/ipykernel_11590/498232485.py\u001B[0m in \u001B[0;36m<module>\u001B[0;34m\u001B[0m\n\u001B[1;32m      4\u001B[0m     \u001B[0menvelope\u001B[0m \u001B[0;34m=\u001B[0m \u001B[0mcreatePWCGaussianPulse\u001B[0m\u001B[0;34m(\u001B[0m\u001B[0mt_final\u001B[0m\u001B[0;34m,\u001B[0m \u001B[0msigma\u001B[0m\u001B[0;34m,\u001B[0m \u001B[0;36m30\u001B[0m\u001B[0;34m)\u001B[0m\u001B[0;34m\u001B[0m\u001B[0;34m\u001B[0m\u001B[0m\n\u001B[1;32m      5\u001B[0m     \u001B[0;31m#envelope = createPWCCustomPulse(t_final, sigma=1.794e-9, cosine_frequency=303.160e6, num_pieces=60, custom_params=custom_params)\u001B[0m\u001B[0;34m\u001B[0m\u001B[0;34m\u001B[0m\u001B[0;34m\u001B[0m\u001B[0m\n\u001B[0;32m----> 6\u001B[0;31m     \u001B[0mexper\u001B[0m \u001B[0;34m=\u001B[0m \u001B[0mSingleQubitExperiment\u001B[0m\u001B[0;34m(\u001B[0m\u001B[0mdirectory\u001B[0m\u001B[0;34m=\u001B[0m\u001B[0;34mf\"{output_dir}/\"\u001B[0m\u001B[0;34m,\u001B[0m \u001B[0mfile_suffix\u001B[0m\u001B[0;34m=\u001B[0m\u001B[0;34mf\"{i}\"\u001B[0m\u001B[0;34m)\u001B[0m\u001B[0;34m\u001B[0m\u001B[0;34m\u001B[0m\u001B[0m\n\u001B[0m\u001B[1;32m      7\u001B[0m     \u001B[0mexper\u001B[0m\u001B[0;34m.\u001B[0m\u001B[0mprepare\u001B[0m\u001B[0;34m(\u001B[0m\u001B[0mt_final\u001B[0m\u001B[0;34m,\u001B[0m \u001B[0mfreq\u001B[0m\u001B[0;34m,\u001B[0m \u001B[0manharm\u001B[0m\u001B[0;34m,\u001B[0m \u001B[0mcarrier_freq\u001B[0m\u001B[0;34m,\u001B[0m \u001B[0menvelope\u001B[0m\u001B[0;34m,\u001B[0m \u001B[0museDrag\u001B[0m\u001B[0;34m=\u001B[0m\u001B[0;32mFalse\u001B[0m\u001B[0;34m)\u001B[0m\u001B[0;34m\u001B[0m\u001B[0;34m\u001B[0m\u001B[0m\n\u001B[1;32m      8\u001B[0m \u001B[0;34m\u001B[0m\u001B[0m\n",
      "\u001B[0;31mNameError\u001B[0m: name 'output_dir' is not defined"
     ]
    }
   ],
   "source": [
    "callback = lambda infid: print(infid)\n",
    "\n",
    "for i in range(3):\n",
    "    envelope = createPWCGaussianPulse(t_final, sigma, 30)\n",
    "    #envelope = createPWCCustomPulse(t_final, sigma=1.794e-9, cosine_frequency=303.160e6, num_pieces=60, custom_params=custom_params)\n",
    "    exper = SingleQubitExperiment(directory=f\"{output_dir}/\", file_suffix=f\"{i}\")\n",
    "    exper.prepare(t_final, freq, anharm, carrier_freq, envelope, useDrag=True)\n",
    "\n",
    "    # print information\n",
    "    energies = exper.getEnergies()\n",
    "    print(\"energies: \", [(energies[i + 1] - energies[i]) / (2 * np.pi) for i in range(len(energies) - 1)])\n",
    "    printInformation(exper, \"before\")\n",
    "\n",
    "    # first optimisation\n",
    "    params_after = exper.optimise(\n",
    "        optimisable_params,\n",
    "        algorithm=algorithms.lbfgs_grad_free,\n",
    "        algorithm_options={\n",
    "            #\"stop_at_convergence\": 15,\n",
    "            #\"spread\": 0.2,\n",
    "            #\"popsize\": 25,\n",
    "            \"maxfun\": 150,\n",
    "        },\n",
    "        fidelity_function=fidelities.unitary_infid_set,\n",
    "        fidelity_params={\n",
    "            \"active_levels\": 4,\n",
    "            #\"qubit\": exper.getQubit(),\n",
    "            #\"generator\": exper.getExperiment().pmap.generator,\n",
    "            #\"drive\": getDrive(exper.getExperiment().pmap.model, exper.getQubit())\n",
    "        },\n",
    "        callback=callback,\n",
    "    )\n",
    "    printInformation(exper, \"after\")\n",
    "    print(params_after)\n",
    "\n",
    "    # second experiment\n",
    "    '''\n",
    "    envelope2 = createPWCCustomPulse(t_final, optimisedParams['lower-X[0]-d1-custom-sigma'], optimisedParams['lower-X[0]-d1-custom-cosine_frequency'], 30)\n",
    "    exper2 = SingleQubitExperiment(directory=f\"{output_dir}/\", file_suffix=f\"{i}\")\n",
    "    carrier_freq2 = optimisedParams['lower-X[0]-d1-carrier-freq']\n",
    "    exper2.prepare(t_final, freq, anharm, carrier_freq2, envelope2, useDrag=False)\n",
    "\n",
    "    # second optimisation\n",
    "    callback = lambda infid: print(\"infidelity: \", infid)\n",
    "    params_after = exper.optimise(\n",
    "        optimisable_params,\n",
    "        algorithm=algorithms.lbfgs,\n",
    "        algorithm_options={\n",
    "            #\"stop_at_convergence\": 15,\n",
    "            #\"spread\": 0.15,\n",
    "            #\"popsize\": 20,\n",
    "            \"maxfun\": 100\n",
    "        },\n",
    "        fidelity_function=fidelities.unitary_infid_set,\n",
    "        fidelity_params={\n",
    "            \"active_levels\": 4,\n",
    "        },\n",
    "        callback=callback\n",
    "    )\n",
    "    printInformation(exper, \"after\")\n",
    "    print(params_after)\n",
    "    '''"
   ],
   "metadata": {
    "collapsed": false,
    "pycharm": {
     "name": "#%%\n"
    }
   }
  },
  {
   "cell_type": "code",
   "execution_count": 3,
   "outputs": [
    {
     "name": "stdout",
     "output_type": "stream",
     "text": [
      "[[0.70710678+0.j         0.        -0.70710678j 0.        +0.j\n",
      "  0.        -0.j        ]\n",
      " [0.        -0.70710678j 0.70710678+0.j         0.        -0.j\n",
      "  0.        +0.j        ]\n",
      " [0.        +0.j         0.        -0.j         0.70710678+0.j\n",
      "  0.        -0.70710678j]\n",
      " [0.        -0.j         0.        +0.j         0.        -0.70710678j\n",
      "  0.70710678+0.j        ]]\n",
      "saving plot in /home/user/test1.png\n"
     ]
    },
    {
     "data": {
      "text/plain": "<Figure size 432x288 with 2 Axes>",
      "image/png": "[encoded data removed]"
     },
     "metadata": {
      "needs_background": "light"
     },
     "output_type": "display_data"
    }
   ],
   "source": [
    "import c3.libraries.constants as constants\n",
    "import c3.utils.qt_utils as qt_utils\n",
    "ideal = qt_utils.np_kron_n([constants.Id, constants.x90p])\n",
    "print(ideal)\n",
    "\n",
    "plotMatrix(ideal, \"/home/user/test1.png\")"
   ],
   "metadata": {
    "collapsed": false,
    "pycharm": {
     "name": "#%%\n"
    }
   }
  },
  {
   "cell_type": "code",
   "execution_count": null,
   "outputs": [],
   "source": [],
   "metadata": {
    "collapsed": false,
    "pycharm": {
     "name": "#%%\n"
    }
   }
  }
 ],
 "metadata": {
  "kernelspec": {
   "display_name": "Python 3 (ipykernel)",
   "language": "python",
   "name": "python3"
  },
  "language_info": {
   "codemirror_mode": {
    "name": "ipython",
    "version": 3
   },
   "file_extension": ".py",
   "mimetype": "text/x-python",
   "name": "python",
   "nbconvert_exporter": "python",
   "pygments_lexer": "ipython3",
   "version": "3.9.6"
  }
 },
 "nbformat": 4,
 "nbformat_minor": 1
}