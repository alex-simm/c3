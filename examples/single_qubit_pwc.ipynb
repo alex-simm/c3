{
 "cells": [
  {
   "cell_type": "code",
   "execution_count": 1,
   "metadata": {
    "collapsed": true
   },
   "outputs": [
    {
     "name": "stderr",
     "output_type": "stream",
     "text": [
      "2022-05-23 10:22:34.690466: W tensorflow/stream_executor/platform/default/dso_loader.cc:64] Could not load dynamic library 'libcudart.so.11.0'; dlerror: libcudart.so.11.0: cannot open shared object file: No such file or directory\n",
      "2022-05-23 10:22:34.690494: I tensorflow/stream_executor/cuda/cudart_stub.cc:29] Ignore above cudart dlerror if you do not have a GPU set up on your machine.\n"
     ]
    }
   ],
   "source": [
    "# Imports\n",
    "import copy\n",
    "import os\n",
    "import tempfile\n",
    "\n",
    "import numpy as np\n",
    "import time\n",
    "import itertools\n",
    "import matplotlib.pyplot as plt\n",
    "import tensorflow as tf\n",
    "import tensorflow_probability as tfp\n",
    "from pprint import pprint\n",
    "\n",
    "from c3.c3objs import Quantity as Qty\n",
    "from c3.optimizers.optimalcontrol import OptimalControl\n",
    "from c3.parametermap import ParameterMap\n",
    "from c3.experiment import Experiment\n",
    "from c3.model import Model\n",
    "from c3.generator.generator import Generator\n",
    "\n",
    "import c3.generator.devices as devices\n",
    "import c3.signal.gates as gates\n",
    "import c3.libraries.chip as chip\n",
    "import c3.signal.pulse as pulse\n",
    "import c3.libraries.tasks as tasks\n",
    "\n",
    "import c3.libraries.algorithms as algorithms\n",
    "import c3.libraries.hamiltonians as hamiltonians\n",
    "import c3.libraries.fidelities as fidelities\n",
    "import c3.libraries.envelopes as envelopes\n",
    "import c3.utils.qt_utils as qt_utils\n",
    "import c3.utils.tf_utils as tf_utils"
   ]
  },
  {
   "cell_type": "markdown",
   "source": [
    "The model consists of a single device with levels and a drive line."
   ],
   "metadata": {
    "collapsed": false,
    "pycharm": {
     "name": "#%% md\n"
    }
   }
  },
  {
   "cell_type": "code",
   "execution_count": 2,
   "outputs": [
    {
     "name": "stderr",
     "output_type": "stream",
     "text": [
      "2022-05-23 10:22:37.080278: W tensorflow/stream_executor/platform/default/dso_loader.cc:64] Could not load dynamic library 'libcuda.so.1'; dlerror: libcuda.so.1: cannot open shared object file: No such file or directory\n",
      "2022-05-23 10:22:37.080312: W tensorflow/stream_executor/cuda/cuda_driver.cc:269] failed call to cuInit: UNKNOWN ERROR (303)\n",
      "2022-05-23 10:22:37.080335: I tensorflow/stream_executor/cuda/cuda_diagnostics.cc:156] kernel driver does not appear to be running on this host (localhost.localdomain): /proc/driver/nvidia/version does not exist\n"
     ]
    }
   ],
   "source": [
    "# Model components\n",
    "qubit_levels = 3\n",
    "frequency = 5e9\n",
    "anharmonicity = -210e6\n",
    "qubit_temp = 0\n",
    "\n",
    "qubit = chip.Qubit(\n",
    "    name=\"Q\",\n",
    "    desc=\"Qubit\",\n",
    "    freq=Qty(value=frequency, min_val=4.995e9, max_val=5.005e9, unit=\"Hz 2pi\"),\n",
    "    anhar=Qty(value=anharmonicity, min_val=-380e6, max_val=-120e6, unit=\"Hz 2pi\"),\n",
    "    hilbert_dim=qubit_levels,\n",
    "    temp=Qty(value=qubit_temp, min_val=0.0, max_val=0.12, unit=\"K\"),\n",
    ")\n",
    "\n",
    "drive = chip.Drive(\n",
    "    name=\"drive\",\n",
    "    desc=\"Drive\",\n",
    "    comment=\"Drive line on qubit\",\n",
    "    connected=[\"Q\"],\n",
    "    hamiltonian_func=hamiltonians.x_drive,\n",
    ")\n",
    "\n",
    "model = Model([qubit], [drive])\n",
    "model.set_lindbladian(False)\n",
    "model.set_dressed(True)"
   ],
   "metadata": {
    "collapsed": false,
    "pycharm": {
     "name": "#%%\n"
    }
   }
  },
  {
   "cell_type": "markdown",
   "source": [
    "This creates the typical generator configuration"
   ],
   "metadata": {
    "collapsed": false,
    "pycharm": {
     "name": "#%% md\n"
    }
   }
  },
  {
   "cell_type": "code",
   "execution_count": 3,
   "outputs": [],
   "source": [
    "sim_res = 100e9\n",
    "awg_res = 2e9\n",
    "generator = Generator(\n",
    "    devices={\n",
    "        \"LO\": devices.LO(name=\"lo\", resolution=sim_res, outputs=1),\n",
    "        \"AWG\": devices.AWG(name=\"awg\", resolution=awg_res, outputs=1),\n",
    "        \"DigitalToAnalog\": devices.DigitalToAnalog(\n",
    "            name=\"dac\", resolution=sim_res, inputs=1, outputs=1\n",
    "        ),\n",
    "        \"Response\": devices.ResponseFFT(\n",
    "            name=\"resp\",\n",
    "            rise_time=Qty(value=0.3e-9, min_val=0.05e-9, max_val=0.6e-9, unit=\"s\"),\n",
    "            resolution=sim_res,\n",
    "            inputs=1,\n",
    "            outputs=1,\n",
    "        ),\n",
    "        \"Mixer\": devices.Mixer(name=\"mixer\", inputs=2, outputs=1),\n",
    "        \"VoltsToHertz\": devices.VoltsToHertz(\n",
    "            name=\"v_to_hz\",\n",
    "            V_to_Hz=Qty(value=1e9, min_val=0.9e9, max_val=1.1e9, unit=\"Hz/V\"),\n",
    "            inputs=1,\n",
    "            outputs=1,\n",
    "        ),\n",
    "    },\n",
    "    chains={\n",
    "        \"drive\": {\n",
    "            \"LO\": [],\n",
    "            \"AWG\": [],\n",
    "            \"DigitalToAnalog\": [\"AWG\"],\n",
    "            \"Response\": [\"DigitalToAnalog\"],\n",
    "            \"Mixer\": [\"LO\", \"Response\"],\n",
    "            \"VoltsToHertz\": [\"Mixer\"],\n",
    "        }\n",
    "    },\n",
    ")"
   ],
   "metadata": {
    "collapsed": false,
    "pycharm": {
     "name": "#%%\n"
    }
   }
  },
  {
   "cell_type": "markdown",
   "source": [
    "The signal carrier is resonant to the qubit frequency. The envelope is piece-wise constant\n",
    "initialised with a Gaussian shape."
   ],
   "metadata": {
    "collapsed": false,
    "pycharm": {
     "name": "#%% md\n"
    }
   }
  },
  {
   "cell_type": "code",
   "execution_count": 4,
   "outputs": [],
   "source": [
    "# Create a piece-wise gaussian shape\n",
    "numPWCPieces = 20\n",
    "t_final = 10e-9\n",
    "sigma = t_final / 5\n",
    "times = tf.linspace(0.0, t_final, numPWCPieces)\n",
    "gaussian_shape = tf.exp(-((times - t_final / 2) ** 2) / (2 * sigma ** 2))\n",
    "\n",
    "# Define the envelope\n",
    "gauss_params = {\n",
    "    \"amp\": Qty(value=0.45, min_val=0.4, max_val=0.6, unit=\"V\"),\n",
    "    \"t_final\": Qty(\n",
    "        value=t_final, min_val=0.5 * t_final, max_val=1.5 * t_final, unit=\"s\"\n",
    "    ),\n",
    "    \"sigma\": Qty(\n",
    "        value=t_final / 4, min_val=t_final / 8, max_val=t_final / 2, unit=\"s\"\n",
    "    ),\n",
    "    \"xy_angle\": Qty(\n",
    "        value=0.0, min_val=-0.5 * np.pi, max_val=2.5 * np.pi, unit=\"rad\"\n",
    "    ),\n",
    "    \"freq_offset\": Qty(\n",
    "        value=-50e6,\n",
    "        min_val=-60e6,\n",
    "        max_val=-40e6,\n",
    "        unit=\"Hz 2pi\",\n",
    "    ),\n",
    "    \"delta\": Qty(value=-1, min_val=-5, max_val=3, unit=\"\"),\n",
    "    \"t_bin_start\": Qty(0.0),\n",
    "    \"t_bin_end\": Qty(t_final),\n",
    "    \"inphase\": Qty(gaussian_shape),\n",
    "    \"quadrature\": Qty(tf.zeros_like(gaussian_shape))\n",
    "}\n",
    "\n",
    "gauss_envelope = pulse.EnvelopeDrag(\n",
    "    name=\"gauss\",\n",
    "    desc=\"Gaussian comp for single-qubit gates\",\n",
    "    params=gauss_params,\n",
    "    shape=envelopes.pwc,\n",
    ")\n",
    "\n",
    "# Define the carrier\n",
    "carrier_parameters = {\n",
    "    \"freq\": Qty(value=frequency, min_val=4.5e9, max_val=6e9, unit=\"Hz 2pi\"),\n",
    "    \"framechange\": Qty(value=0.0, min_val=-np.pi, max_val=3 * np.pi, unit=\"rad\"),\n",
    "}\n",
    "carrier = pulse.Carrier(\n",
    "    name=\"carrier\",\n",
    "    desc=\"Frequency of the local oscillator\",\n",
    "    params=carrier_parameters,\n",
    ")"
   ],
   "metadata": {
    "collapsed": false,
    "pycharm": {
     "name": "#%%\n"
    }
   }
  },
  {
   "cell_type": "markdown",
   "source": [
    "The goal is to optimise the PWC envelope to facilitate an $X(\\pi/2)$ gate."
   ],
   "metadata": {
    "collapsed": false,
    "pycharm": {
     "name": "#%% md\n"
    }
   }
  },
  {
   "cell_type": "code",
   "execution_count": 5,
   "outputs": [],
   "source": [
    "rx90p = gates.Instruction(\n",
    "    name=\"rx90p\", t_start=0.0, t_end=t_final, channels=[\"drive\"], targets=[0]\n",
    ")\n",
    "rx90p.add_component(gauss_envelope, \"drive\")\n",
    "rx90p.add_component(carrier, \"drive\")"
   ],
   "metadata": {
    "collapsed": false,
    "pycharm": {
     "name": "#%%\n"
    }
   }
  },
  {
   "cell_type": "markdown",
   "source": [
    "This sets up the experiment and computes the initial propagator."
   ],
   "metadata": {
    "collapsed": false,
    "pycharm": {
     "name": "#%% md\n"
    }
   }
  },
  {
   "cell_type": "code",
   "execution_count": 6,
   "outputs": [
    {
     "data": {
      "text/plain": "{'rx90p[0]': <tf.Tensor: shape=(3, 3), dtype=complex128, numpy=\n array([[ 0.69137933+0.2553401j , -0.62511455+0.11198216j,\n          0.18820308-0.13441523j],\n        [-0.62440622+0.11395454j, -0.56593468+0.51656201j,\n          0.02184086+0.0976516j ],\n        [ 0.12619595-0.19494069j,  0.05574723+0.08040937j,\n          0.5207599 +0.8156644j ]])>}"
     },
     "execution_count": 6,
     "metadata": {},
     "output_type": "execute_result"
    }
   ],
   "source": [
    "parameter_map = ParameterMap(\n",
    "    instructions=[rx90p], model=model, generator=generator\n",
    ")\n",
    "exp = Experiment(pmap=parameter_map)\n",
    "exp.set_opt_gates([rx90p.get_key()])\n",
    "exp.compute_propagators()"
   ],
   "metadata": {
    "collapsed": false,
    "pycharm": {
     "name": "#%%\n"
    }
   }
  },
  {
   "cell_type": "markdown",
   "source": [
    "Define all parameters that the optimiser can change."
   ],
   "metadata": {
    "collapsed": false,
    "pycharm": {
     "name": "#%% md\n"
    }
   }
  },
  {
   "cell_type": "code",
   "execution_count": 7,
   "outputs": [
    {
     "name": "stdout",
     "output_type": "stream",
     "text": [
      "rx90p[0]-drive-gauss-amp              : 450.000 mV \n",
      "rx90p[0]-drive-gauss-inphase          : 0.0439  0.0819  0.143  0.232  0.351  0.496  0.654  0.805  0.925  0.991  0.991  0.925  0.805  0.654  0.496  0.351  0.232  0.143  0.0819  0.0439  \n",
      "rx90p[0]-drive-gauss-quadrature       : 0.0  0.0  0.0  0.0  0.0  0.0  0.0  0.0  0.0  0.0  0.0  0.0  0.0  0.0  0.0  0.0  0.0  0.0  0.0  0.0  \n",
      "rx90p[0]-drive-gauss-xy_angle         : -444.089 arad \n",
      "rx90p[0]-drive-gauss-t_final          : 10.000 ns \n",
      "rx90p[0]-drive-carrier-freq           : 5.000 GHz 2pi \n",
      "rx90p[0]-drive-carrier-framechange    : 0.000 rad \n",
      "\n"
     ]
    }
   ],
   "source": [
    "opt_map = [\n",
    "    [(rx90p.get_key(), \"drive\", gauss_envelope.name, \"amp\")],\n",
    "    [(rx90p.get_key(), \"drive\", gauss_envelope.name, \"inphase\")],\n",
    "    [(rx90p.get_key(), \"drive\", gauss_envelope.name, \"quadrature\")],\n",
    "    [(rx90p.get_key(), \"drive\", gauss_envelope.name, \"xy_angle\")],\n",
    "    [(rx90p.get_key(), \"drive\", gauss_envelope.name, \"t_final\")],\n",
    "    [(rx90p.get_key(), \"drive\", carrier.name, \"freq\")],\n",
    "    [(rx90p.get_key(), \"drive\", carrier.name, \"framechange\")],\n",
    "]\n",
    "parameter_map.set_opt_map(opt_map)\n",
    "parameter_map.print_parameters()"
   ],
   "metadata": {
    "collapsed": false,
    "pycharm": {
     "name": "#%%\n"
    }
   }
  },
  {
   "cell_type": "markdown",
   "source": [
    "Set up the optimiser and run it."
   ],
   "metadata": {
    "collapsed": false,
    "pycharm": {
     "name": "#%% md\n"
    }
   }
  },
  {
   "cell_type": "code",
   "execution_count": 8,
   "outputs": [
    {
     "name": "stdout",
     "output_type": "stream",
     "text": [
      "C3:STATUS:Saving as: /tmp/tmp7n4nkr9n/c3logs/X-gate optimisation/2022_05_23_T_10_22_37/open_loop.c3log\n"
     ]
    },
    {
     "name": "stderr",
     "output_type": "stream",
     "text": [
      "/home/user/c3/c3/optimizers/optimizer.py:296: Warning: rx90p[0]-drive-gauss-quadrature has no gradient. This might indicate no usage for current experiment.\n",
      "  warnings.warn(\n",
      "/home/user/c3/c3/optimizers/optimizer.py:296: Warning: rx90p[0]-drive-gauss-t_final has no gradient. This might indicate no usage for current experiment.\n",
      "  warnings.warn(\n"
     ]
    },
    {
     "name": "stdout",
     "output_type": "stream",
     "text": [
      "0.009864424170508923\n",
      "rx90p[0]-drive-gauss-amp              : 599.998 mV \n",
      "rx90p[0]-drive-gauss-inphase          : 0.0425  0.0414  1.09  0.109  0.166  1.09  0.0396  0.675  1.09  0.0426  1.08  1.07  0.0395  1.09  0.774  0.0417  1.09  0.1  0.0409  1.01  \n",
      "rx90p[0]-drive-gauss-quadrature       : 0.0  0.0  0.0  0.0  0.0  0.0  0.0  0.0  0.0  0.0  0.0  0.0  0.0  0.0  0.0  0.0  0.0  0.0  0.0  0.0  \n",
      "rx90p[0]-drive-gauss-xy_angle         : -73.594 mrad \n",
      "rx90p[0]-drive-gauss-t_final          : 10.000 ns \n",
      "rx90p[0]-drive-carrier-freq           : 5.761 GHz 2pi \n",
      "rx90p[0]-drive-carrier-framechange    : -672.546 mrad \n",
      "\n"
     ]
    }
   ],
   "source": [
    "log_dir = os.path.join(tempfile.TemporaryDirectory().name, \"c3logs\")\n",
    "opt = OptimalControl(\n",
    "    dir_path=log_dir,\n",
    "    fid_func=fidelities.unitary_infid_set,\n",
    "    fid_subspace=[qubit.name],\n",
    "    pmap=exp.pmap,\n",
    "    algorithm=algorithms.lbfgs,\n",
    "    options={\"maxfun\": 1000, \"ftol\": 1e-6},\n",
    "    run_name=\"X-gate optimisation\"\n",
    ")\n",
    "opt.set_exp(exp)\n",
    "opt.optimize_controls()\n",
    "\n",
    "print(opt.current_best_goal)\n",
    "exp.pmap.print_parameters()"
   ],
   "metadata": {
    "collapsed": false,
    "pycharm": {
     "name": "#%%\n"
    }
   }
  }
 ],
 "metadata": {
  "kernelspec": {
   "display_name": "Python 3",
   "language": "python",
   "name": "python3"
  },
  "language_info": {
   "codemirror_mode": {
    "name": "ipython",
    "version": 2
   },
   "file_extension": ".py",
   "mimetype": "text/x-python",
   "name": "python",
   "nbconvert_exporter": "python",
   "pygments_lexer": "ipython2",
   "version": "2.7.6"
  }
 },
 "nbformat": 4,
 "nbformat_minor": 0
}