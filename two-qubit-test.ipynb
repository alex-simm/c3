{
 "cells": [
  {
   "cell_type": "code",
   "execution_count": 1,
   "metadata": {
    "collapsed": true
   },
   "outputs": [
    {
     "name": "stderr",
     "output_type": "stream",
     "text": [
      "2021-10-27 18:11:39.870687: W tensorflow/stream_executor/platform/default/dso_loader.cc:60] Could not load dynamic library 'libcudart.so.11.0'; dlerror: libcudart.so.11.0: cannot open shared object file: No such file or directory\n",
      "2021-10-27 18:11:39.870719: I tensorflow/stream_executor/cuda/cudart_stub.cc:29] Ignore above cudart dlerror if you do not have a GPU set up on your machine.\n"
     ]
    }
   ],
   "source": [
    "import argparse\n",
    "import copy\n",
    "\n",
    "import matplotlib.pyplot as plt\n",
    "import tensorflow as tf\n",
    "import c3.libraries.algorithms as algorithms\n",
    "import c3.libraries.fidelities as fidelities\n",
    "import c3.signal.gates as gates\n",
    "from c3.c3objs import Quantity as Qty\n",
    "from c3.experiment import Experiment as Exp\n",
    "from c3.generator.generator import Generator as Gnr\n",
    "from c3.libraries import constants\n",
    "from c3.model import Model as Mdl\n",
    "from c3.parametermap import ParameterMap as PMap\n",
    "from c3.utils import qt_utils\n",
    "from utils import *"
   ]
  },
  {
   "cell_type": "code",
   "execution_count": 2,
   "outputs": [],
   "source": [
    "#parser = argparse.ArgumentParser()\n",
    "#parser.add_argument(\"output\", help=\"Output directory\")\n",
    "#args = parser.parse_args()\n",
    "#output_dir = args.output\n",
    "output_dir = \"./output_1\""
   ],
   "metadata": {
    "collapsed": false,
    "pycharm": {
     "name": "#%%\n"
    }
   }
  },
  {
   "cell_type": "code",
   "execution_count": 3,
   "outputs": [
    {
     "name": "stdout",
     "output_type": "stream",
     "text": [
      "[<c3.libraries.chip.Qubit object at 0x7f6c14bd8670>, <c3.libraries.chip.Qubit object at 0x7f6c14bd88b0>]\n"
     ]
    },
    {
     "name": "stderr",
     "output_type": "stream",
     "text": [
      "2021-10-27 18:11:44.413415: I tensorflow/compiler/jit/xla_cpu_device.cc:41] Not creating XLA devices, tf_xla_enable_xla_devices not set\n",
      "2021-10-27 18:11:44.413816: W tensorflow/stream_executor/platform/default/dso_loader.cc:60] Could not load dynamic library 'libcuda.so.1'; dlerror: libcuda.so.1: cannot open shared object file: No such file or directory\n",
      "2021-10-27 18:11:44.413859: W tensorflow/stream_executor/cuda/cuda_driver.cc:326] failed call to cuInit: UNKNOWN ERROR (303)\n",
      "2021-10-27 18:11:44.413924: I tensorflow/stream_executor/cuda/cuda_diagnostics.cc:156] kernel driver does not appear to be running on this host (localhost.localdomain): /proc/driver/nvidia/version does not exist\n",
      "2021-10-27 18:11:44.418289: I tensorflow/compiler/jit/xla_gpu_device.cc:99] Not creating XLA devices, tf_xla_enable_xla_devices not set\n"
     ]
    }
   ],
   "source": [
    "# Qubits and coupling\n",
    "qubit_lvls = [4, 4]\n",
    "numActiveLevels = 4\n",
    "frequencies = [5e9, 4e9]\n",
    "anharmonicities = [-300e6, -300e6]\n",
    "t1 = [27e-6, 27e-6]\n",
    "t2star = [39e-6, 39e-6]\n",
    "qubit_temp = [50e-3, 50e-3]\n",
    "\n",
    "qubits = []\n",
    "for i in range(len(qubit_lvls)):\n",
    "    qubits.append(chip.Qubit(\n",
    "        name=f\"Q{i + 1}\",\n",
    "        desc=f\"Qubit {i + 1}\",\n",
    "        freq=Qty(\n",
    "            value=frequencies[i],\n",
    "            min_val=frequencies[i] - 5e6,\n",
    "            max_val=frequencies[i] + 5e6,\n",
    "            unit='Hz 2pi'\n",
    "        ),\n",
    "        anhar=Qty(\n",
    "            value=anharmonicities[i],\n",
    "            min_val=-380e6,\n",
    "            max_val=-120e6,\n",
    "            unit='Hz 2pi'\n",
    "        ),\n",
    "        hilbert_dim=qubit_lvls[i],\n",
    "        t1=Qty(\n",
    "            value=t1[i],\n",
    "            min_val=1e-6,\n",
    "            max_val=90e-6,\n",
    "            unit='s'\n",
    "        ),\n",
    "        t2star=Qty(\n",
    "            value=t2star[i],\n",
    "            min_val=10e-6,\n",
    "            max_val=90e-3,\n",
    "            unit='s'\n",
    "        ),\n",
    "        temp=Qty(\n",
    "            value=qubit_temp[i],\n",
    "            min_val=0.0,\n",
    "            max_val=0.12,\n",
    "            unit='K'\n",
    "        )\n",
    "    ))\n",
    "print(qubits)\n",
    "\n",
    "#couplings = []\n",
    "#for i in range(len(qubits)-1):\n",
    "#    couplings.append(createCoupling(qubits[i], qubits[i+1], 0))"
   ],
   "metadata": {
    "collapsed": false,
    "pycharm": {
     "name": "#%%\n"
    }
   }
  },
  {
   "cell_type": "code",
   "execution_count": 4,
   "outputs": [],
   "source": [
    "# Drive hamiltonians\n",
    "drives = []\n",
    "for i in range(len(qubits)):\n",
    "    drives.append(chip.Drive(\n",
    "        name=f\"d{i+1}\",\n",
    "        desc=f\"Drive {i+1}\",\n",
    "        comment=f\"Drive line on qubit {qubits[i].name}\",\n",
    "        connected=[qubits[i].name],\n",
    "        hamiltonian_func=hamiltonians.x_drive\n",
    "    ))"
   ],
   "metadata": {
    "collapsed": false,
    "pycharm": {
     "name": "#%%\n"
    }
   }
  },
  {
   "cell_type": "code",
   "execution_count": 5,
   "outputs": [],
   "source": [
    "# Set up the model\n",
    "model = Mdl(qubits, drives)# + couplings)\n",
    "model.set_lindbladian(False)\n",
    "model.set_dressed(True)"
   ],
   "metadata": {
    "collapsed": false,
    "pycharm": {
     "name": "#%%\n"
    }
   }
  },
  {
   "cell_type": "code",
   "execution_count": 6,
   "outputs": [],
   "source": [
    "# Generator\n",
    "sim_res = 100e9  # Resolution for numerical simulation\n",
    "awg_res = 2e9  # Realistic, limited resolution of an AWG\n",
    "chain = [\"LO\", \"AWG\", \"DigitalToAnalog\", \"Response\", \"Mixer\", \"VoltsToHertz\"]\n",
    "chains = {f\"{d.name}\": chain for d in drives}\n",
    "generator = Gnr(\n",
    "    devices={\n",
    "        \"LO\": devices.LO(name='lo', resolution=sim_res, outputs=1),\n",
    "        \"AWG\": devices.AWG(name='awg', resolution=awg_res, outputs=1),\n",
    "        \"DigitalToAnalog\": devices.DigitalToAnalog(\n",
    "            name=\"dac\",\n",
    "            resolution=sim_res,\n",
    "            inputs=1,\n",
    "            outputs=1\n",
    "        ),\n",
    "        \"Response\": devices.Response(\n",
    "            name='resp',\n",
    "            rise_time=Qty(\n",
    "                value=0.3e-9,\n",
    "                min_val=0.05e-9,\n",
    "                max_val=0.6e-9,\n",
    "                unit='s'\n",
    "            ),\n",
    "            resolution=sim_res,\n",
    "            inputs=1,\n",
    "            outputs=1\n",
    "        ),\n",
    "        \"Mixer\": devices.Mixer(name='mixer', inputs=2, outputs=1),\n",
    "        \"VoltsToHertz\": devices.VoltsToHertz(\n",
    "            name='v_to_hz',\n",
    "            V_to_Hz=Qty(\n",
    "                value=1e9,\n",
    "                min_val=0.9e9,\n",
    "                max_val=1.1e9,\n",
    "                unit='Hz/V'\n",
    "            ),\n",
    "            inputs=1,\n",
    "            outputs=1\n",
    "        )\n",
    "    },\n",
    "    chains=chains,\n",
    ")"
   ],
   "metadata": {
    "collapsed": false,
    "pycharm": {
     "name": "#%%\n"
    }
   }
  },
  {
   "cell_type": "code",
   "execution_count": 10,
   "outputs": [],
   "source": [
    "# Gate\n",
    "t_final = 15e-9   # Time for single qubit gates\n",
    "sideband = 50e6\n",
    "sigma = t_final / 15\n",
    "sigma2 = sigma / 2\n",
    "relative_amp = 2\n",
    "pwc_times = tf.linspace(0.0, t_final, 30)\n",
    "\n",
    "pwc_values = tf.exp(-((pwc_times - t_final / 2) ** 2) / (2 * sigma ** 2)) - tf.exp(\n",
    "    -((pwc_times - t_final / 2) ** 2) / (2 * sigma2 ** 2)) * relative_amp\n",
    "pwc_values2 = 0.1 * tf.exp(-((pwc_times - t_final / 2) ** 2) / (2 * sigma ** 2))\n",
    "pwc_env = pulse.Envelope(\n",
    "    name=\"pwc1\",\n",
    "    desc=\"PWC envelope\",\n",
    "    params={\n",
    "        \"amp\": Qty(value=0.5, min_val=0.2, max_val=0.6, unit=\"V\"),\n",
    "        \"t_final\": Qty(value=t_final, min_val=0.9 * t_final, max_val=1.1 * t_final, unit=\"s\"),\n",
    "        \"xy_angle\": Qty(value=0.0, min_val=-1.5 * np.pi, max_val=2.5 * np.pi, unit=\"rad\"),\n",
    "        \"freq_offset\": Qty(value=-53e6, min_val=-56e6, max_val=-52e6, unit=\"Hz 2pi\"),\n",
    "        \"delta\": Qty(value=-1, min_val=-5, max_val=5, unit=\"\"),\n",
    "        \"t_bin_start\": Qty(0),\n",
    "        \"t_bin_end\": Qty(t_final),\n",
    "        \"inphase\": Qty(pwc_values),\n",
    "    },\n",
    "    shape=envelopes.pwc_shape,\n",
    ")\n",
    "pwc_env2 = pulse.Envelope(\n",
    "    name=\"pwc2\",\n",
    "    desc=\"PWC envelope\",\n",
    "    params={\n",
    "        \"amp\": Qty(value=0.5, min_val=0.2, max_val=0.6, unit=\"V\"),\n",
    "        \"t_final\": Qty(value=t_final, min_val=0.9 * t_final, max_val=1.1 * t_final, unit=\"s\"),\n",
    "        \"xy_angle\": Qty(value=0.0, min_val=-1.5 * np.pi, max_val=2.5 * np.pi, unit=\"rad\"),\n",
    "        \"freq_offset\": Qty(value=-53e6, min_val=-56e6, max_val=-52e6, unit=\"Hz 2pi\"),\n",
    "        \"delta\": Qty(value=-1, min_val=-5, max_val=5, unit=\"\"),\n",
    "        \"t_bin_start\": Qty(0),\n",
    "        \"t_bin_end\": Qty(t_final),\n",
    "        \"inphase\": Qty(pwc_values2),\n",
    "    },\n",
    "    shape=envelopes.pwc_shape,\n",
    ")\n",
    "lo_frequencies = [4.7e9, 3.7e9]\n",
    "carriers = []\n",
    "for i in range(len(lo_frequencies)):\n",
    "    carriers.append(pulse.Carrier(\n",
    "        name=\"carrier\",\n",
    "        desc=\"Frequency of the local oscillator\",\n",
    "        params={\n",
    "            'freq': Qty(\n",
    "                value=lo_frequencies[i],\n",
    "                min_val=0.75 * lo_frequencies[i],\n",
    "                max_val=1.25 * lo_frequencies[i],\n",
    "                unit='Hz 2pi'\n",
    "            ),\n",
    "            'framechange': Qty(\n",
    "                value=0.0,\n",
    "                min_val=-np.pi,\n",
    "                max_val=3 * np.pi,\n",
    "                unit='rad'\n",
    "            )\n",
    "        }\n",
    "    ))"
   ],
   "metadata": {
    "collapsed": false,
    "pycharm": {
     "name": "#%%\n"
    }
   }
  },
  {
   "cell_type": "code",
   "execution_count": 11,
   "outputs": [
    {
     "name": "stdout",
     "output_type": "stream",
     "text": [
      "saving plot in ./output_1/ideal_gate.png\n",
      "saving plot in ./output_1/ideal_gate_phase.png\n",
      "saving plot in ./output_1/ideal_gate_abs.png\n"
     ]
    }
   ],
   "source": [
    "# Instruction\n",
    "idealGate = qt_utils.np_kron_n([constants.Id, constants.x90p])\n",
    "rx90p_q1 = gates.Instruction(\n",
    "    name=\"rx90p\", targets=[0], t_start=0.0, t_end=t_final, channels=[d.name for d in drives],\n",
    "    ideal=idealGate\n",
    ")\n",
    "rx90p_q1.add_component(pwc_env, \"d1\")\n",
    "rx90p_q1.add_component(carriers[0], \"d1\")\n",
    "rx90p_q1.add_component(pwc_env2, \"d2\")\n",
    "rx90p_q1.add_component(carriers[1], \"d2\")\n",
    "#rx90p_q1.comps[\"d2\"][\"carrier\"].params[\"framechange\"].set_value(\n",
    "#    (-sideband * t_final) * 2 * np.pi % (2 * np.pi)\n",
    "#)\n",
    "\n",
    "perfect_gate = rx90p_q1.get_ideal_gate(\n",
    "    [q.hilbert_dim for q in qubits],\n",
    "    [q.index for q in qubits],\n",
    "    active_levels=numActiveLevels\n",
    ")\n",
    "plotMatrix(perfect_gate, output_dir + \"/ideal_gate.png\",\n",
    "           output_dir + \"/ideal_gate_phase.png\",\n",
    "           output_dir + \"/ideal_gate_abs.png\")"
   ],
   "metadata": {
    "collapsed": false,
    "pycharm": {
     "name": "#%%\n"
    }
   }
  },
  {
   "cell_type": "code",
   "execution_count": 12,
   "outputs": [],
   "source": [
    "# Set up experiment\n",
    "parameter_map = PMap(instructions=[rx90p_q1], model=model, generator=generator)\n",
    "exp = Exp(pmap=parameter_map)\n",
    "exp.set_opt_gates(['rx90p[0]'])\n",
    "unitaries = exp.compute_propagators()\n",
    "\n",
    "psi_init = [[0] * model.tot_dim]\n",
    "psi_init[0][0] = 1\n",
    "init_state = tf.transpose(tf.constant(psi_init, tf.complex128))"
   ],
   "metadata": {
    "collapsed": false,
    "pycharm": {
     "name": "#%%\n"
    }
   }
  },
  {
   "cell_type": "code",
   "execution_count": 13,
   "outputs": [],
   "source": [
    "def plot_dynamics(exp: Experiment, psi_init, seq, filename=None):\n",
    "    model = exp.pmap.model\n",
    "    dUs = exp.partial_propagators\n",
    "    psi_t = psi_init.numpy()\n",
    "    pop_t = exp.populations(psi_t, model.lindbladian)\n",
    "    for gate in seq:\n",
    "        for du in dUs[gate]:\n",
    "            psi_t = np.matmul(du.numpy(), psi_t)\n",
    "            pops = exp.populations(psi_t, model.lindbladian)\n",
    "            pop_t = np.append(pop_t, pops, axis=1)\n",
    "\n",
    "    fig, axs = plt.subplots(1, 1)\n",
    "    ts = exp.ts\n",
    "    dt = ts[1] - ts[0]\n",
    "    ts = np.linspace(0.0, dt * pop_t.shape[1], pop_t.shape[1])\n",
    "    axs.plot(ts / 1e-9, pop_t.T)\n",
    "    axs.grid(linestyle=\"--\")\n",
    "    axs.tick_params(\n",
    "        direction=\"in\", left=True, right=True, top=True, bottom=True\n",
    "    )\n",
    "    axs.set_xlabel('Time [ns]')\n",
    "    axs.set_ylabel('Population')\n",
    "    plt.legend(model.state_labels, ncol=2, bbox_to_anchor=(1.1, 1.05))\n",
    "    plt.tight_layout()\n",
    "\n",
    "    if filename is not None:\n",
    "        plt.savefig(filename)\n",
    "        plt.close()\n",
    "    pass\n",
    "\n",
    "\n",
    "def getOutputFromDevice(gen: Generator, gate: Instruction, channel: str, deviceName: str):\n",
    "    gen.generate_signals(gate)\n",
    "    return gen.getDeviceOutput(channel, deviceName)\n",
    "\n",
    "\n",
    "def getEnvelope(gen: Generator, gate: Instruction, channel: str):\n",
    "    full_signal = gen.generate_signals(gate)[channel]\n",
    "    values1 = full_signal[\"values\"].numpy()\n",
    "    envelope = getOutputFromDevice(gen, gate, channel, \"Response\")\n",
    "    values2 = envelope[\"inphase\"].numpy()\n",
    "    factor = np.max(np.abs(values1)) / np.max(np.abs(values2))\n",
    "    return envelope[\"ts\"].numpy(), factor * envelope[\"inphase\"].numpy(), factor * envelope[\"quadrature\"].numpy()"
   ],
   "metadata": {
    "collapsed": false,
    "pycharm": {
     "name": "#%%\n"
    }
   }
  },
  {
   "cell_type": "code",
   "execution_count": 14,
   "outputs": [
    {
     "name": "stdout",
     "output_type": "stream",
     "text": [
      "saving plot in ./output_1/signal_before_d1.png\n",
      "saving plot in ./output_1/signal_before_d2.png\n",
      "saving plot in ./output_1/population_before_splitted.png\n",
      "saving plot in ./output_1/propagator_before.png\n",
      "saving plot in ./output_1/propagator_before_phase.png\n",
      "saving plot in ./output_1/propagator_before_abs.png\n"
     ]
    }
   ],
   "source": [
    "sequence = ['rx90p[0]']\n",
    "for drive in drives:\n",
    "    signal = generator.generate_signals(rx90p_q1)[drive.name]\n",
    "    plotSignalWithEnvelope(signal[\"ts\"].numpy(), signal[\"values\"].numpy(),\n",
    "                           getEnvelope(generator, rx90p_q1, drive.name),\n",
    "                           pwc_times,\n",
    "                           output_dir + f\"/signal_before_{drive.name}.png\",\n",
    "                           spectrum_cut=1e-4)\n",
    "\n",
    "plot_dynamics(exp, init_state, sequence, output_dir + \"/population_before.png\")\n",
    "population = runTimeEvolutionDefault(exp, init_state, sequence)\n",
    "if len(qubits) > 1:\n",
    "    plotSplittedOccupations(exp, population, sequence, output_dir + \"/population_before_splitted.png\")\n",
    "plotMatrix(\n",
    "    exp.propagators[rx90p_q1.get_key()],\n",
    "    output_dir + \"/propagator_before.png\",\n",
    "    output_dir + \"/propagator_before_phase.png\",\n",
    "    output_dir + \"/propagator_before_abs.png\",\n",
    "    labels=[str(x) for x in model.state_labels]\n",
    ")"
   ],
   "metadata": {
    "collapsed": false,
    "pycharm": {
     "name": "#%%\n"
    }
   }
  },
  {
   "cell_type": "code",
   "execution_count": 15,
   "outputs": [
    {
     "name": "stdout",
     "output_type": "stream",
     "text": [
      "[[('rx90p[0]', 'd1', 'pwc1', 'amp')], [('rx90p[0]', 'd1', 'pwc1', 't_final')], [('rx90p[0]', 'd1', 'pwc1', 'freq_offset')], [('rx90p[0]', 'd1', 'pwc1', 'xy_angle')], [('rx90p[0]', 'd1', 'pwc1', 'delta')], [('rx90p[0]', 'd1', 'pwc1', 'inphase')], [('rx90p[0]', 'd1', 'carrier', 'freq')], [('rx90p[0]', 'd1', 'carrier', 'framechange')], [('rx90p[0]', 'd2', 'pwc2', 'amp')], [('rx90p[0]', 'd2', 'pwc2', 't_final')], [('rx90p[0]', 'd2', 'pwc2', 'freq_offset')], [('rx90p[0]', 'd2', 'pwc2', 'xy_angle')], [('rx90p[0]', 'd2', 'pwc2', 'delta')], [('rx90p[0]', 'd2', 'pwc2', 'inphase')], [('rx90p[0]', 'd2', 'carrier', 'freq')], [('rx90p[0]', 'd2', 'carrier', 'framechange')]]\n",
      "C3:STATUS:Saving as: /home/user/c3/output_1/logs/better_X90/2021_10_27_T_18_12_51/open_loop.log\n",
      "0.912478560792998\n"
     ]
    },
    {
     "name": "stderr",
     "output_type": "stream",
     "text": [
      "/home/user/c3/c3/optimizers/optimizer.py:290: Warning: rx90p[0]-d1-pwc1-t_final has no gradient. This might indicate no usage for current experiment.\n",
      "  warnings.warn(\n",
      "/home/user/c3/c3/optimizers/optimizer.py:290: Warning: rx90p[0]-d2-pwc2-t_final has no gradient. This might indicate no usage for current experiment.\n",
      "  warnings.warn(\n"
     ]
    },
    {
     "name": "stdout",
     "output_type": "stream",
     "text": [
      "0.9975973606275333\n",
      "0.905283873223296\n",
      "0.9999929933086653\n",
      "0.9990577859254404\n",
      "0.9422796733920706\n",
      "0.967682842959218\n"
     ]
    }
   ],
   "source": [
    "# Optimise\n",
    "generator.devices['AWG'].enable_drag_2()\n",
    "opt_gates = [\"rx90p[0]\"]\n",
    "gateset_opt_map = []\n",
    "for i in range(1, len(drives)+1):\n",
    "    drive = drives[i-1]\n",
    "    gateset_opt_map = gateset_opt_map + [\n",
    "        [(\"rx90p[0]\", drive.name, f\"pwc{i}\", \"amp\")],\n",
    "        [(\"rx90p[0]\", drive.name, f\"pwc{i}\", \"t_final\")],\n",
    "        [(\"rx90p[0]\", drive.name, f\"pwc{i}\", \"freq_offset\")],\n",
    "        [(\"rx90p[0]\", drive.name, f\"pwc{i}\", \"xy_angle\")],\n",
    "        [(\"rx90p[0]\", drive.name, f\"pwc{i}\", \"delta\")],\n",
    "        [(\"rx90p[0]\", drive.name, f\"pwc{i}\", \"inphase\")],\n",
    "        [(\"rx90p[0]\", drive.name, \"carrier\", \"freq\")],\n",
    "        [(\"rx90p[0]\", drive.name, \"carrier\", \"framechange\")],\n",
    "    ]\n",
    "print(gateset_opt_map)\n",
    "parameter_map.set_opt_map(gateset_opt_map)\n",
    "\n",
    "opt = OptimalControl(\n",
    "    dir_path=output_dir + \"/logs\",\n",
    "    fid_func=fidelities.unitary_infid_set,\n",
    "    fid_subspace=[q.name for q in qubits],\n",
    "    fid_func_kwargs={\"active_levels\": 4},\n",
    "    pmap=parameter_map,\n",
    "    algorithm=algorithms.lbfgs,\n",
    "    options={\"maxfun\": 300},\n",
    "    run_name=\"better_X90\"\n",
    ")\n",
    "exp.set_opt_gates(opt_gates)\n",
    "opt.set_callback(lambda fidelity: print(fidelity))\n",
    "opt.set_exp(exp)\n",
    "opt.optimize_controls()"
   ],
   "metadata": {
    "collapsed": false,
    "pycharm": {
     "name": "#%%\n"
    }
   }
  },
  {
   "cell_type": "code",
   "execution_count": 19,
   "outputs": [
    {
     "name": "stdout",
     "output_type": "stream",
     "text": [
      "0.0036165024711473093\n",
      "saving plot in ./output_1/signal_after_d1.png\n",
      "saving plot in ./output_1/propagator_after.png\n",
      "saving plot in ./output_1/propagator_after_phase.png\n",
      "saving plot in ./output_1/propagator_after_abs.png\n",
      "saving plot in ./output_1/propagator_after_diff.png\n",
      "saving plot in ./output_1/propagator_after_diff_phase.png\n",
      "saving plot in ./output_1/propagator_after_diff_abs.png\n",
      "rx90p[0]-d1-pwc-amp                   : 482.159 mV \n",
      "rx90p[0]-d1-pwc-t_final               : 15.000 ns \n",
      "rx90p[0]-d1-pwc-freq_offset           : -53.004 MHz 2pi \n",
      "rx90p[0]-d1-pwc-xy_angle              : -988.414 mrad \n",
      "rx90p[0]-d1-pwc-delta                 : -4.326  \n",
      "rx90p[0]-d1-pwc-inphase               : -0.368  0.384  0.199  -0.115  -0.298  -0.247  -0.176  -0.133  -0.0933  -4.32e-05  0.177  0.262  0.201  -0.261  -0.861  -0.69  0.0964  0.335  0.307  0.0732  -0.143  -0.154  -0.095  -0.113  -0.209  -0.261  -0.0726  0.241  0.226  -0.303  \n",
      "rx90p[0]-d1-carrier-freq              : 4.724 GHz 2pi \n",
      "rx90p[0]-d1-carrier-framechange       : -2.226 rad \n",
      "\n"
     ]
    }
   ],
   "source": [
    "# Print results\n",
    "print(opt.current_best_goal)\n",
    "for drive in drives:\n",
    "    signal = generator.generate_signals(rx90p_q1)[drive.name]\n",
    "    plotSignalWithEnvelope(signal[\"ts\"].numpy(), signal[\"values\"].numpy(),\n",
    "                           getEnvelope(generator, rx90p_q1, drive.name),\n",
    "                           pwc_times,\n",
    "                           output_dir + f\"/signal_after_{drive.name}.png\", spectrum_cut=1e-4)\n",
    "\n",
    "plot_dynamics(exp, init_state, sequence, output_dir + \"/population_after.png\")\n",
    "population = runTimeEvolutionDefault(exp, init_state, sequence)\n",
    "if len(qubits) > 1:\n",
    "    plotSplittedOccupations(exp, population, sequence, output_dir + \"/population_after_splitted.png\")\n",
    "plotMatrix(\n",
    "    exp.propagators[rx90p_q1.get_key()],\n",
    "    output_dir + \"/propagator_after.png\",\n",
    "    output_dir + \"/propagator_after_phase.png\",\n",
    "    output_dir + \"/propagator_after_abs.png\",\n",
    "    labels=[str(x) for x in model.state_labels]\n",
    ")\n",
    "plotMatrix(\n",
    "    exp.propagators[rx90p_q1.get_key()] - perfect_gate,\n",
    "    output_dir + \"/propagator_after_diff.png\",\n",
    "    output_dir + \"/propagator_after_diff_phase.png\",\n",
    "    output_dir + \"/propagator_after_diff_abs.png\",\n",
    "    labels=[str(x) for x in model.state_labels]\n",
    ")\n",
    "parameter_map.print_parameters()"
   ],
   "metadata": {
    "collapsed": false,
    "pycharm": {
     "name": "#%%\n"
    }
   }
  },
  {
   "cell_type": "code",
   "execution_count": null,
   "outputs": [],
   "source": [],
   "metadata": {
    "collapsed": false,
    "pycharm": {
     "name": "#%%\n"
    }
   }
  }
 ],
 "metadata": {
  "kernelspec": {
   "display_name": "Python 3",
   "language": "python",
   "name": "python3"
  },
  "language_info": {
   "codemirror_mode": {
    "name": "ipython",
    "version": 2
   },
   "file_extension": ".py",
   "mimetype": "text/x-python",
   "name": "python",
   "nbconvert_exporter": "python",
   "pygments_lexer": "ipython2",
   "version": "2.7.6"
  }
 },
 "nbformat": 4,
 "nbformat_minor": 0
}