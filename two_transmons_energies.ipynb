{
 "cells": [
  {
   "cell_type": "code",
   "execution_count": 1,
   "outputs": [
    {
     "name": "stderr",
     "output_type": "stream",
     "text": [
      "2022-05-16 14:54:10.760929: W tensorflow/stream_executor/platform/default/dso_loader.cc:64] Could not load dynamic library 'libcudart.so.11.0'; dlerror: libcudart.so.11.0: cannot open shared object file: No such file or directory\n",
      "2022-05-16 14:54:10.761024: I tensorflow/stream_executor/cuda/cudart_stub.cc:29] Ignore above cudart dlerror if you do not have a GPU set up on your machine.\n"
     ]
    }
   ],
   "source": [
    "import argparse\n",
    "import copy\n",
    "import os\n",
    "import sys\n",
    "\n",
    "# Libs and helpers\n",
    "from collections import OrderedDict\n",
    "\n",
    "import numpy as np\n",
    "import scipy.linalg\n",
    "import tensorflow as tf\n",
    "\n",
    "import c3.libraries.algorithms as algorithms\n",
    "import c3.libraries.fidelities as fidelities\n",
    "import c3.utils.qt_utils as qt_utils\n",
    "from c3.utils.tf_utils import tf_project_to_comp, tf_abs, tf_unitary_overlap\n",
    "import four_level_transmons.custom_gates as custom_gates\n",
    "from c3.experiment import Experiment as Exp\n",
    "# Main C3 objects\n",
    "from c3.libraries import constants\n",
    "from c3.model import Model as Mdl\n",
    "from c3.optimizers.optimalcontrol import OptimalControl\n",
    "from c3.parametermap import ParameterMap as PMap\n",
    "from four_level_transmons.DataOutput import DataOutput\n",
    "from four_level_transmons.custom_envelopes import *\n",
    "from four_level_transmons.plotting import *\n",
    "from four_level_transmons.utilities import *\n",
    "\n",
    "tf.config.run_functions_eagerly(True)"
   ],
   "metadata": {
    "collapsed": false,
    "pycharm": {
     "name": "#%%\n"
    }
   }
  },
  {
   "cell_type": "code",
   "execution_count": 2,
   "outputs": [
    {
     "name": "stdout",
     "output_type": "stream",
     "text": [
      "=========== WARNING: no output directory specified ============\n"
     ]
    }
   ],
   "source": [
    "if len(sys.argv[1:]) > 0 and \"ipykernel_launcher\" not in sys.argv[0]:\n",
    "    parser = argparse.ArgumentParser()\n",
    "    parser.add_argument(\"output\", help=\"Output directory\")\n",
    "    args = parser.parse_args()\n",
    "    output_dir = args.output\n",
    "    print(\"Output directory: \", output_dir)\n",
    "else:\n",
    "    print(\"=========== WARNING: no output directory specified ============\")\n",
    "    output_dir = \"./output\""
   ],
   "metadata": {
    "collapsed": false,
    "pycharm": {
     "name": "#%%\n"
    }
   }
  },
  {
   "cell_type": "code",
   "execution_count": 3,
   "outputs": [],
   "source": [
    "qubit_levels = [4, 4]\n",
    "qubit_frequencies = [5e9, 4.5e9]\n",
    "anharmonicities = [-300e6, -250e6]\n",
    "t1s = [25e-6, 25e-6]\n",
    "t2stars = [35e-6, 35e-6]\n",
    "qubit_temps = [50e-3, 50e-3]"
   ],
   "metadata": {
    "collapsed": false,
    "pycharm": {
     "name": "#%%\n"
    }
   }
  },
  {
   "cell_type": "code",
   "execution_count": 4,
   "outputs": [
    {
     "name": "stdout",
     "output_type": "stream",
     "text": [
      "0 0,0 0,0\n",
      "1 0,1 0,1\n",
      "2 0,2 0,2\n",
      "3 0,3 0,3\n",
      "4 1,0 1,0\n",
      "5 1,1 1,1\n",
      "6 1,2 1,2\n",
      "7 1,3 1,3\n",
      "8 2,0 2,0\n",
      "9 2,1 2,1\n",
      "10 2,2 2,2\n",
      "11 2,3 2,3\n",
      "12 3,0 3,0\n",
      "13 3,1 3,1\n",
      "14 3,2 3,2\n",
      "15 3,3 3,3\n"
     ]
    }
   ],
   "source": [
    "# labels for all states\n",
    "level_labels = []\n",
    "level_labels_with_leakage = []\n",
    "for i in range(qubit_levels[0]):\n",
    "    for j in range(qubit_levels[1]):\n",
    "        if i > 3 or j > 3:\n",
    "            level_labels.append(None)\n",
    "        else:\n",
    "            level_labels.append(f\"{i},{j}\")\n",
    "        level_labels_with_leakage.append(f\"{i},{j}\")\n",
    "\n",
    "for i,l in enumerate(level_labels):\n",
    "    print(i, l, level_labels_with_leakage[i])"
   ],
   "metadata": {
    "collapsed": false,
    "pycharm": {
     "name": "#%%\n"
    }
   }
  },
  {
   "cell_type": "code",
   "execution_count": 5,
   "outputs": [
    {
     "name": "stdout",
     "output_type": "stream",
     "text": [
      "[0.000e+00 4.500e+09 8.750e+09 1.275e+10 5.000e+09 9.500e+09 1.375e+10\n",
      " 1.775e+10 9.700e+09 1.420e+10 1.845e+10 2.245e+10 1.410e+10 1.860e+10\n",
      " 2.285e+10 2.685e+10] 16\n"
     ]
    },
    {
     "name": "stderr",
     "output_type": "stream",
     "text": [
      "2022-05-16 14:54:14.267766: W tensorflow/stream_executor/platform/default/dso_loader.cc:64] Could not load dynamic library 'libcuda.so.1'; dlerror: libcuda.so.1: cannot open shared object file: No such file or directory\n",
      "2022-05-16 14:54:14.267795: W tensorflow/stream_executor/cuda/cuda_driver.cc:269] failed call to cuInit: UNKNOWN ERROR (303)\n",
      "2022-05-16 14:54:14.267819: I tensorflow/stream_executor/cuda/cuda_diagnostics.cc:156] kernel driver does not appear to be running on this host (localhost.localdomain): /proc/driver/nvidia/version does not exist\n"
     ]
    }
   ],
   "source": [
    "# find energy eigenvalues and eigenvectors\n",
    "qubits = createQubits(qubit_levels, qubit_frequencies, anharmonicities, t1s,\n",
    "                      t2stars, qubit_temps)\n",
    "model = Mdl(qubits, [])\n",
    "model.set_lindbladian(False)\n",
    "model.set_dressed(False)\n",
    "model.set_FR(False)\n",
    "H = model.get_Hamiltonian().numpy()\n",
    "evals,evecs = scipy.linalg.eig(H)\n",
    "evals = evals.real / (2 * np.pi)\n",
    "print(evals, len(evals))"
   ],
   "metadata": {
    "collapsed": false,
    "pycharm": {
     "name": "#%%\n"
    }
   }
  },
  {
   "cell_type": "code",
   "execution_count": 6,
   "outputs": [
    {
     "name": "stdout",
     "output_type": "stream",
     "text": [
      "0 0,0 0.0\n",
      "1 0,1 4500000000.0\n",
      "2 0,2 8750000000.000002\n",
      "3 0,3 12750000000.0\n",
      "4 1,0 5000000000.0\n",
      "5 1,1 9500000000.0\n",
      "6 1,2 13750000000.000004\n",
      "7 1,3 17750000000.0\n",
      "8 2,0 9700000000.000002\n",
      "9 2,1 14200000000.000002\n",
      "10 2,2 18450000000.000004\n",
      "11 2,3 22450000000.0\n",
      "12 3,0 14099999999.999996\n",
      "13 3,1 18599999999.999996\n",
      "14 3,2 22849999999.999996\n",
      "15 3,3 26849999999.999992\n"
     ]
    }
   ],
   "source": [
    "#energies = H.diagonal().real / (2*np.pi)\n",
    "#labels = []\n",
    "#for i in range(qubit_levels[0]):\n",
    "#    for j in range(qubit_levels[1]):\n",
    "#        idx = i * qubit_levels[0] + j\n",
    "#        labels.append(f\"{i},{j}\")\n",
    "#        print(labels[idx], energies[idx])\n",
    "#indices = np.argsort(energies)\n",
    "\n",
    "# find labels corresponding to states\n",
    "stateEnergies = []\n",
    "stateLabels = []\n",
    "for i, x in enumerate(level_labels_with_leakage):\n",
    "    #if level_labels[i] is not None:\n",
    "    energy = evals[i]\n",
    "    stateEnergies.append(energy)\n",
    "    stateLabels.append(x)\n",
    "\n",
    "for i in range(len(stateEnergies)):\n",
    "    print(i, stateLabels[i], stateEnergies[i])"
   ],
   "metadata": {
    "collapsed": false,
    "pycharm": {
     "name": "#%%\n"
    }
   }
  },
  {
   "cell_type": "code",
   "execution_count": 7,
   "outputs": [
    {
     "name": "stdout",
     "output_type": "stream",
     "text": [
      "0 0,0 - 0,1 (0, 1) 4500000000.0\n",
      "1 0,0 - 1,0 (0, 2) 5000000000.0\n",
      "2 0,0 - 0,2 (0, 3) 8750000000.000002\n",
      "3 0,0 - 1,1 (0, 4) 9500000000.0\n",
      "4 0,0 - 2,0 (0, 5) 9700000000.000002\n",
      "5 0,0 - 0,3 (0, 6) 12750000000.0\n",
      "6 0,0 - 1,2 (0, 7) 13750000000.000004\n",
      "7 0,0 - 3,0 (0, 8) 14099999999.999996\n",
      "8 0,0 - 2,1 (0, 9) 14200000000.000002\n",
      "9 0,0 - 1,3 (0, 10) 17750000000.0\n",
      "10 0,0 - 2,2 (0, 11) 18450000000.000004\n",
      "11 0,0 - 3,1 (0, 12) 18599999999.999996\n",
      "12 0,0 - 2,3 (0, 13) 22450000000.0\n",
      "13 0,0 - 3,2 (0, 14) 22849999999.999996\n",
      "14 0,0 - 3,3 (0, 15) 26849999999.999992\n",
      "15 0,1 - 1,0 (1, 2) 500000000.0\n",
      "16 0,1 - 0,2 (1, 3) 4250000000.000002\n",
      "17 0,1 - 1,1 (1, 4) 5000000000.0\n",
      "18 0,1 - 2,0 (1, 5) 5200000000.000002\n",
      "19 0,1 - 0,3 (1, 6) 8250000000.0\n",
      "20 0,1 - 1,2 (1, 7) 9250000000.000004\n",
      "21 0,1 - 3,0 (1, 8) 9599999999.999996\n",
      "22 0,1 - 2,1 (1, 9) 9700000000.000002\n",
      "23 0,1 - 1,3 (1, 10) 13250000000.0\n",
      "24 0,1 - 2,2 (1, 11) 13950000000.000004\n",
      "25 0,1 - 3,1 (1, 12) 14099999999.999996\n",
      "26 0,1 - 2,3 (1, 13) 17950000000.0\n",
      "27 0,1 - 3,2 (1, 14) 18349999999.999996\n",
      "28 0,1 - 3,3 (1, 15) 22349999999.999992\n",
      "29 1,0 - 0,2 (2, 3) 3750000000.000002\n",
      "30 1,0 - 1,1 (2, 4) 4500000000.0\n",
      "31 1,0 - 2,0 (2, 5) 4700000000.000002\n",
      "32 1,0 - 0,3 (2, 6) 7750000000.0\n",
      "33 1,0 - 1,2 (2, 7) 8750000000.000004\n",
      "34 1,0 - 3,0 (2, 8) 9099999999.999996\n",
      "35 1,0 - 2,1 (2, 9) 9200000000.000002\n",
      "36 1,0 - 1,3 (2, 10) 12750000000.0\n",
      "37 1,0 - 2,2 (2, 11) 13450000000.000004\n",
      "38 1,0 - 3,1 (2, 12) 13599999999.999996\n",
      "39 1,0 - 2,3 (2, 13) 17450000000.0\n",
      "40 1,0 - 3,2 (2, 14) 17849999999.999996\n",
      "41 1,0 - 3,3 (2, 15) 21849999999.999992\n",
      "42 0,2 - 1,1 (3, 4) 749999999.9999981\n",
      "43 0,2 - 2,0 (3, 5) 950000000.0\n",
      "44 0,2 - 0,3 (3, 6) 3999999999.999998\n",
      "45 0,2 - 1,2 (3, 7) 5000000000.000002\n",
      "46 0,2 - 3,0 (3, 8) 5349999999.999994\n",
      "47 0,2 - 2,1 (3, 9) 5450000000.0\n",
      "48 0,2 - 1,3 (3, 10) 8999999999.999998\n",
      "49 0,2 - 2,2 (3, 11) 9700000000.000002\n",
      "50 0,2 - 3,1 (3, 12) 9849999999.999994\n",
      "51 0,2 - 2,3 (3, 13) 13699999999.999998\n",
      "52 0,2 - 3,2 (3, 14) 14099999999.999994\n",
      "53 0,2 - 3,3 (3, 15) 18099999999.999992\n",
      "54 1,1 - 2,0 (4, 5) 200000000.0000019\n",
      "55 1,1 - 0,3 (4, 6) 3250000000.0\n",
      "56 1,1 - 1,2 (4, 7) 4250000000.000004\n",
      "57 1,1 - 3,0 (4, 8) 4599999999.999996\n",
      "58 1,1 - 2,1 (4, 9) 4700000000.000002\n",
      "59 1,1 - 1,3 (4, 10) 8250000000.0\n",
      "60 1,1 - 2,2 (4, 11) 8950000000.000004\n",
      "61 1,1 - 3,1 (4, 12) 9099999999.999996\n",
      "62 1,1 - 2,3 (4, 13) 12950000000.0\n",
      "63 1,1 - 3,2 (4, 14) 13349999999.999996\n",
      "64 1,1 - 3,3 (4, 15) 17349999999.999992\n",
      "65 2,0 - 0,3 (5, 6) 3049999999.999998\n",
      "66 2,0 - 1,2 (5, 7) 4050000000.000002\n",
      "67 2,0 - 3,0 (5, 8) 4399999999.999994\n",
      "68 2,0 - 2,1 (5, 9) 4500000000.0\n",
      "69 2,0 - 1,3 (5, 10) 8049999999.999998\n",
      "70 2,0 - 2,2 (5, 11) 8750000000.000002\n",
      "71 2,0 - 3,1 (5, 12) 8899999999.999994\n",
      "72 2,0 - 2,3 (5, 13) 12749999999.999998\n",
      "73 2,0 - 3,2 (5, 14) 13149999999.999994\n",
      "74 2,0 - 3,3 (5, 15) 17149999999.99999\n",
      "75 0,3 - 1,2 (6, 7) 1000000000.0000038\n",
      "76 0,3 - 3,0 (6, 8) 1349999999.9999962\n",
      "77 0,3 - 2,1 (6, 9) 1450000000.000002\n",
      "78 0,3 - 1,3 (6, 10) 5000000000.0\n",
      "79 0,3 - 2,2 (6, 11) 5700000000.000004\n",
      "80 0,3 - 3,1 (6, 12) 5849999999.999996\n",
      "81 0,3 - 2,3 (6, 13) 9700000000.0\n",
      "82 0,3 - 3,2 (6, 14) 10099999999.999996\n",
      "83 0,3 - 3,3 (6, 15) 14099999999.999992\n",
      "84 1,2 - 3,0 (7, 8) 349999999.9999924\n",
      "85 1,2 - 2,1 (7, 9) 449999999.9999981\n",
      "86 1,2 - 1,3 (7, 10) 3999999999.999996\n",
      "87 1,2 - 2,2 (7, 11) 4700000000.0\n",
      "88 1,2 - 3,1 (7, 12) 4849999999.999992\n",
      "89 1,2 - 2,3 (7, 13) 8699999999.999996\n",
      "90 1,2 - 3,2 (7, 14) 9099999999.999992\n",
      "91 1,2 - 3,3 (7, 15) 13099999999.999989\n",
      "92 3,0 - 2,1 (8, 9) 100000000.00000572\n",
      "93 3,0 - 1,3 (8, 10) 3650000000.000004\n",
      "94 3,0 - 2,2 (8, 11) 4350000000.000008\n",
      "95 3,0 - 3,1 (8, 12) 4500000000.0\n",
      "96 3,0 - 2,3 (8, 13) 8350000000.000004\n",
      "97 3,0 - 3,2 (8, 14) 8750000000.0\n",
      "98 3,0 - 3,3 (8, 15) 12749999999.999996\n",
      "99 2,1 - 1,3 (9, 10) 3549999999.999998\n",
      "100 2,1 - 2,2 (9, 11) 4250000000.000002\n",
      "101 2,1 - 3,1 (9, 12) 4399999999.999994\n",
      "102 2,1 - 2,3 (9, 13) 8249999999.999998\n",
      "103 2,1 - 3,2 (9, 14) 8649999999.999994\n",
      "104 2,1 - 3,3 (9, 15) 12649999999.99999\n",
      "105 1,3 - 2,2 (10, 11) 700000000.0000038\n",
      "106 1,3 - 3,1 (10, 12) 849999999.9999962\n",
      "107 1,3 - 2,3 (10, 13) 4700000000.0\n",
      "108 1,3 - 3,2 (10, 14) 5099999999.999996\n",
      "109 1,3 - 3,3 (10, 15) 9099999999.999992\n",
      "110 2,2 - 3,1 (11, 12) 149999999.99999237\n",
      "111 2,2 - 2,3 (11, 13) 3999999999.999996\n",
      "112 2,2 - 3,2 (11, 14) 4399999999.999992\n",
      "113 2,2 - 3,3 (11, 15) 8399999999.999989\n",
      "114 3,1 - 2,3 (12, 13) 3850000000.000004\n",
      "115 3,1 - 3,2 (12, 14) 4250000000.0\n",
      "116 3,1 - 3,3 (12, 15) 8249999999.999996\n",
      "117 2,3 - 3,2 (13, 14) 399999999.9999962\n",
      "118 2,3 - 3,3 (13, 15) 4399999999.999992\n",
      "119 3,2 - 3,3 (14, 15) 3999999999.999996\n"
     ]
    }
   ],
   "source": [
    "# list all transitions\n",
    "sortedEnergiesLabels = sorted(zip(stateEnergies, stateLabels), key=lambda x: x[0])\n",
    "transitionEnergies = []\n",
    "transitionLabels = []\n",
    "transitionStateIndices = []\n",
    "for i in range(len(sortedEnergiesLabels)):\n",
    "    for j in range(len(sortedEnergiesLabels)):\n",
    "        if i != j:\n",
    "            E = sortedEnergiesLabels[j][0] - sortedEnergiesLabels[i][0]\n",
    "            if E > 0:\n",
    "                transitionEnergies.append(E)\n",
    "                transitionLabels.append(sortedEnergiesLabels[i][1] + \" - \" + sortedEnergiesLabels[j][1])\n",
    "                transitionStateIndices.append((i, j))\n",
    "\n",
    "for i in range(len(transitionEnergies)):\n",
    "    print(i, transitionLabels[i], transitionStateIndices[i], transitionEnergies[i])"
   ],
   "metadata": {
    "collapsed": false,
    "pycharm": {
     "name": "#%%\n"
    }
   }
  },
  {
   "cell_type": "code",
   "execution_count": 8,
   "outputs": [],
   "source": [
    "def getEnergies(couplingStrength: float) -> np.array:\n",
    "    # Initialise the qubits and drive lines\n",
    "    qubits = createQubits(qubit_levels, qubit_frequencies, anharmonicities, t1s,\n",
    "                          t2stars, qubit_temps)\n",
    "    coupling = createChainCouplings([couplingStrength], qubits)\n",
    "\n",
    "    # Create the model\n",
    "    model = Mdl(qubits, coupling)\n",
    "    model.set_lindbladian(False)\n",
    "    model.set_dressed(False)\n",
    "    model.set_FR(False)\n",
    "\n",
    "    # all energy levels with labels\n",
    "    H = model.get_Hamiltonian().numpy()\n",
    "    evals,evecs = scipy.linalg.eig(H)\n",
    "    return evals.real / (2 * np.pi)"
   ],
   "metadata": {
    "collapsed": false,
    "pycharm": {
     "name": "#%%\n"
    }
   }
  },
  {
   "cell_type": "code",
   "execution_count": 9,
   "outputs": [
    {
     "name": "stdout",
     "output_type": "stream",
     "text": [
      "0.0\n",
      "1010101.0101010101\n",
      "2020202.0202020202\n",
      "3030303.0303030303\n",
      "4040404.0404040404\n",
      "5050505.05050505\n",
      "6060606.060606061\n",
      "7070707.070707071\n",
      "8080808.080808081\n",
      "9090909.09090909\n",
      "10101010.1010101\n",
      "11111111.111111112\n",
      "12121212.121212121\n",
      "13131313.13131313\n",
      "14141414.141414141\n",
      "15151515.151515152\n",
      "16161616.161616161\n",
      "17171717.17171717\n",
      "18181818.18181818\n",
      "19191919.191919193\n",
      "20202020.2020202\n",
      "21212121.21212121\n",
      "22222222.222222224\n",
      "23232323.232323233\n",
      "24242424.242424242\n",
      "25252525.25252525\n",
      "26262626.26262626\n",
      "27272727.272727273\n",
      "28282828.282828283\n",
      "29292929.29292929\n",
      "30303030.303030305\n",
      "31313131.313131314\n",
      "32323232.323232323\n",
      "33333333.333333332\n",
      "34343434.34343434\n",
      "35353535.353535354\n",
      "36363636.36363636\n",
      "37373737.37373737\n",
      "38383838.383838385\n",
      "39393939.39393939\n",
      "40404040.4040404\n",
      "41414141.41414142\n",
      "42424242.42424242\n",
      "43434343.434343435\n",
      "44444444.44444445\n",
      "45454545.45454545\n",
      "46464646.464646466\n",
      "47474747.47474747\n",
      "48484848.484848484\n",
      "49494949.4949495\n",
      "50505050.5050505\n",
      "51515151.515151516\n",
      "52525252.52525252\n",
      "53535353.535353534\n",
      "54545454.54545455\n",
      "55555555.55555555\n",
      "56565656.565656565\n",
      "57575757.57575758\n",
      "58585858.58585858\n",
      "59595959.5959596\n",
      "60606060.60606061\n",
      "61616161.616161615\n",
      "62626262.62626263\n",
      "63636363.63636363\n",
      "64646464.646464646\n",
      "65656565.65656566\n",
      "66666666.666666664\n",
      "67676767.67676768\n",
      "68686868.68686868\n",
      "69696969.6969697\n",
      "70707070.70707071\n",
      "71717171.71717171\n",
      "72727272.72727272\n",
      "73737373.73737374\n",
      "74747474.74747474\n",
      "75757575.75757575\n",
      "76767676.76767677\n",
      "77777777.77777778\n",
      "78787878.78787878\n",
      "79797979.7979798\n",
      "80808080.8080808\n",
      "81818181.81818181\n",
      "82828282.82828283\n",
      "83838383.83838384\n",
      "84848484.84848484\n",
      "85858585.85858586\n",
      "86868686.86868687\n",
      "87878787.87878788\n",
      "88888888.8888889\n",
      "89898989.8989899\n",
      "90909090.9090909\n",
      "91919191.91919191\n",
      "92929292.92929293\n",
      "93939393.93939394\n",
      "94949494.94949494\n",
      "95959595.95959596\n",
      "96969696.96969697\n",
      "97979797.97979797\n",
      "98989898.989899\n",
      "100000000.0\n"
     ]
    }
   ],
   "source": [
    "couplings = np.linspace(0, 100e6, 100)\n",
    "#allEnergies = getEnergies(couplings[0])\n",
    "#allEnergies = np.reshape(allEnergies, (25,1))\n",
    "allEnergies = np.empty(shape=(16,0))\n",
    "for coupling in couplings:\n",
    "    print(coupling)\n",
    "    energies = getEnergies(coupling)\n",
    "    energies = np.sort(energies)\n",
    "    allEnergies = np.append(allEnergies, np.reshape(energies, (16,1)), axis=1)"
   ],
   "metadata": {
    "collapsed": false,
    "pycharm": {
     "name": "#%%\n"
    }
   }
  },
  {
   "cell_type": "code",
   "execution_count": 10,
   "outputs": [
    {
     "data": {
      "text/plain": "<Figure size 432x288 with 1 Axes>",
      "image/png": "[encoded data removed]"
     },
     "metadata": {
      "needs_background": "light"
     },
     "output_type": "display_data"
    }
   ],
   "source": [
    "plt.figure()\n",
    "y = allEnergies.T\n",
    "#plt.plot(couplings, y, '.', color='black', markersize=1)\n",
    "plt.plot(couplings, y)\n",
    "plt.legend(\n",
    "    stateLabels,\n",
    "    ncol=int(np.ceil(16 / 15)),\n",
    "    bbox_to_anchor=(1.05, 1.0),\n",
    "    loc=\"upper left\",\n",
    ")\n",
    "plt.tight_layout()\n",
    "#plt.savefig('energies-couplings.svg')\n",
    "plt.show()"
   ],
   "metadata": {
    "collapsed": false,
    "pycharm": {
     "name": "#%%\n"
    }
   }
  },
  {
   "cell_type": "code",
   "execution_count": 16,
   "outputs": [
    {
     "name": "stdout",
     "output_type": "stream",
     "text": [
      "0,1 - 1,0 500000000.0000038 510099273.46540356\n",
      "0,2 - 1,1 750000000.0 740170721.2916946\n",
      "0,2 - 2,0 949999999.9999981 980167983.1821384\n",
      "1,1 - 2,0 199999999.9999981 239997261.8904438\n",
      "0,3 - 1,2 999999999.9999847 991257880.8874397\n",
      "1,2 - 3,0 350000000.00001144 322940247.1721935\n",
      "1,2 - 2,1 450000000.00001526 531483466.37831306\n",
      "3,0 - 2,1 100000000.00000381 208543219.20611954\n",
      "1,3 - 2,2 700000000.0000191 667977792.9411049\n",
      "1,3 - 3,1 850000000.0 944984336.84095\n",
      "2,2 - 3,1 149999999.99998093 277006543.8998451\n",
      "2,3 - 3,2 400000000.0000229 501819741.86086655\n"
     ]
    },
    {
     "data": {
      "text/plain": "<Figure size 432x288 with 1 Axes>",
      "image/png": "[encoded data removed]"
     },
     "metadata": {
      "needs_background": "light"
     },
     "output_type": "display_data"
    }
   ],
   "source": [
    "#selectedTransitions = [1, 26, 72, 133] #[1, 26, 49, 94, 112, 184] #[67, 101]#1, 17, 31, 58\n",
    "selectedTransitions = list(range(len(transitionStateIndices)))\n",
    "\n",
    "plt.figure()\n",
    "for t in selectedTransitions:\n",
    "    index = transitionStateIndices[t]\n",
    "    data1 = allEnergies[index[0]]\n",
    "    data2 = allEnergies[index[1]]\n",
    "    diff = data2 - data1\n",
    "    if diff[0] < 1.2e9:\n",
    "        plt.plot(couplings, diff, label=transitionLabels[t])\n",
    "        print(transitionLabels[t], diff[0], diff[int(len(diff)/2)])\n",
    "plt.legend(bbox_to_anchor=(1.05, 1.0), loc=\"upper left\")\n",
    "plt.show()"
   ],
   "metadata": {
    "collapsed": false,
    "pycharm": {
     "name": "#%%\n"
    }
   }
  },
  {
   "cell_type": "code",
   "execution_count": null,
   "outputs": [],
   "source": [],
   "metadata": {
    "collapsed": false,
    "pycharm": {
     "name": "#%%\n"
    }
   }
  }
 ],
 "metadata": {
  "kernelspec": {
   "display_name": "Python 3",
   "language": "python",
   "name": "python3"
  },
  "language_info": {
   "codemirror_mode": {
    "name": "ipython",
    "version": 2
   },
   "file_extension": ".py",
   "mimetype": "text/x-python",
   "name": "python",
   "nbconvert_exporter": "python",
   "pygments_lexer": "ipython2",
   "version": "2.7.6"
  }
 },
 "nbformat": 4,
 "nbformat_minor": 0
}