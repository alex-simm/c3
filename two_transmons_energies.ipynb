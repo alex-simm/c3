{
 "cells": [
  {
   "cell_type": "code",
   "execution_count": 1,
   "outputs": [
    {
     "name": "stderr",
     "output_type": "stream",
     "text": [
      "2022-05-13 14:54:04.573692: W tensorflow/stream_executor/platform/default/dso_loader.cc:64] Could not load dynamic library 'libcudart.so.11.0'; dlerror: libcudart.so.11.0: cannot open shared object file: No such file or directory\n",
      "2022-05-13 14:54:04.573729: I tensorflow/stream_executor/cuda/cudart_stub.cc:29] Ignore above cudart dlerror if you do not have a GPU set up on your machine.\n"
     ]
    }
   ],
   "source": [
    "import argparse\n",
    "import copy\n",
    "import os\n",
    "import sys\n",
    "\n",
    "# Libs and helpers\n",
    "from collections import OrderedDict\n",
    "\n",
    "import numpy as np\n",
    "import scipy.linalg\n",
    "import tensorflow as tf\n",
    "\n",
    "import c3.libraries.algorithms as algorithms\n",
    "import c3.libraries.fidelities as fidelities\n",
    "import c3.utils.qt_utils as qt_utils\n",
    "from c3.utils.tf_utils import tf_project_to_comp, tf_abs, tf_unitary_overlap\n",
    "import four_level_transmons.custom_gates as custom_gates\n",
    "from c3.experiment import Experiment as Exp\n",
    "# Main C3 objects\n",
    "from c3.libraries import constants\n",
    "from c3.model import Model as Mdl\n",
    "from c3.optimizers.optimalcontrol import OptimalControl\n",
    "from c3.parametermap import ParameterMap as PMap\n",
    "from four_level_transmons.DataOutput import DataOutput\n",
    "from four_level_transmons.custom_envelopes import *\n",
    "from four_level_transmons.plotting import *\n",
    "from four_level_transmons.utilities import *\n",
    "\n",
    "tf.config.run_functions_eagerly(True)"
   ],
   "metadata": {
    "collapsed": false,
    "pycharm": {
     "name": "#%%\n"
    }
   }
  },
  {
   "cell_type": "code",
   "execution_count": 2,
   "outputs": [
    {
     "name": "stdout",
     "output_type": "stream",
     "text": [
      "=========== WARNING: no output directory specified ============\n"
     ]
    }
   ],
   "source": [
    "if len(sys.argv[1:]) > 0 and \"ipykernel_launcher\" not in sys.argv[0]:\n",
    "    parser = argparse.ArgumentParser()\n",
    "    parser.add_argument(\"output\", help=\"Output directory\")\n",
    "    args = parser.parse_args()\n",
    "    output_dir = args.output\n",
    "    print(\"Output directory: \", output_dir)\n",
    "else:\n",
    "    print(\"=========== WARNING: no output directory specified ============\")\n",
    "    output_dir = \"./output\""
   ],
   "metadata": {
    "collapsed": false,
    "pycharm": {
     "name": "#%%\n"
    }
   }
  },
  {
   "cell_type": "code",
   "execution_count": 3,
   "outputs": [],
   "source": [
    "qubit_levels = [5, 5]\n",
    "qubit_frequencies = [5e9, 4.5e9]\n",
    "anharmonicities = [-300e6, -250e6]\n",
    "t1s = [25e-6, 25e-6]\n",
    "t2stars = [35e-6, 35e-6]\n",
    "qubit_temps = [50e-3, 50e-3]"
   ],
   "metadata": {
    "collapsed": false,
    "pycharm": {
     "name": "#%%\n"
    }
   }
  },
  {
   "cell_type": "code",
   "execution_count": 4,
   "outputs": [
    {
     "name": "stdout",
     "output_type": "stream",
     "text": [
      "0 0,0 0,0\n",
      "1 0,1 0,1\n",
      "2 0,2 0,2\n",
      "3 0,3 0,3\n",
      "4 None 0,4\n",
      "5 1,0 1,0\n",
      "6 1,1 1,1\n",
      "7 1,2 1,2\n",
      "8 1,3 1,3\n",
      "9 None 1,4\n",
      "10 2,0 2,0\n",
      "11 2,1 2,1\n",
      "12 2,2 2,2\n",
      "13 2,3 2,3\n",
      "14 None 2,4\n",
      "15 3,0 3,0\n",
      "16 3,1 3,1\n",
      "17 3,2 3,2\n",
      "18 3,3 3,3\n",
      "19 None 3,4\n",
      "20 None 4,0\n",
      "21 None 4,1\n",
      "22 None 4,2\n",
      "23 None 4,3\n",
      "24 None 4,4\n"
     ]
    }
   ],
   "source": [
    "# labels for all states\n",
    "level_labels = []\n",
    "level_labels_with_leakage = []\n",
    "for i in range(qubit_levels[0]):\n",
    "    for j in range(qubit_levels[1]):\n",
    "        if i > 3 or j > 3:\n",
    "            level_labels.append(None)\n",
    "        else:\n",
    "            level_labels.append(f\"{i},{j}\")\n",
    "        level_labels_with_leakage.append(f\"{i},{j}\")\n",
    "\n",
    "for i,l in enumerate(level_labels):\n",
    "    print(i, l, level_labels_with_leakage[i])"
   ],
   "metadata": {
    "collapsed": false,
    "pycharm": {
     "name": "#%%\n"
    }
   }
  },
  {
   "cell_type": "code",
   "execution_count": 5,
   "outputs": [
    {
     "name": "stdout",
     "output_type": "stream",
     "text": [
      "[0.000e+00 4.500e+09 8.750e+09 1.275e+10 1.650e+10 5.000e+09 9.500e+09\n",
      " 1.375e+10 1.775e+10 2.150e+10 9.700e+09 1.420e+10 1.845e+10 2.245e+10\n",
      " 2.620e+10 1.410e+10 1.860e+10 2.285e+10 2.685e+10 3.060e+10 1.820e+10\n",
      " 2.270e+10 2.695e+10 3.095e+10 3.470e+10] 25\n"
     ]
    },
    {
     "name": "stderr",
     "output_type": "stream",
     "text": [
      "2022-05-13 14:54:07.366345: W tensorflow/stream_executor/platform/default/dso_loader.cc:64] Could not load dynamic library 'libcuda.so.1'; dlerror: libcuda.so.1: cannot open shared object file: No such file or directory\n",
      "2022-05-13 14:54:07.366384: W tensorflow/stream_executor/cuda/cuda_driver.cc:269] failed call to cuInit: UNKNOWN ERROR (303)\n",
      "2022-05-13 14:54:07.366413: I tensorflow/stream_executor/cuda/cuda_diagnostics.cc:156] kernel driver does not appear to be running on this host (localhost.localdomain): /proc/driver/nvidia/version does not exist\n"
     ]
    }
   ],
   "source": [
    "# find energy eigenvalues and eigenvectors\n",
    "qubits = createQubits(qubit_levels, qubit_frequencies, anharmonicities, t1s,\n",
    "                      t2stars, qubit_temps)\n",
    "model = Mdl(qubits, [])\n",
    "model.set_lindbladian(False)\n",
    "model.set_dressed(False)\n",
    "model.set_FR(False)\n",
    "H = model.get_Hamiltonian().numpy()\n",
    "evals,evecs = scipy.linalg.eig(H)\n",
    "evals = evals.real / (2 * np.pi)\n",
    "print(evals, len(evals))"
   ],
   "metadata": {
    "collapsed": false,
    "pycharm": {
     "name": "#%%\n"
    }
   }
  },
  {
   "cell_type": "code",
   "execution_count": 6,
   "outputs": [
    {
     "name": "stdout",
     "output_type": "stream",
     "text": [
      "0 0,0 0.0\n",
      "1 0,1 4500000000.0\n",
      "2 0,2 8750000000.000002\n",
      "3 0,3 12750000000.0\n",
      "4 0,4 16500000000.000002\n",
      "5 1,0 5000000000.0\n",
      "6 1,1 9500000000.0\n",
      "7 1,2 13750000000.000004\n",
      "8 1,3 17750000000.0\n",
      "9 1,4 21500000000.0\n",
      "10 2,0 9700000000.000002\n",
      "11 2,1 14200000000.000002\n",
      "12 2,2 18450000000.000004\n",
      "13 2,3 22450000000.0\n",
      "14 2,4 26200000000.0\n",
      "15 3,0 14099999999.999996\n",
      "16 3,1 18599999999.999996\n",
      "17 3,2 22849999999.999996\n",
      "18 3,3 26849999999.999992\n",
      "19 3,4 30599999999.999996\n",
      "20 4,0 18199999999.999996\n",
      "21 4,1 22699999999.999996\n",
      "22 4,2 26950000000.000004\n",
      "23 4,3 30950000000.0\n",
      "24 4,4 34700000000.0\n"
     ]
    }
   ],
   "source": [
    "#energies = H.diagonal().real / (2*np.pi)\n",
    "#labels = []\n",
    "#for i in range(qubit_levels[0]):\n",
    "#    for j in range(qubit_levels[1]):\n",
    "#        idx = i * qubit_levels[0] + j\n",
    "#        labels.append(f\"{i},{j}\")\n",
    "#        print(labels[idx], energies[idx])\n",
    "#indices = np.argsort(energies)\n",
    "\n",
    "# find labels corresponding to states\n",
    "stateEnergies = []\n",
    "stateLabels = []\n",
    "for i, x in enumerate(level_labels_with_leakage):\n",
    "    #if level_labels[i] is not None:\n",
    "    energy = evals[i]\n",
    "    stateEnergies.append(energy)\n",
    "    stateLabels.append(x)\n",
    "\n",
    "for i in range(len(stateEnergies)):\n",
    "    print(i, stateLabels[i], stateEnergies[i])"
   ],
   "metadata": {
    "collapsed": false,
    "pycharm": {
     "name": "#%%\n"
    }
   }
  },
  {
   "cell_type": "code",
   "execution_count": 7,
   "outputs": [
    {
     "name": "stdout",
     "output_type": "stream",
     "text": [
      "0 0,0 - 0,1 (0, 1) 4500000000.0\n",
      "1 0,0 - 1,0 (0, 2) 5000000000.0\n",
      "2 0,0 - 0,2 (0, 3) 8750000000.000002\n",
      "3 0,0 - 1,1 (0, 4) 9500000000.0\n",
      "4 0,0 - 2,0 (0, 5) 9700000000.000002\n",
      "5 0,0 - 0,3 (0, 6) 12750000000.0\n",
      "6 0,0 - 1,2 (0, 7) 13750000000.000004\n",
      "7 0,0 - 3,0 (0, 8) 14099999999.999996\n",
      "8 0,0 - 2,1 (0, 9) 14200000000.000002\n",
      "9 0,0 - 0,4 (0, 10) 16500000000.000002\n",
      "10 0,0 - 1,3 (0, 11) 17750000000.0\n",
      "11 0,0 - 4,0 (0, 12) 18199999999.999996\n",
      "12 0,0 - 2,2 (0, 13) 18450000000.000004\n",
      "13 0,0 - 3,1 (0, 14) 18599999999.999996\n",
      "14 0,0 - 1,4 (0, 15) 21500000000.0\n",
      "15 0,0 - 2,3 (0, 16) 22450000000.0\n",
      "16 0,0 - 4,1 (0, 17) 22699999999.999996\n",
      "17 0,0 - 3,2 (0, 18) 22849999999.999996\n",
      "18 0,0 - 2,4 (0, 19) 26200000000.0\n",
      "19 0,0 - 3,3 (0, 20) 26849999999.999992\n",
      "20 0,0 - 4,2 (0, 21) 26950000000.000004\n",
      "21 0,0 - 3,4 (0, 22) 30599999999.999996\n",
      "22 0,0 - 4,3 (0, 23) 30950000000.0\n",
      "23 0,0 - 4,4 (0, 24) 34700000000.0\n",
      "24 0,1 - 1,0 (1, 2) 500000000.0\n",
      "25 0,1 - 0,2 (1, 3) 4250000000.000002\n",
      "26 0,1 - 1,1 (1, 4) 5000000000.0\n",
      "27 0,1 - 2,0 (1, 5) 5200000000.000002\n",
      "28 0,1 - 0,3 (1, 6) 8250000000.0\n",
      "29 0,1 - 1,2 (1, 7) 9250000000.000004\n",
      "30 0,1 - 3,0 (1, 8) 9599999999.999996\n",
      "31 0,1 - 2,1 (1, 9) 9700000000.000002\n",
      "32 0,1 - 0,4 (1, 10) 12000000000.000002\n",
      "33 0,1 - 1,3 (1, 11) 13250000000.0\n",
      "34 0,1 - 4,0 (1, 12) 13699999999.999996\n",
      "35 0,1 - 2,2 (1, 13) 13950000000.000004\n",
      "36 0,1 - 3,1 (1, 14) 14099999999.999996\n",
      "37 0,1 - 1,4 (1, 15) 17000000000.0\n",
      "38 0,1 - 2,3 (1, 16) 17950000000.0\n",
      "39 0,1 - 4,1 (1, 17) 18199999999.999996\n",
      "40 0,1 - 3,2 (1, 18) 18349999999.999996\n",
      "41 0,1 - 2,4 (1, 19) 21700000000.0\n",
      "42 0,1 - 3,3 (1, 20) 22349999999.999992\n",
      "43 0,1 - 4,2 (1, 21) 22450000000.000004\n",
      "44 0,1 - 3,4 (1, 22) 26099999999.999996\n",
      "45 0,1 - 4,3 (1, 23) 26450000000.0\n",
      "46 0,1 - 4,4 (1, 24) 30200000000.0\n",
      "47 1,0 - 0,2 (2, 3) 3750000000.000002\n",
      "48 1,0 - 1,1 (2, 4) 4500000000.0\n",
      "49 1,0 - 2,0 (2, 5) 4700000000.000002\n",
      "50 1,0 - 0,3 (2, 6) 7750000000.0\n",
      "51 1,0 - 1,2 (2, 7) 8750000000.000004\n",
      "52 1,0 - 3,0 (2, 8) 9099999999.999996\n",
      "53 1,0 - 2,1 (2, 9) 9200000000.000002\n",
      "54 1,0 - 0,4 (2, 10) 11500000000.000002\n",
      "55 1,0 - 1,3 (2, 11) 12750000000.0\n",
      "56 1,0 - 4,0 (2, 12) 13199999999.999996\n",
      "57 1,0 - 2,2 (2, 13) 13450000000.000004\n",
      "58 1,0 - 3,1 (2, 14) 13599999999.999996\n",
      "59 1,0 - 1,4 (2, 15) 16500000000.0\n",
      "60 1,0 - 2,3 (2, 16) 17450000000.0\n",
      "61 1,0 - 4,1 (2, 17) 17699999999.999996\n",
      "62 1,0 - 3,2 (2, 18) 17849999999.999996\n",
      "63 1,0 - 2,4 (2, 19) 21200000000.0\n",
      "64 1,0 - 3,3 (2, 20) 21849999999.999992\n",
      "65 1,0 - 4,2 (2, 21) 21950000000.000004\n",
      "66 1,0 - 3,4 (2, 22) 25599999999.999996\n",
      "67 1,0 - 4,3 (2, 23) 25950000000.0\n",
      "68 1,0 - 4,4 (2, 24) 29700000000.0\n",
      "69 0,2 - 1,1 (3, 4) 749999999.9999981\n",
      "70 0,2 - 2,0 (3, 5) 950000000.0\n",
      "71 0,2 - 0,3 (3, 6) 3999999999.999998\n",
      "72 0,2 - 1,2 (3, 7) 5000000000.000002\n",
      "73 0,2 - 3,0 (3, 8) 5349999999.999994\n",
      "74 0,2 - 2,1 (3, 9) 5450000000.0\n",
      "75 0,2 - 0,4 (3, 10) 7750000000.0\n",
      "76 0,2 - 1,3 (3, 11) 8999999999.999998\n",
      "77 0,2 - 4,0 (3, 12) 9449999999.999994\n",
      "78 0,2 - 2,2 (3, 13) 9700000000.000002\n",
      "79 0,2 - 3,1 (3, 14) 9849999999.999994\n",
      "80 0,2 - 1,4 (3, 15) 12749999999.999998\n",
      "81 0,2 - 2,3 (3, 16) 13699999999.999998\n",
      "82 0,2 - 4,1 (3, 17) 13949999999.999994\n",
      "83 0,2 - 3,2 (3, 18) 14099999999.999994\n",
      "84 0,2 - 2,4 (3, 19) 17450000000.0\n",
      "85 0,2 - 3,3 (3, 20) 18099999999.999992\n",
      "86 0,2 - 4,2 (3, 21) 18200000000.0\n",
      "87 0,2 - 3,4 (3, 22) 21849999999.999992\n",
      "88 0,2 - 4,3 (3, 23) 22200000000.0\n",
      "89 0,2 - 4,4 (3, 24) 25950000000.0\n",
      "90 1,1 - 2,0 (4, 5) 200000000.0000019\n",
      "91 1,1 - 0,3 (4, 6) 3250000000.0\n",
      "92 1,1 - 1,2 (4, 7) 4250000000.000004\n",
      "93 1,1 - 3,0 (4, 8) 4599999999.999996\n",
      "94 1,1 - 2,1 (4, 9) 4700000000.000002\n",
      "95 1,1 - 0,4 (4, 10) 7000000000.000002\n",
      "96 1,1 - 1,3 (4, 11) 8250000000.0\n",
      "97 1,1 - 4,0 (4, 12) 8699999999.999996\n",
      "98 1,1 - 2,2 (4, 13) 8950000000.000004\n",
      "99 1,1 - 3,1 (4, 14) 9099999999.999996\n",
      "100 1,1 - 1,4 (4, 15) 12000000000.0\n",
      "101 1,1 - 2,3 (4, 16) 12950000000.0\n",
      "102 1,1 - 4,1 (4, 17) 13199999999.999996\n",
      "103 1,1 - 3,2 (4, 18) 13349999999.999996\n",
      "104 1,1 - 2,4 (4, 19) 16700000000.0\n",
      "105 1,1 - 3,3 (4, 20) 17349999999.999992\n",
      "106 1,1 - 4,2 (4, 21) 17450000000.000004\n",
      "107 1,1 - 3,4 (4, 22) 21099999999.999996\n",
      "108 1,1 - 4,3 (4, 23) 21450000000.0\n",
      "109 1,1 - 4,4 (4, 24) 25200000000.0\n",
      "110 2,0 - 0,3 (5, 6) 3049999999.999998\n",
      "111 2,0 - 1,2 (5, 7) 4050000000.000002\n",
      "112 2,0 - 3,0 (5, 8) 4399999999.999994\n",
      "113 2,0 - 2,1 (5, 9) 4500000000.0\n",
      "114 2,0 - 0,4 (5, 10) 6800000000.0\n",
      "115 2,0 - 1,3 (5, 11) 8049999999.999998\n",
      "116 2,0 - 4,0 (5, 12) 8499999999.999994\n",
      "117 2,0 - 2,2 (5, 13) 8750000000.000002\n",
      "118 2,0 - 3,1 (5, 14) 8899999999.999994\n",
      "119 2,0 - 1,4 (5, 15) 11799999999.999998\n",
      "120 2,0 - 2,3 (5, 16) 12749999999.999998\n",
      "121 2,0 - 4,1 (5, 17) 12999999999.999994\n",
      "122 2,0 - 3,2 (5, 18) 13149999999.999994\n",
      "123 2,0 - 2,4 (5, 19) 16499999999.999998\n",
      "124 2,0 - 3,3 (5, 20) 17149999999.99999\n",
      "125 2,0 - 4,2 (5, 21) 17250000000.0\n",
      "126 2,0 - 3,4 (5, 22) 20899999999.999992\n",
      "127 2,0 - 4,3 (5, 23) 21250000000.0\n",
      "128 2,0 - 4,4 (5, 24) 25000000000.0\n",
      "129 0,3 - 1,2 (6, 7) 1000000000.0000038\n",
      "130 0,3 - 3,0 (6, 8) 1349999999.9999962\n",
      "131 0,3 - 2,1 (6, 9) 1450000000.000002\n",
      "132 0,3 - 0,4 (6, 10) 3750000000.000002\n",
      "133 0,3 - 1,3 (6, 11) 5000000000.0\n",
      "134 0,3 - 4,0 (6, 12) 5449999999.999996\n",
      "135 0,3 - 2,2 (6, 13) 5700000000.000004\n",
      "136 0,3 - 3,1 (6, 14) 5849999999.999996\n",
      "137 0,3 - 1,4 (6, 15) 8750000000.0\n",
      "138 0,3 - 2,3 (6, 16) 9700000000.0\n",
      "139 0,3 - 4,1 (6, 17) 9949999999.999996\n",
      "140 0,3 - 3,2 (6, 18) 10099999999.999996\n",
      "141 0,3 - 2,4 (6, 19) 13450000000.0\n",
      "142 0,3 - 3,3 (6, 20) 14099999999.999992\n",
      "143 0,3 - 4,2 (6, 21) 14200000000.000004\n",
      "144 0,3 - 3,4 (6, 22) 17849999999.999996\n",
      "145 0,3 - 4,3 (6, 23) 18200000000.0\n",
      "146 0,3 - 4,4 (6, 24) 21950000000.0\n",
      "147 1,2 - 3,0 (7, 8) 349999999.9999924\n",
      "148 1,2 - 2,1 (7, 9) 449999999.9999981\n",
      "149 1,2 - 0,4 (7, 10) 2749999999.999998\n",
      "150 1,2 - 1,3 (7, 11) 3999999999.999996\n",
      "151 1,2 - 4,0 (7, 12) 4449999999.999992\n",
      "152 1,2 - 2,2 (7, 13) 4700000000.0\n",
      "153 1,2 - 3,1 (7, 14) 4849999999.999992\n",
      "154 1,2 - 1,4 (7, 15) 7749999999.999996\n",
      "155 1,2 - 2,3 (7, 16) 8699999999.999996\n",
      "156 1,2 - 4,1 (7, 17) 8949999999.999992\n",
      "157 1,2 - 3,2 (7, 18) 9099999999.999992\n",
      "158 1,2 - 2,4 (7, 19) 12449999999.999996\n",
      "159 1,2 - 3,3 (7, 20) 13099999999.999989\n",
      "160 1,2 - 4,2 (7, 21) 13200000000.0\n",
      "161 1,2 - 3,4 (7, 22) 16849999999.999992\n",
      "162 1,2 - 4,3 (7, 23) 17199999999.999996\n",
      "163 1,2 - 4,4 (7, 24) 20949999999.999996\n",
      "164 3,0 - 2,1 (8, 9) 100000000.00000572\n",
      "165 3,0 - 0,4 (8, 10) 2400000000.0000057\n",
      "166 3,0 - 1,3 (8, 11) 3650000000.000004\n",
      "167 3,0 - 4,0 (8, 12) 4100000000.0\n",
      "168 3,0 - 2,2 (8, 13) 4350000000.000008\n",
      "169 3,0 - 3,1 (8, 14) 4500000000.0\n",
      "170 3,0 - 1,4 (8, 15) 7400000000.000004\n",
      "171 3,0 - 2,3 (8, 16) 8350000000.000004\n",
      "172 3,0 - 4,1 (8, 17) 8600000000.0\n",
      "173 3,0 - 3,2 (8, 18) 8750000000.0\n",
      "174 3,0 - 2,4 (8, 19) 12100000000.000004\n",
      "175 3,0 - 3,3 (8, 20) 12749999999.999996\n",
      "176 3,0 - 4,2 (8, 21) 12850000000.000008\n",
      "177 3,0 - 3,4 (8, 22) 16500000000.0\n",
      "178 3,0 - 4,3 (8, 23) 16850000000.000004\n",
      "179 3,0 - 4,4 (8, 24) 20600000000.000004\n",
      "180 2,1 - 0,4 (9, 10) 2300000000.0\n",
      "181 2,1 - 1,3 (9, 11) 3549999999.999998\n",
      "182 2,1 - 4,0 (9, 12) 3999999999.9999943\n",
      "183 2,1 - 2,2 (9, 13) 4250000000.000002\n",
      "184 2,1 - 3,1 (9, 14) 4399999999.999994\n",
      "185 2,1 - 1,4 (9, 15) 7299999999.999998\n",
      "186 2,1 - 2,3 (9, 16) 8249999999.999998\n",
      "187 2,1 - 4,1 (9, 17) 8499999999.999994\n",
      "188 2,1 - 3,2 (9, 18) 8649999999.999994\n",
      "189 2,1 - 2,4 (9, 19) 11999999999.999998\n",
      "190 2,1 - 3,3 (9, 20) 12649999999.99999\n",
      "191 2,1 - 4,2 (9, 21) 12750000000.000002\n",
      "192 2,1 - 3,4 (9, 22) 16399999999.999994\n",
      "193 2,1 - 4,3 (9, 23) 16749999999.999998\n",
      "194 2,1 - 4,4 (9, 24) 20500000000.0\n",
      "195 0,4 - 1,3 (10, 11) 1249999999.999998\n",
      "196 0,4 - 4,0 (10, 12) 1699999999.9999943\n",
      "197 0,4 - 2,2 (10, 13) 1950000000.000002\n",
      "198 0,4 - 3,1 (10, 14) 2099999999.9999943\n",
      "199 0,4 - 1,4 (10, 15) 4999999999.999998\n",
      "200 0,4 - 2,3 (10, 16) 5949999999.999998\n",
      "201 0,4 - 4,1 (10, 17) 6199999999.999994\n",
      "202 0,4 - 3,2 (10, 18) 6349999999.999994\n",
      "203 0,4 - 2,4 (10, 19) 9699999999.999998\n",
      "204 0,4 - 3,3 (10, 20) 10349999999.99999\n",
      "205 0,4 - 4,2 (10, 21) 10450000000.000002\n",
      "206 0,4 - 3,4 (10, 22) 14099999999.999994\n",
      "207 0,4 - 4,3 (10, 23) 14449999999.999998\n",
      "208 0,4 - 4,4 (10, 24) 18200000000.0\n",
      "209 1,3 - 4,0 (11, 12) 449999999.9999962\n",
      "210 1,3 - 2,2 (11, 13) 700000000.0000038\n",
      "211 1,3 - 3,1 (11, 14) 849999999.9999962\n",
      "212 1,3 - 1,4 (11, 15) 3750000000.0\n",
      "213 1,3 - 2,3 (11, 16) 4700000000.0\n",
      "214 1,3 - 4,1 (11, 17) 4949999999.999996\n",
      "215 1,3 - 3,2 (11, 18) 5099999999.999996\n",
      "216 1,3 - 2,4 (11, 19) 8450000000.0\n",
      "217 1,3 - 3,3 (11, 20) 9099999999.999992\n",
      "218 1,3 - 4,2 (11, 21) 9200000000.000004\n",
      "219 1,3 - 3,4 (11, 22) 12849999999.999996\n",
      "220 1,3 - 4,3 (11, 23) 13200000000.0\n",
      "221 1,3 - 4,4 (11, 24) 16950000000.0\n",
      "222 4,0 - 2,2 (12, 13) 250000000.00000763\n",
      "223 4,0 - 3,1 (12, 14) 400000000.0\n",
      "224 4,0 - 1,4 (12, 15) 3300000000.000004\n",
      "225 4,0 - 2,3 (12, 16) 4250000000.000004\n",
      "226 4,0 - 4,1 (12, 17) 4500000000.0\n",
      "227 4,0 - 3,2 (12, 18) 4650000000.0\n",
      "228 4,0 - 2,4 (12, 19) 8000000000.000004\n",
      "229 4,0 - 3,3 (12, 20) 8649999999.999996\n",
      "230 4,0 - 4,2 (12, 21) 8750000000.000008\n",
      "231 4,0 - 3,4 (12, 22) 12400000000.0\n",
      "232 4,0 - 4,3 (12, 23) 12750000000.000004\n",
      "233 4,0 - 4,4 (12, 24) 16500000000.000004\n",
      "234 2,2 - 3,1 (13, 14) 149999999.99999237\n",
      "235 2,2 - 1,4 (13, 15) 3049999999.999996\n",
      "236 2,2 - 2,3 (13, 16) 3999999999.999996\n",
      "237 2,2 - 4,1 (13, 17) 4249999999.9999924\n",
      "238 2,2 - 3,2 (13, 18) 4399999999.999992\n",
      "239 2,2 - 2,4 (13, 19) 7749999999.999996\n",
      "240 2,2 - 3,3 (13, 20) 8399999999.999989\n",
      "241 2,2 - 4,2 (13, 21) 8500000000.0\n",
      "242 2,2 - 3,4 (13, 22) 12149999999.999992\n",
      "243 2,2 - 4,3 (13, 23) 12499999999.999996\n",
      "244 2,2 - 4,4 (13, 24) 16249999999.999996\n",
      "245 3,1 - 1,4 (14, 15) 2900000000.000004\n",
      "246 3,1 - 2,3 (14, 16) 3850000000.000004\n",
      "247 3,1 - 4,1 (14, 17) 4100000000.0\n",
      "248 3,1 - 3,2 (14, 18) 4250000000.0\n",
      "249 3,1 - 2,4 (14, 19) 7600000000.000004\n",
      "250 3,1 - 3,3 (14, 20) 8249999999.999996\n",
      "251 3,1 - 4,2 (14, 21) 8350000000.000008\n",
      "252 3,1 - 3,4 (14, 22) 12000000000.0\n",
      "253 3,1 - 4,3 (14, 23) 12350000000.000004\n",
      "254 3,1 - 4,4 (14, 24) 16100000000.000004\n",
      "255 1,4 - 2,3 (15, 16) 950000000.0\n",
      "256 1,4 - 4,1 (15, 17) 1199999999.9999962\n",
      "257 1,4 - 3,2 (15, 18) 1349999999.9999962\n",
      "258 1,4 - 2,4 (15, 19) 4700000000.0\n",
      "259 1,4 - 3,3 (15, 20) 5349999999.999992\n",
      "260 1,4 - 4,2 (15, 21) 5450000000.000004\n",
      "261 1,4 - 3,4 (15, 22) 9099999999.999996\n",
      "262 1,4 - 4,3 (15, 23) 9450000000.0\n",
      "263 1,4 - 4,4 (15, 24) 13200000000.0\n",
      "264 2,3 - 4,1 (16, 17) 249999999.9999962\n",
      "265 2,3 - 3,2 (16, 18) 399999999.9999962\n",
      "266 2,3 - 2,4 (16, 19) 3750000000.0\n",
      "267 2,3 - 3,3 (16, 20) 4399999999.999992\n",
      "268 2,3 - 4,2 (16, 21) 4500000000.000004\n",
      "269 2,3 - 3,4 (16, 22) 8149999999.999996\n",
      "270 2,3 - 4,3 (16, 23) 8500000000.0\n",
      "271 2,3 - 4,4 (16, 24) 12250000000.0\n",
      "272 4,1 - 3,2 (17, 18) 150000000.0\n",
      "273 4,1 - 2,4 (17, 19) 3500000000.000004\n",
      "274 4,1 - 3,3 (17, 20) 4149999999.999996\n",
      "275 4,1 - 4,2 (17, 21) 4250000000.0000076\n",
      "276 4,1 - 3,4 (17, 22) 7900000000.0\n",
      "277 4,1 - 4,3 (17, 23) 8250000000.000004\n",
      "278 4,1 - 4,4 (17, 24) 12000000000.000004\n",
      "279 3,2 - 2,4 (18, 19) 3350000000.000004\n",
      "280 3,2 - 3,3 (18, 20) 3999999999.999996\n",
      "281 3,2 - 4,2 (18, 21) 4100000000.0000076\n",
      "282 3,2 - 3,4 (18, 22) 7750000000.0\n",
      "283 3,2 - 4,3 (18, 23) 8100000000.000004\n",
      "284 3,2 - 4,4 (18, 24) 11850000000.000004\n",
      "285 2,4 - 3,3 (19, 20) 649999999.9999924\n",
      "286 2,4 - 4,2 (19, 21) 750000000.0000038\n",
      "287 2,4 - 3,4 (19, 22) 4399999999.999996\n",
      "288 2,4 - 4,3 (19, 23) 4750000000.0\n",
      "289 2,4 - 4,4 (19, 24) 8500000000.0\n",
      "290 3,3 - 4,2 (20, 21) 100000000.00001144\n",
      "291 3,3 - 3,4 (20, 22) 3750000000.000004\n",
      "292 3,3 - 4,3 (20, 23) 4100000000.0000076\n",
      "293 3,3 - 4,4 (20, 24) 7850000000.000008\n",
      "294 4,2 - 3,4 (21, 22) 3649999999.9999924\n",
      "295 4,2 - 4,3 (21, 23) 3999999999.999996\n",
      "296 4,2 - 4,4 (21, 24) 7749999999.999996\n",
      "297 3,4 - 4,3 (22, 23) 350000000.0000038\n",
      "298 3,4 - 4,4 (22, 24) 4100000000.000004\n",
      "299 4,3 - 4,4 (23, 24) 3750000000.0\n"
     ]
    }
   ],
   "source": [
    "# list all transitions\n",
    "sortedEnergiesLabels = sorted(zip(stateEnergies, stateLabels), key=lambda x: x[0])\n",
    "transitionEnergies = []\n",
    "transitionLabels = []\n",
    "transitionStateIndices = []\n",
    "for i in range(len(sortedEnergiesLabels)):\n",
    "    for j in range(len(sortedEnergiesLabels)):\n",
    "        if i != j:\n",
    "            E = sortedEnergiesLabels[j][0] - sortedEnergiesLabels[i][0]\n",
    "            if E > 0:\n",
    "                transitionEnergies.append(E)\n",
    "                transitionLabels.append(sortedEnergiesLabels[i][1] + \" - \" + sortedEnergiesLabels[j][1])\n",
    "                transitionStateIndices.append((i, j))\n",
    "\n",
    "for i in range(len(transitionEnergies)):\n",
    "    print(i, transitionLabels[i], transitionStateIndices[i], transitionEnergies[i])"
   ],
   "metadata": {
    "collapsed": false,
    "pycharm": {
     "name": "#%%\n"
    }
   }
  },
  {
   "cell_type": "code",
   "execution_count": 8,
   "outputs": [],
   "source": [
    "def getEnergies(couplingStrength: float) -> np.array:\n",
    "    # Initialise the qubits and drive lines\n",
    "    qubits = createQubits(qubit_levels, qubit_frequencies, anharmonicities, t1s,\n",
    "                          t2stars, qubit_temps)\n",
    "    coupling = createChainCouplings([couplingStrength], qubits)\n",
    "\n",
    "    # Create the model\n",
    "    model = Mdl(qubits, coupling)\n",
    "    model.set_lindbladian(False)\n",
    "    model.set_dressed(False)\n",
    "    model.set_FR(False)\n",
    "\n",
    "    # all energy levels with labels\n",
    "    H = model.get_Hamiltonian().numpy()\n",
    "    evals,evecs = scipy.linalg.eig(H)\n",
    "    return evals.real / (2 * np.pi)"
   ],
   "metadata": {
    "collapsed": false,
    "pycharm": {
     "name": "#%%\n"
    }
   }
  },
  {
   "cell_type": "code",
   "execution_count": 9,
   "outputs": [
    {
     "name": "stdout",
     "output_type": "stream",
     "text": [
      "0.0\n",
      "1010101.0101010101\n",
      "2020202.0202020202\n",
      "3030303.0303030303\n",
      "4040404.0404040404\n",
      "5050505.05050505\n",
      "6060606.060606061\n",
      "7070707.070707071\n",
      "8080808.080808081\n",
      "9090909.09090909\n",
      "10101010.1010101\n",
      "11111111.111111112\n",
      "12121212.121212121\n",
      "13131313.13131313\n",
      "14141414.141414141\n",
      "15151515.151515152\n",
      "16161616.161616161\n",
      "17171717.17171717\n",
      "18181818.18181818\n",
      "19191919.191919193\n",
      "20202020.2020202\n",
      "21212121.21212121\n",
      "22222222.222222224\n",
      "23232323.232323233\n",
      "24242424.242424242\n",
      "25252525.25252525\n",
      "26262626.26262626\n",
      "27272727.272727273\n",
      "28282828.282828283\n",
      "29292929.29292929\n",
      "30303030.303030305\n",
      "31313131.313131314\n",
      "32323232.323232323\n",
      "33333333.333333332\n",
      "34343434.34343434\n",
      "35353535.353535354\n",
      "36363636.36363636\n",
      "37373737.37373737\n",
      "38383838.383838385\n",
      "39393939.39393939\n",
      "40404040.4040404\n",
      "41414141.41414142\n",
      "42424242.42424242\n",
      "43434343.434343435\n",
      "44444444.44444445\n",
      "45454545.45454545\n",
      "46464646.464646466\n",
      "47474747.47474747\n",
      "48484848.484848484\n",
      "49494949.4949495\n",
      "50505050.5050505\n",
      "51515151.515151516\n",
      "52525252.52525252\n",
      "53535353.535353534\n",
      "54545454.54545455\n",
      "55555555.55555555\n",
      "56565656.565656565\n",
      "57575757.57575758\n",
      "58585858.58585858\n",
      "59595959.5959596\n",
      "60606060.60606061\n",
      "61616161.616161615\n",
      "62626262.62626263\n",
      "63636363.63636363\n",
      "64646464.646464646\n"
     ]
    },
    {
     "name": "stderr",
     "output_type": "stream",
     "text": [
      "/home/user/c3/c3/model.py:433: UserWarning: C3 Warning: Some states are overly dressed, trying to recover...1 states, 20 is lowest failed state\n",
      "  warnings.warn(\n"
     ]
    },
    {
     "name": "stdout",
     "output_type": "stream",
     "text": [
      "65656565.65656566\n",
      "66666666.666666664\n",
      "67676767.67676768\n",
      "68686868.68686868\n",
      "69696969.6969697\n",
      "70707070.70707071\n",
      "71717171.71717171\n",
      "72727272.72727272\n",
      "73737373.73737374\n",
      "74747474.74747474\n",
      "75757575.75757575\n",
      "76767676.76767677\n",
      "77777777.77777778\n",
      "78787878.78787878\n",
      "79797979.7979798\n",
      "80808080.8080808\n",
      "81818181.81818181\n",
      "82828282.82828283\n",
      "83838383.83838384\n",
      "84848484.84848484\n",
      "85858585.85858586\n",
      "86868686.86868687\n",
      "87878787.87878788\n",
      "88888888.8888889\n",
      "89898989.8989899\n",
      "90909090.9090909\n",
      "91919191.91919191\n",
      "92929292.92929293\n"
     ]
    },
    {
     "name": "stderr",
     "output_type": "stream",
     "text": [
      "/home/user/c3/c3/model.py:433: UserWarning: C3 Warning: Some states are overly dressed, trying to recover...2 states, 20 is lowest failed state\n",
      "  warnings.warn(\n",
      "/home/user/c3/c3/model.py:433: UserWarning: C3 Warning: Some states are overly dressed, trying to recover...3 states, 16 is lowest failed state\n",
      "  warnings.warn(\n"
     ]
    },
    {
     "name": "stdout",
     "output_type": "stream",
     "text": [
      "93939393.93939394\n",
      "94949494.94949494\n",
      "95959595.95959596\n",
      "96969696.96969697\n",
      "97979797.97979797\n",
      "98989898.989899\n",
      "100000000.0\n"
     ]
    }
   ],
   "source": [
    "couplings = np.linspace(0, 100e6, 100)\n",
    "#allEnergies = getEnergies(couplings[0])\n",
    "#allEnergies = np.reshape(allEnergies, (25,1))\n",
    "allEnergies = np.empty(shape=(25,0))\n",
    "for coupling in couplings:\n",
    "    print(coupling)\n",
    "    energies = getEnergies(coupling)\n",
    "    energies = np.sort(energies)\n",
    "    allEnergies = np.append(allEnergies, np.reshape(energies, (25,1)), axis=1)"
   ],
   "metadata": {
    "collapsed": false,
    "pycharm": {
     "name": "#%%\n"
    }
   }
  },
  {
   "cell_type": "code",
   "execution_count": 10,
   "outputs": [
    {
     "data": {
      "text/plain": "<Figure size 432x288 with 1 Axes>",
      "image/png": "[encoded data removed]"
     },
     "metadata": {
      "needs_background": "light"
     },
     "output_type": "display_data"
    }
   ],
   "source": [
    "plt.figure()\n",
    "y = allEnergies.T\n",
    "#plt.plot(couplings, y, '.', color='black', markersize=1)\n",
    "plt.plot(couplings, y)\n",
    "plt.legend(\n",
    "    stateLabels,\n",
    "    ncol=int(np.ceil(16 / 15)),\n",
    "    bbox_to_anchor=(1.05, 1.0),\n",
    "    loc=\"upper left\",\n",
    ")\n",
    "plt.tight_layout()\n",
    "#plt.savefig('energies-couplings.svg')\n",
    "plt.show()"
   ],
   "metadata": {
    "collapsed": false,
    "pycharm": {
     "name": "#%%\n"
    }
   }
  },
  {
   "cell_type": "code",
   "execution_count": 22,
   "outputs": [
    {
     "name": "stdout",
     "output_type": "stream",
     "text": [
      "500000000.0000019 510099273.467083\n"
     ]
    },
    {
     "data": {
      "text/plain": "<Figure size 432x288 with 1 Axes>",
      "image/png": "[encoded data removed]"
     },
     "metadata": {
      "needs_background": "light"
     },
     "output_type": "display_data"
    }
   ],
   "source": [
    "selectedTransitions = [24] #[1, 26, 49, 94, 112, 184] #[67, 101]#1, 17, 31, 58\n",
    "\n",
    "plt.figure()\n",
    "for t in selectedTransitions:\n",
    "    index = transitionStateIndices[t]\n",
    "    data1 = allEnergies[index[0]]\n",
    "    data2 = allEnergies[index[1]]\n",
    "    diff = data2 - data1\n",
    "    plt.plot(couplings, diff, label=transitionLabels[t])\n",
    "    print(diff[0], diff[int(len(diff)/2)])\n",
    "plt.legend(bbox_to_anchor=(1.05, 1.0), loc=\"upper left\")\n",
    "plt.show()"
   ],
   "metadata": {
    "collapsed": false,
    "pycharm": {
     "name": "#%%\n"
    }
   }
  },
  {
   "cell_type": "code",
   "execution_count": null,
   "outputs": [],
   "source": [],
   "metadata": {
    "collapsed": false,
    "pycharm": {
     "name": "#%%\n"
    }
   }
  }
 ],
 "metadata": {
  "kernelspec": {
   "display_name": "Python 3",
   "language": "python",
   "name": "python3"
  },
  "language_info": {
   "codemirror_mode": {
    "name": "ipython",
    "version": 2
   },
   "file_extension": ".py",
   "mimetype": "text/x-python",
   "name": "python",
   "nbconvert_exporter": "python",
   "pygments_lexer": "ipython2",
   "version": "2.7.6"
  }
 },
 "nbformat": 4,
 "nbformat_minor": 0
}