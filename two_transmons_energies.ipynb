{
 "cells": [
  {
   "cell_type": "code",
   "execution_count": 1,
   "outputs": [
    {
     "name": "stderr",
     "output_type": "stream",
     "text": [
      "2022-05-24 15:46:54.391872: W tensorflow/stream_executor/platform/default/dso_loader.cc:64] Could not load dynamic library 'libcudart.so.11.0'; dlerror: libcudart.so.11.0: cannot open shared object file: No such file or directory\n",
      "2022-05-24 15:46:54.391907: I tensorflow/stream_executor/cuda/cudart_stub.cc:29] Ignore above cudart dlerror if you do not have a GPU set up on your machine.\n"
     ]
    }
   ],
   "source": [
    "import argparse\n",
    "import copy\n",
    "import os\n",
    "import sys\n",
    "\n",
    "# Libs and helpers\n",
    "from collections import OrderedDict\n",
    "\n",
    "import numpy as np\n",
    "import scipy.linalg\n",
    "import tensorflow as tf\n",
    "\n",
    "import c3.libraries.algorithms as algorithms\n",
    "import c3.libraries.fidelities as fidelities\n",
    "import c3.utils.qt_utils as qt_utils\n",
    "from c3.utils.tf_utils import tf_project_to_comp, tf_abs, tf_unitary_overlap\n",
    "import four_level_transmons.custom_gates as custom_gates\n",
    "from c3.experiment import Experiment as Exp\n",
    "# Main C3 objects\n",
    "from c3.libraries import constants\n",
    "from c3.model import Model as Mdl\n",
    "from c3.optimizers.optimalcontrol import OptimalControl\n",
    "from c3.parametermap import ParameterMap as PMap\n",
    "from four_level_transmons.DataOutput import DataOutput\n",
    "from four_level_transmons.custom_envelopes import *\n",
    "from four_level_transmons.plotting import *\n",
    "from four_level_transmons.utilities import *\n",
    "\n",
    "tf.config.run_functions_eagerly(True)"
   ],
   "metadata": {
    "collapsed": false,
    "pycharm": {
     "name": "#%%\n"
    }
   }
  },
  {
   "cell_type": "code",
   "execution_count": 2,
   "outputs": [],
   "source": [
    "# main parameters\n",
    "qubit_levels = [4, 4]\n",
    "qubit_frequencies = [5e9, 4.5e9]\n",
    "anharmonicities = [-300e6, -200e6]\n",
    "t1s = [25e-6, 25e-6]\n",
    "t2stars = [35e-6, 35e-6]\n",
    "qubit_temps = [50e-3, 50e-3]"
   ],
   "metadata": {
    "collapsed": false,
    "pycharm": {
     "name": "#%%\n"
    }
   }
  },
  {
   "cell_type": "code",
   "execution_count": 3,
   "outputs": [],
   "source": [
    "# labels for all states\n",
    "level_labels = []\n",
    "for i in range(qubit_levels[0]):\n",
    "    for j in range(qubit_levels[1]):\n",
    "        if i > 3 or j > 3:\n",
    "            level_labels.append(None)\n",
    "        else:\n",
    "            level_labels.append(f\"{i},{j}\")"
   ],
   "metadata": {
    "collapsed": false,
    "pycharm": {
     "name": "#%%\n"
    }
   }
  },
  {
   "cell_type": "code",
   "execution_count": 4,
   "outputs": [
    {
     "name": "stdout",
     "output_type": "stream",
     "text": [
      "0 0,0 0.0\n",
      "1 0,1 4500000000.0\n",
      "2 0,2 8800000000.000002\n",
      "3 0,3 12899999999.999998\n",
      "4 1,0 5000000000.0\n",
      "5 1,1 9500000000.0\n",
      "6 1,2 13800000000.000004\n",
      "7 1,3 17900000000.0\n",
      "8 2,0 9700000000.000002\n",
      "9 2,1 14200000000.000002\n",
      "10 2,2 18500000000.000004\n",
      "11 2,3 22600000000.000004\n",
      "12 3,0 14099999999.999996\n",
      "13 3,1 18599999999.999996\n",
      "14 3,2 22900000000.0\n",
      "15 3,3 26999999999.999996\n"
     ]
    },
    {
     "name": "stderr",
     "output_type": "stream",
     "text": [
      "2022-05-24 15:46:58.401003: W tensorflow/stream_executor/platform/default/dso_loader.cc:64] Could not load dynamic library 'libcuda.so.1'; dlerror: libcuda.so.1: cannot open shared object file: No such file or directory\n",
      "2022-05-24 15:46:58.401063: W tensorflow/stream_executor/cuda/cuda_driver.cc:269] failed call to cuInit: UNKNOWN ERROR (303)\n",
      "2022-05-24 15:46:58.401098: I tensorflow/stream_executor/cuda/cuda_diagnostics.cc:156] kernel driver does not appear to be running on this host (localhost.localdomain): /proc/driver/nvidia/version does not exist\n"
     ]
    }
   ],
   "source": [
    "# find energy eigenvalues and eigenvectors\n",
    "qubits = createQubits(qubit_levels, qubit_frequencies, anharmonicities, t1s,\n",
    "                      t2stars, qubit_temps)\n",
    "model = Mdl(qubits, [])\n",
    "model.set_lindbladian(False)\n",
    "model.set_dressed(False)\n",
    "model.set_FR(False)\n",
    "H = model.get_Hamiltonian().numpy()\n",
    "evals,evecs = scipy.linalg.eig(H)\n",
    "evals = evals.real / (2 * np.pi)\n",
    "\n",
    "# find labels corresponding to states\n",
    "stateEnergies = []\n",
    "stateLabels = []\n",
    "for i, x in enumerate(level_labels):\n",
    "    #if level_labels[i] is not None:\n",
    "    energy = evals[i]\n",
    "    stateEnergies.append(energy)\n",
    "    stateLabels.append(x)\n",
    "    print(i, stateLabels[i], stateEnergies[i])"
   ],
   "metadata": {
    "collapsed": false,
    "pycharm": {
     "name": "#%%\n"
    }
   }
  },
  {
   "cell_type": "code",
   "execution_count": 5,
   "outputs": [
    {
     "name": "stdout",
     "output_type": "stream",
     "text": [
      "0 0,0 - 0,1 (0, 1) 4500000000.0\n",
      "1 0,0 - 1,0 (0, 2) 5000000000.0\n",
      "2 0,0 - 0,2 (0, 3) 8800000000.000002\n",
      "3 0,0 - 1,1 (0, 4) 9500000000.0\n",
      "4 0,0 - 2,0 (0, 5) 9700000000.000002\n",
      "5 0,0 - 0,3 (0, 6) 12899999999.999998\n",
      "6 0,0 - 1,2 (0, 7) 13800000000.000004\n",
      "7 0,0 - 3,0 (0, 8) 14099999999.999996\n",
      "8 0,0 - 2,1 (0, 9) 14200000000.000002\n",
      "9 0,0 - 1,3 (0, 10) 17900000000.0\n",
      "10 0,0 - 2,2 (0, 11) 18500000000.000004\n",
      "11 0,0 - 3,1 (0, 12) 18599999999.999996\n",
      "12 0,0 - 2,3 (0, 13) 22600000000.000004\n",
      "13 0,0 - 3,2 (0, 14) 22900000000.0\n",
      "14 0,0 - 3,3 (0, 15) 26999999999.999996\n",
      "15 0,1 - 1,0 (1, 2) 500000000.0\n",
      "16 0,1 - 0,2 (1, 3) 4300000000.000002\n",
      "17 0,1 - 1,1 (1, 4) 5000000000.0\n",
      "18 0,1 - 2,0 (1, 5) 5200000000.000002\n",
      "19 0,1 - 0,3 (1, 6) 8399999999.999998\n",
      "20 0,1 - 1,2 (1, 7) 9300000000.000004\n",
      "21 0,1 - 3,0 (1, 8) 9599999999.999996\n",
      "22 0,1 - 2,1 (1, 9) 9700000000.000002\n",
      "23 0,1 - 1,3 (1, 10) 13400000000.0\n",
      "24 0,1 - 2,2 (1, 11) 14000000000.000004\n",
      "25 0,1 - 3,1 (1, 12) 14099999999.999996\n",
      "26 0,1 - 2,3 (1, 13) 18100000000.000004\n",
      "27 0,1 - 3,2 (1, 14) 18400000000.0\n",
      "28 0,1 - 3,3 (1, 15) 22499999999.999996\n",
      "29 1,0 - 0,2 (2, 3) 3800000000.000002\n",
      "30 1,0 - 1,1 (2, 4) 4500000000.0\n",
      "31 1,0 - 2,0 (2, 5) 4700000000.000002\n",
      "32 1,0 - 0,3 (2, 6) 7899999999.999998\n",
      "33 1,0 - 1,2 (2, 7) 8800000000.000004\n",
      "34 1,0 - 3,0 (2, 8) 9099999999.999996\n",
      "35 1,0 - 2,1 (2, 9) 9200000000.000002\n",
      "36 1,0 - 1,3 (2, 10) 12900000000.0\n",
      "37 1,0 - 2,2 (2, 11) 13500000000.000004\n",
      "38 1,0 - 3,1 (2, 12) 13599999999.999996\n",
      "39 1,0 - 2,3 (2, 13) 17600000000.000004\n",
      "40 1,0 - 3,2 (2, 14) 17900000000.0\n",
      "41 1,0 - 3,3 (2, 15) 21999999999.999996\n",
      "42 0,2 - 1,1 (3, 4) 699999999.9999981\n",
      "43 0,2 - 2,0 (3, 5) 900000000.0\n",
      "44 0,2 - 0,3 (3, 6) 4099999999.999996\n",
      "45 0,2 - 1,2 (3, 7) 5000000000.000002\n",
      "46 0,2 - 3,0 (3, 8) 5299999999.999994\n",
      "47 0,2 - 2,1 (3, 9) 5400000000.0\n",
      "48 0,2 - 1,3 (3, 10) 9099999999.999998\n",
      "49 0,2 - 2,2 (3, 11) 9700000000.000002\n",
      "50 0,2 - 3,1 (3, 12) 9799999999.999994\n",
      "51 0,2 - 2,3 (3, 13) 13800000000.000002\n",
      "52 0,2 - 3,2 (3, 14) 14099999999.999998\n",
      "53 0,2 - 3,3 (3, 15) 18199999999.999992\n",
      "54 1,1 - 2,0 (4, 5) 200000000.0000019\n",
      "55 1,1 - 0,3 (4, 6) 3399999999.999998\n",
      "56 1,1 - 1,2 (4, 7) 4300000000.000004\n",
      "57 1,1 - 3,0 (4, 8) 4599999999.999996\n",
      "58 1,1 - 2,1 (4, 9) 4700000000.000002\n",
      "59 1,1 - 1,3 (4, 10) 8400000000.0\n",
      "60 1,1 - 2,2 (4, 11) 9000000000.000004\n",
      "61 1,1 - 3,1 (4, 12) 9099999999.999996\n",
      "62 1,1 - 2,3 (4, 13) 13100000000.000004\n",
      "63 1,1 - 3,2 (4, 14) 13400000000.0\n",
      "64 1,1 - 3,3 (4, 15) 17499999999.999996\n",
      "65 2,0 - 0,3 (5, 6) 3199999999.999996\n",
      "66 2,0 - 1,2 (5, 7) 4100000000.000002\n",
      "67 2,0 - 3,0 (5, 8) 4399999999.999994\n",
      "68 2,0 - 2,1 (5, 9) 4500000000.0\n",
      "69 2,0 - 1,3 (5, 10) 8199999999.999998\n",
      "70 2,0 - 2,2 (5, 11) 8800000000.000002\n",
      "71 2,0 - 3,1 (5, 12) 8899999999.999994\n",
      "72 2,0 - 2,3 (5, 13) 12900000000.000002\n",
      "73 2,0 - 3,2 (5, 14) 13199999999.999998\n",
      "74 2,0 - 3,3 (5, 15) 17299999999.999992\n",
      "75 0,3 - 1,2 (6, 7) 900000000.0000057\n",
      "76 0,3 - 3,0 (6, 8) 1199999999.999998\n",
      "77 0,3 - 2,1 (6, 9) 1300000000.0000038\n",
      "78 0,3 - 1,3 (6, 10) 5000000000.000002\n",
      "79 0,3 - 2,2 (6, 11) 5600000000.000006\n",
      "80 0,3 - 3,1 (6, 12) 5699999999.999998\n",
      "81 0,3 - 2,3 (6, 13) 9700000000.000006\n",
      "82 0,3 - 3,2 (6, 14) 10000000000.000002\n",
      "83 0,3 - 3,3 (6, 15) 14099999999.999998\n",
      "84 1,2 - 3,0 (7, 8) 299999999.9999924\n",
      "85 1,2 - 2,1 (7, 9) 399999999.9999981\n",
      "86 1,2 - 1,3 (7, 10) 4099999999.999996\n",
      "87 1,2 - 2,2 (7, 11) 4700000000.0\n",
      "88 1,2 - 3,1 (7, 12) 4799999999.999992\n",
      "89 1,2 - 2,3 (7, 13) 8800000000.0\n",
      "90 1,2 - 3,2 (7, 14) 9099999999.999996\n",
      "91 1,2 - 3,3 (7, 15) 13199999999.999992\n",
      "92 3,0 - 2,1 (8, 9) 100000000.00000572\n",
      "93 3,0 - 1,3 (8, 10) 3800000000.000004\n",
      "94 3,0 - 2,2 (8, 11) 4400000000.000008\n",
      "95 3,0 - 3,1 (8, 12) 4500000000.0\n",
      "96 3,0 - 2,3 (8, 13) 8500000000.000008\n",
      "97 3,0 - 3,2 (8, 14) 8800000000.000004\n",
      "98 3,0 - 3,3 (8, 15) 12900000000.0\n",
      "99 2,1 - 1,3 (9, 10) 3699999999.999998\n",
      "100 2,1 - 2,2 (9, 11) 4300000000.000002\n",
      "101 2,1 - 3,1 (9, 12) 4399999999.999994\n",
      "102 2,1 - 2,3 (9, 13) 8400000000.000002\n",
      "103 2,1 - 3,2 (9, 14) 8699999999.999998\n",
      "104 2,1 - 3,3 (9, 15) 12799999999.999994\n",
      "105 1,3 - 2,2 (10, 11) 600000000.0000038\n",
      "106 1,3 - 3,1 (10, 12) 699999999.9999962\n",
      "107 1,3 - 2,3 (10, 13) 4700000000.000004\n",
      "108 1,3 - 3,2 (10, 14) 5000000000.0\n",
      "109 1,3 - 3,3 (10, 15) 9099999999.999996\n",
      "110 2,2 - 3,1 (11, 12) 99999999.99999237\n",
      "111 2,2 - 2,3 (11, 13) 4100000000.0\n",
      "112 2,2 - 3,2 (11, 14) 4399999999.999996\n",
      "113 2,2 - 3,3 (11, 15) 8499999999.999992\n",
      "114 3,1 - 2,3 (12, 13) 4000000000.0000076\n",
      "115 3,1 - 3,2 (12, 14) 4300000000.000004\n",
      "116 3,1 - 3,3 (12, 15) 8400000000.0\n",
      "117 2,3 - 3,2 (13, 14) 299999999.9999962\n",
      "118 2,3 - 3,3 (13, 15) 4399999999.999992\n",
      "119 3,2 - 3,3 (14, 15) 4099999999.999996\n"
     ]
    }
   ],
   "source": [
    "# list all transitions\n",
    "indices = np.argsort(stateEnergies)\n",
    "sortedEnergies = np.array(stateEnergies)[indices]\n",
    "sortedLabels = np.array(stateLabels)[indices]\n",
    "#sortedEnergiesLabels = sorted(zip(stateEnergies, stateLabels), key=lambda x: x[0])\n",
    "transitionEnergies = []\n",
    "transitionLabels = []\n",
    "transitionStateIndices = []\n",
    "for i in range(len(sortedEnergies)):\n",
    "    for j in range(i + 1, len(sortedEnergies)):\n",
    "        E = sortedEnergies[j] - sortedEnergies[i]\n",
    "        if E > 0:\n",
    "            transitionEnergies.append(E)\n",
    "            transitionLabels.append(sortedLabels[i] + \" - \" + sortedLabels[j])\n",
    "            transitionStateIndices.append((i, j))\n",
    "\n",
    "for i in range(len(transitionEnergies)):\n",
    "    print(i, transitionLabels[i], transitionStateIndices[i], transitionEnergies[i])"
   ],
   "metadata": {
    "collapsed": false,
    "pycharm": {
     "name": "#%%\n"
    }
   }
  },
  {
   "cell_type": "code",
   "execution_count": 126,
   "outputs": [],
   "source": [
    "# calculate eigenvalues for a range of coupling strengths\n",
    "def getEnergies(couplingStrength: float) -> np.array:\n",
    "    # Initialise the qubits and drive lines\n",
    "    qubits = createQubits(qubit_levels, qubit_frequencies, anharmonicities, t1s,\n",
    "                          t2stars, qubit_temps)\n",
    "    coupling = createChainCouplings([couplingStrength], qubits)\n",
    "\n",
    "    # Create the model\n",
    "    model = Mdl(qubits, coupling)\n",
    "    model.set_lindbladian(False)\n",
    "    model.set_dressed(False)\n",
    "    model.set_FR(False)\n",
    "\n",
    "    # all energy levels with labels\n",
    "    H = model.get_Hamiltonian().numpy()\n",
    "    evals,evecs = scipy.linalg.eig(H)\n",
    "    return evals.real / (2 * np.pi)\n",
    "\n",
    "couplings = np.linspace(0, 50e6, 100)\n",
    "allEnergies = np.empty(shape=(16,0))\n",
    "for coupling in couplings:\n",
    "    #print(coupling)\n",
    "    energies = getEnergies(coupling)\n",
    "    energies = np.sort(energies)\n",
    "    allEnergies = np.append(allEnergies, np.reshape(energies, (16,1)), axis=1)"
   ],
   "metadata": {
    "collapsed": false,
    "pycharm": {
     "name": "#%%\n"
    }
   }
  },
  {
   "cell_type": "code",
   "execution_count": 156,
   "outputs": [
    {
     "name": "stdout",
     "output_type": "stream",
     "text": [
      "0 0 0\n",
      "0 0.0 0.0 -263157.8947368421\n",
      "1 0 1\n",
      "1 4500000000.0 0.0 -5537634.408602151\n",
      "2 0 2\n",
      "2 9000000000.0 -200000000.0 -7967032.967032967\n",
      "3 0 3\n",
      "3 13500000000.0 -600000000.0 -9456928.838951312\n",
      "4 1 0\n",
      "4 5000000000.0 0.0 4714253.6978933215\n",
      "5 1 1\n",
      "5 9500000000.0 -0.0 -18705096.07351713\n",
      "6 1 2\n",
      "6 14000000000.0 -200000000.0 -18102394.916911047\n",
      "7 1 3\n",
      "7 18500000000.0 -600000000.0 -17959947.029714473\n",
      "8 2 0\n",
      "8 10000000000.0 -300000000.0 25221133.15802056\n",
      "9 2 1\n",
      "9 14500000000.0 -300000000.0 99362818.59070463\n",
      "10 2 2\n",
      "10 19000000000.0 -500000000.0 -126535947.7124183\n",
      "11 2 3\n",
      "11 23500000000.0 -900000000.0 -52478094.19496166\n",
      "12 3 0\n",
      "12 15000000000.0 -900000000.0 -73690263.22514693\n",
      "13 3 1\n",
      "13 19500000000.0 -900000000.0 175147137.5066881\n",
      "14 3 2\n",
      "14 24000000000.0 -1100000000.0 173927670.31118584\n",
      "15 3 3\n",
      "15 28500000000.0 -1500000000.0 57647058.82352941\n"
     ]
    }
   ],
   "source": [
    "w1, w2 = qubit_frequencies\n",
    "l1, l2 = anharmonicities\n",
    "delta = w1 - w2\n",
    "w = w1 + w2\n",
    "\n",
    "analyticalEnergies = np.empty(shape=(16,len(couplings)))\n",
    "for state in np.arange(16):\n",
    "    n1 = state // 4\n",
    "    n2 = state % 4\n",
    "    E0 = (n1 * w1 + n2 * w2)\n",
    "    E1 = 0.5 * (l1 * n1 * (n1 - 1) + l2 * n2 * (n2 - 1))\n",
    "    E2 = 0\n",
    "    A = (delta + l1 * (n1 - 1) - l2 * n2)\n",
    "    E2 += n1 * (n2 + 1) / A if A != 0 else 0\n",
    "    B = delta + l1 * n1 - l2 * (n2 - 1)\n",
    "    E2 -= n2 * (n1 + 1) / B if B != 0 else 0\n",
    "    C = w + l1 * (n1 - 1) + l2 * (n2 - 1)\n",
    "    E2 += n1 * n1 / C if C != 0 else 0\n",
    "    D = w + l1 * n1 + l2 * n2\n",
    "    E2 -= (n1 + 1) * (n2 + 1) / D if D != 0 else 0\n",
    "    print(state, n1, n2)\n",
    "    #E2 = (couplings ** 2 / delta) * (n1 - n2) - (couplings ** 2 / w) * (n1 + n2 + 1)\n",
    "    #E3 = -(couplings ** 2 / delta ** 2) * (n1 - n2) * (l1 * n1 * (n1 - 1) + l2 * n2 * (n2 - 1))\n",
    "    E2 *= couplings ** 2\n",
    "    print(state, E0, E1, E2[-1])\n",
    "    analyticalEnergies[state] = (E0 + E1) * np.ones_like(couplings) + E2"
   ],
   "metadata": {
    "collapsed": false,
    "pycharm": {
     "name": "#%%\n"
    }
   }
  },
  {
   "cell_type": "code",
   "execution_count": 157,
   "outputs": [
    {
     "data": {
      "text/plain": "<Figure size 432x288 with 1 Axes>",
      "image/png": "[encoded data removed]"
     },
     "metadata": {
      "needs_background": "light"
     },
     "output_type": "display_data"
    }
   ],
   "source": [
    "# Energy level diagram\n",
    "plt.figure()\n",
    "y = allEnergies[[11, 12]].T\n",
    "plt.plot(couplings, y)\n",
    "for i in [10, 13]:\n",
    "    plt.plot(couplings[::5], analyticalEnergies[i][::5], 'o')\n",
    "#plt.plot(couplings, analyticalEnergies[0], '--')\n",
    "plt.legend(sortedLabels, ncol=1, bbox_to_anchor=(1.05, 1.0), loc=\"upper left\")\n",
    "plt.tight_layout()\n",
    "#plt.savefig('energies-couplings.svg')\n",
    "plt.show()"
   ],
   "metadata": {
    "collapsed": false,
    "pycharm": {
     "name": "#%%\n"
    }
   }
  },
  {
   "cell_type": "code",
   "execution_count": 132,
   "outputs": [
    {
     "name": "stdout",
     "output_type": "stream",
     "text": [
      "15 (1, 2) 0,1 - 1,0 499999999.9999981\n",
      "42 (3, 4) 0,2 - 1,1 700000000.0\n",
      "43 (3, 5) 0,2 - 2,0 899999999.9999943\n",
      "54 (4, 5) 1,1 - 2,0 199999999.99999428\n",
      "75 (6, 7) 0,3 - 1,2 900000000.0000286\n",
      "84 (7, 8) 1,2 - 3,0 299999999.9999752\n",
      "85 (7, 9) 1,2 - 2,1 399999999.9999981\n",
      "92 (8, 9) 3,0 - 2,1 100000000.00002289\n",
      "105 (10, 11) 1,3 - 2,2 599999999.9999657\n",
      "106 (10, 12) 1,3 - 3,1 700000000.0000076\n",
      "110 (11, 12) 2,2 - 3,1 100000000.00004196\n",
      "117 (13, 14) 2,3 - 3,2 299999999.9999733\n"
     ]
    },
    {
     "data": {
      "text/plain": "<Figure size 432x288 with 1 Axes>",
      "image/png": "[encoded data removed]"
     },
     "metadata": {
      "needs_background": "light"
     },
     "output_type": "display_data"
    }
   ],
   "source": [
    "# Transition diagram\n",
    "#selectedTransitions = [1, 26, 72, 133] #[1, 26, 49, 94, 112, 184] #[67, 101]#1, 17, 31, 58\n",
    "selectedTransitions = list(range(len(transitionStateIndices)))\n",
    "#selectedTransitions = [110]\n",
    "\n",
    "plt.figure()\n",
    "for t in selectedTransitions:\n",
    "    index = transitionStateIndices[t]\n",
    "    data1 = allEnergies[index[0]]\n",
    "    data2 = allEnergies[index[1]]\n",
    "    diff = data2 - data1\n",
    "    if diff[0] < 1e9:\n",
    "        print(t, index, transitionLabels[t], diff[0])\n",
    "        plt.plot(couplings, diff, label=transitionLabels[t])\n",
    "plt.plot(couplings, analyticalEnergies[4] - analyticalEnergies[1], 'x')\n",
    "plt.legend(bbox_to_anchor=(1.05, 1.0), loc=\"upper left\")\n",
    "plt.show()"
   ],
   "metadata": {
    "collapsed": false,
    "pycharm": {
     "name": "#%%\n"
    }
   }
  },
  {
   "cell_type": "code",
   "execution_count": null,
   "outputs": [],
   "source": [],
   "metadata": {
    "collapsed": false,
    "pycharm": {
     "name": "#%%\n"
    }
   }
  }
 ],
 "metadata": {
  "kernelspec": {
   "display_name": "Python 3",
   "language": "python",
   "name": "python3"
  },
  "language_info": {
   "codemirror_mode": {
    "name": "ipython",
    "version": 2
   },
   "file_extension": ".py",
   "mimetype": "text/x-python",
   "name": "python",
   "nbconvert_exporter": "python",
   "pygments_lexer": "ipython2",
   "version": "2.7.6"
  }
 },
 "nbformat": 4,
 "nbformat_minor": 0
}