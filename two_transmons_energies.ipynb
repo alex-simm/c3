{
 "cells": [
  {
   "cell_type": "code",
   "execution_count": 1,
   "outputs": [
    {
     "name": "stderr",
     "output_type": "stream",
     "text": [
      "2022-05-19 12:32:03.046094: W tensorflow/stream_executor/platform/default/dso_loader.cc:64] Could not load dynamic library 'libcudart.so.11.0'; dlerror: libcudart.so.11.0: cannot open shared object file: No such file or directory\n",
      "2022-05-19 12:32:03.046156: I tensorflow/stream_executor/cuda/cudart_stub.cc:29] Ignore above cudart dlerror if you do not have a GPU set up on your machine.\n"
     ]
    }
   ],
   "source": [
    "import argparse\n",
    "import copy\n",
    "import os\n",
    "import sys\n",
    "\n",
    "# Libs and helpers\n",
    "from collections import OrderedDict\n",
    "\n",
    "import numpy as np\n",
    "import scipy.linalg\n",
    "import tensorflow as tf\n",
    "\n",
    "import c3.libraries.algorithms as algorithms\n",
    "import c3.libraries.fidelities as fidelities\n",
    "import c3.utils.qt_utils as qt_utils\n",
    "from c3.utils.tf_utils import tf_project_to_comp, tf_abs, tf_unitary_overlap\n",
    "import four_level_transmons.custom_gates as custom_gates\n",
    "from c3.experiment import Experiment as Exp\n",
    "# Main C3 objects\n",
    "from c3.libraries import constants\n",
    "from c3.model import Model as Mdl\n",
    "from c3.optimizers.optimalcontrol import OptimalControl\n",
    "from c3.parametermap import ParameterMap as PMap\n",
    "from four_level_transmons.DataOutput import DataOutput\n",
    "from four_level_transmons.custom_envelopes import *\n",
    "from four_level_transmons.plotting import *\n",
    "from four_level_transmons.utilities import *\n",
    "\n",
    "tf.config.run_functions_eagerly(True)"
   ],
   "metadata": {
    "collapsed": false,
    "pycharm": {
     "name": "#%%\n"
    }
   }
  },
  {
   "cell_type": "code",
   "execution_count": 2,
   "outputs": [
    {
     "name": "stdout",
     "output_type": "stream",
     "text": [
      "=========== WARNING: no output directory specified ============\n"
     ]
    }
   ],
   "source": [
    "if len(sys.argv[1:]) > 0 and \"ipykernel_launcher\" not in sys.argv[0]:\n",
    "    parser = argparse.ArgumentParser()\n",
    "    parser.add_argument(\"output\", help=\"Output directory\")\n",
    "    args = parser.parse_args()\n",
    "    output_dir = args.output\n",
    "    print(\"Output directory: \", output_dir)\n",
    "else:\n",
    "    print(\"=========== WARNING: no output directory specified ============\")\n",
    "    output_dir = \"./output\""
   ],
   "metadata": {
    "collapsed": false,
    "pycharm": {
     "name": "#%%\n"
    }
   }
  },
  {
   "cell_type": "code",
   "execution_count": 15,
   "outputs": [],
   "source": [
    "qubit_levels = [4, 4]\n",
    "qubit_frequencies = [5e9, 4.5e9]\n",
    "anharmonicities = [-300e6, -200e6]\n",
    "t1s = [25e-6, 25e-6]\n",
    "t2stars = [35e-6, 35e-6]\n",
    "qubit_temps = [50e-3, 50e-3]"
   ],
   "metadata": {
    "collapsed": false,
    "pycharm": {
     "name": "#%%\n"
    }
   }
  },
  {
   "cell_type": "code",
   "execution_count": 16,
   "outputs": [
    {
     "name": "stdout",
     "output_type": "stream",
     "text": [
      "0 0,0 0,0\n",
      "1 0,1 0,1\n",
      "2 0,2 0,2\n",
      "3 0,3 0,3\n",
      "4 1,0 1,0\n",
      "5 1,1 1,1\n",
      "6 1,2 1,2\n",
      "7 1,3 1,3\n",
      "8 2,0 2,0\n",
      "9 2,1 2,1\n",
      "10 2,2 2,2\n",
      "11 2,3 2,3\n",
      "12 3,0 3,0\n",
      "13 3,1 3,1\n",
      "14 3,2 3,2\n",
      "15 3,3 3,3\n"
     ]
    }
   ],
   "source": [
    "# labels for all states\n",
    "level_labels = []\n",
    "level_labels_with_leakage = []\n",
    "for i in range(qubit_levels[0]):\n",
    "    for j in range(qubit_levels[1]):\n",
    "        if i > 3 or j > 3:\n",
    "            level_labels.append(None)\n",
    "        else:\n",
    "            level_labels.append(f\"{i},{j}\")\n",
    "        level_labels_with_leakage.append(f\"{i},{j}\")\n",
    "\n",
    "for i,l in enumerate(level_labels):\n",
    "    print(i, l, level_labels_with_leakage[i])"
   ],
   "metadata": {
    "collapsed": false,
    "pycharm": {
     "name": "#%%\n"
    }
   }
  },
  {
   "cell_type": "code",
   "execution_count": 17,
   "outputs": [
    {
     "name": "stdout",
     "output_type": "stream",
     "text": [
      "[0.00e+00 4.50e+09 8.80e+09 1.29e+10 5.00e+09 9.50e+09 1.38e+10 1.79e+10\n",
      " 9.70e+09 1.42e+10 1.85e+10 2.26e+10 1.41e+10 1.86e+10 2.29e+10 2.70e+10] 16\n"
     ]
    }
   ],
   "source": [
    "# find energy eigenvalues and eigenvectors\n",
    "qubits = createQubits(qubit_levels, qubit_frequencies, anharmonicities, t1s,\n",
    "                      t2stars, qubit_temps)\n",
    "model = Mdl(qubits, [])\n",
    "model.set_lindbladian(False)\n",
    "model.set_dressed(False)\n",
    "model.set_FR(False)\n",
    "H = model.get_Hamiltonian().numpy()\n",
    "evals,evecs = scipy.linalg.eig(H)\n",
    "evals = evals.real / (2 * np.pi)\n",
    "print(evals, len(evals))"
   ],
   "metadata": {
    "collapsed": false,
    "pycharm": {
     "name": "#%%\n"
    }
   }
  },
  {
   "cell_type": "code",
   "execution_count": 18,
   "outputs": [
    {
     "name": "stdout",
     "output_type": "stream",
     "text": [
      "0 0,0 0.0\n",
      "1 0,1 4500000000.0\n",
      "2 0,2 8800000000.000002\n",
      "3 0,3 12899999999.999998\n",
      "4 1,0 5000000000.0\n",
      "5 1,1 9500000000.0\n",
      "6 1,2 13800000000.000004\n",
      "7 1,3 17900000000.0\n",
      "8 2,0 9700000000.000002\n",
      "9 2,1 14200000000.000002\n",
      "10 2,2 18500000000.000004\n",
      "11 2,3 22600000000.000004\n",
      "12 3,0 14099999999.999996\n",
      "13 3,1 18599999999.999996\n",
      "14 3,2 22900000000.0\n",
      "15 3,3 26999999999.999996\n"
     ]
    }
   ],
   "source": [
    "#energies = H.diagonal().real / (2*np.pi)\n",
    "#labels = []\n",
    "#for i in range(qubit_levels[0]):\n",
    "#    for j in range(qubit_levels[1]):\n",
    "#        idx = i * qubit_levels[0] + j\n",
    "#        labels.append(f\"{i},{j}\")\n",
    "#        print(labels[idx], energies[idx])\n",
    "#indices = np.argsort(energies)\n",
    "\n",
    "# find labels corresponding to states\n",
    "stateEnergies = []\n",
    "stateLabels = []\n",
    "for i, x in enumerate(level_labels_with_leakage):\n",
    "    #if level_labels[i] is not None:\n",
    "    energy = evals[i]\n",
    "    stateEnergies.append(energy)\n",
    "    stateLabels.append(x)\n",
    "\n",
    "for i in range(len(stateEnergies)):\n",
    "    print(i, stateLabels[i], stateEnergies[i])"
   ],
   "metadata": {
    "collapsed": false,
    "pycharm": {
     "name": "#%%\n"
    }
   }
  },
  {
   "cell_type": "code",
   "execution_count": 19,
   "outputs": [
    {
     "name": "stdout",
     "output_type": "stream",
     "text": [
      "0 0,0 - 0,1 (0, 1) 4500000000.0\n",
      "1 0,0 - 1,0 (0, 2) 5000000000.0\n",
      "2 0,0 - 0,2 (0, 3) 8800000000.000002\n",
      "3 0,0 - 1,1 (0, 4) 9500000000.0\n",
      "4 0,0 - 2,0 (0, 5) 9700000000.000002\n",
      "5 0,0 - 0,3 (0, 6) 12899999999.999998\n",
      "6 0,0 - 1,2 (0, 7) 13800000000.000004\n",
      "7 0,0 - 3,0 (0, 8) 14099999999.999996\n",
      "8 0,0 - 2,1 (0, 9) 14200000000.000002\n",
      "9 0,0 - 1,3 (0, 10) 17900000000.0\n",
      "10 0,0 - 2,2 (0, 11) 18500000000.000004\n",
      "11 0,0 - 3,1 (0, 12) 18599999999.999996\n",
      "12 0,0 - 2,3 (0, 13) 22600000000.000004\n",
      "13 0,0 - 3,2 (0, 14) 22900000000.0\n",
      "14 0,0 - 3,3 (0, 15) 26999999999.999996\n",
      "15 0,1 - 1,0 (1, 2) 500000000.0\n",
      "16 0,1 - 0,2 (1, 3) 4300000000.000002\n",
      "17 0,1 - 1,1 (1, 4) 5000000000.0\n",
      "18 0,1 - 2,0 (1, 5) 5200000000.000002\n",
      "19 0,1 - 0,3 (1, 6) 8399999999.999998\n",
      "20 0,1 - 1,2 (1, 7) 9300000000.000004\n",
      "21 0,1 - 3,0 (1, 8) 9599999999.999996\n",
      "22 0,1 - 2,1 (1, 9) 9700000000.000002\n",
      "23 0,1 - 1,3 (1, 10) 13400000000.0\n",
      "24 0,1 - 2,2 (1, 11) 14000000000.000004\n",
      "25 0,1 - 3,1 (1, 12) 14099999999.999996\n",
      "26 0,1 - 2,3 (1, 13) 18100000000.000004\n",
      "27 0,1 - 3,2 (1, 14) 18400000000.0\n",
      "28 0,1 - 3,3 (1, 15) 22499999999.999996\n",
      "29 1,0 - 0,2 (2, 3) 3800000000.000002\n",
      "30 1,0 - 1,1 (2, 4) 4500000000.0\n",
      "31 1,0 - 2,0 (2, 5) 4700000000.000002\n",
      "32 1,0 - 0,3 (2, 6) 7899999999.999998\n",
      "33 1,0 - 1,2 (2, 7) 8800000000.000004\n",
      "34 1,0 - 3,0 (2, 8) 9099999999.999996\n",
      "35 1,0 - 2,1 (2, 9) 9200000000.000002\n",
      "36 1,0 - 1,3 (2, 10) 12900000000.0\n",
      "37 1,0 - 2,2 (2, 11) 13500000000.000004\n",
      "38 1,0 - 3,1 (2, 12) 13599999999.999996\n",
      "39 1,0 - 2,3 (2, 13) 17600000000.000004\n",
      "40 1,0 - 3,2 (2, 14) 17900000000.0\n",
      "41 1,0 - 3,3 (2, 15) 21999999999.999996\n",
      "42 0,2 - 1,1 (3, 4) 699999999.9999981\n",
      "43 0,2 - 2,0 (3, 5) 900000000.0\n",
      "44 0,2 - 0,3 (3, 6) 4099999999.999996\n",
      "45 0,2 - 1,2 (3, 7) 5000000000.000002\n",
      "46 0,2 - 3,0 (3, 8) 5299999999.999994\n",
      "47 0,2 - 2,1 (3, 9) 5400000000.0\n",
      "48 0,2 - 1,3 (3, 10) 9099999999.999998\n",
      "49 0,2 - 2,2 (3, 11) 9700000000.000002\n",
      "50 0,2 - 3,1 (3, 12) 9799999999.999994\n",
      "51 0,2 - 2,3 (3, 13) 13800000000.000002\n",
      "52 0,2 - 3,2 (3, 14) 14099999999.999998\n",
      "53 0,2 - 3,3 (3, 15) 18199999999.999992\n",
      "54 1,1 - 2,0 (4, 5) 200000000.0000019\n",
      "55 1,1 - 0,3 (4, 6) 3399999999.999998\n",
      "56 1,1 - 1,2 (4, 7) 4300000000.000004\n",
      "57 1,1 - 3,0 (4, 8) 4599999999.999996\n",
      "58 1,1 - 2,1 (4, 9) 4700000000.000002\n",
      "59 1,1 - 1,3 (4, 10) 8400000000.0\n",
      "60 1,1 - 2,2 (4, 11) 9000000000.000004\n",
      "61 1,1 - 3,1 (4, 12) 9099999999.999996\n",
      "62 1,1 - 2,3 (4, 13) 13100000000.000004\n",
      "63 1,1 - 3,2 (4, 14) 13400000000.0\n",
      "64 1,1 - 3,3 (4, 15) 17499999999.999996\n",
      "65 2,0 - 0,3 (5, 6) 3199999999.999996\n",
      "66 2,0 - 1,2 (5, 7) 4100000000.000002\n",
      "67 2,0 - 3,0 (5, 8) 4399999999.999994\n",
      "68 2,0 - 2,1 (5, 9) 4500000000.0\n",
      "69 2,0 - 1,3 (5, 10) 8199999999.999998\n",
      "70 2,0 - 2,2 (5, 11) 8800000000.000002\n",
      "71 2,0 - 3,1 (5, 12) 8899999999.999994\n",
      "72 2,0 - 2,3 (5, 13) 12900000000.000002\n",
      "73 2,0 - 3,2 (5, 14) 13199999999.999998\n",
      "74 2,0 - 3,3 (5, 15) 17299999999.999992\n",
      "75 0,3 - 1,2 (6, 7) 900000000.0000057\n",
      "76 0,3 - 3,0 (6, 8) 1199999999.999998\n",
      "77 0,3 - 2,1 (6, 9) 1300000000.0000038\n",
      "78 0,3 - 1,3 (6, 10) 5000000000.000002\n",
      "79 0,3 - 2,2 (6, 11) 5600000000.000006\n",
      "80 0,3 - 3,1 (6, 12) 5699999999.999998\n",
      "81 0,3 - 2,3 (6, 13) 9700000000.000006\n",
      "82 0,3 - 3,2 (6, 14) 10000000000.000002\n",
      "83 0,3 - 3,3 (6, 15) 14099999999.999998\n",
      "84 1,2 - 3,0 (7, 8) 299999999.9999924\n",
      "85 1,2 - 2,1 (7, 9) 399999999.9999981\n",
      "86 1,2 - 1,3 (7, 10) 4099999999.999996\n",
      "87 1,2 - 2,2 (7, 11) 4700000000.0\n",
      "88 1,2 - 3,1 (7, 12) 4799999999.999992\n",
      "89 1,2 - 2,3 (7, 13) 8800000000.0\n",
      "90 1,2 - 3,2 (7, 14) 9099999999.999996\n",
      "91 1,2 - 3,3 (7, 15) 13199999999.999992\n",
      "92 3,0 - 2,1 (8, 9) 100000000.00000572\n",
      "93 3,0 - 1,3 (8, 10) 3800000000.000004\n",
      "94 3,0 - 2,2 (8, 11) 4400000000.000008\n",
      "95 3,0 - 3,1 (8, 12) 4500000000.0\n",
      "96 3,0 - 2,3 (8, 13) 8500000000.000008\n",
      "97 3,0 - 3,2 (8, 14) 8800000000.000004\n",
      "98 3,0 - 3,3 (8, 15) 12900000000.0\n",
      "99 2,1 - 1,3 (9, 10) 3699999999.999998\n",
      "100 2,1 - 2,2 (9, 11) 4300000000.000002\n",
      "101 2,1 - 3,1 (9, 12) 4399999999.999994\n",
      "102 2,1 - 2,3 (9, 13) 8400000000.000002\n",
      "103 2,1 - 3,2 (9, 14) 8699999999.999998\n",
      "104 2,1 - 3,3 (9, 15) 12799999999.999994\n",
      "105 1,3 - 2,2 (10, 11) 600000000.0000038\n",
      "106 1,3 - 3,1 (10, 12) 699999999.9999962\n",
      "107 1,3 - 2,3 (10, 13) 4700000000.000004\n",
      "108 1,3 - 3,2 (10, 14) 5000000000.0\n",
      "109 1,3 - 3,3 (10, 15) 9099999999.999996\n",
      "110 2,2 - 3,1 (11, 12) 99999999.99999237\n",
      "111 2,2 - 2,3 (11, 13) 4100000000.0\n",
      "112 2,2 - 3,2 (11, 14) 4399999999.999996\n",
      "113 2,2 - 3,3 (11, 15) 8499999999.999992\n",
      "114 3,1 - 2,3 (12, 13) 4000000000.0000076\n",
      "115 3,1 - 3,2 (12, 14) 4300000000.000004\n",
      "116 3,1 - 3,3 (12, 15) 8400000000.0\n",
      "117 2,3 - 3,2 (13, 14) 299999999.9999962\n",
      "118 2,3 - 3,3 (13, 15) 4399999999.999992\n",
      "119 3,2 - 3,3 (14, 15) 4099999999.999996\n"
     ]
    }
   ],
   "source": [
    "# list all transitions\n",
    "sortedEnergiesLabels = sorted(zip(stateEnergies, stateLabels), key=lambda x: x[0])\n",
    "transitionEnergies = []\n",
    "transitionLabels = []\n",
    "transitionStateIndices = []\n",
    "for i in range(len(sortedEnergiesLabels)):\n",
    "    for j in range(len(sortedEnergiesLabels)):\n",
    "        if i != j:\n",
    "            E = sortedEnergiesLabels[j][0] - sortedEnergiesLabels[i][0]\n",
    "            if E > 0:\n",
    "                transitionEnergies.append(E)\n",
    "                transitionLabels.append(sortedEnergiesLabels[i][1] + \" - \" + sortedEnergiesLabels[j][1])\n",
    "                transitionStateIndices.append((i, j))\n",
    "\n",
    "for i in range(len(transitionEnergies)):\n",
    "    print(i, transitionLabels[i], transitionStateIndices[i], transitionEnergies[i])"
   ],
   "metadata": {
    "collapsed": false,
    "pycharm": {
     "name": "#%%\n"
    }
   }
  },
  {
   "cell_type": "code",
   "execution_count": 20,
   "outputs": [],
   "source": [
    "def getEnergies(couplingStrength: float) -> np.array:\n",
    "    # Initialise the qubits and drive lines\n",
    "    qubits = createQubits(qubit_levels, qubit_frequencies, anharmonicities, t1s,\n",
    "                          t2stars, qubit_temps)\n",
    "    coupling = createChainCouplings([couplingStrength], qubits)\n",
    "\n",
    "    # Create the model\n",
    "    model = Mdl(qubits, coupling)\n",
    "    model.set_lindbladian(False)\n",
    "    model.set_dressed(False)\n",
    "    model.set_FR(False)\n",
    "\n",
    "    # all energy levels with labels\n",
    "    H = model.get_Hamiltonian().numpy()\n",
    "    evals,evecs = scipy.linalg.eig(H)\n",
    "    return evals.real / (2 * np.pi)"
   ],
   "metadata": {
    "collapsed": false,
    "pycharm": {
     "name": "#%%\n"
    }
   }
  },
  {
   "cell_type": "code",
   "execution_count": 21,
   "outputs": [
    {
     "name": "stdout",
     "output_type": "stream",
     "text": [
      "0.0\n",
      "505050.50505050505\n",
      "1010101.0101010101\n",
      "1515151.5151515151\n",
      "2020202.0202020202\n",
      "2525252.525252525\n",
      "3030303.0303030303\n",
      "3535353.5353535353\n",
      "4040404.0404040404\n",
      "4545454.545454545\n",
      "5050505.05050505\n",
      "5555555.555555556\n",
      "6060606.060606061\n",
      "6565656.565656565\n",
      "7070707.070707071\n",
      "7575757.575757576\n",
      "8080808.080808081\n",
      "8585858.585858585\n",
      "9090909.09090909\n",
      "9595959.595959596\n",
      "10101010.1010101\n",
      "10606060.606060605\n",
      "11111111.111111112\n",
      "11616161.616161617\n",
      "12121212.121212121\n",
      "12626262.626262626\n",
      "13131313.13131313\n",
      "13636363.636363637\n",
      "14141414.141414141\n",
      "14646464.646464646\n",
      "15151515.151515152\n",
      "15656565.656565657\n",
      "16161616.161616161\n",
      "16666666.666666666\n",
      "17171717.17171717\n",
      "17676767.676767677\n",
      "18181818.18181818\n",
      "18686868.686868686\n",
      "19191919.191919193\n",
      "19696969.696969695\n",
      "20202020.2020202\n",
      "20707070.70707071\n",
      "21212121.21212121\n",
      "21717171.717171717\n",
      "22222222.222222224\n",
      "22727272.727272727\n",
      "23232323.232323233\n",
      "23737373.737373736\n",
      "24242424.242424242\n",
      "24747474.74747475\n",
      "25252525.25252525\n",
      "25757575.757575758\n",
      "26262626.26262626\n",
      "26767676.767676767\n",
      "27272727.272727273\n",
      "27777777.777777776\n",
      "28282828.282828283\n",
      "28787878.78787879\n",
      "29292929.29292929\n",
      "29797979.7979798\n",
      "30303030.303030305\n",
      "30808080.808080807\n",
      "31313131.313131314\n",
      "31818181.818181816\n",
      "32323232.323232323\n",
      "32828282.82828283\n",
      "33333333.333333332\n",
      "33838383.83838384\n",
      "34343434.34343434\n",
      "34848484.84848485\n",
      "35353535.353535354\n",
      "35858585.85858586\n",
      "36363636.36363636\n",
      "36868686.86868687\n",
      "37373737.37373737\n",
      "37878787.878787875\n",
      "38383838.383838385\n",
      "38888888.88888889\n",
      "39393939.39393939\n",
      "39898989.8989899\n",
      "40404040.4040404\n",
      "40909090.90909091\n",
      "41414141.41414142\n",
      "41919191.91919192\n",
      "42424242.42424242\n",
      "42929292.92929293\n",
      "43434343.434343435\n",
      "43939393.93939394\n",
      "44444444.44444445\n",
      "44949494.94949495\n",
      "45454545.45454545\n",
      "45959595.959595956\n",
      "46464646.464646466\n",
      "46969696.96969697\n",
      "47474747.47474747\n",
      "47979797.97979798\n",
      "48484848.484848484\n",
      "48989898.98989899\n",
      "49494949.4949495\n",
      "50000000.0\n"
     ]
    }
   ],
   "source": [
    "couplings = np.linspace(0, 50e6, 100)\n",
    "#allEnergies = getEnergies(couplings[0])\n",
    "#allEnergies = np.reshape(allEnergies, (25,1))\n",
    "allEnergies = np.empty(shape=(16,0))\n",
    "for coupling in couplings:\n",
    "    print(coupling)\n",
    "    energies = getEnergies(coupling)\n",
    "    energies = np.sort(energies)\n",
    "    allEnergies = np.append(allEnergies, np.reshape(energies, (16,1)), axis=1)"
   ],
   "metadata": {
    "collapsed": false,
    "pycharm": {
     "name": "#%%\n"
    }
   }
  },
  {
   "cell_type": "code",
   "execution_count": 22,
   "outputs": [
    {
     "data": {
      "text/plain": "<Figure size 432x288 with 1 Axes>",
      "image/png": "[encoded data removed]"
     },
     "metadata": {
      "needs_background": "light"
     },
     "output_type": "display_data"
    }
   ],
   "source": [
    "plt.figure()\n",
    "y = allEnergies.T\n",
    "#plt.plot(couplings, y, '.', color='black', markersize=1)\n",
    "plt.plot(couplings, y)\n",
    "plt.legend(\n",
    "    stateLabels,\n",
    "    ncol=int(np.ceil(16 / 15)),\n",
    "    bbox_to_anchor=(1.05, 1.0),\n",
    "    loc=\"upper left\",\n",
    ")\n",
    "plt.tight_layout()\n",
    "#plt.savefig('energies-couplings.svg')\n",
    "plt.show()"
   ],
   "metadata": {
    "collapsed": false,
    "pycharm": {
     "name": "#%%\n"
    }
   }
  },
  {
   "cell_type": "code",
   "execution_count": 27,
   "outputs": [
    {
     "name": "stdout",
     "output_type": "stream",
     "text": [
      "0,1 - 1,0 499999999.9999981 502542879.298399\n",
      "0,2 - 1,1 700000000.0 697408886.7530918\n",
      "0,2 - 2,0 899999999.9999943 908043271.8225269\n",
      "1,1 - 2,0 199999999.99999428 210634385.06943512\n",
      "0,3 - 1,2 900000000.0000286 897555180.0946827\n",
      "0,3 - 3,0 1200000000.0000038 1186713303.13348\n",
      "0,3 - 2,1 1300000000.0000267 1323636003.6991043\n",
      "1,2 - 3,0 299999999.9999752 289158123.0387974\n",
      "1,2 - 2,1 399999999.9999981 426080823.6044216\n",
      "3,0 - 2,1 100000000.00002289 136922700.56562424\n",
      "1,3 - 2,2 599999999.9999657 581727855.2501259\n",
      "1,3 - 3,1 700000000.0000076 736792373.8893623\n",
      "2,2 - 3,1 100000000.00004196 155064518.63923645\n",
      "2,3 - 3,2 299999999.9999733 336093847.982811\n"
     ]
    },
    {
     "data": {
      "text/plain": "<Figure size 432x288 with 1 Axes>",
      "image/png": "[encoded data removed]"
     },
     "metadata": {
      "needs_background": "light"
     },
     "output_type": "display_data"
    }
   ],
   "source": [
    "#selectedTransitions = [1, 26, 72, 133] #[1, 26, 49, 94, 112, 184] #[67, 101]#1, 17, 31, 58\n",
    "selectedTransitions = list(range(len(transitionStateIndices)))\n",
    "\n",
    "plt.figure()\n",
    "for t in selectedTransitions:\n",
    "    index = transitionStateIndices[t]\n",
    "    data1 = allEnergies[index[0]]\n",
    "    data2 = allEnergies[index[1]]\n",
    "    diff = data2 - data1\n",
    "    if diff[0] < 2e9:\n",
    "        plt.plot(couplings, diff, label=transitionLabels[t])\n",
    "        print(transitionLabels[t], diff[0], diff[int(len(diff)/2)])\n",
    "plt.legend(bbox_to_anchor=(1.05, 1.0), loc=\"upper left\")\n",
    "plt.show()"
   ],
   "metadata": {
    "collapsed": false,
    "pycharm": {
     "name": "#%%\n"
    }
   }
  },
  {
   "cell_type": "code",
   "execution_count": null,
   "outputs": [],
   "source": [],
   "metadata": {
    "collapsed": false,
    "pycharm": {
     "name": "#%%\n"
    }
   }
  }
 ],
 "metadata": {
  "kernelspec": {
   "display_name": "Python 3",
   "language": "python",
   "name": "python3"
  },
  "language_info": {
   "codemirror_mode": {
    "name": "ipython",
    "version": 2
   },
   "file_extension": ".py",
   "mimetype": "text/x-python",
   "name": "python",
   "nbconvert_exporter": "python",
   "pygments_lexer": "ipython2",
   "version": "2.7.6"
  }
 },
 "nbformat": 4,
 "nbformat_minor": 0
}