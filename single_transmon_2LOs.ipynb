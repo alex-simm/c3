{
 "cells": [
  {
   "cell_type": "code",
   "execution_count": 1,
   "outputs": [
    {
     "name": "stderr",
     "output_type": "stream",
     "text": [
      "2022-05-07 14:41:22.816669: W tensorflow/stream_executor/platform/default/dso_loader.cc:64] Could not load dynamic library 'libcudart.so.11.0'; dlerror: libcudart.so.11.0: cannot open shared object file: No such file or directory\n",
      "2022-05-07 14:41:22.816725: I tensorflow/stream_executor/cuda/cudart_stub.cc:29] Ignore above cudart dlerror if you do not have a GPU set up on your machine.\n"
     ]
    }
   ],
   "source": [
    "import os, sys, argparse\n",
    "from collections import OrderedDict\n",
    "\n",
    "import numpy as np\n",
    "\n",
    "# Main C3 objects\n",
    "from c3.libraries import constants\n",
    "from c3.parametermap import ParameterMap as PMap\n",
    "from c3.experiment import Experiment as Exp\n",
    "from c3.model import Model as Mdl\n",
    "from c3.utils.tf_utils import tf_project_to_comp\n",
    "\n",
    "# Building blocks\n",
    "import c3.generator.devices as devices\n",
    "import c3.signal.gates as gates\n",
    "import c3.libraries.chip as chip\n",
    "import c3.signal.pulse as pulse\n",
    "import c3.libraries.tasks as tasks\n",
    "\n",
    "# Libs and helpers\n",
    "import c3.libraries.algorithms as algorithms\n",
    "import c3.libraries.fidelities as fidelities\n",
    "import c3.utils.qt_utils as qt_utils\n",
    "from c3.optimizers.optimalcontrol import OptimalControl\n",
    "\n",
    "#%matplotlib widget\n",
    "\n",
    "from four_level_transmons.utilities import *\n",
    "from four_level_transmons.plotting import *\n",
    "from four_level_transmons.custom_envelopes import *\n",
    "from four_level_transmons.DataOutput import DataOutput\n",
    "\n",
    "import four_level_transmons.custom_gates as custom_gates\n",
    "tf.config.run_functions_eagerly(True)"
   ],
   "metadata": {
    "collapsed": false,
    "pycharm": {
     "name": "#%%\n"
    }
   }
  },
  {
   "cell_type": "code",
   "execution_count": 2,
   "outputs": [
    {
     "name": "stdout",
     "output_type": "stream",
     "text": [
      "=========== WARNING: no output directory specified ============\n"
     ]
    }
   ],
   "source": [
    "if len(sys.argv[1:]) > 0 and \"ipykernel_launcher\" not in sys.argv[0]:\n",
    "    parser = argparse.ArgumentParser()\n",
    "    parser.add_argument(\"output\", help=\"Output directory\")\n",
    "    args = parser.parse_args()\n",
    "    output_dir = args.output\n",
    "    print(\"Output directory: \", output_dir)\n",
    "else:\n",
    "    print(\"=========== WARNING: no output directory specified ============\")\n",
    "    output_dir = \"./output\""
   ],
   "metadata": {
    "collapsed": false,
    "pycharm": {
     "name": "#%%\n"
    }
   }
  },
  {
   "cell_type": "code",
   "execution_count": 3,
   "outputs": [],
   "source": [
    "def printSignal(exper: Experiment, qubit: chip.Qubit,\n",
    "                gate: gates.Instruction, output: DataOutput,\n",
    "                states: Dict[float, str] = None):\n",
    "    # generate signal\n",
    "    signal = generateSignal(exper, gate, qubit)\n",
    "    ts = signal[\"ts\"].numpy()\n",
    "    values = signal[\"values\"].numpy()\n",
    "\n",
    "    # save data\n",
    "    peakFrequencies, peakValues = findFrequencyPeaks(ts, values, 4)\n",
    "    print(\"peaks: \", np.sort(peakFrequencies))\n",
    "    output.save([ts, values], \"signal\")\n",
    "\n",
    "    # plot\n",
    "    plotSignalAndSpectrum(ts, real=values, filename=output.createFileName(\"signal\", \"svg\"), spectralThreshold=None)\n",
    "    plotSignalAndSpectrum(ts, real=values, filename=output.createFileName(\"signal_detail\", \"svg\"), spectralThreshold=5e-5)\n",
    "    plotSignalAndSpectrum(ts, real=values, filename=output.createFileName(\"signal_detail_with_states\", \"svg\"), states=states, spectralThreshold=5e-5)\n",
    "\n",
    "\n",
    "def printTimeEvolution(exper: Experiment, init: tf.Tensor, gate: gates.Instruction,\n",
    "                       labels: List[str], output: DataOutput):\n",
    "    populations = calculatePopulation(exper, init, [gate.get_key()])\n",
    "\n",
    "    output.save(populations, \"population\")\n",
    "    plotPopulation(exper, populations, sequence=[gate.get_key()],\n",
    "                   labels=labels, filename=output.createFileName(\"population\", \"svg\"))\n",
    "\n",
    "\n",
    "def stateEntropy(state: tf.Tensor):\n",
    "    rho = densityMatrix(state)\n",
    "    rho = tf_project_to_comp(rho, dims=[5] * 2, outdims=[4] * 2)\n",
    "    rhoBD = partialTrace(rho, [1, 3])\n",
    "    rhoB = partialTrace(rhoBD, [0])\n",
    "    return entanglementEntropy(rhoB)\n",
    "\n",
    "\n",
    "def printEntanglementEvolution(exper: Experiment, gate: gates.Instruction, output: DataOutput):\n",
    "    entropies = []\n",
    "    for state in [(0, 1), (0, 5), (1, 6), (5, 6)]:\n",
    "        psi_init = np.zeros(shape=(model.tot_dim,))\n",
    "        psi_init[state[0]] = psi_init[state[1]] = 1 / np.sqrt(2)\n",
    "        entropy = calculateObservable(exper, np.array(psi_init), [gate.get_key()], stateEntropy)\n",
    "        entropies.append(entropy)\n",
    "    entropies = np.array(entropies)\n",
    "    plotPopulation(exper, entropies, sequence=[gate.get_key()],\n",
    "                   labels=[\"00+01\", \"00+10\", \"01+11\", \"10+11\"],\n",
    "                   filename=output.createFileName(\"entanglement\", \"svg\"),\n",
    "                   labelY=\"Entropy\")\n",
    "\n",
    "\n",
    "def printMatrix(M: np.array, labels: List[str], name: str, output: DataOutput):\n",
    "    #plotComplexMatrix(M, xlabels=labels, ylabels=labels, filename=output.createFileName(name))\n",
    "    plotComplexMatrixHinton(M, maxAbsolute=1, xlabels=labels, ylabels=labels, gridColour=\"gray\",\n",
    "                            filename=output.createFileName(name, \"svg\"),\n",
    "                            colourMap='hsv')\n",
    "    #plotComplexMatrixAbsOrPhase(M, xlabels=labels, ylabels=labels, phase=True,\n",
    "    #                            filename=output.createFileName(name + \"_phase\"))\n",
    "    #plotComplexMatrixAbsOrPhase(M, xlabels=labels, ylabels=labels, phase=False,\n",
    "    #                            filename=output.createFileName(name + \"_abs\"))\n",
    "\n",
    "\n",
    "def printPropagator(exper: Experiment, gate: gates.Instruction,\n",
    "                    labels: List[str], output: DataOutput):\n",
    "    U = exper.propagators[gate.get_key()]\n",
    "    output.save(U, \"propagator\")\n",
    "    printMatrix(U, labels, \"propagator\", output)\n",
    "\n",
    "\n",
    "def printAllSignals(exper: Experiment, qubit: chip.Qubit, output: DataOutput, directory: str):\n",
    "    try:\n",
    "        os.mkdir(output.getDirectory() + \"/\" + directory)\n",
    "    except:\n",
    "        pass\n",
    "    drive = getDrive(exper.pmap.model, qubit)\n",
    "    outputs = exper.pmap.generator.global_signal_stack[drive.name]\n",
    "    for name, values in outputs.items():\n",
    "        filename = output.createFileName(directory + \"/device_\" + name, \"svg\")\n",
    "        time = values[\"ts\"].numpy()\n",
    "        if name.startswith(\"LO\"):\n",
    "            #time = time[:100]\n",
    "            re = values[\"inphase\"].numpy()\n",
    "            im = values[\"quadrature\"].numpy()\n",
    "            plotSignalAndSpectrum(time, real=re, min_signal_limit=None,\n",
    "                                  spectralThreshold=5e-4,\n",
    "                                  filename=output.createFileName(directory + \"/device_\" + name + \"_real\", \"svg\"))\n",
    "            plotSignalAndSpectrum(time, real=im, min_signal_limit=None,\n",
    "                                  spectralThreshold=5e-4,\n",
    "                                  filename=output.createFileName(directory + \"/device_\" + name + \"_imag\", \"svg\"))\n",
    "        elif \"values\" in values:\n",
    "            signal = values[\"values\"].numpy()\n",
    "            plotSignalAndSpectrum(time, signal, min_signal_limit=None, filename=filename, spectralThreshold=5e-4)\n",
    "        else:\n",
    "            signal = values[\"inphase\"].numpy() ** 2 + values[\"quadrature\"].numpy() ** 2\n",
    "            plotSignalAndSpectrum(time, real=values[\"inphase\"].numpy(), imag=values[\"quadrature\"].numpy(),\n",
    "                                  min_signal_limit=None, spectralThreshold=5e-4, filename=filename)\n",
    "\n",
    "\n",
    "def optimise(output: DataOutput, qubit: chip.PhysicalComponent, exp: Experiment,\n",
    "             algorithm, options, gate: gates.Instruction):\n",
    "    # set up the optimiser\n",
    "    opt = OptimalControl(\n",
    "        dir_path=output.getDirectory(),\n",
    "        fid_func=fidelities.unitary_infid_set,\n",
    "        fid_subspace=[qubit.name],\n",
    "        pmap=exp.pmap,\n",
    "        algorithm=algorithm,\n",
    "        options=options,\n",
    "        run_name=gate.name,\n",
    "        fid_func_kwargs={\n",
    "            \"active_levels\": 4\n",
    "        }\n",
    "    )\n",
    "    exp.set_opt_gates([gate.get_key()])\n",
    "    opt.set_exp(exp)\n",
    "\n",
    "    # add the callback\n",
    "    infidelities = []\n",
    "    def fidelityCallback(index, fidelity):\n",
    "        print(index, fidelity)\n",
    "        infidelities.append(fidelity)\n",
    "    opt.set_callback(fidelityCallback)\n",
    "\n",
    "    # run optimisation\n",
    "    opt.optimize_controls()\n",
    "    print(opt.current_best_goal)\n",
    "    exp.pmap.print_parameters()\n",
    "\n",
    "    return infidelities\n",
    "\n",
    "\n",
    "#def loadEnvelopes(filename: str) -> List[pulse.Envelope]:\n",
    "#    stored_pmap = PMap()\n",
    "#    stored_pmap.read_config(filename)\n",
    "#    return None"
   ],
   "metadata": {
    "collapsed": false,
    "pycharm": {
     "name": "#%%\n"
    }
   }
  },
  {
   "cell_type": "code",
   "execution_count": 4,
   "outputs": [
    {
     "name": "stderr",
     "output_type": "stream",
     "text": [
      "2022-05-07 14:41:29.115590: W tensorflow/stream_executor/platform/default/dso_loader.cc:64] Could not load dynamic library 'libcuda.so.1'; dlerror: libcuda.so.1: cannot open shared object file: No such file or directory\n",
      "2022-05-07 14:41:29.115639: W tensorflow/stream_executor/cuda/cuda_driver.cc:269] failed call to cuInit: UNKNOWN ERROR (303)\n",
      "2022-05-07 14:41:29.115682: I tensorflow/stream_executor/cuda/cuda_diagnostics.cc:156] kernel driver does not appear to be running on this host (localhost.localdomain): /proc/driver/nvidia/version does not exist\n"
     ]
    }
   ],
   "source": [
    "# Initialise the qubits and drive lines\n",
    "qubit_levels = 5\n",
    "qubit_frequency = 5e9\n",
    "anharmonicity = -300e6\n",
    "t1 = 25e-6\n",
    "t2star = 35e-6\n",
    "qubit_temp = 50e-3\n",
    "level_labels = [\"$|0,0\\\\rangle$\", \"$|0,1\\\\rangle$\", \"$|1,0\\\\rangle$\", \"$|1,1\\\\rangle$\", \"leakage\"]\n",
    "output = DataOutput(output_dir, file_suffix='before')\n",
    "\n",
    "qubit = createQubits([qubit_levels], [qubit_frequency], [anharmonicity], [t1],\n",
    "                      [t2star], qubit_temp)[0]\n",
    "drive = createDrives([qubit])[0]"
   ],
   "metadata": {
    "collapsed": false,
    "pycharm": {
     "name": "#%%\n"
    }
   }
  },
  {
   "cell_type": "code",
   "execution_count": 5,
   "outputs": [
    {
     "name": "stdout",
     "output_type": "stream",
     "text": [
      "energies:  [0.00e+00 5.00e+09 9.70e+09 1.41e+10 1.82e+10]\n",
      "transition frequencies:  [5.0e+09 4.7e+09 4.4e+09 4.1e+09]\n"
     ]
    }
   ],
   "source": [
    "# Create the model\n",
    "model = Mdl([qubit], [drive])\n",
    "model.set_lindbladian(False)\n",
    "model.set_dressed(False)\n",
    "model.set_FR(False)\n",
    "\n",
    "energies = qubit.get_Hamiltonian().numpy().diagonal().real / (2 * np.pi)\n",
    "print(\"energies: \", energies)\n",
    "transitions = np.array([energies[i + 1] - energies[i] for i in range(len(energies) - 1)])\n",
    "print(\"transition frequencies: \", transitions)"
   ],
   "metadata": {
    "collapsed": false,
    "pycharm": {
     "name": "#%%\n"
    }
   }
  },
  {
   "cell_type": "code",
   "execution_count": 6,
   "outputs": [
    {
     "name": "stderr",
     "output_type": "stream",
     "text": [
      "/home/user/c3/c3/signal/gates.py:104: UserWarning: No ideal gate found for gate:  . Use set_ideal() explicitly.\n",
      "  warnings.warn(\n",
      "/home/user/c3/c3/signal/gates.py:104: UserWarning: No ideal gate found for gate: X_q1. Use set_ideal() explicitly.\n",
      "  warnings.warn(\n"
     ]
    }
   ],
   "source": [
    "stored_pmap = PMap()\n",
    "stored_pmap.read_config(\"./optimised_params/1transmon/X_q1_200ns.json\")\n",
    "stored_params = stored_pmap.asdict()[\"X_q1[0]\"]\n",
    "stored_params_d = stored_params[\"drive_channels\"][\"d1\"]"
   ],
   "metadata": {
    "collapsed": false,
    "pycharm": {
     "name": "#%%\n"
    }
   }
  },
  {
   "cell_type": "code",
   "execution_count": 7,
   "outputs": [],
   "source": [
    "# Create the generator\n",
    "generator = createGenerator2LOs([drive], useDrag=True)"
   ],
   "metadata": {
    "collapsed": false,
    "pycharm": {
     "name": "#%%\n"
    }
   }
  },
  {
   "cell_type": "code",
   "execution_count": 8,
   "outputs": [
    {
     "name": "stdout",
     "output_type": "stream",
     "text": [
      "carrier:  [4850000000.000001, 4549999999.999998]\n"
     ]
    }
   ],
   "source": [
    "# Envelopes and carriers\n",
    "t_final = 200e-9\n",
    "carrier_freqs = [0.5 * (transitions[0] + transitions[1]), 0.5 * (transitions[1] + transitions[2])]\n",
    "#carrier_freqs = [transitions[0], transitions[2]]\n",
    "#carrier_freqs = [4.854e+09, 4.545e+09]\n",
    "print(\"carrier: \", carrier_freqs)\n",
    "\n",
    "pulse_t_final = t_final - 2e-9\n",
    "pulse_sigmas = [t_final / 5, t_final / 5]\n",
    "#integrated_amp = np.sqrt(np.pi/2) / (pulse_t_final * 1e9)\n",
    "#pulse_amps = [integrated_amp, 0.7 * integrated_amp]  #[0.06, 0.03]\n",
    "pulse_amps = [0.8 * 1.5, 0.6 * 1.5]\n",
    "pulse_deltas = [-0.01, 0.01]\n",
    "pulse_xy_angles = [-0.01, 0.01]\n",
    "pulse_freq_offsets = [1, 1]  #[0.5e6, 0.5e6]\n",
    "\n",
    "envelopes = []\n",
    "carriers = []\n",
    "'''\n",
    "for i in range(0, len(carrier_freqs)):\n",
    "    gaussian_envelope = createGaussianPulse(\n",
    "        t_final=pulse_t_final,\n",
    "        sigma=pulse_sigmas[i],\n",
    "        amp=pulse_amps[i],\n",
    "        delta=pulse_deltas[i],\n",
    "        xy_angle=pulse_xy_angles[i],\n",
    "        freq_off=pulse_freq_offsets[i]\n",
    "    )\n",
    "    gaussian_envelope.name = f\"envelope_d1_{i + 1}\"\n",
    "    envelopes.append(gaussian_envelope)\n",
    "\n",
    "    carrier_parameters = {\n",
    "        \"freq\": Qty(value=carrier_freqs[i], min_val=0.9 * carrier_freqs[i], max_val=1.1 * carrier_freqs[i], unit=\"Hz 2pi\"),\n",
    "        \"framechange\": Qty(value=0, min_val=-np.pi, max_val=3 * np.pi, unit=\"rad\"),\n",
    "    }\n",
    "    carriers.append(pulse.Carrier(\n",
    "        name=f\"carrier_d1_{i+1}\",\n",
    "        desc=\"Frequency of the local oscillator\",\n",
    "        params=carrier_parameters,\n",
    "    ))\n",
    "'''\n",
    "\n",
    "amp_params = [\n",
    "    Qty(value=0.4, min_val=0.35, max_val=0.45, unit='V'),\n",
    "    Qty(value=0.3, min_val=0.25, max_val=0.35, unit='V')\n",
    "]\n",
    "\n",
    "for i in range(0, len(carrier_freqs)):\n",
    "    env = stored_params_d[f\"envelope_d1_{i + 1}\"]\n",
    "    #env = convertToPWC(stored_params_d[f\"envelope_{driveName}_{i + 1}\"], numPWCPieces)\n",
    "    #env = scaleGaussianEnvelope(env, 200.0 / 60.0)\n",
    "    env.params[\"amp\"] = amp_params[i] #scaleQuantity(env.params[\"amp\"], 0.77)\n",
    "    envelopes.append(env)\n",
    "\n",
    "    carrier = stored_params_d[f\"carrier_d1_{i + 1}\"]\n",
    "    #shift = df if idx == 0 else -df\n",
    "    #carrier.params[\"freq\"].set_value(\n",
    "    #    carrier_freqs[dstIdx][i]\n",
    "    #    #carrier.params[\"freq\"].get_value() / (2 * np.pi) + df\n",
    "    #)\n",
    "    #carrier.params[\"freq\"] = Qty(\n",
    "    #    value=carrier_freqs[i],\n",
    "    #    min_val=0.95 * carrier_freqs[i],\n",
    "    #    max_val=1.05 * carrier_freqs[i],\n",
    "    #    unit=\"Hz 2pi\"\n",
    "    #)\n",
    "    carriers.append(carrier)"
   ],
   "metadata": {
    "collapsed": false,
    "pycharm": {
     "name": "#%%\n"
    }
   }
  },
  {
   "cell_type": "code",
   "execution_count": 9,
   "outputs": [
    {
     "data": {
      "text/plain": "<Figure size 432x288 with 2 Axes>",
      "image/png": "[encoded data removed]"
     },
     "metadata": {
      "needs_background": "light"
     },
     "output_type": "display_data"
    },
    {
     "name": "stderr",
     "output_type": "stream",
     "text": [
      "/home/user/c3/c3/signal/gates.py:104: UserWarning: No ideal gate found for gate: rx90p_q1. Use set_ideal() explicitly.\n",
      "  warnings.warn(\n"
     ]
    }
   ],
   "source": [
    "# Gate instructions\n",
    "#ideal_gate = qt_utils.np_kron_n([constants.x90p, constants.Id])\n",
    "#ideal_gate = qt_utils.np_kron_n([constants.Id, constants.Id])\n",
    "ideal_gate = qt_utils.np_kron_n([constants.GATES[\"rx90p\"], constants.Id])\n",
    "#ideal_gate = np.array([[0, 1, 0, 0], [-1, 0, 0, 0], [0, 0, 1, 0], [0, 0, 0, 1]])\n",
    "#ideal_gate = np.array([[0,0,1j,0], [0,1,0,0], [-1j,0,0,0], [0,0,0,1]])\n",
    "printMatrix(ideal_gate, level_labels[:4], \"ideal_gate\", output)\n",
    "\n",
    "gate = gates.Instruction(\n",
    "    name=\"rx90p_q1\",\n",
    "    targets=[0],\n",
    "    t_start=0.0,\n",
    "    t_end=t_final,\n",
    "    channels=[drive.name],\n",
    "    ideal=ideal_gate,\n",
    ")\n",
    "for env in envelopes:\n",
    "    gate.add_component(copy.deepcopy(env), drive.name)\n",
    "for carrier in carriers:\n",
    "    gate.add_component(copy.deepcopy(carrier), drive.name)"
   ],
   "metadata": {
    "collapsed": false,
    "pycharm": {
     "name": "#%%\n"
    }
   }
  },
  {
   "cell_type": "code",
   "execution_count": 15,
   "outputs": [
    {
     "name": "stdout",
     "output_type": "stream",
     "text": [
      "(0.0, '0')\n",
      "(5000000000.0, '1')\n",
      "(9700000000.0, '2')\n",
      "(14100000000.0, '3')\n",
      "(18200000000.0, '4')\n"
     ]
    }
   ],
   "source": [
    "# all energy levels with labels\n",
    "stateEnergies = []\n",
    "H = model.get_Hamiltonian()\n",
    "for i in range(qubit_levels):\n",
    "    state = np.zeros(model.tot_dim)\n",
    "    state[i] = 1\n",
    "    energy = np.vdot(state.T, np.matmul(H, state)).real / (2 * np.pi)\n",
    "    stateEnergies.append((np.round(energy, 5), f\"{i}\"))\n",
    "\n",
    "# all energy transitions\n",
    "items = sorted(stateEnergies, key=lambda x: x[0])\n",
    "transitions = []\n",
    "for i in range(len(items)):\n",
    "    for j in range(len(items)):\n",
    "        if i != j:\n",
    "            #print(i, j)\n",
    "            E = items[j][0] - items[i][0]\n",
    "            if E > 0:\n",
    "                transitions.append((E, items[i][1] + \" - \" + items[j][1]))"
   ],
   "metadata": {
    "collapsed": false,
    "pycharm": {
     "name": "#%%\n"
    }
   }
  },
  {
   "cell_type": "code",
   "execution_count": 11,
   "outputs": [
    {
     "name": "stdout",
     "output_type": "stream",
     "text": [
      "LO2 inputs:  0\n",
      "Mixer2 inputs:  2\n",
      "LO1 inputs:  0\n",
      "Mixer1 inputs:  2\n",
      "RealMixer inputs:  2\n",
      "VoltsToHertz inputs:  1\n"
     ]
    },
    {
     "data": {
      "text/plain": "<Figure size 432x288 with 2 Axes>",
      "image/png": "[encoded data removed]"
     },
     "metadata": {
      "needs_background": "light"
     },
     "output_type": "display_data"
    }
   ],
   "source": [
    "# Set up the experiment\n",
    "parameter_map = PMap(instructions=[gate], model=model, generator=generator)\n",
    "exp = Exp(pmap=parameter_map)\n",
    "exp.set_opt_gates([gate.get_key()])\n",
    "\n",
    "printSignal(exp, qubit, gate, output=output, states=transitions)\n",
    "\n",
    "unitaries = exp.compute_propagators()\n",
    "printPropagator(exp, gate, level_labels, output)\n",
    "\n",
    "printAllSignals(exp, qubit, output, directory=\"devices_before\")"
   ],
   "metadata": {
    "collapsed": false,
    "pycharm": {
     "name": "#%%\n"
    }
   }
  },
  {
   "cell_type": "code",
   "execution_count": null,
   "outputs": [],
   "source": [
    "# Specify the initial state\n",
    "psi_init = [[0] * model.tot_dim]\n",
    "psi_init[0][0] = 1\n",
    "init_state = tf.transpose(tf.constant(psi_init, tf.complex128))\n",
    "sequence = [gate.get_key()]\n",
    "\n",
    "printTimeEvolution(exp, init_state, gate, level_labels, output)\n",
    "parameter_map.write_config(output.createFileName('parameter_map', 'json'))"
   ],
   "metadata": {
    "collapsed": false,
    "pycharm": {
     "name": "#%%\n"
    }
   }
  },
  {
   "cell_type": "code",
   "execution_count": null,
   "outputs": [],
   "source": [
    "# Specify the parameters to be optimised and initialise the optimiser\n",
    "opt_map = []\n",
    "for env in envelopes:\n",
    "    opt_map.append([(gate.get_key(), \"d1\", env.name, \"amp\")])\n",
    "    opt_map.append([(gate.get_key(), \"d1\", env.name, \"sigma\")])\n",
    "    opt_map.append([(gate.get_key(), \"d1\", env.name, \"freq_offset\")])\n",
    "    opt_map.append([(gate.get_key(), \"d1\", env.name, \"xy_angle\")])\n",
    "    opt_map.append([(gate.get_key(), \"d1\", env.name, \"delta\")])\n",
    "    opt_map.append([(gate.get_key(), \"d1\", env.name, \"t_final\")])\n",
    "for carrier in carriers:\n",
    "    opt_map.append([(gate.get_key(), \"d1\", carrier.name, \"freq\")])\n",
    "    #opt_map.append([(gate.get_key(), \"d1\", carrier.name, \"framechange\")])\n",
    "parameter_map.set_opt_map(opt_map)\n",
    "parameter_map.print_parameters()"
   ],
   "metadata": {
    "collapsed": false,
    "pycharm": {
     "name": "#%%\n"
    }
   }
  },
  {
   "cell_type": "code",
   "execution_count": null,
   "outputs": [],
   "source": [
    "infidelities = optimise(output, qubit, exp, algorithms.lbfgs, {\"maxfun\": 1000, \"ftol\": 1e-6}, gate)\n",
    "#infidelities = optimise(output, qubit, exp, algorithms.cmaes, {\"popsize\": 12, \"spread\": 0.05}, gate)"
   ],
   "metadata": {
    "collapsed": false,
    "pycharm": {
     "name": "#%%\n"
    }
   }
  },
  {
   "cell_type": "code",
   "execution_count": null,
   "outputs": [],
   "source": [
    "# Plot results\n",
    "output = DataOutput(output_dir, file_suffix='after')\n",
    "plotData(np.arange(len(infidelities)), infidelities, xlabel=\"Step\",\n",
    "         ylabel=\"Infidelity\", filename=output.createFileName(\"convergence\", \"svg\"))\n",
    "printSignal(exp, qubit, gate, output=output, states=transitions)\n",
    "#printAllSignals(exp, qubit, output, directory=\"devices_after\")\n",
    "printPropagator(exp, gate, level_labels, output)\n",
    "printTimeEvolution(exp, init_state, gate, level_labels, output)\n",
    "parameter_map.write_config(output.createFileName('parameter_map', 'json'))\n",
    "\n",
    "'''\n",
    "propagator = np.load('propagator_after.npy')\n",
    "labels = [\"|0,0\\\\rangle\", \"|0,1\\\\rangle\", \"|1,0\\\\rangle\", \"|1,1\\\\rangle\", \"leakage\"]\n",
    "labels = [f\"${s}$\" for s in labels]\n",
    "plotComplexMatrixHinton(propagator, maxAbsolute=1, xlabels=labels, ylabels=labels, gridColour=\"gray\",\n",
    "                        filename=None, colourMap='hsv')\n",
    "'''"
   ],
   "metadata": {
    "collapsed": false,
    "pycharm": {
     "name": "#%%\n"
    }
   }
  },
  {
   "cell_type": "code",
   "execution_count": null,
   "outputs": [],
   "source": [],
   "metadata": {
    "collapsed": false,
    "pycharm": {
     "name": "#%%\n"
    }
   }
  }
 ],
 "metadata": {
  "kernelspec": {
   "display_name": "Python 3",
   "language": "python",
   "name": "python3"
  },
  "language_info": {
   "codemirror_mode": {
    "name": "ipython",
    "version": 2
   },
   "file_extension": ".py",
   "mimetype": "text/x-python",
   "name": "python",
   "nbconvert_exporter": "python",
   "pygments_lexer": "ipython2",
   "version": "2.7.6"
  }
 },
 "nbformat": 4,
 "nbformat_minor": 0
}