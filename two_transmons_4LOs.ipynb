{
 "cells": [
  {
   "cell_type": "markdown",
   "source": [
    "### Two transmon optimisation\n",
    "Two coupled transmons with five energy levels each. Both store two qubits. The generation creates a superposition of 2 LOs and envelopes per transmon. This file is used for optimising entangling gates between the transmons."
   ],
   "metadata": {
    "collapsed": false,
    "pycharm": {
     "name": "#%% md\n"
    }
   }
  },
  {
   "cell_type": "code",
   "execution_count": null,
   "outputs": [],
   "source": [
    "import argparse\n",
    "import copy\n",
    "import os\n",
    "import sys\n",
    "\n",
    "# Libs and helpers\n",
    "from collections import OrderedDict\n",
    "\n",
    "import numpy as np\n",
    "import scipy.linalg\n",
    "import tensorflow as tf\n",
    "\n",
    "import c3.libraries.algorithms as algorithms\n",
    "import c3.libraries.envelopes\n",
    "import c3.libraries.fidelities as fidelities\n",
    "import c3.utils.qt_utils as qt_utils\n",
    "from c3.signal.pulse import EnvelopeDrag\n",
    "from c3.utils.tf_utils import tf_project_to_comp, tf_abs, tf_unitary_overlap\n",
    "import four_level_transmons.custom_gates as custom_gates\n",
    "from c3.experiment import Experiment as Exp\n",
    "# Main C3 objects\n",
    "from c3.libraries import constants\n",
    "from c3.model import Model as Mdl\n",
    "from c3.optimizers.optimalcontrol import OptimalControl\n",
    "from c3.parametermap import ParameterMap as PMap\n",
    "from four_level_transmons.DataOutput import DataOutput\n",
    "from four_level_transmons.custom_envelopes import *\n",
    "from four_level_transmons.plotting import *\n",
    "from four_level_transmons.utilities import *\n",
    "from four_level_transmons.blackbox import generateSignalFromConfig\n",
    "from four_level_transmons.notebook_utils import *\n",
    "\n",
    "tf.config.run_functions_eagerly(True)\n",
    "np.set_printoptions(linewidth=300)"
   ],
   "metadata": {
    "collapsed": false,
    "pycharm": {
     "name": "#%%\n"
    }
   }
  },
  {
   "cell_type": "code",
   "execution_count": null,
   "outputs": [],
   "source": [
    "if len(sys.argv[1:]) > 0 and \"ipykernel_launcher\" not in sys.argv[0]:\n",
    "    parser = argparse.ArgumentParser()\n",
    "    parser.add_argument(\"--output\", help=\"Output directory\")\n",
    "    args = parser.parse_args()\n",
    "    output_dir = args.output\n",
    "    print(\"Output directory: \", output_dir)\n",
    "else:\n",
    "    print(\"=========== WARNING: no output directory specified ============\")\n",
    "    output_dir = \"./output\"\n",
    "output = DataOutput(output_dir, file_suffix='before')"
   ],
   "metadata": {
    "collapsed": false,
    "pycharm": {
     "name": "#%%\n"
    }
   }
  },
  {
   "cell_type": "code",
   "execution_count": null,
   "outputs": [],
   "source": [
    "# general settings\n",
    "numPWCPieces = 60\n",
    "usePWC = False\n",
    "useDRAG = False\n",
    "t_final = 1000e-9\n",
    "sim_res = 20e9\n",
    "awg_res = numPWCPieces / t_final if usePWC else 2e9\n",
    "isDressed = False\n",
    "isRotating = False\n",
    "\n",
    "ALGORITHM_LBFGS = 0\n",
    "ALGORITHM_LBFGS_GRAD_FREE = 1\n",
    "ALGORITHM_CMAES = 2\n",
    "ALGORITHM_GCMAES = 3\n",
    "selected_algorithms = [\n",
    "    #(ALGORITHM_LBFGS, {\"maxfun\": 50}),\n",
    "    #(ALGORITHM_CMAES, {}),\n",
    "    (ALGORITHM_LBFGS, {\"maxfun\": 1500, \"ftol\": 2e-6})\n",
    "]"
   ],
   "metadata": {
    "collapsed": false,
    "pycharm": {
     "name": "#%%\n"
    }
   }
  },
  {
   "cell_type": "code",
   "execution_count": null,
   "outputs": [],
   "source": [
    "IDEAL_GATE, IDEAL_GATE_NAME = np.eye(16), \"unity\"\n",
    "#IDEAL_GATE, IDEAL_GATE_NAME = custom_gates.GATE_CNOT_t1q2_t2q2, \"cnot_t1q2_t2q2\"\n",
    "#IDEAL_GATE, IDEAL_GATE_NAME = custom_gates.GATE_iCNOT_t1q2_t2q2, \"icnot_t1q2_t2q2\"\n",
    "#IDEAL_GATE, IDEAL_GATE_NAME = custom_gates.GATE_iSWAP_t1q2_t2q2, \"iswap_t1q2_t2q2\"\n",
    "#IDEAL_GATE, IDEAL_GATE_NAME = custom_gates.GATE_SQRTiSWAP_t1q2_t2q2, \"sqrtiswap_t1q2_t2q2\"\n",
    "#IDEAL_GATE, IDEAL_GATE_NAME = custom_gates.GATE_CZ_t1q2_t2q2, \"cz_t1_t2\"\n",
    "#IDEAL_GATE, IDEAL_GATE_NAME = custom_gates.GATE_UNIVERSAL_ENTANGLER, \"universal_entangler\"\n",
    "#IDEAL_GATE, IDEAL_GATE_NAME = custom_gates.GATE_4QUBIT_1110_1111, \"cccnot\"\n",
    "\n",
    "OPTIMISE_TFINAL = False\n",
    "OPTIMISE_FREQUENCIES = True"
   ],
   "metadata": {
    "collapsed": false,
    "pycharm": {
     "name": "#%%\n"
    }
   }
  },
  {
   "cell_type": "code",
   "execution_count": null,
   "metadata": {
    "pycharm": {
     "name": "#%%\n"
    }
   },
   "outputs": [],
   "source": [
    "# coupling=30: f=4.6, anh=-200; f=4.32, anh=-350\n",
    "# f=4.5: anh=-200, coupling=33\n",
    "# Initialise the qubits and drive lines\n",
    "qubit_levels = [5, 5]\n",
    "qubit_frequencies = [5e9, 4.5e9]\n",
    "anharmonicities = [-300e6, -250e6]\n",
    "t1s = [25e-6, 25e-6]\n",
    "t2stars = [35e-6, 35e-6]\n",
    "qubit_temps = 50e-3\n",
    "couplingStrength = 20e6\n",
    "print(\"qubits frequencies: \", qubit_frequencies, \"anharmonicities: \", anharmonicities,\n",
    "      \"coupling: \", couplingStrength)\n",
    "\n",
    "level_labels_transmon = [\"|0,0\\\\rangle\", \"|0,1\\\\rangle\", \"|1,0\\\\rangle\", \"|1,1\\\\rangle\"]\n",
    "for i in range(len(level_labels_transmon), max(qubit_levels)):\n",
    "    level_labels_transmon.append(\"leakage\")\n",
    "level_labels = []\n",
    "level_labels_with_leakage = []\n",
    "level_labels_short = []\n",
    "for i in range(qubit_levels[0]):\n",
    "    for j in range(qubit_levels[1]):\n",
    "        if i > 3 or j > 3:\n",
    "            level_labels_with_leakage.append(\"leakage\")\n",
    "            level_labels_short.append(None)\n",
    "        else:\n",
    "            s = f\"${level_labels_transmon[i]},{level_labels_transmon[j]}$\"\n",
    "            level_labels.append(s)\n",
    "            level_labels_with_leakage.append(s)\n",
    "            level_labels_short.append(f\"{i},{j}\")\n",
    "level_labels_transmon = [f\"${x}$\" for x in level_labels_transmon]\n",
    "\n",
    "qubits = createQubits(qubit_levels, qubit_frequencies, anharmonicities,\n",
    "                         t1s, t2stars, qubit_temps)\n",
    "coupling = createChainCouplings([couplingStrength], qubits)\n",
    "drives = createDrives(qubits)"
   ]
  },
  {
   "cell_type": "code",
   "execution_count": null,
   "metadata": {
    "pycharm": {
     "name": "#%%\n"
    }
   },
   "outputs": [],
   "source": [
    "# Create the model\n",
    "model = Mdl(qubits, coupling + drives)\n",
    "model.set_lindbladian(False)\n",
    "model.set_dressed(isDressed)\n",
    "model.set_FR(isRotating)\n",
    "\n",
    "#energies = model.get_Hamiltonian().numpy().diagonal().real / (2 * np.pi)\n",
    "#print(\"energies: \", energies)\n",
    "qubitEnergies = [q.get_Hamiltonian().numpy().diagonal().real / (2 * np.pi) for q in qubits]\n",
    "qubitEnergies[0] = qubitEnergies[0][::qubit_levels[0]]\n",
    "qubitEnergies[1] = qubitEnergies[1][:qubit_levels[1]]\n",
    "qubitTransitions = [np.array([e[i + 1] - e[i] for i in range(len(e) - 1)]) for e in qubitEnergies]\n",
    "for i in range(len(qubits)):\n",
    "    print(f\"Qubit {i}:\")\n",
    "    print(qubitEnergies[i])\n",
    "    print(qubitTransitions[i])"
   ]
  },
  {
   "cell_type": "code",
   "execution_count": null,
   "metadata": {
    "pycharm": {
     "name": "#%%\n"
    }
   },
   "outputs": [],
   "source": [
    "'''\n",
    "stored_pmap = PMap()\n",
    "#stored_pmap.read_config(\"./optimised_params/2transmons_uncoupled/Z_q2_200ns.json\")\n",
    "stored_pmap.read_config(\"./optimised_params/CZ_f.json\")\n",
    "stored_params = stored_pmap.asdict()[\"CZ_t1_t2[0, 1]\"]\n",
    "\n",
    "stored_signal = generateSignalFromConfig(stored_params, sim_res=sim_res, awg_res=awg_res, useDRAG=useDRAG,\n",
    "                                         usePWC=usePWC, numPWCPieces=numPWCPieces, t_final=t_final)\n",
    "print(stored_signal[\"d1\"][\"values\"].shape)\n",
    "'''"
   ]
  },
  {
   "cell_type": "code",
   "execution_count": null,
   "outputs": [],
   "source": [
    "'''\n",
    "stored_pmap = PMap()\n",
    "stored_pmap.read_config(\"./optimised_params/fourier basis 5 levels/17freqs 1000ns/unity.json\")\n",
    "stored_params = stored_pmap.asdict()[list(stored_pmap.asdict().keys())[0]]\n",
    "\n",
    "carrier_freqs = []\n",
    "pulse_xy_angles = []\n",
    "pulse_amps = []\n",
    "ampFactors = {\"d1\": 33, \"d2\": 0.8}\n",
    "for driveName, drive in stored_params[\"drive_channels\"].items():\n",
    "    env = drive[f\"envelope_{driveName}\"]\n",
    "    #print(env)\n",
    "    carrier_freqs.append(env.params[\"freqs\"].get_value().numpy() / (2 * np.pi))\n",
    "    pulse_xy_angles.append(env.params[\"phases\"].get_value().numpy())\n",
    "    pulse_amps.append(ampFactors[driveName] * env.params[\"amps\"].get_value().numpy()) # env.params[\"amp\"].get_value().numpy()\n",
    "'''"
   ],
   "metadata": {
    "collapsed": false,
    "pycharm": {
     "name": "#%%\n"
    }
   }
  },
  {
   "cell_type": "code",
   "execution_count": null,
   "metadata": {
    "pycharm": {
     "name": "#%%\n"
    }
   },
   "outputs": [],
   "source": [
    "# Create the generator\n",
    "'''\n",
    "cos_frequencies = np.array([4995997406.919341, 4704950761.420654, 4701014384.994876, 5007032274.618064,\n",
    "                            4062167078.4774194, 4148445305.307898, 4402001629.33434, 4245160832.138902,\n",
    "                            5000004596.914059, 4715989016.545379, 4377994950.489334, 4691989633.233531,\n",
    "                            4110695567.278656, 4106672258.1941147])\n",
    "cos_amplitudes = np.array([0.006776392936855479, 0.006183858694756216, 0.005921233065898419, 0.0053621575456050865,\n",
    "                           0.0058839116357663175, 0.0041460859937105295, 0.0040101476207611226, 0.003769561777275727,\n",
    "                           0.003031120830568577, 0.0031130260335161517, 0.002403971046868337, 0.002353206535976198,\n",
    "                           0.002012669743665184, 0.001825629728895534])\n",
    "cos_phases = np.array([1.6381027349231951, 2.5838889632467543, -0.6247481636275114, -2.6722366011197876,\n",
    "                       2.8325504483054322, 1.9886986099203705, 3.1009812892045643, -0.9957720554988438,\n",
    "                       1.2472118040300213, -1.2076080330207344, -2.911563673846197, -1.4505219481308833,\n",
    "                       2.4095913176783403, -1.1073120929779088])\n",
    "'''\n",
    "generator = createGenerator(drives, sim_res=sim_res, awg_res=awg_res)"
   ]
  },
  {
   "cell_type": "code",
   "execution_count": null,
   "metadata": {
    "pycharm": {
     "name": "#%%\n"
    }
   },
   "outputs": [],
   "source": [
    "# Envelopes and carriers\n",
    "'''\n",
    "carrier_freqs = [\n",
    "    #[0.5*(qubitTransitions[0][1]+qubitTransitions[0][0]), 0.5*(qubitTransitions[0][2]+qubitTransitions[0][1])],\n",
    "    #[qubitTransitions[1][0], qubitTransitions[1][1]],\n",
    "    [40e6, 563e6],\n",
    "    #[qubitTransitions[1][0]],\n",
    "    #[0.5*(qubitTransitions[1][1]+qubitTransitions[1][0]), 0.5*(qubitTransitions[1][2]+qubitTransitions[1][1])],\n",
    "    #[qubitTransitions[1][0], qubitTransitions[1][1]]\n",
    "    #[qubitTransitions[1][0]]\n",
    "    [121e6, 644e6]\n",
    "]\n",
    "#df = couplingStrength ** 2 / (qubit_frequencies[0] - qubit_frequencies[1])\n",
    "#print(\"shift: \", df)\n",
    "#carrier_freqs[0] = [x + df for x in carrier_freqs[0]]\n",
    "#carrier_freqs[1] = [x - df for x in carrier_freqs[1]]\n",
    "\n",
    "carrier_framechange = [\n",
    "    [0.01, 0.01],\n",
    "    [0.01, 0.01]\n",
    "]\n",
    "pulse_t_final = [\n",
    "    [t_final, t_final],\n",
    "    [t_final, t_final]\n",
    "]\n",
    "pulse_sigmas = [\n",
    "    [t_final/5, t_final/5],\n",
    "    [t_final/5, t_final/5]\n",
    "]\n",
    "pulse_amps = [\n",
    "    [6, 6],\n",
    "    [0.1, 0.1]\n",
    "]\n",
    "pulse_deltas = [\n",
    "    [0.01, 0.01],\n",
    "    [0.01, 0.01]\n",
    "]\n",
    "pulse_xy_angles = [\n",
    "    [0.01, 0.01],\n",
    "    [0.01, 0.01]\n",
    "]\n",
    "pulse_freq_offsets = [\n",
    "    [0.01, 0.01],\n",
    "    [0.01, 0.01]\n",
    "]\n",
    "'''\n",
    "carrier_freqs = [[5e9], [4e9]]\n",
    "pulse_xy_angles = [[1e-6], [1e-6]]\n",
    "pulse_amps = [[0.001], [0.001]]\n",
    "carrier_framechange = [[0.0], [0.0]]\n",
    "pulse_freq_offsets = [[0.0], [0.0]]\n",
    "pulse_t_final = [[1000e9], [1000e9]]\n",
    "pulse_sigmas = [[1000e9], [1000e9]]\n",
    "pulse_deltas = [[0.0], [0.0]]\n",
    "\n",
    "envelopes = []\n",
    "envelopesForDrive = {d.name: [] for d in drives}\n",
    "carriers = []\n",
    "carriersForDrive = {d.name: [] for d in drives}\n",
    "\n",
    "# copy carriers and envelopes from file\n",
    "for idx in []:\n",
    "    dstIdx = idx\n",
    "    srcIdx = idx\n",
    "    driveNameSrc = drives[srcIdx].name\n",
    "    driveNameDst = drives[dstIdx].name\n",
    "    stored_params_d = stored_params[\"drive_channels\"][driveNameSrc]\n",
    "    for i in range(0, len(carrier_freqs[idx])):\n",
    "        env: pulse.Envelope = copy.deepcopy(stored_params_d[f\"envelope_{driveNameSrc}_{i + 1}\"])\n",
    "        if useDRAG and not isinstance(env, EnvelopeDrag):\n",
    "            env = convertToDRAG(env)\n",
    "        if usePWC:\n",
    "            if env.shape != c3.libraries.envelopes.pwc:\n",
    "                env = convertToPWC(env, numPWCPieces)\n",
    "            elif len(env.params[\"inphase\"]) != numPWCPieces:\n",
    "                env = resamplePWC(env, numPWCPieces)\n",
    "        env.name = f\"envelope_{driveNameDst}_{i + 1}\"\n",
    "        #env = scaleGaussianEnvelope(env, t_final / env.params['t_final'].get_value())\n",
    "        #env.params[\"amp\"] = scaleQuantity(env.params[\"amp\"], 5)\n",
    "        #if dstIdx==1:\n",
    "        #    env.params[\"amp\"] = scaleQuantity(env.params[\"amp\"], 0.01)\n",
    "        envelopes.append(env)\n",
    "        envelopesForDrive[driveNameDst].append(env)\n",
    "\n",
    "        #shift = df if dstIdx == 0 else -df\n",
    "        carrier = copy.deepcopy(stored_params_d[f\"carrier_{driveNameSrc}_{i + 1}\"])\n",
    "        #print(\"Frequency: \", carrier.params[\"freq\"].get_value() / (2 * np.pi),\n",
    "        #      carrier.params[\"freq\"].get_limits()[0] / (2 * np.pi),\n",
    "        #      carrier.params[\"freq\"].get_limits()[1] / (2 * np.pi))\n",
    "        #print(stored_params_d[f\"carrier_{driveNameSrc}_{i + 1}\"])\n",
    "        #carrier.params[\"freq\"].set_value(\n",
    "        #    carrier.params[\"freq\"].get_value() / (2 * np.pi) + shift\n",
    "        #)\n",
    "        #carrier.params[\"freq\"] = Qty(\n",
    "        #    value=carrier_freqs[dstIdx][i],\n",
    "        #    min_val=0.95 * carrier_freqs[dstIdx][i],\n",
    "        #    max_val=1.05 * carrier_freqs[dstIdx][i],\n",
    "        #    unit=\"Hz 2pi\"\n",
    "        #)\n",
    "        carrier.name = f\"carrier_{driveNameDst}_{i + 1}\"\n",
    "        carriers.append(carrier)\n",
    "        carriersForDrive[driveNameDst].append(carrier)\n",
    "\n",
    "# create carriers and envelopes\n",
    "for idx in [0, 1]:\n",
    "    for i in range(0, len(carrier_freqs[idx])):\n",
    "        env = createGaussianPulse(\n",
    "            t_final=pulse_t_final[idx][i],\n",
    "            sigma=pulse_sigmas[idx][i],\n",
    "            amp=pulse_amps[idx][i],\n",
    "            delta=pulse_deltas[idx][i],\n",
    "            xy_angle=pulse_xy_angles[idx][i],\n",
    "            freq_off=pulse_freq_offsets[idx][i],\n",
    "            useDrag=useDRAG\n",
    "        )\n",
    "        #env = createNoDriveEnvelope(t_final)\n",
    "        if usePWC:\n",
    "            env = convertToPWC(env, numPWCPieces)\n",
    "        env.name = f\"envelope_{drives[idx].name}_{i + 1}\"\n",
    "        #env.params[\"amp\"] = scaleQuantity(env.params[\"amp\"], 0.2)\n",
    "        envelopes.append(env)\n",
    "        envelopesForDrive[drives[idx].name].append(env)\n",
    "\n",
    "        carrier_parameters = {\n",
    "            \"freq\": Qty(value=carrier_freqs[idx][i], min_val=0.98 * carrier_freqs[idx][i],\n",
    "                        max_val=1.02 * carrier_freqs[idx][i], unit=\"Hz 2pi\"),\n",
    "            \"framechange\": Qty(value=carrier_framechange[idx][i], min_val=-np.pi, max_val=3 * np.pi, unit=\"rad\"),\n",
    "        }\n",
    "        carrier = pulse.Carrier(\n",
    "            name=f\"carrier_{drives[idx].name}_{i + 1}\",\n",
    "            desc=\"Frequency of the local oscillator\",\n",
    "            params=carrier_parameters,\n",
    "        )\n",
    "        carriers.append(carrier)\n",
    "        carriersForDrive[drives[idx].name].append(carrier)\n",
    "\n",
    "print(\"carrier: \", [[carrier.params[\"freq\"] for carrier in carriers] for carriers in carriersForDrive.values()])\n",
    "print(\"amp: \", [[env.params[\"amp\"] for env in envelopes] for envelopes in envelopesForDrive.values()])"
   ]
  },
  {
   "cell_type": "code",
   "execution_count": null,
   "metadata": {
    "pycharm": {
     "name": "#%%\n"
    }
   },
   "outputs": [],
   "source": [
    "printMatrix(IDEAL_GATE, level_labels, \"ideal_gate\", output)\n",
    "\n",
    "gate = gates.Instruction(\n",
    "    name=IDEAL_GATE_NAME,\n",
    "    #name=\"unity\",\n",
    "    targets=[0, 1],\n",
    "    t_start=0.0,\n",
    "    t_end=t_final,\n",
    "    channels=[d.name for d in drives],\n",
    "    ideal=IDEAL_GATE,\n",
    ")\n",
    "for drive in drives:\n",
    "    for env in envelopesForDrive[drive.name]:\n",
    "        gate.add_component(copy.deepcopy(env), drive.name)\n",
    "    for carrier in carriersForDrive[drive.name]:\n",
    "        gate.add_component(copy.deepcopy(carrier), drive.name)"
   ]
  },
  {
   "cell_type": "code",
   "execution_count": null,
   "metadata": {
    "pycharm": {
     "name": "#%%\n"
    }
   },
   "outputs": [],
   "source": [
    "# all energy levels with labels\n",
    "stateEnergies = []\n",
    "H = model.get_Hamiltonian().numpy()\n",
    "evals,evecs = scipy.linalg.eig(H)\n",
    "evals = evals.real / (2 * np.pi)\n",
    "indices = [np.argmax(np.round(evecs[i], 2)) for i in range(len(evals))]\n",
    "for i, x in enumerate(level_labels_short):\n",
    "    if x is not None:\n",
    "        energy = evals[indices[i]]\n",
    "        stateEnergies.append((energy, x))\n",
    "\n",
    "# all energy transitions\n",
    "items = sorted(stateEnergies, key=lambda x: x[0])\n",
    "transitions = []\n",
    "for i in range(len(items)):\n",
    "    for j in range(len(items)):\n",
    "        if i != j:\n",
    "            #print(i, j)\n",
    "            E = items[j][0] - items[i][0]\n",
    "            if E > 0:\n",
    "                transitions.append((E, items[i][1] + \" - \" + items[j][1]))\n",
    "#for t in transitions:\n",
    "#    print(t)\n",
    "\n",
    "#transitions.sort(key=lambda x: x[0])\n",
    "#for t in transitions:\n",
    "#    print(t)\n",
    "\n",
    "directTransitions = np.array([np.abs(stateEnergies[i + 1][0] - stateEnergies[i][0]) for i in range(0, len(stateEnergies) - 1, 1)])\n",
    "#directTransitions = []\n",
    "#for i in range(0, len(stateEnergies)-1, 1):\n",
    "#    diff = stateEnergies[i+1][0] - stateEnergies[i][0]\n",
    "#    directTransitions.append(diff)\n",
    "#print(directTransitions)"
   ]
  },
  {
   "cell_type": "code",
   "execution_count": null,
   "outputs": [],
   "source": [
    "# Set up the experiment\n",
    "parameter_map = PMap(instructions=[gate], model=model, generator=generator)\n",
    "exp = Exp(pmap=parameter_map, sim_res=sim_res)\n",
    "exp.set_opt_gates([gate.get_key()])\n",
    "\n",
    "unitaries = exp.compute_propagators()\n",
    "printPropagator(exp, gate, level_labels_with_leakage, output)\n",
    "#printAllSignals(exp, qubit, output, directory=\"devices_before\")\n",
    "printSignal(exp, qubits, gate, output=output, states=transitions)\n",
    "#printMatrix(model.get_Hamiltonian(), level_labels_with_leakage, 'Hamiltonian', output)\n",
    "#printMatrix(model.get_Hamiltonian() / np.max(model.get_Hamiltonian()), level_labels_with_leakage, 'Hamiltonian_scaled', output)"
   ],
   "metadata": {
    "collapsed": false,
    "pycharm": {
     "name": "#%%\n"
    }
   }
  },
  {
   "cell_type": "code",
   "execution_count": null,
   "metadata": {
    "pycharm": {
     "name": "#%%\n"
    }
   },
   "outputs": [],
   "source": [
    "# Specify the initial state\n",
    "psi_init = [[0] * model.tot_dim]\n",
    "#for i in entanglementInitStateFull:\n",
    "#    psi_init[0][i] = 1\n",
    "psi_init[0][0] = 1\n",
    "psi_init /= np.linalg.norm(psi_init)\n",
    "print(\"initial state: \", psi_init)\n",
    "init_state = tf.transpose(tf.constant(psi_init, tf.complex128))\n",
    "sequence = [gate.get_key()]\n",
    "\n",
    "printTimeEvolution(exp, init_state, gate, level_labels, output)\n",
    "#printEntanglementEvolution(exp, gate, output)\n",
    "parameter_map.write_config(output.createFileName(\"parameter_map\", \"json\"))"
   ]
  },
  {
   "cell_type": "code",
   "execution_count": null,
   "metadata": {
    "pycharm": {
     "name": "#%%\n"
    }
   },
   "outputs": [],
   "source": [
    "# Specify the parameters to be optimised and initialise the optimiser\n",
    "opt_map = []\n",
    "for drive in drives:\n",
    "    for env in envelopesForDrive[drive.name]:\n",
    "        opt_map.append([(gate.get_key(), drive.name, env.name, \"amp\")])\n",
    "        #opt_map.append([(gate.get_key(), drive.name, env.name, \"freq_offset\")])\n",
    "        opt_map.append([(gate.get_key(), drive.name, env.name, \"xy_angle\")])\n",
    "        if useDRAG:\n",
    "            opt_map.append([(gate.get_key(), drive.name, env.name, \"delta\")])\n",
    "        if usePWC:\n",
    "            opt_map.append([(gate.get_key(), drive.name, env.name, \"inphase\")])\n",
    "            opt_map.append([(gate.get_key(), drive.name, env.name, \"quadrature\")])\n",
    "            #opt_map.append([(gate.get_key(), drive.name, env.name, \"t_bin_end\")])\n",
    "        else:\n",
    "            opt_map.append([(gate.get_key(), drive.name, env.name, \"sigma\")])\n",
    "        if OPTIMISE_TFINAL:\n",
    "            opt_map.append([(gate.get_key(), drive.name, env.name, \"t_final\")])\n",
    "    for carrier in carriersForDrive[drive.name]:\n",
    "        opt_map.append([(gate.get_key(), drive.name, carrier.name, \"freq\")])\n",
    "    #    #opt_map.append([(gate.get_key(), drive.name, carrier.name, \"framechange\")])\n",
    "parameter_map.set_opt_map(opt_map)\n",
    "parameter_map.print_parameters()"
   ]
  },
  {
   "cell_type": "code",
   "execution_count": null,
   "metadata": {
    "pycharm": {
     "name": "#%%\n"
    }
   },
   "outputs": [],
   "source": [
    "infidelities = []\n",
    "\n",
    "for algorithm in selected_algorithms:\n",
    "    if algorithm == ALGORITHM_LBFGS:\n",
    "        infidelities = optimise(output, qubits, exp, algorithms.lbfgs, {\n",
    "            \"maxfun\": 2000,\n",
    "            \"ftol\": 1e-6\n",
    "        }, gate)\n",
    "    elif algorithm == ALGORITHM_LBFGS_GRAD_FREE:\n",
    "        infidelities = optimise(output, qubits, exp, algorithms.lbfgs_grad_free, {\n",
    "            \"maxfun\": 500,\n",
    "            \"gtol\": 1e-4,\n",
    "            \"ftol\": 1e-4\n",
    "        }, gate)\n",
    "    elif algorithm == ALGORITHM_CMAES:\n",
    "        infidelities = optimise(output, qubits, exp, algorithms.cmaes, {\n",
    "            \"popsize\": 15,\n",
    "            \"spread\": 0.02,\n",
    "            \"maxfevals\": 2000,\n",
    "            \"init_point\": \"True\",\n",
    "            \"stop_at_sigma\": 1e-3,\n",
    "            \"stop_at_convergence\": 20\n",
    "        }, gate)\n",
    "    elif algorithm == ALGORITHM_GCMAES:\n",
    "        infidelities = optimise(output, qubits, exp, algorithms.gcmaes, {\n",
    "            \"cmaes\": {\"popsize\": 12, \"spread\": 0.05, \"maxfevals\": 20,\n",
    "                      \"init_point\": \"True\", \"stop_at_sigma\": 1e-4, \"stop_at_convergence\": 20},\n",
    "            \"lbfgs\": {\"maxfun\": 500, \"ftol\": 1e-6}\n",
    "        }, gate)\n",
    "    else:\n",
    "        print(\"Unknown algorithm: \", algorithm)"
   ]
  },
  {
   "cell_type": "code",
   "execution_count": null,
   "metadata": {
    "pycharm": {
     "name": "#%%\n"
    }
   },
   "outputs": [],
   "source": [
    "# Plot results\n",
    "output = DataOutput(output_dir, file_suffix='after')\n",
    "plotData(np.arange(len(infidelities)), infidelities, xlabel=\"Step\",\n",
    "         ylabel=\"Infidelity\", filename=output.createFileName(\"convergence\", \"svg\"))\n",
    "printSignal(exp, qubits, gate, output=output, states=transitions)\n",
    "#printAllSignals(exp, qubits, output, directory=\"devices_after\")\n",
    "printPropagator(exp, gate, level_labels_with_leakage, output, savePartials=False)\n",
    "printTimeEvolution(exp, init_state, gate, level_labels, output)\n",
    "#printEntanglementEvolution(exp, gate, output)\n",
    "parameter_map.write_config(output.createFileName(\"parameter_map\", \"json\"))"
   ]
  },
  {
   "cell_type": "code",
   "execution_count": null,
   "outputs": [],
   "source": [
    "'''\n",
    "import numpy as np\n",
    "from typing import Tuple\n",
    "import tensorflow as tf\n",
    "\n",
    "def makhlinInvariants(U: tf.Tensor) -> tf.Tensor:\n",
    "    # transform to bell basis\n",
    "    Q = tf.constant(np.matrix([\n",
    "        [1, 0, 0, 1j],\n",
    "        [0, 1j, 1, 0],\n",
    "        [0, 1j, -1, 0],\n",
    "        [1, 0, 0, -1j]\n",
    "    ]) / np.sqrt(2))\n",
    "    Ub = tf.matmul(tf.linalg.adjoint(Q), tf.matmul(U, Q))\n",
    "\n",
    "    # calculate characteristics\n",
    "    m = tf.matmul(tf.transpose(Ub), Ub)\n",
    "    tr = tf.linalg.trace(m)\n",
    "    tr2 = tf.linalg.trace(m ** 2)\n",
    "    trSq = tr ** 2\n",
    "    g1 = tf.math.real(trSq) / 16.0\n",
    "    g2 = tf.math.imag(trSq) / 16.0\n",
    "    g3 = tf.math.real((trSq - tr2)) / 4.0\n",
    "    return tf.concat([g1, g2, g3], 0)\n",
    "\n",
    "\n",
    "def makhlinDistance(gs: tf.Tensor) -> tf.Tensor:\n",
    "    roots = np.roots([1, -g3, 4 * np.sqrt(g1 ** 2 + g2 ** 2) - 1, g3 - 4 * g1]).real()\n",
    "    roots = np.round(roots, 5)\n",
    "    z = np.sort(roots)\n",
    "    print(\"roots: \", roots)\n",
    "    print(\"sorted: \", z)\n",
    "\n",
    "    d = g3 * np.sqrt(g1 ** 2 + g2 ** 2) - g1\n",
    "    s = np.pi - np.arccos(z[0]) - np.arccos(z[2])\n",
    "    print(\"d: \", d, \"s: \", s)\n",
    "    if d>0 and s>0:\n",
    "        return d\n",
    "    elif d<0 and s<0:\n",
    "        return -d\n",
    "    else:\n",
    "        return 0\n",
    "\n",
    "sqrtSWAP = np.matrix([\n",
    "    [1, 0, 0, 0],\n",
    "    [0,(1+1j)/2.0,(1-1j)/2.0,0],\n",
    "    [0,(1-1j)/2.0,(1+1j)/2.0,0],\n",
    "    [0,0,0,1],\n",
    "])\n",
    "SWAP = np.matrix([\n",
    "    [1,0,0,0],\n",
    "    [0,0,1,0],\n",
    "    [0,1,0,0],\n",
    "    [0,0,0,1]\n",
    "])\n",
    "CNOT = np.matrix([\n",
    "    [1,0,0,0],\n",
    "    [0,1,0,0],\n",
    "    [0,0,0,1],\n",
    "    [0,0,1,0]\n",
    "])\n",
    "UNITY = np.matrix([\n",
    "    [1,0,0,0],\n",
    "    [0,1,0,0],\n",
    "    [0,0,1,0],\n",
    "    [0, 0, 0, 1]\n",
    "])\n",
    "gs = makhlinInvariants(tf.constant(UNITY, dtype=tf.complex128))\n",
    "print(gs)\n",
    "#dist = makhlinDistance(g1, g2, g3)\n",
    "#print(dist)\n",
    "'''"
   ],
   "metadata": {
    "collapsed": false,
    "pycharm": {
     "name": "#%%\n"
    }
   }
  },
  {
   "cell_type": "code",
   "execution_count": null,
   "metadata": {
    "pycharm": {
     "name": "#%%\n"
    }
   },
   "outputs": [],
   "source": []
  }
 ],
 "metadata": {
  "kernelspec": {
   "display_name": "Python 3 (ipykernel)",
   "language": "python",
   "name": "python3"
  },
  "language_info": {
   "codemirror_mode": {
    "name": "ipython",
    "version": 3
   },
   "file_extension": ".py",
   "mimetype": "text/x-python",
   "name": "python",
   "nbconvert_exporter": "python",
   "pygments_lexer": "ipython3",
   "version": "3.10.4"
  }
 },
 "nbformat": 4,
 "nbformat_minor": 1
}