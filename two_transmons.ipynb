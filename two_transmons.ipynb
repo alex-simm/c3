{
 "cells": [
  {
   "cell_type": "code",
   "execution_count": null,
   "outputs": [],
   "source": [
    "import argparse\n",
    "import numpy as np\n",
    "\n",
    "# Main C3 objects\n",
    "from c3.libraries import constants\n",
    "from c3.parametermap import ParameterMap as PMap\n",
    "from c3.experiment import Experiment as Exp\n",
    "from c3.model import Model as Mdl\n",
    "\n",
    "# Building blocks\n",
    "import c3.generator.devices as devices\n",
    "import c3.signal.gates as gates\n",
    "import c3.libraries.chip as chip\n",
    "import c3.signal.pulse as pulse\n",
    "import c3.libraries.tasks as tasks\n",
    "\n",
    "# Libs and helpers\n",
    "import c3.libraries.algorithms as algorithms\n",
    "import c3.libraries.fidelities as fidelities\n",
    "import c3.utils.qt_utils as qt_utils\n",
    "from c3.optimizers.optimalcontrol import OptimalControl\n",
    "\n",
    "#%matplotlib widget\n",
    "\n",
    "from four_level_transmons.utilities import *\n",
    "from four_level_transmons.plotting import *\n",
    "from four_level_transmons.custom_envelopes import *\n",
    "from four_level_transmons.DataOutput import DataOutput"
   ],
   "metadata": {
    "collapsed": false,
    "pycharm": {
     "name": "#%%\n"
    }
   }
  },
  {
   "cell_type": "code",
   "execution_count": null,
   "outputs": [],
   "source": [
    "parser = argparse.ArgumentParser()\n",
    "parser.add_argument(\"output\", help=\"Output directory\")\n",
    "args = parser.parse_args()\n",
    "output_dir = args.output\n",
    "#output_dir = \"../output\""
   ],
   "metadata": {
    "collapsed": false,
    "pycharm": {
     "name": "#%%\n"
    }
   }
  },
  {
   "cell_type": "code",
   "execution_count": null,
   "outputs": [],
   "source": [
    "def printSignals(exper: Experiment, qubits: List[chip.Qubit],\n",
    "                gate: gates.Instruction, pwcTimes: np.array,\n",
    "                output: DataOutput):\n",
    "    for qubit in qubits:\n",
    "        # generate signal\n",
    "        signal = generateSignal(exper, gate, qubit)\n",
    "        ts = signal[\"ts\"].numpy()\n",
    "        values = signal[\"values\"].numpy()\n",
    "\n",
    "        # save data\n",
    "        drive = getDrive(exper.pmap.model, qubit)\n",
    "        peakFrequencies, peakValues = findFrequencyPeaks(ts, values, 4)\n",
    "        print(f\"qubit {qubit.name}: peaks: \", np.sort(peakFrequencies))\n",
    "        output.save([ts, values], \"signal_\" + drive.name)\n",
    "\n",
    "        # plot\n",
    "        envelope = getEnvelope(exper.pmap.generator, gate, drive.name)\n",
    "        plotSignalAndSpectrum(ts, values, envelope=envelope, pwcTimes=pwcTimes,\n",
    "                              filename=output.createFileName(\"signal_\" + drive.name, \"png\"))\n",
    "\n",
    "\n",
    "def printTimeEvolution(exper: Experiment, init: tf.Tensor, gate: gates.Instruction,\n",
    "                       labels: List[str], output: DataOutput):\n",
    "    populations = calculatePopulation(exper, init, [gate.get_key()])\n",
    "    output.save(populations, \"population\")\n",
    "    plotPopulation(exper, populations, sequence=[gate.get_key()],\n",
    "                   labels=labels, filename=output.createFileName(\"population\"))\n",
    "    plotSplittedPopulation(exper, populations, sequence=[gate.get_key()],\n",
    "                           filename=output.createFileName(\"population\"))\n",
    "\n",
    "\n",
    "def printMatrix(M: np.array, labels: List[str], name: str):\n",
    "    plotComplexMatrix(M, xlabels=labels, ylabels=labels, filename=output.createFileName(name))\n",
    "    plotComplexMatrixAbsOrPhase(M, xlabels=labels, ylabels=labels, phase=True,\n",
    "                                filename=output.createFileName(name + \"_phase\"))\n",
    "    plotComplexMatrixAbsOrPhase(M, xlabels=labels, ylabels=labels, phase=False,\n",
    "                                filename=output.createFileName(name + \"_abs\"))\n",
    "\n",
    "\n",
    "def printPropagator(exper: Experiment, gate: gates.Instruction,\n",
    "                    labels: List[str], output: DataOutput):\n",
    "    U = exper.propagators[gate.get_key()]\n",
    "    output.save(U, \"propagator\")\n",
    "    printMatrix(U, labels, \"propagator\")"
   ],
   "metadata": {
    "collapsed": false,
    "pycharm": {
     "name": "#%%\n"
    }
   }
  },
  {
   "cell_type": "code",
   "execution_count": null,
   "outputs": [],
   "source": [
    "output = DataOutput(output_dir, file_suffix='before')\n",
    "\n",
    "# Initialise the qubits and drive lines\n",
    "qubit_levels = [5, 5]\n",
    "qubit_frequency = [5e9, 4e9]\n",
    "anharmonicity = [-300e6, -300e6]\n",
    "t1 = [25e-6, 25e-6]\n",
    "t2star = [35e-6, 35e-6]\n",
    "qubit_temp = [50e-3, 50e-3]\n",
    "level_labels_transmon = [\"|0,0\\\\rangle\", \"|0,1\\\\rangle\", \"|1,0\\\\rangle\", \"|1,1\\\\rangle\"]\n",
    "level_labels = []\n",
    "level_labels_with_leakage = []\n",
    "for i in range(5):\n",
    "    for j in range(5):\n",
    "        if i>3 or j>3:\n",
    "            level_labels_with_leakage.append(\"leakage\")\n",
    "        else:\n",
    "            s = f\"${level_labels_transmon[i]}\\otimes{level_labels_transmon[j]}$\"\n",
    "            level_labels.append(s)\n",
    "            level_labels_with_leakage.append(s)\n",
    "level_labels_transmon = [f\"${x}$\" for x in level_labels_transmon]\n",
    "\n",
    "qubits = createQubits(qubit_levels, qubit_frequency, anharmonicity, t1,\n",
    "                      t2star, qubit_temp)\n",
    "drives = createDrives(qubits)\n",
    "\n",
    "# Initialise the coupling\n",
    "#coupling_strength = 50e6\n",
    "#coupling = createChainCouplings(coupling_strength, qubits)[0]"
   ],
   "metadata": {
    "collapsed": false,
    "pycharm": {
     "name": "#%%\n"
    }
   }
  },
  {
   "cell_type": "code",
   "execution_count": null,
   "outputs": [],
   "source": [
    "# Create the model\n",
    "model = Mdl(qubits, drives)\n",
    "model.set_lindbladian(False)\n",
    "model.set_dressed(True)\n",
    "\n",
    "energies = model.get_Hamiltonian().numpy().diagonal().real\n",
    "print(\"energies: \", energies)\n",
    "print(\"sorted: \", np.sort(energies))"
   ],
   "metadata": {
    "collapsed": false,
    "pycharm": {
     "name": "#%%\n"
    }
   }
  },
  {
   "cell_type": "code",
   "execution_count": null,
   "outputs": [],
   "source": [
    "# Create the generator\n",
    "sim_res = 100e9\n",
    "awg_res = 2e9\n",
    "v2hz = 1e9\n",
    "generator = createGenerator(drives, useDrag=True)"
   ],
   "metadata": {
    "collapsed": false,
    "pycharm": {
     "name": "#%%\n"
    }
   }
  },
  {
   "cell_type": "code",
   "execution_count": null,
   "outputs": [],
   "source": [
    "# Envelopes and carriers\n",
    "t_final = 25e-9\n",
    "sideband = 50e6\n",
    "carrier_freqs = [4.7e9, 3.7e9]\n",
    "numPWCPieces = 30\n",
    "\n",
    "gaussian_envelope = createPWCDoubleGaussianPulse(\n",
    "    t_final=t_final,\n",
    "    sigma=t_final / 15,\n",
    "    sigma2=t_final / 30,\n",
    "    relative_amp=2,\n",
    "    num_pieces=numPWCPieces\n",
    ")\n",
    "gaussian_envelope.name = \"pwc1\"\n",
    "constant_pwc_envelope = createPWCConstantPulse(t_final, numPWCPieces, 1e-5)\n",
    "constant_pwc_envelope.name = \"pwc2\"\n",
    "\n",
    "carriers = createCarriers(carrier_freqs, sideband)"
   ],
   "metadata": {
    "collapsed": false,
    "pycharm": {
     "name": "#%%\n"
    }
   }
  },
  {
   "cell_type": "code",
   "execution_count": null,
   "outputs": [],
   "source": [
    "ideal_1_X = qt_utils.np_kron_n([constants.Id, constants.x90p])\n",
    "ideal_1_1 = qt_utils.np_kron_n([constants.Id, constants.Id])\n",
    "ideal_gate = ideal_1_X\n",
    "printMatrix(qt_utils.np_kron_n([ideal_gate, ideal_1_1]), level_labels[:16], \"ideal_gate\")\n",
    "gate = createTwoQubitsGate(\"rx90p_t1_q1\", drives, carriers, [0], t_final,\n",
    "                                          gaussian_envelope, constant_pwc_envelope, sideband,\n",
    "                                          ideal=ideal_gate)"
   ],
   "metadata": {
    "collapsed": false,
    "pycharm": {
     "name": "#%%\n"
    }
   }
  },
  {
   "cell_type": "code",
   "execution_count": null,
   "outputs": [],
   "source": [
    "# Set up the experiment\n",
    "parameter_map = PMap(instructions=[gate], model=model, generator=generator)\n",
    "exp = Exp(pmap=parameter_map)\n",
    "exp.set_opt_gates([gate.get_key()])\n",
    "\n",
    "printSignals(exp, qubits, gate, pwcTimes=tf.linspace(0.0, t_final, numPWCPieces), output=output)\n",
    "\n",
    "unitaries = exp.compute_propagators()\n",
    "printPropagator(exp, gate, level_labels_with_leakage, output)"
   ],
   "metadata": {
    "collapsed": false,
    "pycharm": {
     "name": "#%%\n"
    }
   }
  },
  {
   "cell_type": "code",
   "execution_count": null,
   "outputs": [],
   "source": [
    "# Specify the initial state\n",
    "psi_init = [[0] * model.tot_dim]\n",
    "psi_init[0][0] = 1\n",
    "init_state = tf.transpose(tf.constant(psi_init, tf.complex128))\n",
    "sequence = [gate.get_key()]\n",
    "\n",
    "printTimeEvolution(exp, init_state, gate, level_labels_with_leakage, output)"
   ],
   "metadata": {
    "collapsed": false,
    "pycharm": {
     "name": "#%%\n"
    }
   }
  },
  {
   "cell_type": "code",
   "execution_count": null,
   "outputs": [],
   "source": [
    "# Specify the parameters to be optimised and initialise the optimiser\n",
    "parameter_map.set_opt_map([\n",
    "    [(gate.get_key(), drives[0].name, gaussian_envelope.name, \"amp\")],\n",
    "    [(gate.get_key(), drives[0].name, gaussian_envelope.name, \"freq_offset\")],\n",
    "    [(gate.get_key(), drives[0].name, gaussian_envelope.name, \"xy_angle\")],\n",
    "    [(gate.get_key(), drives[0].name, gaussian_envelope.name, \"delta\")],\n",
    "    [(gate.get_key(), drives[0].name, gaussian_envelope.name, \"t_final\")],\n",
    "    [(gate.get_key(), drives[0].name, gaussian_envelope.name, \"inphase\")],\n",
    "    [(gate.get_key(), drives[0].name, carriers[0].name, \"freq\")],\n",
    "    [(gate.get_key(), drives[0].name, carriers[0].name, \"framechange\")],\n",
    "    [(gate.get_key(), drives[1].name, constant_pwc_envelope.name, \"amp\")],\n",
    "    [(gate.get_key(), drives[1].name, constant_pwc_envelope.name, \"freq_offset\")],\n",
    "    [(gate.get_key(), drives[1].name, constant_pwc_envelope.name, \"xy_angle\")],\n",
    "    [(gate.get_key(), drives[1].name, constant_pwc_envelope.name, \"delta\")],\n",
    "    [(gate.get_key(), drives[1].name, constant_pwc_envelope.name, \"t_final\")],\n",
    "    [(gate.get_key(), drives[1].name, constant_pwc_envelope.name, \"inphase\")],\n",
    "    [(gate.get_key(), drives[1].name, carriers[1].name, \"freq\")],\n",
    "    [(gate.get_key(), drives[1].name, carriers[1].name, \"framechange\")],\n",
    "])\n",
    "parameter_map.print_parameters()\n",
    "\n",
    "opt = OptimalControl(\n",
    "    dir_path=output.getDirectory(),\n",
    "    fid_func=fidelities.unitary_infid_set,\n",
    "    fid_subspace=[q.name for q in qubits],\n",
    "    pmap=parameter_map,\n",
    "    algorithm=algorithms.lbfgs,\n",
    "    options={\"maxfun\": 1000},\n",
    "    run_name=gate.name,\n",
    "    fid_func_kwargs={\n",
    "        \"active_levels\": 4\n",
    "    }\n",
    ")\n",
    "exp.set_opt_gates([gate.get_key()])\n",
    "opt.set_exp(exp)\n",
    "infidelities = []\n",
    "def fidelityCallback(index, fidelity):\n",
    "    print(index, fidelity)\n",
    "    infidelities.append(fidelity)\n",
    "opt.set_callback(fidelityCallback)"
   ],
   "metadata": {
    "collapsed": false,
    "pycharm": {
     "name": "#%%\n"
    }
   }
  },
  {
   "cell_type": "code",
   "execution_count": null,
   "outputs": [],
   "source": [
    "# Run the optimisation\n",
    "opt.optimize_controls()\n",
    "print(opt.current_best_goal)"
   ],
   "metadata": {
    "collapsed": false,
    "pycharm": {
     "name": "#%%\n"
    }
   }
  },
  {
   "cell_type": "code",
   "execution_count": null,
   "outputs": [],
   "source": [
    "# Print and plot results\n",
    "parameter_map.print_parameters()\n",
    "\n",
    "output = DataOutput(output_dir, file_suffix='after')\n",
    "plotData(np.arange(len(infidelities)), infidelities, xlabel=\"Step\",\n",
    "         ylabel=\"Infidelity\", filename=output.createFileName(\"convergence\", \"png\"))\n",
    "printSignals(exp, qubits, gate, pwcTimes=tf.linspace(0.0, t_final, numPWCPieces), output=output)\n",
    "printPropagator(exp, gate, level_labels_with_leakage, output)\n",
    "printTimeEvolution(exp, init_state, gate, level_labels_with_leakage, output)"
   ],
   "metadata": {
    "collapsed": false,
    "pycharm": {
     "name": "#%%\n"
    }
   }
  },
  {
   "cell_type": "code",
   "execution_count": null,
   "outputs": [],
   "source": [],
   "metadata": {
    "collapsed": false,
    "pycharm": {
     "name": "#%%\n"
    }
   }
  }
 ],
 "metadata": {
  "kernelspec": {
   "display_name": "Python 3",
   "language": "python",
   "name": "python3"
  },
  "language_info": {
   "codemirror_mode": {
    "name": "ipython",
    "version": 2
   },
   "file_extension": ".py",
   "mimetype": "text/x-python",
   "name": "python",
   "nbconvert_exporter": "python",
   "pygments_lexer": "ipython2",
   "version": "2.7.6"
  }
 },
 "nbformat": 4,
 "nbformat_minor": 0
}