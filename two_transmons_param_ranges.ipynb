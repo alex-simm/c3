{
 "cells": [
  {
   "cell_type": "code",
   "execution_count": 1,
   "outputs": [
    {
     "name": "stderr",
     "output_type": "stream",
     "text": [
      "2022-05-19 13:52:22.158482: W tensorflow/stream_executor/platform/default/dso_loader.cc:64] Could not load dynamic library 'libcudart.so.11.0'; dlerror: libcudart.so.11.0: cannot open shared object file: No such file or directory\n",
      "2022-05-19 13:52:22.158532: I tensorflow/stream_executor/cuda/cudart_stub.cc:29] Ignore above cudart dlerror if you do not have a GPU set up on your machine.\n"
     ]
    }
   ],
   "source": [
    "import argparse\n",
    "import copy\n",
    "import os\n",
    "import sys\n",
    "\n",
    "# Libs and helpers\n",
    "from collections import OrderedDict\n",
    "\n",
    "import numpy as np\n",
    "import scipy.linalg\n",
    "import tensorflow as tf\n",
    "\n",
    "import c3.libraries.algorithms as algorithms\n",
    "import c3.libraries.fidelities as fidelities\n",
    "import c3.utils.qt_utils as qt_utils\n",
    "from c3.utils.tf_utils import tf_project_to_comp, tf_abs, tf_unitary_overlap\n",
    "import four_level_transmons.custom_gates as custom_gates\n",
    "from c3.experiment import Experiment as Exp\n",
    "# Main C3 objects\n",
    "from c3.libraries import constants\n",
    "from c3.model import Model as Mdl\n",
    "from c3.optimizers.optimalcontrol import OptimalControl\n",
    "from c3.parametermap import ParameterMap as PMap\n",
    "from four_level_transmons.DataOutput import DataOutput\n",
    "from four_level_transmons.custom_envelopes import *\n",
    "from four_level_transmons.plotting import *\n",
    "from four_level_transmons.utilities import *\n",
    "from c3.utils.tf_utils import tf_abs_squared\n",
    "import matplotlib as mpl\n",
    "import matplotlib.pyplot as plt\n",
    "\n",
    "tf.config.run_functions_eagerly(True)"
   ],
   "metadata": {
    "collapsed": false,
    "pycharm": {
     "name": "#%%\n"
    }
   }
  },
  {
   "cell_type": "code",
   "execution_count": 2,
   "outputs": [
    {
     "name": "stdout",
     "output_type": "stream",
     "text": [
      "=========== WARNING: no output directory specified ============\n"
     ]
    }
   ],
   "source": [
    "if len(sys.argv[1:]) > 0 and \"ipykernel_launcher\" not in sys.argv[0]:\n",
    "    parser = argparse.ArgumentParser()\n",
    "    parser.add_argument(\"output\", help=\"Output directory\")\n",
    "    args = parser.parse_args()\n",
    "    output_dir = args.output\n",
    "    print(\"Output directory: \", output_dir)\n",
    "else:\n",
    "    print(\"=========== WARNING: no output directory specified ============\")\n",
    "    output_dir = \"./output\""
   ],
   "metadata": {
    "collapsed": false,
    "pycharm": {
     "name": "#%%\n"
    }
   }
  },
  {
   "cell_type": "code",
   "execution_count": 3,
   "outputs": [],
   "source": [
    "qubit_levels = [4, 4]\n",
    "qubit_frequencies = [5e9, 4.1e9]\n",
    "anharmonicities = [-300e6, -250e6]\n",
    "t1s = [25e-6, 25e-6]\n",
    "t2stars = [35e-6, 35e-6]\n",
    "qubit_temps = [50e-3, 50e-3]"
   ],
   "metadata": {
    "collapsed": false,
    "pycharm": {
     "name": "#%%\n"
    }
   }
  },
  {
   "cell_type": "code",
   "execution_count": 4,
   "outputs": [
    {
     "name": "stdout",
     "output_type": "stream",
     "text": [
      "0 0,0 0,0\n",
      "1 0,1 0,1\n",
      "2 0,2 0,2\n",
      "3 0,3 0,3\n",
      "4 1,0 1,0\n",
      "5 1,1 1,1\n",
      "6 1,2 1,2\n",
      "7 1,3 1,3\n",
      "8 2,0 2,0\n",
      "9 2,1 2,1\n",
      "10 2,2 2,2\n",
      "11 2,3 2,3\n",
      "12 3,0 3,0\n",
      "13 3,1 3,1\n",
      "14 3,2 3,2\n",
      "15 3,3 3,3\n"
     ]
    }
   ],
   "source": [
    "# labels for all states\n",
    "level_labels = []\n",
    "level_labels_with_leakage = []\n",
    "for i in range(qubit_levels[0]):\n",
    "    for j in range(qubit_levels[1]):\n",
    "        if i > 3 or j > 3:\n",
    "            level_labels.append(None)\n",
    "        else:\n",
    "            level_labels.append(f\"{i},{j}\")\n",
    "        level_labels_with_leakage.append(f\"{i},{j}\")\n",
    "\n",
    "for i,l in enumerate(level_labels):\n",
    "    print(i, l, level_labels_with_leakage[i])"
   ],
   "metadata": {
    "collapsed": false,
    "pycharm": {
     "name": "#%%\n"
    }
   }
  },
  {
   "cell_type": "code",
   "execution_count": 5,
   "outputs": [],
   "source": [
    "def printMatrix(M: np.array, labels: List[str], name: str, output: DataOutput):\n",
    "    plotComplexMatrixHinton(M, maxAbsolute=1, xlabels=labels, ylabels=labels, gridColour=\"gray\",\n",
    "                            filename=output.createFileName(name, \"svg\"), colourMap='hsv')"
   ],
   "metadata": {
    "collapsed": false,
    "pycharm": {
     "name": "#%%\n"
    }
   }
  },
  {
   "cell_type": "code",
   "execution_count": 6,
   "outputs": [],
   "source": [
    "output = DataOutput(\"test_output\")\n",
    "\n",
    "\n",
    "def getInfidelity(i, j, qubitFrequency: float, anharmonicity: float, couplingStrength: float) -> np.array:\n",
    "    # Initialise the qubits and drive lines\n",
    "    qubits = createQubits(\n",
    "        qubit_levels_list=qubit_levels,\n",
    "        freq_list=[qubit_frequencies[0], qubitFrequency],\n",
    "        anharm_list=[anharmonicities[0], anharmonicity],\n",
    "        t1_list=t1s,\n",
    "        t2star_list=t2stars,\n",
    "        qubit_temp=qubit_temps\n",
    "    )\n",
    "    coupling = createChainCouplings([couplingStrength], qubits)\n",
    "    drives = createDrives(qubits)\n",
    "\n",
    "    # Create the model\n",
    "    model = Mdl(qubits, coupling + drives)\n",
    "    model.set_lindbladian(False)\n",
    "    model.set_dressed(False)\n",
    "    model.set_FR(False)\n",
    "\n",
    "    # create the generator\n",
    "    generator = createGenerator(drives, useDrag=False, usePWC=False)\n",
    "    envelopes = []\n",
    "    carriers = []\n",
    "    t_final = 200e-9\n",
    "    for idx in [0, 1]:\n",
    "        env = createNoDriveEnvelope(t_final)\n",
    "        env.name = f\"envelope_{drives[idx].name}\"\n",
    "        envelopes.append(env)\n",
    "\n",
    "        carrier_parameters = {\n",
    "            \"freq\": Qty(value=5e9, min_val=0.98 * 5e9, max_val=1.02 * 5e9, unit=\"Hz 2pi\"),\n",
    "            \"framechange\": Qty(value=0.01, min_val=-np.pi, max_val=3 * np.pi, unit=\"rad\")\n",
    "        }\n",
    "        carrier = pulse.Carrier(\n",
    "            name=f\"carrier_{drives[idx].name}\",\n",
    "            desc=\"Frequency of the local oscillator\",\n",
    "            params=carrier_parameters,\n",
    "        )\n",
    "        carriers.append(carrier)\n",
    "\n",
    "    # create the instruction\n",
    "    ideal_gate = np.eye(model.tot_dim)\n",
    "    gate = gates.Instruction(\n",
    "        name=\"unity\",\n",
    "        targets=[0, 1],\n",
    "        t_start=0.0,\n",
    "        t_end=t_final,\n",
    "        channels=[d.name for d in drives],\n",
    "        ideal=ideal_gate,\n",
    "    )\n",
    "    for i in range(len(drives)):\n",
    "        gate.add_component(envelopes[i], drives[i].name)\n",
    "        gate.add_component(carriers[i], drives[i].name)\n",
    "\n",
    "    # calculate the propagator\n",
    "    parameter_map = PMap(instructions=[gate], model=model, generator=generator)\n",
    "    exp = Exp(pmap=parameter_map)\n",
    "    exp.set_opt_gates([gate.get_key()])\n",
    "    exp.compute_propagators()\n",
    "    U = exp.propagators[gate.get_key()]\n",
    "    printMatrix(U, level_labels, f\"propagator{i}-{j}_f{qubitFrequency}_a{anharmonicity}_c{couplingStrength}\", output)\n",
    "    fidelity = tf_abs_squared(\n",
    "        np.trace(U.numpy()) / np.prod(qubit_levels)\n",
    "    )\n",
    "    return 1.0 - fidelity"
   ],
   "metadata": {
    "collapsed": false,
    "pycharm": {
     "name": "#%%\n"
    }
   }
  },
  {
   "cell_type": "code",
   "execution_count": 7,
   "outputs": [],
   "source": [
    "couplings = np.arange(5e6, 50e6, 2e6)\n",
    "frequencies = np.arange(4.0e9, 4.9e9, 0.02e9)\n",
    "anharmonicities = np.arange(-600e6, -50e6, 50e6)\n",
    "x = frequencies\n",
    "y = anharmonicities"
   ],
   "metadata": {
    "collapsed": false,
    "pycharm": {
     "name": "#%%\n"
    }
   }
  },
  {
   "cell_type": "code",
   "execution_count": null,
   "outputs": [],
   "source": [
    "allValues = np.zeros(shape=(len(x), len(y)))\n",
    "for i in range(len(x)):\n",
    "    for j in range(len(y)):\n",
    "        print(f\"{i+1} / {len(x)}\", f\"{j+1} / {len(y)}\")\n",
    "        fid = getInfidelity(i, j, x[i], y[j], 30e6)\n",
    "        allValues[i, j] = fid\n",
    "        print(fid)\n",
    "\n",
    "np.save('./test_output/infidelities', allValues)"
   ],
   "metadata": {
    "collapsed": false,
    "pycharm": {
     "name": "#%%\n"
    }
   }
  },
  {
   "cell_type": "code",
   "execution_count": 8,
   "outputs": [],
   "source": [
    "def heatmap(data, row_labels, col_labels, ax=None,\n",
    "            cbar_kw={}, cbarlabel=\"\", **kwargs):\n",
    "    \"\"\"\n",
    "    Create a heatmap from a numpy array and two lists of labels.\n",
    "\n",
    "    Parameters\n",
    "    ----------\n",
    "    data\n",
    "        A 2D numpy array of shape (M, N).\n",
    "    row_labels\n",
    "        A list or array of length M with the labels for the rows.\n",
    "    col_labels\n",
    "        A list or array of length N with the labels for the columns.\n",
    "    ax\n",
    "        A `matplotlib.axes.Axes` instance to which the heatmap is plotted.  If\n",
    "        not provided, use current axes or create a new one.  Optional.\n",
    "    cbar_kw\n",
    "        A dictionary with arguments to `matplotlib.Figure.colorbar`.  Optional.\n",
    "    cbarlabel\n",
    "        The label for the colorbar.  Optional.\n",
    "    **kwargs\n",
    "        All other arguments are forwarded to `imshow`.\n",
    "    \"\"\"\n",
    "\n",
    "    if not ax:\n",
    "        ax = plt.gca()\n",
    "\n",
    "    # Plot the heatmap\n",
    "    im = ax.imshow(data, **kwargs)\n",
    "\n",
    "    # Create colorbar\n",
    "    cbar = ax.figure.colorbar(im, ax=ax, **cbar_kw)\n",
    "    cbar.ax.set_ylabel(cbarlabel, rotation=-90, va=\"bottom\")\n",
    "\n",
    "    # Show all ticks and label them with the respective list entries.\n",
    "    ax.set_xticks(np.arange(data.shape[1]), labels=col_labels)\n",
    "    ax.set_yticks(np.arange(data.shape[0]), labels=row_labels)\n",
    "\n",
    "    # Let the horizontal axes labeling appear on top.\n",
    "    ax.tick_params(top=True, bottom=False,\n",
    "                   labeltop=True, labelbottom=False)\n",
    "\n",
    "    # Rotate the tick labels and set their alignment.\n",
    "    plt.setp(ax.get_xticklabels(), rotation=-30, ha=\"right\",\n",
    "             rotation_mode=\"anchor\")\n",
    "\n",
    "    # Turn spines off and create white grid.\n",
    "    ax.spines[:].set_visible(False)\n",
    "\n",
    "    ax.set_xticks(np.arange(data.shape[1]+1)-.5, minor=True)\n",
    "    ax.set_yticks(np.arange(data.shape[0]+1)-.5, minor=True)\n",
    "    ax.grid(which=\"minor\", color=\"w\", linestyle='-', linewidth=3)\n",
    "    ax.tick_params(which=\"minor\", bottom=False, left=False)\n",
    "\n",
    "    return im, cbar\n",
    "\n",
    "\n",
    "def annotate_heatmap(im, data=None, valfmt=\"{x:.2f}\",\n",
    "                     textcolors=(\"black\", \"white\"),\n",
    "                     threshold=None, **textkw):\n",
    "    \"\"\"\n",
    "    A function to annotate a heatmap.\n",
    "\n",
    "    Parameters\n",
    "    ----------\n",
    "    im\n",
    "        The AxesImage to be labeled.\n",
    "    data\n",
    "        Data used to annotate.  If None, the image's data is used.  Optional.\n",
    "    valfmt\n",
    "        The format of the annotations inside the heatmap.  This should either\n",
    "        use the string format method, e.g. \"$ {x:.2f}\", or be a\n",
    "        `matplotlib.ticker.Formatter`.  Optional.\n",
    "    textcolors\n",
    "        A pair of colors.  The first is used for values below a threshold,\n",
    "        the second for those above.  Optional.\n",
    "    threshold\n",
    "        Value in data units according to which the colors from textcolors are\n",
    "        applied.  If None (the default) uses the middle of the colormap as\n",
    "        separation.  Optional.\n",
    "    **kwargs\n",
    "        All other arguments are forwarded to each call to `text` used to create\n",
    "        the text labels.\n",
    "    \"\"\"\n",
    "\n",
    "    if not isinstance(data, (list, np.ndarray)):\n",
    "        data = im.get_array()\n",
    "\n",
    "    # Normalize the threshold to the images color range.\n",
    "    if threshold is not None:\n",
    "        threshold = im.norm(threshold)\n",
    "    else:\n",
    "        threshold = im.norm(data.max())/2.\n",
    "\n",
    "    # Set default alignment to center, but allow it to be\n",
    "    # overwritten by textkw.\n",
    "    kw = dict(horizontalalignment=\"center\",\n",
    "              verticalalignment=\"center\")\n",
    "    kw.update(textkw)\n",
    "\n",
    "    # Get the formatter in case a string is supplied\n",
    "    if isinstance(valfmt, str):\n",
    "        valfmt = mpl.ticker.StrMethodFormatter(valfmt)\n",
    "\n",
    "    # Loop over the data and create a `Text` for each \"pixel\".\n",
    "    # Change the text's color depending on the data.\n",
    "    texts = []\n",
    "    for i in range(data.shape[0]):\n",
    "        for j in range(data.shape[1]):\n",
    "            kw.update(color=textcolors[int(im.norm(data[i, j]) > threshold)])\n",
    "            text = im.axes.text(j, i, valfmt(data[i, j], None), **kw)\n",
    "            texts.append(text)\n",
    "\n",
    "    return texts"
   ],
   "metadata": {
    "collapsed": false,
    "pycharm": {
     "name": "#%%\n"
    }
   }
  },
  {
   "cell_type": "code",
   "execution_count": 12,
   "outputs": [
    {
     "data": {
      "text/plain": "<Figure size 432x288 with 2 Axes>",
      "image/png": "[encoded data removed]"
     },
     "metadata": {
      "needs_background": "light"
     },
     "output_type": "display_data"
    }
   ],
   "source": [
    "data = np.load('./test_output/infidelities.npy')[::2,:]\n",
    "\n",
    "fig, ax = plt.subplots()\n",
    "rowLabels = [f\"{a / 1e6} MHz\" for a in x[::2]]\n",
    "colLabels = [f\"{a / 1e6} MHz\" for a in y]\n",
    "im, cbar = heatmap(data, rowLabels, colLabels, ax=ax, cmap=\"plasma\", cbarlabel=\"infidelity\",\n",
    "                   aspect='auto')\n",
    "#texts = annotate_heatmap(im, valfmt=\"{x:.2f}\")\n",
    "\n",
    "fig.tight_layout()\n",
    "#plt.show()\n",
    "plt.savefig('./test_output/infidelities.svg')"
   ],
   "metadata": {
    "collapsed": false,
    "pycharm": {
     "name": "#%%\n"
    }
   }
  },
  {
   "cell_type": "code",
   "execution_count": null,
   "outputs": [],
   "source": [],
   "metadata": {
    "collapsed": false,
    "pycharm": {
     "name": "#%%\n"
    }
   }
  }
 ],
 "metadata": {
  "kernelspec": {
   "display_name": "Python 3",
   "language": "python",
   "name": "python3"
  },
  "language_info": {
   "codemirror_mode": {
    "name": "ipython",
    "version": 2
   },
   "file_extension": ".py",
   "mimetype": "text/x-python",
   "name": "python",
   "nbconvert_exporter": "python",
   "pygments_lexer": "ipython2",
   "version": "2.7.6"
  }
 },
 "nbformat": 4,
 "nbformat_minor": 0
}