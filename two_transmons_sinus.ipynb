{
 "cells": [
  {
   "cell_type": "markdown",
   "source": [
    "### Two transmon optimisation with cosine signal\n",
    "Same as two_transmons_4LOs.ipynb, but the signal is created by a superposition of cosines. This can be used to optimise a large superposition of frequency peaks."
   ],
   "metadata": {
    "collapsed": false,
    "pycharm": {
     "name": "#%% md\n",
     "is_executing": true
    }
   },
   "outputs": []
  },
  {
   "cell_type": "code",
   "execution_count": 1,
   "outputs": [
    {
     "name": "stderr",
     "output_type": "stream",
     "text": [
      "2023-11-02 14:05:09.799497: W tensorflow/stream_executor/platform/default/dso_loader.cc:64] Could not load dynamic library 'libcudart.so.11.0'; dlerror: libcudart.so.11.0: cannot open shared object file: No such file or directory\n",
      "2023-11-02 14:05:09.799557: I tensorflow/stream_executor/cuda/cudart_stub.cc:29] Ignore above cudart dlerror if you do not have a GPU set up on your machine.\n"
     ]
    }
   ],
   "source": [
    "import argparse\n",
    "import copy\n",
    "import os\n",
    "import sys\n",
    "\n",
    "import numpy as np\n",
    "import tensorflow as tf\n",
    "\n",
    "import c3\n",
    "import c3.libraries.algorithms as algorithms\n",
    "import c3.libraries.fidelities as fidelities\n",
    "import c3.utils.qt_utils as qt_utils\n",
    "from c3.signal.pulse import EnvelopeDrag\n",
    "from c3.utils.tf_utils import tf_project_to_comp\n",
    "import c3.utils.tf_utils as tf_utils\n",
    "import four_level_transmons.custom_gates as custom_gates\n",
    "from c3.experiment import Experiment as Exp\n",
    "from c3.model import Model as Mdl\n",
    "from c3.optimizers.optimalcontrol import OptimalControl\n",
    "from c3.parametermap import ParameterMap as PMap\n",
    "from four_level_transmons.DataOutput import DataOutput\n",
    "from four_level_transmons.custom_envelopes import *\n",
    "from four_level_transmons.plotting import *\n",
    "from four_level_transmons.utilities import *\n",
    "from four_level_transmons.blackbox import generateSignalFromConfig\n",
    "from four_level_transmons.notebook_utils import *\n",
    "from four_level_transmons.input import *\n",
    "tf.config.run_functions_eagerly(True)\n",
    "np.set_printoptions(linewidth=300)"
   ],
   "metadata": {
    "collapsed": false,
    "pycharm": {
     "name": "#%%\n"
    }
   }
  },
  {
   "cell_type": "code",
   "execution_count": 2,
   "outputs": [
    {
     "name": "stdout",
     "output_type": "stream",
     "text": [
      "=========== WARNING: no output directory specified ============\n"
     ]
    }
   ],
   "source": [
    "# Parse parameters from the openstack scripts\n",
    "FREQS = None\n",
    "FREQ_INDEX = None\n",
    "INPUT_FILE = None\n",
    "if len(sys.argv[1:]) > 3 and \"ipykernel_launcher\" not in sys.argv[0]:\n",
    "    parser = argparse.ArgumentParser()\n",
    "    parser.add_argument(\"--output\", help=\"Output directory\")\n",
    "    parser.add_argument(\"--config\", help=\"File with previous configuration\")\n",
    "    parser.add_argument(\"--freqs1\", help=\"New number of frequencies on qubit1\")\n",
    "    parser.add_argument(\"--freqs2\", help=\"New number of frequencies on qubit2\")\n",
    "    args = parser.parse_args()\n",
    "    output_dir = args.output\n",
    "    INPUT_FILE = args.config\n",
    "    FREQS = (int(args.freqs1), int(args.freqs2))\n",
    "    print(\"Output directory: \", output_dir)\n",
    "    print(\"Number of frequencies: \", FREQS)\n",
    "elif len(sys.argv[1:]) > 2 and \"ipykernel_launcher\" not in sys.argv[0]:\n",
    "    parser = argparse.ArgumentParser()\n",
    "    parser.add_argument(\"--output\", help=\"Output directory\")\n",
    "    parser.add_argument(\"--config\", help=\"File with previous configuration\")\n",
    "    parser.add_argument(\"--freqindex\", help=\"Index of the  frequency to be removed\")\n",
    "    args = parser.parse_args()\n",
    "    output_dir = args.output\n",
    "    INPUT_FILE = args.config\n",
    "    FREQ_INDEX = int(args.freqindex)\n",
    "    print(\"Output directory: \", output_dir)\n",
    "    print(\"Removed frequency: \", FREQS)\n",
    "elif len(sys.argv[1:]) > 0 and \"ipykernel_launcher\" not in sys.argv[0]:\n",
    "    parser = argparse.ArgumentParser()\n",
    "    parser.add_argument(\"--output\", help=\"Output directory\")\n",
    "    args = parser.parse_args()\n",
    "    output_dir = args.output\n",
    "    print(\"Output directory: \", output_dir)\n",
    "else:\n",
    "    print(\"=========== WARNING: no output directory specified ============\")\n",
    "    output_dir = \"./output\"\n",
    "output = DataOutput(output_dir, file_suffix='before')"
   ],
   "metadata": {
    "collapsed": false,
    "pycharm": {
     "name": "#%%\n"
    }
   }
  },
  {
   "cell_type": "markdown",
   "source": [
    "### Settings"
   ],
   "metadata": {
    "collapsed": false,
    "pycharm": {
     "name": "#%% md\n"
    }
   }
  },
  {
   "cell_type": "code",
   "execution_count": 3,
   "outputs": [],
   "source": [
    "# General settings\n",
    "numPWCPieces = 60\n",
    "usePWC = False\n",
    "useDRAG = False\n",
    "t_final = 1000e-9\n",
    "sim_res = 20e9\n",
    "awg_res = numPWCPieces / t_final if usePWC else 10e9 #1000e9\n",
    "isDressed = True\n",
    "useFR = False\n",
    "OPTIMISE_TFINAL = False\n",
    "OPTIMISE_FREQUENCIES = False\n",
    "OPTIMISABLE_DRIVES = [0, 1]\n",
    "USE_COMPLEX_GAUSSIANS = True\n",
    "USE_COMPLEX_AMPLITUDE = True\n",
    "\n",
    "# Optimisation algorithm and parameters\n",
    "ALGORITHM_LBFGS = 0\n",
    "ALGORITHM_LBFGS_GRAD_FREE = 1\n",
    "ALGORITHM_CMAES = 2\n",
    "ALGORITHM_GCMAES = 3\n",
    "selected_algorithms = [\n",
    "    #(ALGORITHM_LBFGS, {\"maxfun\": 50}),\n",
    "    #(ALGORITHM_CMAES, {}),\n",
    "    (ALGORITHM_LBFGS, {\"maxfun\": 1500, \"ftol\": 1e-6})\n",
    "]\n",
    "\n",
    "# Input file, if necessary\n",
    "#if INPUT_FILE is None:\n",
    "#    INPUT_FILE = \"./optimised_params/two transmons/fourier basis/1000ns/CZ neu/10.json\"\n",
    "\n",
    "# Ideal gate\n",
    "#IDEAL_GATE, IDEAL_GATE_NAME = np.eye(16), \"unity\"\n",
    "#IDEAL_GATE, IDEAL_GATE_NAME = custom_gates.GATE_CNOT_t1q2_t2q2, \"cnot_t1q2_t2q2\"\n",
    "#IDEAL_GATE, IDEAL_GATE_NAME = custom_gates.GATE_iCNOT_t1q2_t2q2, \"icnot_t1q2_t2q2\"\n",
    "#IDEAL_GATE, IDEAL_GATE_NAME = custom_gates.GATE_iSWAP_t1q2_t2q2, \"iswap_t1q2_t2q2\"\n",
    "#IDEAL_GATE, IDEAL_GATE_NAME = custom_gates.GATE_SQRTiSWAP_t1q2_t2q2, \"sqrtiswap_t1q2_t2q2\"\n",
    "IDEAL_GATE, IDEAL_GATE_NAME = custom_gates.GATE_CZ_t1q2_t2q2, \"cz_t1_t2\"\n",
    "#IDEAL_GATE, IDEAL_GATE_NAME = custom_gates.GATE_4QUBIT_1110_1111, \"cccnot_1110\"\n",
    "#IDEAL_GATE, IDEAL_GATE_NAME = custom_gates.GATE_4QUBIT_CCCZ, \"cccz\"\n",
    "\n",
    "#NUM_PEAKS = (200, 200)\n",
    "#INCLUDED_INDICES = ([1,2,3,4,5,6,7,8,9,10,11,12,13,14], None)\n",
    "\n",
    "# Limit the number of frequencies, select individual ones, or specify a frequency range\n",
    "if FREQS is not None:\n",
    "    NUM_PEAKS = FREQS\n",
    "    #NUM_PEAKS = (FREQS[0], 0)\n",
    "else:\n",
    "    NUM_PEAKS = (200, 200)\n",
    "#NUM_PEAKS = (-1, -1)\n",
    "\n",
    "if FREQ_INDEX is not None:\n",
    "    print(\"Removing frequency \", FREQ_INDEX) ###REMOVE\n",
    "    frequencies = list(range(NUM_PEAKS[0]))\n",
    "    frequencies.remove(FREQ_INDEX)\n",
    "    INCLUDED_INDICES = (frequencies, frequencies)\n",
    "else:\n",
    "    INCLUDED_INDICES = (None, None)\n",
    "#INCLUDED_INDICES = (np.array([1,2,3,4,5,6,7,8,9,10,11,12]), None)\n",
    "\n",
    "SPECTRAL_RANGE = (4.5e9, 6.3e9)\n",
    "#SPECTRAL_RANGE = (-1, -1)\n",
    "FREQUENCIES_IN_RANGE = 200"
   ],
   "metadata": {
    "collapsed": false,
    "pycharm": {
     "name": "#%%\n"
    }
   }
  },
  {
   "cell_type": "markdown",
   "source": [
    "### Initialise the model: transmons, coupling, and drives"
   ],
   "metadata": {
    "collapsed": false,
    "pycharm": {
     "name": "#%% md\n"
    }
   }
  },
  {
   "cell_type": "code",
   "execution_count": 7,
   "outputs": [
    {
     "name": "stdout",
     "output_type": "stream",
     "text": [
      "qubits frequencies:  [6000000000.0, 5600000000.0] anharmonicities:  [-240000000.0, -220000000.0] coupling:  10000000.0\n",
      "Transmon 0:\n",
      "Energy levels:  [0.000e+00 6.000e+09 1.176e+10 1.728e+10 2.256e+10]\n",
      "Transitions:  [6.00e+09 5.76e+09 5.52e+09 5.28e+09]\n",
      "Transmon 1:\n",
      "Energy levels:  [0.000e+00 5.600e+09 1.098e+10 1.614e+10 2.108e+10]\n",
      "Transitions:  [5.60e+09 5.38e+09 5.16e+09 4.94e+09]\n"
     ]
    }
   ],
   "source": [
    "qubit_levels = [5, 5]\n",
    "qubit_frequencies = [6e9, 5.6e9] #[5e9, 4.5e9]\n",
    "anharmonicities = [-240e6, -220e6] #[-300e6, -250e6]\n",
    "t1s = [25e-6, 25e-6]\n",
    "t2stars = [35e-6, 35e-6]\n",
    "qubit_temps = [50e-3, 50e-3]\n",
    "couplingStrength = 10e6\n",
    "print(\"qubits frequencies: \", qubit_frequencies, \"anharmonicities: \", anharmonicities, \"coupling: \", couplingStrength)\n",
    "\n",
    "qubits = createQubits(qubit_levels, qubit_frequencies, anharmonicities, t1s, t2stars, qubit_temps)\n",
    "coupling = createChainCouplings([couplingStrength], qubits)\n",
    "drives = createDrives(qubits)\n",
    "\n",
    "# Create the model\n",
    "model = Mdl(qubits, coupling + drives)\n",
    "model.set_lindbladian(False)\n",
    "model.set_dressed(isDressed)\n",
    "model.set_FR(useFR)\n",
    "\n",
    "qubitEnergies = [q.get_Hamiltonian().numpy().diagonal().real / (2 * np.pi) for q in qubits]\n",
    "qubitEnergies[0] = qubitEnergies[0][::qubit_levels[0]]\n",
    "qubitEnergies[1] = qubitEnergies[1][:qubit_levels[1]]\n",
    "qubitTransitions = [np.array([e[i + 1] - e[i] for i in range(len(e) - 1)]) for e in qubitEnergies]\n",
    "for i in range(len(qubits)):\n",
    "    print(f\"Transmon {i}:\")\n",
    "    print(\"Energy levels: \", qubitEnergies[i])\n",
    "    print(\"Transitions: \", qubitTransitions[i])"
   ],
   "metadata": {
    "collapsed": false,
    "pycharm": {
     "name": "#%%\n"
    }
   }
  },
  {
   "cell_type": "markdown",
   "source": [
    "### Load configuration from file or create a new one"
   ],
   "metadata": {
    "collapsed": false,
    "pycharm": {
     "name": "#%% md\n"
    }
   }
  },
  {
   "cell_type": "code",
   "execution_count": 8,
   "outputs": [
    {
     "name": "stdout",
     "output_type": "stream",
     "text": [
      "selected frequencies d1: 202\n",
      "Drive d1: after restriction to range: 200\n",
      "Drive d1: num peaks 200\n",
      "selected frequencies d2: 202\n",
      "Drive d2: after restriction to range: 200\n",
      "Drive d2: num peaks 200\n",
      "d1: 200 frequencies\n",
      "[6.29104478e+09 5.06417910e+09 5.15373134e+09 5.14477612e+09 5.13582090e+09 5.12686567e+09 5.11791045e+09 5.10895522e+09 5.10000000e+09 5.09104478e+09 5.08208955e+09 5.07313433e+09 5.05522388e+09 6.28208955e+09 5.04626866e+09 5.03731343e+09 5.02835821e+09 5.01940299e+09 5.01044776e+09\n",
      " 5.00149254e+09 4.99253731e+09 4.98358209e+09 4.97462687e+09 4.96567164e+09 5.16268657e+09 5.17164179e+09 5.18059701e+09 5.18955224e+09 5.37761194e+09 5.36865672e+09 5.35970149e+09 5.35074627e+09 5.34179104e+09 5.33283582e+09 5.32388060e+09 5.31492537e+09 5.30597015e+09 5.29701493e+09\n",
      " 5.28805970e+09 5.27910448e+09 5.27014925e+09 5.26119403e+09 5.25223881e+09 5.24328358e+09 5.23432836e+09 5.22537313e+09 5.21641791e+09 5.20746269e+09 5.19850746e+09 4.95671642e+09 4.94776119e+09 4.93880597e+09 4.71492537e+09 4.69701493e+09 4.68805970e+09 4.67910448e+09 4.67014925e+09\n",
      " 4.66119403e+09 4.65223881e+09 4.64328358e+09 4.63432836e+09 4.62537313e+09 4.61641791e+09 4.60746269e+09 4.59850746e+09 4.58955224e+09 4.58059701e+09 4.57164179e+09 4.56268657e+09 4.55373134e+09 4.54477612e+09 4.53582090e+09 4.52686567e+09 4.51791045e+09 4.70597015e+09 4.72388060e+09\n",
      " 4.92985075e+09 4.73283582e+09 4.92089552e+09 4.91194030e+09 4.90298507e+09 4.89402985e+09 4.88507463e+09 4.87611940e+09 4.86716418e+09 4.85820896e+09 4.84925373e+09 4.84029851e+09 4.83134328e+09 4.82238806e+09 4.81343284e+09 4.80447761e+09 4.79552239e+09 4.78656716e+09 4.77761194e+09\n",
      " 4.76865672e+09 4.75970149e+09 4.75074627e+09 4.74179104e+09 5.38656716e+09 5.39552239e+09 5.40447761e+09 6.06716418e+09 6.04925373e+09 6.04029851e+09 6.03134328e+09 6.02238806e+09 6.01343284e+09 6.00447761e+09 5.99552239e+09 5.98656716e+09 5.97761194e+09 5.96865672e+09 5.95970149e+09\n",
      " 5.95074627e+09 5.94179104e+09 5.93283582e+09 5.92388060e+09 5.91492537e+09 5.90597015e+09 5.89701493e+09 5.88805970e+09 5.87910448e+09 5.87014925e+09 6.05820896e+09 6.07611940e+09 5.85223881e+09 6.08507463e+09 6.27313433e+09 6.26417910e+09 6.25522388e+09 6.24626866e+09 6.23731343e+09\n",
      " 6.22835821e+09 6.21940299e+09 6.21044776e+09 6.20149254e+09 6.19253731e+09 6.18358209e+09 6.17462687e+09 6.16567164e+09 6.15671642e+09 6.14776119e+09 6.13880597e+09 6.12985075e+09 6.12089552e+09 6.11194030e+09 6.10298507e+09 6.09402985e+09 5.86119403e+09 5.84328358e+09 5.41343284e+09\n",
      " 5.61940299e+09 5.60149254e+09 5.59253731e+09 5.58358209e+09 5.57462687e+09 5.56567164e+09 5.55671642e+09 5.54776119e+09 5.53880597e+09 5.52985075e+09 5.52089552e+09 5.51194030e+09 5.50298507e+09 5.49402985e+09 5.48507463e+09 5.47611940e+09 5.46716418e+09 5.45820896e+09 5.44925373e+09\n",
      " 5.44029851e+09 5.43134328e+09 5.42238806e+09 5.61044776e+09 5.62835821e+09 5.83432836e+09 5.63731343e+09 5.82537313e+09 5.81641791e+09 5.80746269e+09 5.79850746e+09 5.78955224e+09 5.78059701e+09 5.77164179e+09 5.76268657e+09 5.75373134e+09 5.74477612e+09 5.73582090e+09 5.72686567e+09\n",
      " 5.71791045e+09 5.70895522e+09 5.70000000e+09 5.69104478e+09 5.68208955e+09 5.67313433e+09 5.66417910e+09 5.65522388e+09 5.64626866e+09 4.50895522e+09]\n",
      "[0.00701 0.00701 0.00701 0.00701 0.00701 0.00701 0.00701 0.00701 0.00701 0.00701 0.00701 0.00701 0.00701 0.00701 0.00701 0.00701 0.00701 0.00701 0.00701 0.00701 0.00701 0.00701 0.00701 0.00701 0.00701 0.00701 0.00701 0.00701 0.00701 0.00701 0.00701 0.00701 0.00701 0.00701 0.00701 0.00701 0.00701\n",
      " 0.00701 0.00701 0.00701 0.00701 0.00701 0.00701 0.00701 0.00701 0.00701 0.00701 0.00701 0.00701 0.00701 0.00701 0.00701 0.00701 0.00701 0.00701 0.00701 0.00701 0.00701 0.00701 0.00701 0.00701 0.00701 0.00701 0.00701 0.00701 0.00701 0.00701 0.00701 0.00701 0.00701 0.00701 0.00701 0.00701 0.00701\n",
      " 0.00701 0.00701 0.00701 0.00701 0.00701 0.00701 0.00701 0.00701 0.00701 0.00701 0.00701 0.00701 0.00701 0.00701 0.00701 0.00701 0.00701 0.00701 0.00701 0.00701 0.00701 0.00701 0.00701 0.00701 0.00701 0.00701 0.00701 0.00701 0.00701 0.00701 0.00701 0.00701 0.00701 0.00701 0.00701 0.00701 0.00701\n",
      " 0.00701 0.00701 0.00701 0.00701 0.00701 0.00701 0.00701 0.00701 0.00701 0.00701 0.00701 0.00701 0.00701 0.00701 0.00701 0.00701 0.00701 0.00701 0.00701 0.00701 0.00701 0.00701 0.00701 0.00701 0.00701 0.00701 0.00701 0.00701 0.00701 0.00701 0.00701 0.00701 0.00701 0.00701 0.00701 0.00701 0.00701\n",
      " 0.00701 0.00701 0.00701 0.00701 0.00701 0.00701 0.00701 0.00701 0.00701 0.00701 0.00701 0.00701 0.00701 0.00701 0.00701 0.00701 0.00701 0.00701 0.00701 0.00701 0.00701 0.00701 0.00701 0.00701 0.00701 0.00701 0.00701 0.00701 0.00701 0.00701 0.00701 0.00701 0.00701 0.00701 0.00701 0.00701 0.00701\n",
      " 0.00701 0.00701 0.00701 0.00701 0.00701 0.00701 0.00701 0.00701 0.00701 0.00701 0.00701 0.00701 0.00701 0.00701 0.00701]\n",
      "d2: 200 frequencies\n",
      "[6.29104478e+09 5.06417910e+09 5.15373134e+09 5.14477612e+09 5.13582090e+09 5.12686567e+09 5.11791045e+09 5.10895522e+09 5.10000000e+09 5.09104478e+09 5.08208955e+09 5.07313433e+09 5.05522388e+09 6.28208955e+09 5.04626866e+09 5.03731343e+09 5.02835821e+09 5.01940299e+09 5.01044776e+09\n",
      " 5.00149254e+09 4.99253731e+09 4.98358209e+09 4.97462687e+09 4.96567164e+09 5.16268657e+09 5.17164179e+09 5.18059701e+09 5.18955224e+09 5.37761194e+09 5.36865672e+09 5.35970149e+09 5.35074627e+09 5.34179104e+09 5.33283582e+09 5.32388060e+09 5.31492537e+09 5.30597015e+09 5.29701493e+09\n",
      " 5.28805970e+09 5.27910448e+09 5.27014925e+09 5.26119403e+09 5.25223881e+09 5.24328358e+09 5.23432836e+09 5.22537313e+09 5.21641791e+09 5.20746269e+09 5.19850746e+09 4.95671642e+09 4.94776119e+09 4.93880597e+09 4.71492537e+09 4.69701493e+09 4.68805970e+09 4.67910448e+09 4.67014925e+09\n",
      " 4.66119403e+09 4.65223881e+09 4.64328358e+09 4.63432836e+09 4.62537313e+09 4.61641791e+09 4.60746269e+09 4.59850746e+09 4.58955224e+09 4.58059701e+09 4.57164179e+09 4.56268657e+09 4.55373134e+09 4.54477612e+09 4.53582090e+09 4.52686567e+09 4.51791045e+09 4.70597015e+09 4.72388060e+09\n",
      " 4.92985075e+09 4.73283582e+09 4.92089552e+09 4.91194030e+09 4.90298507e+09 4.89402985e+09 4.88507463e+09 4.87611940e+09 4.86716418e+09 4.85820896e+09 4.84925373e+09 4.84029851e+09 4.83134328e+09 4.82238806e+09 4.81343284e+09 4.80447761e+09 4.79552239e+09 4.78656716e+09 4.77761194e+09\n",
      " 4.76865672e+09 4.75970149e+09 4.75074627e+09 4.74179104e+09 5.38656716e+09 5.39552239e+09 5.40447761e+09 6.06716418e+09 6.04925373e+09 6.04029851e+09 6.03134328e+09 6.02238806e+09 6.01343284e+09 6.00447761e+09 5.99552239e+09 5.98656716e+09 5.97761194e+09 5.96865672e+09 5.95970149e+09\n",
      " 5.95074627e+09 5.94179104e+09 5.93283582e+09 5.92388060e+09 5.91492537e+09 5.90597015e+09 5.89701493e+09 5.88805970e+09 5.87910448e+09 5.87014925e+09 6.05820896e+09 6.07611940e+09 5.85223881e+09 6.08507463e+09 6.27313433e+09 6.26417910e+09 6.25522388e+09 6.24626866e+09 6.23731343e+09\n",
      " 6.22835821e+09 6.21940299e+09 6.21044776e+09 6.20149254e+09 6.19253731e+09 6.18358209e+09 6.17462687e+09 6.16567164e+09 6.15671642e+09 6.14776119e+09 6.13880597e+09 6.12985075e+09 6.12089552e+09 6.11194030e+09 6.10298507e+09 6.09402985e+09 5.86119403e+09 5.84328358e+09 5.41343284e+09\n",
      " 5.61940299e+09 5.60149254e+09 5.59253731e+09 5.58358209e+09 5.57462687e+09 5.56567164e+09 5.55671642e+09 5.54776119e+09 5.53880597e+09 5.52985075e+09 5.52089552e+09 5.51194030e+09 5.50298507e+09 5.49402985e+09 5.48507463e+09 5.47611940e+09 5.46716418e+09 5.45820896e+09 5.44925373e+09\n",
      " 5.44029851e+09 5.43134328e+09 5.42238806e+09 5.61044776e+09 5.62835821e+09 5.83432836e+09 5.63731343e+09 5.82537313e+09 5.81641791e+09 5.80746269e+09 5.79850746e+09 5.78955224e+09 5.78059701e+09 5.77164179e+09 5.76268657e+09 5.75373134e+09 5.74477612e+09 5.73582090e+09 5.72686567e+09\n",
      " 5.71791045e+09 5.70895522e+09 5.70000000e+09 5.69104478e+09 5.68208955e+09 5.67313433e+09 5.66417910e+09 5.65522388e+09 5.64626866e+09 4.50895522e+09]\n",
      "[1.e-05 1.e-05 1.e-05 1.e-05 1.e-05 1.e-05 1.e-05 1.e-05 1.e-05 1.e-05 1.e-05 1.e-05 1.e-05 1.e-05 1.e-05 1.e-05 1.e-05 1.e-05 1.e-05 1.e-05 1.e-05 1.e-05 1.e-05 1.e-05 1.e-05 1.e-05 1.e-05 1.e-05 1.e-05 1.e-05 1.e-05 1.e-05 1.e-05 1.e-05 1.e-05 1.e-05 1.e-05 1.e-05 1.e-05 1.e-05 1.e-05 1.e-05\n",
      " 1.e-05 1.e-05 1.e-05 1.e-05 1.e-05 1.e-05 1.e-05 1.e-05 1.e-05 1.e-05 1.e-05 1.e-05 1.e-05 1.e-05 1.e-05 1.e-05 1.e-05 1.e-05 1.e-05 1.e-05 1.e-05 1.e-05 1.e-05 1.e-05 1.e-05 1.e-05 1.e-05 1.e-05 1.e-05 1.e-05 1.e-05 1.e-05 1.e-05 1.e-05 1.e-05 1.e-05 1.e-05 1.e-05 1.e-05 1.e-05 1.e-05 1.e-05\n",
      " 1.e-05 1.e-05 1.e-05 1.e-05 1.e-05 1.e-05 1.e-05 1.e-05 1.e-05 1.e-05 1.e-05 1.e-05 1.e-05 1.e-05 1.e-05 1.e-05 1.e-05 1.e-05 1.e-05 1.e-05 1.e-05 1.e-05 1.e-05 1.e-05 1.e-05 1.e-05 1.e-05 1.e-05 1.e-05 1.e-05 1.e-05 1.e-05 1.e-05 1.e-05 1.e-05 1.e-05 1.e-05 1.e-05 1.e-05 1.e-05 1.e-05 1.e-05\n",
      " 1.e-05 1.e-05 1.e-05 1.e-05 1.e-05 1.e-05 1.e-05 1.e-05 1.e-05 1.e-05 1.e-05 1.e-05 1.e-05 1.e-05 1.e-05 1.e-05 1.e-05 1.e-05 1.e-05 1.e-05 1.e-05 1.e-05 1.e-05 1.e-05 1.e-05 1.e-05 1.e-05 1.e-05 1.e-05 1.e-05 1.e-05 1.e-05 1.e-05 1.e-05 1.e-05 1.e-05 1.e-05 1.e-05 1.e-05 1.e-05 1.e-05 1.e-05\n",
      " 1.e-05 1.e-05 1.e-05 1.e-05 1.e-05 1.e-05 1.e-05 1.e-05 1.e-05 1.e-05 1.e-05 1.e-05 1.e-05 1.e-05 1.e-05 1.e-05 1.e-05 1.e-05 1.e-05 1.e-05 1.e-05 1.e-05 1.e-05 1.e-05 1.e-05 1.e-05 1.e-05 1.e-05 1.e-05 1.e-05 1.e-05 1.e-05]\n"
     ]
    }
   ],
   "source": [
    "def createSpectralDataForRange(limits: Tuple[float, float], num: int, amplitudeFactor=1e-4) -> SpectralData:\n",
    "    freqs = np.linspace(limits[0], limits[1], num)\n",
    "    return SpectralData(freqs, np.ones_like(freqs) * amplitudeFactor,\n",
    "                        np.random.random(len(freqs)) * (2 * np.pi) - np.pi)\n",
    "\n",
    "\n",
    "def createSpectralDataForRanges(limits: List[Tuple[float, float]], num: List[int], amplitudeFactor=1e-4) -> SpectralData:\n",
    "    data = SpectralData(np.array([]), np.array([]), np.array([]))\n",
    "    for i in range(len(limits)):\n",
    "        freqs = np.linspace(limits[i][0], limits[i][1], num[i])\n",
    "        data.frequencies = np.append(data.frequencies, np.linspace(limits[i][0], limits[i][1], num[i]))\n",
    "        data.amplitudes = np.append(data.amplitudes, np.ones_like(freqs) * amplitudeFactor)\n",
    "        data.phases = np.append(data.phases, np.random.random(len(freqs)) * (2 * np.pi) - np.pi)\n",
    "    return data\n",
    "\n",
    "\n",
    "def createSpectralDataFromModel(levelTransitions: List[float], spectralRange: Tuple[float,float]=(3.6e9,5.0e9)) -> SpectralData:\n",
    "    selectedFrequencies = []\n",
    "    for t in levelTransitions:\n",
    "        if spectralRange[0] < t[0] < spectralRange[1]:\n",
    "            selectedFrequencies.append(t[0])\n",
    "    selectedFrequencies = np.sort(selectedFrequencies)\n",
    "    return SpectralData(selectedFrequencies, 0.5e8 * np.ones_like(selectedFrequencies), 0.1 * np.ones_like(selectedFrequencies))\n",
    "\n",
    "\n",
    "def createSpectralDataFromGeneratedSignal(filename: str, driveName: str) -> SpectralData:\n",
    "    stored_pmap = PMap()\n",
    "    stored_pmap.read_config(filename)\n",
    "    stored_params = stored_pmap.asdict()[list(stored_pmap.asdict().keys())[0]]\n",
    "    print(stored_params)\n",
    "    stored_signal = generateSignalFromConfig(stored_params, sim_res=sim_res, awg_res=numPWCPieces / t_final,\n",
    "                                             useDRAG=False,\n",
    "                                             usePWC=True, numPWCPieces=60, t_final=t_final)\n",
    "    return __getFourierBasisFromSignal(stored_signal[driveName][\"ts\"].numpy(), stored_signal[driveName][\"values\"].numpy())\n",
    "\n",
    "\n",
    "def createSpectralDataFromStoredSignal(filename: str) -> SpectralData:\n",
    "    time, signal = np.load(filename)\n",
    "    return __getFourierBasisFromSignal(time, signal)\n",
    "\n",
    "\n",
    "def __getFourierBasisFromSignal(ts, signal) -> SpectralData:\n",
    "    freq = np.fft.rfftfreq(len(ts), ts[-1] / len(ts))[1:]\n",
    "    freq_signal = np.fft.rfft(signal)[1:]\n",
    "    #freq = np.fft.rfftfreq(len(ts), ts[-1] / len(ts))\n",
    "    #freq_signal = np.abs(np.fft.rfft(values))\n",
    "    #peaks, amps = findFrequencyPeaks(signal[\"ts\"].numpy(), signal[\"values\"].numpy(), 50, normalise=True)\n",
    "    return SpectralData(freq, np.abs(freq_signal), np.angle(freq_signal))\n",
    "\n",
    "\n",
    "def createSpectralData(restrictedRange: Tuple[float, float], frequenciesInRange: int, numPeaks: Tuple[int, int], includedIndices: Tuple[int, int]) -> Dict[str, SpectralData]:\n",
    "    spectrum: Dict[str, SpectralData] = {}\n",
    "    for i, drive in enumerate(drives):\n",
    "        data = createSpectralDataForRange(restrictedRange, frequenciesInRange+2, amplitudeFactor=1e-5 + 7e-3 * (1 - i))\n",
    "        #data = getFourierBasisFromGeneratedSignal(INPUT_FILE, drive.name)\n",
    "        #data = SpectralData(\n",
    "        #    frequenciesISWAP,\n",
    "        #    np.array([0.015, 0.02, 0.007, 0.005]) if i==0 else np.ones_like(frequenciesISWAP) * 1e-6,\n",
    "        #    np.ones_like(frequenciesISWAP) * 1e-6\n",
    "        #)\n",
    "        print(f\"selected frequencies {drive.name}: {len(data.frequencies)}\")\n",
    "\n",
    "        # Restrict to spectral range\n",
    "        if restrictedRange is not None and len(restrictedRange) > 1 and restrictedRange[0] >= 0 and restrictedRange[1] >= 0:\n",
    "            data.restrictToRange(restrictedRange[0], restrictedRange[1])\n",
    "            print(f\"Drive {drive.name}: after restriction to range: {len(data.frequencies)}\")\n",
    "\n",
    "        # Select the N largest peaks\n",
    "        if numPeaks is not None and numPeaks[i] is not None:\n",
    "            data.selectLargestPeaks(numPeaks[i])\n",
    "            print(f\"Drive {drive.name}: num peaks {len(data.frequencies)}\")\n",
    "\n",
    "        # Select specific frequencies by index\n",
    "        if includedIndices is not None and includedIndices[i] is not None and len(includedIndices[i]) >= 0:\n",
    "            data.selectFrequencies(includedIndices[i])\n",
    "            print(f\"Drive {drive.name}: included indices {len(data.frequencies)}\")\n",
    "        spectrum[drive.name] = data\n",
    "    return spectrum\n",
    "\n",
    "def getOldConfigurationFromFile(filename: str, spectralRange: Tuple[float, float], numPeaks: Tuple[int, int],\n",
    "                             includedIndices=(None, None)) -> Dict:\n",
    "    stored_pmap = PMap()\n",
    "    stored_pmap.read_config(filename)\n",
    "    stored_params = stored_pmap.asdict()[list(stored_pmap.asdict().keys())[0]]\n",
    "    driveChannels = stored_params[\"drive_channels\"]\n",
    "    for driveIdx, driveName in enumerate(driveChannels.keys()):\n",
    "        envelope = driveChannels[driveName][f\"envelope_{driveName}\"]\n",
    "        data = SpectralData(\n",
    "            envelope.params[\"freqs\"].get_value().numpy() / (2 * np.pi),\n",
    "            envelope.params[\"amps\"].get_value().numpy() * envelope.params[\"amp\"].get_value().numpy(),\n",
    "            envelope.params[\"phases\"].get_value().numpy()\n",
    "        )\n",
    "\n",
    "        # restrict to spectral range\n",
    "        if spectralRange is not None and len(spectralRange) > 1 and spectralRange[0] >= 0 and spectralRange[1] >= 0:\n",
    "            data.restrictToRange(spectralRange[0], spectralRange[1])\n",
    "            print(f\"Drive {driveName}: after restriction to range: {len(data.frequencies)}\")\n",
    "\n",
    "        # find peaks\n",
    "        #if numPeaks is not None and numPeaks > 0:\n",
    "        #    peaks = find_peaks(amps)[0]\n",
    "        #    freqs = freqs[peaks]\n",
    "        #    amps = amps[peaks]\n",
    "        #    phases = phases[peaks]\n",
    "        #    print(f\"Drive {driveName}: peaks found: {len(peaks)}\")\n",
    "\n",
    "        if numPeaks[driveIdx] is not None:\n",
    "            data.selectLargestPeaks(numPeaks[driveIdx])\n",
    "            print(f\"Drive {driveName}: num peaks {len(data.frequencies)}\")\n",
    "\n",
    "        if includedIndices[driveIdx] is not None:\n",
    "            data.selectFrequencies(includedIndices[driveIdx])\n",
    "            print(f\"Drive {driveName}: included indices {includedIndices[driveIdx]}\")\n",
    "\n",
    "        envelope.params[\"freqs\"] = Qty(value=data.frequencies, min_val=0.95 * data.frequencies, max_val=1.05 * data.frequencies, unit=\"Hz 2pi\")\n",
    "        envelope.params[\"amps\"] = Qty(value=data.amplitudes, min_val=1e-2 * data.amplitudes, max_val=1e2 * data.amplitudes, unit=\"V\")\n",
    "        envelope.params[\"phases\"] = Qty(value=data.phases, min_val=-np.pi * np.ones_like(data.phases),\n",
    "                                        max_val=np.pi * np.ones_like(data.phases), unit=\"rad\")\n",
    "\n",
    "        if len(data.frequencies) > 0:\n",
    "            print(f\"frequencies {driveName}: {data.frequencies[0]:e} {data.frequencies[-1]:e} {len(data.frequencies)}\")\n",
    "    return driveChannels\n",
    "\n",
    "def getNewSpectralDataFromFile(filename: str, spectralRange: Tuple[float, float], numPeaks: Tuple[int, int],\n",
    "                             includedIndices=(None, None)) -> Dict:\n",
    "    stored_pmap = PMap()\n",
    "    stored_pmap.read_config(filename)\n",
    "    stored_params = stored_pmap.asdict()[list(stored_pmap.asdict().keys())[0]]\n",
    "    driveChannels = stored_params[\"drive_channels\"]\n",
    "    spectrum = {}\n",
    "    for driveIdx, driveName in enumerate(driveChannels.keys()):\n",
    "        data = SpectralData(np.array([]), np.array([]), np.array([]))\n",
    "\n",
    "        keys = list(driveChannels[driveName].keys())\n",
    "        keys = list(filter(lambda x: x.startswith('envelope'), keys))\n",
    "        for envelopeIdx, envelopeKey in enumerate(keys):\n",
    "            env = driveChannels[driveName][envelopeKey]\n",
    "            data.amplitudes = np.append(data.amplitudes, env.params[\"amp\"].get_value())\n",
    "            data.phases = np.append(data.phases, env.params[\"xy_angle\"].get_value())\n",
    "            carrier = driveChannels[driveName][f'carrier_{driveName}_{envelopeIdx+1}']\n",
    "            data.frequencies = np.append(data.frequencies, carrier.params[\"freq\"].get_value() / (2 * np.pi))\n",
    "\n",
    "        # restrict to spectral range\n",
    "        if spectralRange is not None and len(spectralRange) > 1 and spectralRange[0] >= 0 and spectralRange[1] >= 0:\n",
    "            data.restrictToRange(spectralRange[0], spectralRange[1])\n",
    "            print(f\"Drive {driveName}: after restriction to range: {len(data.frequencies)}\")\n",
    "\n",
    "        if numPeaks[driveIdx] is not None:\n",
    "            data.selectLargestPeaks(numPeaks[driveIdx])\n",
    "            print(f\"Drive {driveName}: num peaks {len(data.frequencies)}\")\n",
    "\n",
    "        if includedIndices[driveIdx] is not None:\n",
    "            data.selectFrequencies(includedIndices[driveIdx])\n",
    "            print(f\"Drive {driveName}: included indices {includedIndices[driveIdx]}\")\n",
    "\n",
    "        if len(data.frequencies) > 0:\n",
    "            print(f\"frequencies {driveName}: {data.frequencies[0]:e} {data.frequencies[-1]:e} {len(data.frequencies)}\")\n",
    "        spectrum[driveName] = data\n",
    "    return spectrum\n",
    "\n",
    "def getNewConfigurationFromFile(filename: str, spectralRange: Tuple[float, float], numPeaks: Tuple[int, int], includedIndices: Tuple[List[int], List[int]]=(None, None)) -> Dict:\n",
    "    stored_pmap = PMap()\n",
    "    stored_pmap.read_config(filename)\n",
    "    stored_params = stored_pmap.asdict()[list(stored_pmap.asdict().keys())[0]]\n",
    "    driveChannels = stored_params[\"drive_channels\"]\n",
    "\n",
    "    for driveIdx, driveName in enumerate(driveChannels.keys()):\n",
    "        keys = list(filter(lambda x: x.startswith('envelope'), list(driveChannels[driveName].keys())))\n",
    "        amplitudeList = np.zeros(len(keys))\n",
    "\n",
    "        for envelopeIdx, envelopeKey in enumerate(keys):\n",
    "            env = driveChannels[driveName][envelopeKey]\n",
    "            carrierKey = f'carrier_{driveName}_{envelopeIdx+1}'\n",
    "            carrier = driveChannels[driveName][carrierKey]\n",
    "\n",
    "            # restrict to spectral range\n",
    "            if spectralRange is not None and len(spectralRange) > 1 and spectralRange[0] >= 0 and spectralRange[1] >= 0:\n",
    "                freq = carrier.params[\"freq\"].get_value() / (2 * np.pi)\n",
    "                if freq < spectralRange[0] or freq > spectralRange[1]:\n",
    "                    del driveChannels[driveName][envelopeKey]\n",
    "                    del driveChannels[driveName][carrierKey]\n",
    "\n",
    "            # extract all amplitudes\n",
    "            if numPeaks[driveIdx] is not None:\n",
    "                if \"ampR\" in env.params and \"ampI\" in env.params:\n",
    "                    amplitudeList[envelopeIdx] = np.sqrt(\n",
    "                        env.params[\"ampR\"].get_value() ** 2 + env.params[\"ampI\"].get_value() ** 2)\n",
    "                elif \"amp\" in env.params:\n",
    "                    amplitudeList[envelopeIdx] = env.params[\"amp\"].get_value()\n",
    "                else:\n",
    "                    raise Exception(\"Neither amp nor ampR and ampI found in envelope parameters\")\n",
    "\n",
    "        # filter out amplitudes\n",
    "        if numPeaks[driveIdx] is not None:\n",
    "            indices = amplitudeList.argsort()\n",
    "            indicesRemove = indices[0:len(keys) - numPeaks[driveIdx]]\n",
    "            for idx in indicesRemove:\n",
    "                del driveChannels[driveName][f'envelope_{driveName}_{idx+1}']\n",
    "                del driveChannels[driveName][f'carrier_{driveName}_{idx+1}']\n",
    "\n",
    "        # select only specific frequencies\n",
    "        if includedIndices[driveIdx] is not None:\n",
    "            removeIndices = [x for x in range(len(keys)) if x not in includedIndices[driveIdx]]\n",
    "            for idx in removeIndices:\n",
    "                del driveChannels[driveName][f'envelope_{driveName}_{idx + 1}']\n",
    "                del driveChannels[driveName][f'carrier_{driveName}_{idx + 1}']\n",
    "\n",
    "        envelopes = list(filter(lambda x: x.startswith('envelope'), list(driveChannels[driveName].keys())))\n",
    "        carriers = list(filter(lambda x: x.startswith('carrier'), list(driveChannels[driveName].keys())))\n",
    "        print(f\"envelopes {driveName}: {len(envelopes)}\")\n",
    "        print(f\"carriers {driveName}: {len(carriers)}\")\n",
    "    return driveChannels\n",
    "\n",
    "def convertOldConfigurationToSpectrum(configuration: Dict) -> Dict[str, SpectralData]:\n",
    "    spectrum = {}\n",
    "    for drive in [\"d1\", \"d2\"]:\n",
    "        params = configuration[drive][f\"envelope_{drive}\"].params\n",
    "        spectrum[drive] = SpectralData(params[\"freqs\"], params[\"amps\"], params[\"phases\"])\n",
    "    return spectrum\n",
    "\n",
    "def convertNewConfigurationToSpectrum(configuration: Dict) -> Dict[str, SpectralData]:\n",
    "    spectrum = {}\n",
    "    for driveName in [\"d1\", \"d2\"]:\n",
    "        keys = list(filter(lambda x: x.startswith('envelope'), list(configuration[driveName].keys())))\n",
    "        data = SpectralData(np.array([]), np.array([]), np.array([]))\n",
    "        for idx, key in enumerate(keys):\n",
    "            env = configuration[driveName][key]\n",
    "            data.amplitudes = np.append(data.amplitudes, env.params[\"amp\"].get_value())\n",
    "            data.phases = np.append(data.phases, env.params[\"xy_angle\"].get_value())\n",
    "            carrier = configuration[driveName][f'carrier_{key[9:]}']\n",
    "            data.frequencies = np.append(data.frequencies, carrier.params[\"freq\"].get_value() / (2 * np.pi))\n",
    "        spectrum[driveName] = data\n",
    "    return spectrum\n",
    "\n",
    "stored_params_old = None\n",
    "stored_params_new = None\n",
    "\n",
    "spectrum = createSpectralData(SPECTRAL_RANGE, FREQUENCIES_IN_RANGE, NUM_PEAKS, INCLUDED_INDICES)\n",
    "#spectrum = getNewSpectralDataFromFile(INPUT_FILE, spectralRange=SPECTRAL_RANGE, numPeaks=NUM_PEAKS, includedIndices=INCLUDED_INDICES)\n",
    "#spectrum = {\n",
    "#    \"d1\": createSpectralDataForRanges([(3.9e9, 4.1e9), (4.4e9, 4.75e9)], [100, 200], amplitudeFactor=1e-3),\n",
    "#    \"d2\": createSpectralDataForRanges([(3.9e9, 4.1e9), (4.4e9, 4.75e9)], [100, 200], amplitudeFactor=1e-5)\n",
    "#}\n",
    "\n",
    "#stored_params_old = getOldConfigurationFromFile(INPUT_FILE, spectralRange=SPECTRAL_RANGE, numPeaks=NUM_PEAKS, includedIndices=INCLUDED_INDICES)\n",
    "#spectrum = convertOldConfigurationToSpectrum(stored_params_old)\n",
    "#stored_params_old = None\n",
    "#stored_params_new = getNewConfigurationFromFile(INPUT_FILE, spectralRange=SPECTRAL_RANGE, numPeaks=NUM_PEAKS, includedIndices=INCLUDED_INDICES)\n",
    "#spectrum = convertNewConfigurationToSpectrum(stored_params_new)\n",
    "\n",
    "for d in [\"d1\", \"d2\"]:\n",
    "    print(f\"{d}: {spectrum[d]}\")\n",
    "    print(spectrum[d].frequencies)\n",
    "    print(spectrum[d].amplitudes)"
   ],
   "metadata": {
    "collapsed": false,
    "pycharm": {
     "name": "#%%\n"
    }
   }
  },
  {
   "cell_type": "markdown",
   "source": [
    "### Create the generator with all devices"
   ],
   "metadata": {
    "collapsed": false,
    "pycharm": {
     "name": "#%% md\n"
    }
   }
  },
  {
   "cell_type": "code",
   "execution_count": 9,
   "outputs": [
    {
     "name": "stdout",
     "output_type": "stream",
     "text": [
      "Generator: N= 200\n",
      "Creating envelopes from spectral data\n",
      "frequencies:  [[6.291 GHz 2pi, 5.064 GHz 2pi, 5.154 GHz 2pi, 5.145 GHz 2pi, 5.136 GHz 2pi, 5.127 GHz 2pi, 5.118 GHz 2pi, 5.109 GHz 2pi, 5.100 GHz 2pi, 5.091 GHz 2pi, 5.082 GHz 2pi, 5.073 GHz 2pi, 5.055 GHz 2pi, 6.282 GHz 2pi, 5.046 GHz 2pi, 5.037 GHz 2pi, 5.028 GHz 2pi, 5.019 GHz 2pi, 5.010 GHz 2pi, 5.001 GHz 2pi, 4.993 GHz 2pi, 4.984 GHz 2pi, 4.975 GHz 2pi, 4.966 GHz 2pi, 5.163 GHz 2pi, 5.172 GHz 2pi, 5.181 GHz 2pi, 5.190 GHz 2pi, 5.378 GHz 2pi, 5.369 GHz 2pi, 5.360 GHz 2pi, 5.351 GHz 2pi, 5.342 GHz 2pi, 5.333 GHz 2pi, 5.324 GHz 2pi, 5.315 GHz 2pi, 5.306 GHz 2pi, 5.297 GHz 2pi, 5.288 GHz 2pi, 5.279 GHz 2pi, 5.270 GHz 2pi, 5.261 GHz 2pi, 5.252 GHz 2pi, 5.243 GHz 2pi, 5.234 GHz 2pi, 5.225 GHz 2pi, 5.216 GHz 2pi, 5.207 GHz 2pi, 5.199 GHz 2pi, 4.957 GHz 2pi, 4.948 GHz 2pi, 4.939 GHz 2pi, 4.715 GHz 2pi, 4.697 GHz 2pi, 4.688 GHz 2pi, 4.679 GHz 2pi, 4.670 GHz 2pi, 4.661 GHz 2pi, 4.652 GHz 2pi, 4.643 GHz 2pi, 4.634 GHz 2pi, 4.625 GHz 2pi, 4.616 GHz 2pi, 4.607 GHz 2pi, 4.599 GHz 2pi, 4.590 GHz 2pi, 4.581 GHz 2pi, 4.572 GHz 2pi, 4.563 GHz 2pi, 4.554 GHz 2pi, 4.545 GHz 2pi, 4.536 GHz 2pi, 4.527 GHz 2pi, 4.518 GHz 2pi, 4.706 GHz 2pi, 4.724 GHz 2pi, 4.930 GHz 2pi, 4.733 GHz 2pi, 4.921 GHz 2pi, 4.912 GHz 2pi, 4.903 GHz 2pi, 4.894 GHz 2pi, 4.885 GHz 2pi, 4.876 GHz 2pi, 4.867 GHz 2pi, 4.858 GHz 2pi, 4.849 GHz 2pi, 4.840 GHz 2pi, 4.831 GHz 2pi, 4.822 GHz 2pi, 4.813 GHz 2pi, 4.804 GHz 2pi, 4.796 GHz 2pi, 4.787 GHz 2pi, 4.778 GHz 2pi, 4.769 GHz 2pi, 4.760 GHz 2pi, 4.751 GHz 2pi, 4.742 GHz 2pi, 5.387 GHz 2pi, 5.396 GHz 2pi, 5.404 GHz 2pi, 6.067 GHz 2pi, 6.049 GHz 2pi, 6.040 GHz 2pi, 6.031 GHz 2pi, 6.022 GHz 2pi, 6.013 GHz 2pi, 6.004 GHz 2pi, 5.996 GHz 2pi, 5.987 GHz 2pi, 5.978 GHz 2pi, 5.969 GHz 2pi, 5.960 GHz 2pi, 5.951 GHz 2pi, 5.942 GHz 2pi, 5.933 GHz 2pi, 5.924 GHz 2pi, 5.915 GHz 2pi, 5.906 GHz 2pi, 5.897 GHz 2pi, 5.888 GHz 2pi, 5.879 GHz 2pi, 5.870 GHz 2pi, 6.058 GHz 2pi, 6.076 GHz 2pi, 5.852 GHz 2pi, 6.085 GHz 2pi, 6.273 GHz 2pi, 6.264 GHz 2pi, 6.255 GHz 2pi, 6.246 GHz 2pi, 6.237 GHz 2pi, 6.228 GHz 2pi, 6.219 GHz 2pi, 6.210 GHz 2pi, 6.201 GHz 2pi, 6.193 GHz 2pi, 6.184 GHz 2pi, 6.175 GHz 2pi, 6.166 GHz 2pi, 6.157 GHz 2pi, 6.148 GHz 2pi, 6.139 GHz 2pi, 6.130 GHz 2pi, 6.121 GHz 2pi, 6.112 GHz 2pi, 6.103 GHz 2pi, 6.094 GHz 2pi, 5.861 GHz 2pi, 5.843 GHz 2pi, 5.413 GHz 2pi, 5.619 GHz 2pi, 5.601 GHz 2pi, 5.593 GHz 2pi, 5.584 GHz 2pi, 5.575 GHz 2pi, 5.566 GHz 2pi, 5.557 GHz 2pi, 5.548 GHz 2pi, 5.539 GHz 2pi, 5.530 GHz 2pi, 5.521 GHz 2pi, 5.512 GHz 2pi, 5.503 GHz 2pi, 5.494 GHz 2pi, 5.485 GHz 2pi, 5.476 GHz 2pi, 5.467 GHz 2pi, 5.458 GHz 2pi, 5.449 GHz 2pi, 5.440 GHz 2pi, 5.431 GHz 2pi, 5.422 GHz 2pi, 5.610 GHz 2pi, 5.628 GHz 2pi, 5.834 GHz 2pi, 5.637 GHz 2pi, 5.825 GHz 2pi, 5.816 GHz 2pi, 5.807 GHz 2pi, 5.799 GHz 2pi, 5.790 GHz 2pi, 5.781 GHz 2pi, 5.772 GHz 2pi, 5.763 GHz 2pi, 5.754 GHz 2pi, 5.745 GHz 2pi, 5.736 GHz 2pi, 5.727 GHz 2pi, 5.718 GHz 2pi, 5.709 GHz 2pi, 5.700 GHz 2pi, 5.691 GHz 2pi, 5.682 GHz 2pi, 5.673 GHz 2pi, 5.664 GHz 2pi, 5.655 GHz 2pi, 5.646 GHz 2pi, 4.509 GHz 2pi], [6.291 GHz 2pi, 5.064 GHz 2pi, 5.154 GHz 2pi, 5.145 GHz 2pi, 5.136 GHz 2pi, 5.127 GHz 2pi, 5.118 GHz 2pi, 5.109 GHz 2pi, 5.100 GHz 2pi, 5.091 GHz 2pi, 5.082 GHz 2pi, 5.073 GHz 2pi, 5.055 GHz 2pi, 6.282 GHz 2pi, 5.046 GHz 2pi, 5.037 GHz 2pi, 5.028 GHz 2pi, 5.019 GHz 2pi, 5.010 GHz 2pi, 5.001 GHz 2pi, 4.993 GHz 2pi, 4.984 GHz 2pi, 4.975 GHz 2pi, 4.966 GHz 2pi, 5.163 GHz 2pi, 5.172 GHz 2pi, 5.181 GHz 2pi, 5.190 GHz 2pi, 5.378 GHz 2pi, 5.369 GHz 2pi, 5.360 GHz 2pi, 5.351 GHz 2pi, 5.342 GHz 2pi, 5.333 GHz 2pi, 5.324 GHz 2pi, 5.315 GHz 2pi, 5.306 GHz 2pi, 5.297 GHz 2pi, 5.288 GHz 2pi, 5.279 GHz 2pi, 5.270 GHz 2pi, 5.261 GHz 2pi, 5.252 GHz 2pi, 5.243 GHz 2pi, 5.234 GHz 2pi, 5.225 GHz 2pi, 5.216 GHz 2pi, 5.207 GHz 2pi, 5.199 GHz 2pi, 4.957 GHz 2pi, 4.948 GHz 2pi, 4.939 GHz 2pi, 4.715 GHz 2pi, 4.697 GHz 2pi, 4.688 GHz 2pi, 4.679 GHz 2pi, 4.670 GHz 2pi, 4.661 GHz 2pi, 4.652 GHz 2pi, 4.643 GHz 2pi, 4.634 GHz 2pi, 4.625 GHz 2pi, 4.616 GHz 2pi, 4.607 GHz 2pi, 4.599 GHz 2pi, 4.590 GHz 2pi, 4.581 GHz 2pi, 4.572 GHz 2pi, 4.563 GHz 2pi, 4.554 GHz 2pi, 4.545 GHz 2pi, 4.536 GHz 2pi, 4.527 GHz 2pi, 4.518 GHz 2pi, 4.706 GHz 2pi, 4.724 GHz 2pi, 4.930 GHz 2pi, 4.733 GHz 2pi, 4.921 GHz 2pi, 4.912 GHz 2pi, 4.903 GHz 2pi, 4.894 GHz 2pi, 4.885 GHz 2pi, 4.876 GHz 2pi, 4.867 GHz 2pi, 4.858 GHz 2pi, 4.849 GHz 2pi, 4.840 GHz 2pi, 4.831 GHz 2pi, 4.822 GHz 2pi, 4.813 GHz 2pi, 4.804 GHz 2pi, 4.796 GHz 2pi, 4.787 GHz 2pi, 4.778 GHz 2pi, 4.769 GHz 2pi, 4.760 GHz 2pi, 4.751 GHz 2pi, 4.742 GHz 2pi, 5.387 GHz 2pi, 5.396 GHz 2pi, 5.404 GHz 2pi, 6.067 GHz 2pi, 6.049 GHz 2pi, 6.040 GHz 2pi, 6.031 GHz 2pi, 6.022 GHz 2pi, 6.013 GHz 2pi, 6.004 GHz 2pi, 5.996 GHz 2pi, 5.987 GHz 2pi, 5.978 GHz 2pi, 5.969 GHz 2pi, 5.960 GHz 2pi, 5.951 GHz 2pi, 5.942 GHz 2pi, 5.933 GHz 2pi, 5.924 GHz 2pi, 5.915 GHz 2pi, 5.906 GHz 2pi, 5.897 GHz 2pi, 5.888 GHz 2pi, 5.879 GHz 2pi, 5.870 GHz 2pi, 6.058 GHz 2pi, 6.076 GHz 2pi, 5.852 GHz 2pi, 6.085 GHz 2pi, 6.273 GHz 2pi, 6.264 GHz 2pi, 6.255 GHz 2pi, 6.246 GHz 2pi, 6.237 GHz 2pi, 6.228 GHz 2pi, 6.219 GHz 2pi, 6.210 GHz 2pi, 6.201 GHz 2pi, 6.193 GHz 2pi, 6.184 GHz 2pi, 6.175 GHz 2pi, 6.166 GHz 2pi, 6.157 GHz 2pi, 6.148 GHz 2pi, 6.139 GHz 2pi, 6.130 GHz 2pi, 6.121 GHz 2pi, 6.112 GHz 2pi, 6.103 GHz 2pi, 6.094 GHz 2pi, 5.861 GHz 2pi, 5.843 GHz 2pi, 5.413 GHz 2pi, 5.619 GHz 2pi, 5.601 GHz 2pi, 5.593 GHz 2pi, 5.584 GHz 2pi, 5.575 GHz 2pi, 5.566 GHz 2pi, 5.557 GHz 2pi, 5.548 GHz 2pi, 5.539 GHz 2pi, 5.530 GHz 2pi, 5.521 GHz 2pi, 5.512 GHz 2pi, 5.503 GHz 2pi, 5.494 GHz 2pi, 5.485 GHz 2pi, 5.476 GHz 2pi, 5.467 GHz 2pi, 5.458 GHz 2pi, 5.449 GHz 2pi, 5.440 GHz 2pi, 5.431 GHz 2pi, 5.422 GHz 2pi, 5.610 GHz 2pi, 5.628 GHz 2pi, 5.834 GHz 2pi, 5.637 GHz 2pi, 5.825 GHz 2pi, 5.816 GHz 2pi, 5.807 GHz 2pi, 5.799 GHz 2pi, 5.790 GHz 2pi, 5.781 GHz 2pi, 5.772 GHz 2pi, 5.763 GHz 2pi, 5.754 GHz 2pi, 5.745 GHz 2pi, 5.736 GHz 2pi, 5.727 GHz 2pi, 5.718 GHz 2pi, 5.709 GHz 2pi, 5.700 GHz 2pi, 5.691 GHz 2pi, 5.682 GHz 2pi, 5.673 GHz 2pi, 5.664 GHz 2pi, 5.655 GHz 2pi, 5.646 GHz 2pi, 4.509 GHz 2pi]]\n",
      "amp:  [[1.000 V, 1.000 V, 1.000 V, 1.000 V, 1.000 V, 1.000 V, 1.000 V, 1.000 V, 1.000 V, 1.000 V, 1.000 V, 1.000 V, 1.000 V, 1.000 V, 1.000 V, 1.000 V, 1.000 V, 1.000 V, 1.000 V, 1.000 V, 1.000 V, 1.000 V, 1.000 V, 1.000 V, 1.000 V, 1.000 V, 1.000 V, 1.000 V, 1.000 V, 1.000 V, 1.000 V, 1.000 V, 1.000 V, 1.000 V, 1.000 V, 1.000 V, 1.000 V, 1.000 V, 1.000 V, 1.000 V, 1.000 V, 1.000 V, 1.000 V, 1.000 V, 1.000 V, 1.000 V, 1.000 V, 1.000 V, 1.000 V, 1.000 V, 1.000 V, 1.000 V, 1.000 V, 1.000 V, 1.000 V, 1.000 V, 1.000 V, 1.000 V, 1.000 V, 1.000 V, 1.000 V, 1.000 V, 1.000 V, 1.000 V, 1.000 V, 1.000 V, 1.000 V, 1.000 V, 1.000 V, 1.000 V, 1.000 V, 1.000 V, 1.000 V, 1.000 V, 1.000 V, 1.000 V, 1.000 V, 1.000 V, 1.000 V, 1.000 V, 1.000 V, 1.000 V, 1.000 V, 1.000 V, 1.000 V, 1.000 V, 1.000 V, 1.000 V, 1.000 V, 1.000 V, 1.000 V, 1.000 V, 1.000 V, 1.000 V, 1.000 V, 1.000 V, 1.000 V, 1.000 V, 1.000 V, 1.000 V, 1.000 V, 1.000 V, 1.000 V, 1.000 V, 1.000 V, 1.000 V, 1.000 V, 1.000 V, 1.000 V, 1.000 V, 1.000 V, 1.000 V, 1.000 V, 1.000 V, 1.000 V, 1.000 V, 1.000 V, 1.000 V, 1.000 V, 1.000 V, 1.000 V, 1.000 V, 1.000 V, 1.000 V, 1.000 V, 1.000 V, 1.000 V, 1.000 V, 1.000 V, 1.000 V, 1.000 V, 1.000 V, 1.000 V, 1.000 V, 1.000 V, 1.000 V, 1.000 V, 1.000 V, 1.000 V, 1.000 V, 1.000 V, 1.000 V, 1.000 V, 1.000 V, 1.000 V, 1.000 V, 1.000 V, 1.000 V, 1.000 V, 1.000 V, 1.000 V, 1.000 V, 1.000 V, 1.000 V, 1.000 V, 1.000 V, 1.000 V, 1.000 V, 1.000 V, 1.000 V, 1.000 V, 1.000 V, 1.000 V, 1.000 V, 1.000 V, 1.000 V, 1.000 V, 1.000 V, 1.000 V, 1.000 V, 1.000 V, 1.000 V, 1.000 V, 1.000 V, 1.000 V, 1.000 V, 1.000 V, 1.000 V, 1.000 V, 1.000 V, 1.000 V, 1.000 V, 1.000 V, 1.000 V, 1.000 V, 1.000 V, 1.000 V, 1.000 V, 1.000 V, 1.000 V, 1.000 V, 1.000 V, 1.000 V, 1.000 V, 1.000 V, 1.000 V, 1.000 V, 1.000 V, 1.000 V, 1.000 V], [1.000 V, 1.000 V, 1.000 V, 1.000 V, 1.000 V, 1.000 V, 1.000 V, 1.000 V, 1.000 V, 1.000 V, 1.000 V, 1.000 V, 1.000 V, 1.000 V, 1.000 V, 1.000 V, 1.000 V, 1.000 V, 1.000 V, 1.000 V, 1.000 V, 1.000 V, 1.000 V, 1.000 V, 1.000 V, 1.000 V, 1.000 V, 1.000 V, 1.000 V, 1.000 V, 1.000 V, 1.000 V, 1.000 V, 1.000 V, 1.000 V, 1.000 V, 1.000 V, 1.000 V, 1.000 V, 1.000 V, 1.000 V, 1.000 V, 1.000 V, 1.000 V, 1.000 V, 1.000 V, 1.000 V, 1.000 V, 1.000 V, 1.000 V, 1.000 V, 1.000 V, 1.000 V, 1.000 V, 1.000 V, 1.000 V, 1.000 V, 1.000 V, 1.000 V, 1.000 V, 1.000 V, 1.000 V, 1.000 V, 1.000 V, 1.000 V, 1.000 V, 1.000 V, 1.000 V, 1.000 V, 1.000 V, 1.000 V, 1.000 V, 1.000 V, 1.000 V, 1.000 V, 1.000 V, 1.000 V, 1.000 V, 1.000 V, 1.000 V, 1.000 V, 1.000 V, 1.000 V, 1.000 V, 1.000 V, 1.000 V, 1.000 V, 1.000 V, 1.000 V, 1.000 V, 1.000 V, 1.000 V, 1.000 V, 1.000 V, 1.000 V, 1.000 V, 1.000 V, 1.000 V, 1.000 V, 1.000 V, 1.000 V, 1.000 V, 1.000 V, 1.000 V, 1.000 V, 1.000 V, 1.000 V, 1.000 V, 1.000 V, 1.000 V, 1.000 V, 1.000 V, 1.000 V, 1.000 V, 1.000 V, 1.000 V, 1.000 V, 1.000 V, 1.000 V, 1.000 V, 1.000 V, 1.000 V, 1.000 V, 1.000 V, 1.000 V, 1.000 V, 1.000 V, 1.000 V, 1.000 V, 1.000 V, 1.000 V, 1.000 V, 1.000 V, 1.000 V, 1.000 V, 1.000 V, 1.000 V, 1.000 V, 1.000 V, 1.000 V, 1.000 V, 1.000 V, 1.000 V, 1.000 V, 1.000 V, 1.000 V, 1.000 V, 1.000 V, 1.000 V, 1.000 V, 1.000 V, 1.000 V, 1.000 V, 1.000 V, 1.000 V, 1.000 V, 1.000 V, 1.000 V, 1.000 V, 1.000 V, 1.000 V, 1.000 V, 1.000 V, 1.000 V, 1.000 V, 1.000 V, 1.000 V, 1.000 V, 1.000 V, 1.000 V, 1.000 V, 1.000 V, 1.000 V, 1.000 V, 1.000 V, 1.000 V, 1.000 V, 1.000 V, 1.000 V, 1.000 V, 1.000 V, 1.000 V, 1.000 V, 1.000 V, 1.000 V, 1.000 V, 1.000 V, 1.000 V, 1.000 V, 1.000 V, 1.000 V, 1.000 V, 1.000 V, 1.000 V, 1.000 V, 1.000 V, 1.000 V, 1.000 V, 1.000 V, 1.000 V]]\n",
      "phases:  [[-349.616 mrad, -1.542 rad, -351.711 mrad, 1.071 rad, -3.114 rad, 952.886 mrad, 2.170 rad, 1.386 rad, -2.512 rad, -418.539 mrad, -1.966 rad, -2.218 rad, -2.905 rad, -1.345 rad, -604.120 mrad, -355.165 mrad, 608.849 mrad, -593.259 mrad, 2.536 rad, 1.150 rad, 2.661 rad, -2.751 rad, -1.602 rad, -1.633 rad, -2.602 rad, -1.265 rad, 940.866 mrad, 908.027 mrad, 1.986 rad, -737.925 mrad, 1.112 rad, 708.323 mrad, 679.745 mrad, -2.200 rad, -1.624 rad, -3.129 rad, 2.850 rad, 415.570 mrad, -1.123 rad, 2.697 rad, 470.414 mrad, 2.885 rad, 1.839 rad, -553.202 mrad, -2.633 rad, -31.546 mrad, -2.249 rad, 1.073 rad, 2.900 rad, -268.977 mrad, 1.915 rad, -1.871 rad, -1.450 rad, -1.824 rad, 2.624 rad, -1.096 rad, -3.116 rad, 2.521 rad, -1.892 rad, -2.754 rad, 2.715 rad, 517.482 mrad, 2.298 rad, 2.987 rad, -574.915 mrad, 2.165 rad, 2.742 rad, 461.101 mrad, 1.300 rad, 1.769 rad, 1.440 rad, 2.923 rad, 2.960 rad, 1.566 rad, -600.499 mrad, -1.156 rad, 202.971 mrad, 137.452 mrad, -2.399 rad, -1.706 rad, 801.507 mrad, 1.455 rad, 689.147 mrad, 2.157 rad, -1.369 rad, 2.214 rad, 2.057 rad, -3.096 rad, -2.782 rad, -621.508 mrad, 1.965 rad, -2.456 rad, -180.061 mrad, 1.577 rad, -3.033 rad, 3.054 rad, -2.314 rad, 2.645 rad, -2.505 rad, 1.791 rad, 1.977 rad, -2.215 rad, -1.673 rad, 481.410 mrad, -1.046 rad, -1.997 rad, 1.873 rad, -1.791 rad, -553.292 mrad, 2.602 rad, 2.443 rad, -674.559 mrad, 2.487 rad, -813.595 mrad, -287.880 mrad, -913.778 mrad, 2.666 rad, -2.213 rad, -1.008 rad, -2.426 rad, -2.493 rad, -2.504 rad, 371.892 mrad, -1.499 rad, 2.346 rad, -2.710 rad, -52.192 mrad, 2.891 rad, -488.686 mrad, -2.158 rad, -2.582 rad, 719.515 mrad, 394.676 mrad, -2.568 rad, 925.640 mrad, -2.395 rad, -1.497 rad, -487.519 mrad, 2.041 rad, -1.576 rad, 82.640 mrad, -459.437 mrad, -1.932 rad, -209.754 mrad, -2.826 rad, -1.279 rad, -1.575 rad, 2.747 rad, 2.395 rad, -1.743 rad, -2.572 rad, -838.047 mrad, -3.113 rad, -1.762 rad, -2.769 rad, 360.618 mrad, 2.801 rad, -1.499 rad, 1.843 rad, 1.724 rad, -2.521 rad, -1.727 rad, 1.949 rad, 1.397 rad, -1.917 rad, 470.369 mrad, 1.700 rad, -1.551 rad, -1.170 rad, 637.418 mrad, 2.581 rad, 167.606 mrad, -325.705 mrad, -2.728 rad, 2.423 rad, 602.160 mrad, 2.949 rad, -144.137 mrad, -2.778 rad, -333.384 mrad, -2.187 rad, 3.104 rad, 2.742 rad, -645.123 mrad, -1.415 rad, -1.976 rad, 1.008 rad, 1.775 rad, -1.800 rad, 609.706 mrad, -2.500 rad, 667.068 mrad, -840.510 mrad, -1.447 rad, -2.403 rad, -1.654 rad, -1.635 rad, 1.575 rad, 1.438 rad, -137.255 mrad], [-1.073 rad, -2.176 rad, -498.490 mrad, -401.385 mrad, 2.666 rad, -1.075 rad, -1.219 rad, -1.052 rad, -1.726 rad, 1.753 rad, 1.040 rad, 235.716 mrad, 1.972 rad, 2.729 rad, -2.377 rad, -2.839 rad, -198.064 mrad, -2.840 rad, 1.140 rad, -1.863 rad, -1.006 rad, -589.248 mrad, 925.824 mrad, 2.481 rad, -1.054 rad, 1.661 rad, 1.909 rad, 2.354 rad, -1.101 rad, -544.687 mrad, -3.115 rad, 2.570 rad, 940.857 mrad, 1.100 rad, 1.567 rad, -411.201 mrad, 2.446 rad, -213.576 mrad, -1.765 rad, -1.766 rad, 2.023 rad, 1.430 rad, 2.299 rad, 1.101 rad, -2.765 rad, -1.551 rad, -2.241 rad, 479.652 mrad, 1.214 rad, 2.738 rad, 485.072 mrad, 669.387 mrad, -1.135 rad, -3.075 rad, 423.906 mrad, 1.675 rad, -3.045 rad, 550.571 mrad, 2.153 rad, -1.492 rad, -131.229 mrad, 922.094 mrad, -658.428 mrad, 1.503 rad, -329.870 mrad, -2.939 rad, -772.299 mrad, -43.275 mrad, 2.849 rad, 1.898 rad, -3.052 rad, -1.945 rad, -2.221 rad, 2.639 rad, -1.470 rad, -2.055 rad, 1.081 rad, 1.504 rad, -2.524 rad, 2.391 rad, 2.710 rad, -65.472 mrad, -1.494 rad, 1.704 rad, -2.486 rad, -598.051 mrad, 1.296 rad, -401.289 mrad, 3.092 rad, -1.568 rad, -2.227 rad, -432.764 mrad, 1.302 rad, 2.663 rad, 1.286 rad, 1.976 rad, 444.130 mrad, -1.003 rad, 422.071 mrad, 2.737 rad, 605.781 mrad, -2.862 rad, -1.898 rad, 562.781 mrad, 1.594 rad, 3.122 rad, 2.632 rad, 2.235 rad, -1.872 rad, 3.093 rad, 1.210 rad, -619.138 mrad, -1.573 rad, -1.610 rad, 1.490 rad, -2.464 rad, 2.022 rad, -2.130 rad, 2.085 rad, -1.074 rad, -2.088 rad, -496.248 mrad, -682.440 mrad, -2.437 rad, -1.409 rad, 1.230 rad, 849.480 mrad, -1.947 rad, 1.470 rad, 1.992 rad, -2.775 rad, 2.725 rad, 299.181 mrad, -2.704 rad, 1.276 rad, 1.993 rad, 27.669 mrad, -2.117 rad, -1.899 rad, -2.606 rad, 2.889 rad, -2.996 rad, -2.832 rad, 819.138 mrad, -104.804 mrad, -2.969 rad, -1.673 rad, 1.308 rad, 1.301 rad, -410.262 mrad, -1.757 rad, -1.143 rad, 1.538 rad, 2.858 rad, -670.719 mrad, 1.592 rad, 1.743 rad, -2.312 rad, 2.950 rad, 2.166 rad, 1.525 rad, 754.366 mrad, -2.914 rad, -813.183 mrad, 1.902 rad, -2.762 rad, -1.848 rad, 703.609 mrad, 2.018 rad, 1.152 rad, -1.438 rad, -1.216 rad, -529.279 mrad, -3.088 rad, -1.538 rad, -285.915 mrad, 2.784 rad, -2.356 rad, 2.479 rad, -1.793 rad, 2.122 rad, -768.375 mrad, -1.414 rad, 505.951 mrad, 246.880 mrad, 2.182 rad, -930.417 mrad, -815.962 mrad, 145.575 mrad, -837.257 mrad, -286.456 mrad, 1.728 rad, 2.647 rad, -1.273 rad, 738.086 mrad, 3.057 rad, -2.015 rad, 2.942 rad, -2.168 rad, 1.799 rad]]\n"
     ]
    }
   ],
   "source": [
    "# Envelopes and carriers\n",
    "#carrier_freqs = [1e-8, 1e-8]\n",
    "#carrier_freqs = [1e-5, 1e-5]\n",
    "#carrier_framechange = [0.00, 0.00]\n",
    "#pulse_t_final = [t_final, t_final]\n",
    "#pulse_sigmas = [t_final/5, t_final/5]\n",
    "#pulse_amps = [0.5, 0.5]\n",
    "#pulse_deltas = [0, 0]\n",
    "#pulse_xy_angles = [0.0, 0.0]\n",
    "#pulse_freq_offsets = [0.0, 0.0]\n",
    "\n",
    "print(\"Generator: N=\", len(spectrum[drives[0].name].frequencies))\n",
    "generator = createGeneratorNLOs(drives, sim_res=sim_res, awg_res=awg_res, N=len(spectrum[drives[0].name].frequencies))\n",
    "\n",
    "envelopes = []\n",
    "envelopesForDrive = {d.name: [] for d in drives}\n",
    "carriers = []\n",
    "carriersForDrive = {d.name: [] for d in drives}\n",
    "\n",
    "#selectedFreqsMap, selectedAmpsMap, selectedPhasesMap = getFourierBasisFromModel(transitions)\n",
    "#stored_params = getConfigurationFromFile(\"./optimised_params/10freqsvariable_from15_CZ.json\", spectralRange=(3.5e9, 5.5e9), numPeaks=10)\n",
    "#selectedFreqsMap, selectedAmpsMap, selectedPhasesMap = getFourierBasisFromSignal(INPUT_FILE)\n",
    "#selectedFreqs = np.array(np.abs(directTransitions))\n",
    "#selectedAmps = np.ones_like(directTransitions) * 0.1\n",
    "#selectedFreqs = np.array([1e9])\n",
    "#selectedAmps = 0.1 * np.ones_like(selectedFreqs)\n",
    "#selectedPhases = np.ones_like(selectedFreqs)\n",
    "#print(selectedFreqs)\n",
    "\n",
    "if stored_params_old is not None:\n",
    "    print(\"Creating envelopes from configuration\")\n",
    "    for idx in [0, 1]:\n",
    "        driveName = drives[idx].name\n",
    "        stored_params_drive = stored_params_old[driveName]\n",
    "        # Copy the envelope\n",
    "        env: pulse.Envelope = copy.deepcopy(stored_params_drive[f\"envelope_{driveName}\"])\n",
    "        if useDRAG and not isinstance(env, EnvelopeDrag):\n",
    "            print(\"Converting to DRAG\")\n",
    "            env = convertToDRAG(env)\n",
    "        elif not useDRAG and isinstance(env, EnvelopeDrag):\n",
    "            print(\"Converting from DRAG\")\n",
    "            env = convertFromDRAG(env)\n",
    "        env.params[\"t_final\"] = Qty(value=t_final, min_val=0.5*t_final, max_val=1.5*t_final, unit=\"s\")\n",
    "        envelopes.append(env)\n",
    "        envelopesForDrive[driveName].append(env)\n",
    "\n",
    "        # Copy the carrier\n",
    "        carrier = copy.deepcopy(stored_params_drive[f\"carrier_{driveName}\"])\n",
    "        carrier.name = f\"carrier_{driveName}\"\n",
    "        carriers.append(carrier)\n",
    "        carriersForDrive[driveName].append(carrier)\n",
    "if stored_params_new is not None:\n",
    "    print(\"Creating envelopes from configuration\")\n",
    "    for idx in [0, 1]:\n",
    "        driveName = drives[idx].name\n",
    "        stored_params_drive = stored_params_new[driveName]\n",
    "\n",
    "        envelopeKeys = list(filter(lambda x: x.startswith('envelope'), list(stored_params_drive.keys())))\n",
    "        for i, key in enumerate(envelopeKeys):\n",
    "            # Copy the envelope\n",
    "            env: pulse.Envelope = copy.deepcopy(stored_params_drive[key])\n",
    "            env.name = f\"envelope_{driveName}_{i + 1}\"\n",
    "            if useDRAG and not isinstance(env, EnvelopeDrag):\n",
    "                print(\"Converting to DRAG\")\n",
    "                env = convertToDRAG(env)\n",
    "            elif not useDRAG and isinstance(env, EnvelopeDrag):\n",
    "                print(\"Converting from DRAG\")\n",
    "                env = convertFromDRAG(env)\n",
    "            env.params[\"t_final\"] = Qty(value=t_final, min_val=0.5 * t_final, max_val=1.5 * t_final, unit=\"s\")\n",
    "            #env.params[\"amp\"] = Qty(value=env.params[\"amp\"].get_value(),\n",
    "            #                        min_val=0.1 * env.params[\"amp\"].get_value(),\n",
    "            #                        max_val=10.0 * env.params[\"amp\"].get_value())\n",
    "            env.params[\"ampR\"] = Qty(value=env.params[\"ampR\"].get_value(),\n",
    "                                     min_val=0.1 * env.params[\"ampR\"].get_value(),\n",
    "                                     max_val=10.0 * env.params[\"ampR\"].get_value())\n",
    "            env.params[\"ampI\"] = Qty(value=env.params[\"ampI\"].get_value(),\n",
    "                                     min_val=0.1 * env.params[\"ampI\"].get_value(),\n",
    "                                     max_val=10.0 * env.params[\"ampI\"].get_value())\n",
    "            envelopes.append(env)\n",
    "            envelopesForDrive[driveName].append(env)\n",
    "\n",
    "            # Copy the carrier\n",
    "            carrierKey = f\"carrier_{key[9:]}\"\n",
    "            carrier = copy.deepcopy(stored_params_drive[carrierKey])\n",
    "            carrier.name = f\"carrier_{driveName}_{i+1}\"\n",
    "            carriers.append(carrier)\n",
    "            carriersForDrive[driveName].append(carrier)\n",
    "elif spectrum is not None:\n",
    "    print(\"Creating envelopes from spectral data\")\n",
    "    for idx in [0, 1]:\n",
    "        data = spectrum[drives[idx].name]\n",
    "        for k in range(len(data.frequencies)):\n",
    "            # Create an envelope\n",
    "            if USE_COMPLEX_GAUSSIANS:\n",
    "                env = createComplexGaussianPulse(\n",
    "                t_final=t_final,\n",
    "                sigmaR=t_final * 10,\n",
    "                sigmaI=t_final * 10,\n",
    "                amp=1.0 if USE_COMPLEX_AMPLITUDE else (3.0/4.4)*data.amplitudes[k],\n",
    "                ampR=(3.0/4.4)*data.amplitudes[k] if USE_COMPLEX_AMPLITUDE else None,\n",
    "                ampI=(3.0/4.4)*data.amplitudes[k] if USE_COMPLEX_AMPLITUDE else None,\n",
    "                delta=0.0,\n",
    "                xy_angle=data.phases[k],\n",
    "                freq_off=1e-5,\n",
    "                useDrag=useDRAG\n",
    "                )\n",
    "            else:\n",
    "                env = createGaussianPulse(\n",
    "                    t_final=t_final,\n",
    "                    sigma=t_final * 10,\n",
    "                    amp=data.amplitudes[k],\n",
    "                    delta=0.0,\n",
    "                    xy_angle=data.phases[k],\n",
    "                    freq_off=1e-5,\n",
    "                    useDrag=useDRAG\n",
    "                )\n",
    "            if usePWC:\n",
    "                env = convertToPWC(env, numPWCPieces)\n",
    "            env.name = f\"envelope_{drives[idx].name}_{k+1}\"\n",
    "            envelopes.append(env)\n",
    "            envelopesForDrive[drives[idx].name].append(env)\n",
    "\n",
    "            # Create a carrier\n",
    "            carrier_parameters = {\n",
    "                \"freq\": Qty(value=data.frequencies[k], min_val=0.98 * data.frequencies[k],\n",
    "                            max_val=1.02 * data.frequencies[k], unit=\"Hz 2pi\"),\n",
    "                \"framechange\": Qty(value=0.0, min_val=-np.pi, max_val=3 * np.pi, unit=\"rad\"),\n",
    "            }\n",
    "            carrier = pulse.Carrier(\n",
    "                name=f\"carrier_{drives[idx].name}_{k+1}\",\n",
    "                desc=\"Frequency of the local oscillator\",\n",
    "                params=carrier_parameters,\n",
    "            )\n",
    "            carriers.append(carrier)\n",
    "            carriersForDrive[drives[idx].name].append(carrier)\n",
    "\n",
    "print(\"frequencies: \", [[carrier.params[\"freq\"] for carrier in carriers] for carriers in carriersForDrive.values()])\n",
    "print(\"amp: \", [[env.params[\"amp\"] for env in envelopes] for envelopes in envelopesForDrive.values()])\n",
    "print(\"phases: \", [[env.params[\"xy_angle\"] for env in envelopes] for envelopes in envelopesForDrive.values()])"
   ],
   "metadata": {
    "collapsed": false,
    "pycharm": {
     "name": "#%%\n"
    }
   }
  },
  {
   "cell_type": "markdown",
   "source": [
    "### Ideal gate"
   ],
   "metadata": {
    "collapsed": false,
    "pycharm": {
     "name": "#%% md\n"
    }
   }
  },
  {
   "cell_type": "code",
   "execution_count": null,
   "outputs": [],
   "source": [
    "printMatrix(IDEAL_GATE, createTwoTransmonsQubitLabels(includeLeakage=False, makeLatexKets=True), \"ideal_gate\", output)\n",
    "\n",
    "gate = gates.Instruction(\n",
    "    name=IDEAL_GATE_NAME,\n",
    "    #name=\"unity\",\n",
    "    targets=[0, 1],\n",
    "    t_start=0.0,\n",
    "    t_end=t_final,\n",
    "    channels=[d.name for d in drives],\n",
    "    ideal=IDEAL_GATE,\n",
    ")\n",
    "for drive in drives:\n",
    "    for env in envelopesForDrive[drive.name]:\n",
    "        gate.add_component(copy.deepcopy(env), drive.name)\n",
    "    for carrier in carriersForDrive[drive.name]:\n",
    "        gate.add_component(copy.deepcopy(carrier), drive.name)"
   ],
   "metadata": {
    "collapsed": false,
    "pycharm": {
     "name": "#%%\n",
     "is_executing": true
    }
   }
  },
  {
   "cell_type": "markdown",
   "source": [
    "### Set up the experiment and compute propagators"
   ],
   "metadata": {
    "collapsed": false,
    "pycharm": {
     "name": "#%% md\n"
    }
   }
  },
  {
   "cell_type": "code",
   "execution_count": null,
   "outputs": [],
   "source": [
    "# Set up the experiment\n",
    "parameter_map = PMap(instructions=[gate], model=model, generator=generator)\n",
    "exp = Exp(pmap=parameter_map, sim_res=sim_res)\n",
    "exp.set_opt_gates([gate.get_key()])\n",
    "\n",
    "unitaries = exp.compute_propagators()\n",
    "printPropagator(exp, gate, createTwoTransmonsQubitLabels(includeLeakage=True, makeLatexKets=True), createTwoTransmonsQubitLabels(includeLeakage=False, makeLatexKets=True), output)\n",
    "#printAllSignals(exp, qubits[0], output, directory=\"devices_before\")\n",
    "#printAllSignals(exp, qubits[1], output, directory=\"devices_before\")"
   ],
   "metadata": {
    "collapsed": false,
    "pycharm": {
     "name": "#%%\n",
     "is_executing": true
    }
   }
  },
  {
   "cell_type": "code",
   "execution_count": null,
   "outputs": [],
   "source": [
    "initialFidelity = 1 - tf_utils.tf_unitary_overlap(tf_project_to_comp(\n",
    "        unitaries[gate.get_key()], dims=[25], index=[0], outdims=[16]\n",
    "    ), IDEAL_GATE, lvls=4).numpy()\n",
    "print(\"Initial infidelity: \", initialFidelity)"
   ],
   "metadata": {
    "collapsed": false,
    "pycharm": {
     "name": "#%%\n",
     "is_executing": true
    }
   }
  },
  {
   "cell_type": "markdown",
   "source": [
    "### Calculate and save the time-dependent Hamiltonian"
   ],
   "metadata": {
    "collapsed": false,
    "pycharm": {
     "name": "#%% md\n"
    }
   }
  },
  {
   "cell_type": "code",
   "execution_count": null,
   "outputs": [],
   "source": [
    "'''\n",
    "signal = parameter_map.generator.generate_signals(parameter_map.instructions[gate.get_key()])\n",
    "H = parameter_map.model.get_Hamiltonian(signal)\n",
    "print(H.shape)\n",
    "output.save(H, 'hamiltonian_timedependent')\n",
    "'''"
   ],
   "metadata": {
    "collapsed": false,
    "pycharm": {
     "name": "#%%\n"
    }
   }
  },
  {
   "cell_type": "markdown",
   "source": [
    "### Print the generated signal"
   ],
   "metadata": {
    "collapsed": false,
    "pycharm": {
     "name": "#%% md\n"
    }
   }
  },
  {
   "cell_type": "code",
   "execution_count": null,
   "outputs": [],
   "source": [
    "# Obtain all energies and transitions\n",
    "#stateEnergies = getEnergiesFromFile('./optimised_params/fourier basis 5 levels/level_energies.npy', level_labels_short)\n",
    "#stateEnergies = getEnergiesFromModel(exp, gate, level_labels_short)\n",
    "stateEnergies = getEnergiesFromPropagator(unitaries[gate.get_key()], t_final)\n",
    "transitions = calculateTransitions(stateEnergies, createTwoTransmonsStateLabels())\n",
    "#for t in transitions:\n",
    "#    print(t)\n",
    "\n",
    "#directTransitions = np.array([np.abs(stateEnergies[i + 1][0] - stateEnergies[i][0]) for i in range(0, len(stateEnergies) - 1, 1)])\n",
    "#directTransitions = []\n",
    "#for i in range(0, len(stateEnergies)-1, 1):\n",
    "#    diff = stateEnergies[i+1][0] - stateEnergies[i][0]\n",
    "#    directTransitions.append(diff)\n",
    "#print(directTransitions)\n",
    "\n",
    "printSignal(exp, qubits, gate, output=output, states=transitions)\n",
    "#printAllSignals(exp, qubits[0], output, directory=\"devices_before\")\n",
    "parameter_map.write_config(output.createFileName(\"parameter_map\", \"json\"))"
   ],
   "metadata": {
    "collapsed": false,
    "pycharm": {
     "name": "#%%\n"
    }
   }
  },
  {
   "cell_type": "code",
   "execution_count": null,
   "outputs": [],
   "source": [
    "# Find all energy eigenvalues of the full Hamiltonian calculated from the propagator over short times\n",
    "'''\n",
    "U = unitaries[gate.get_key()].numpy()\n",
    "interval = 1e-12\n",
    "tau = t_final / interval\n",
    "U = np.float_power(U, 1.0 / tau)\n",
    "diag = np.diagonal(U)\n",
    "#print(diag)\n",
    "energies = -np.angle(diag) / (2 * np.pi * interval)\n",
    "print(energies)\n",
    "'''\n",
    "'''\n",
    "# all energy levels with labels\n",
    "stateEnergies = zip(energies, level_labels_short)\n",
    "\n",
    "# all energy transitions\n",
    "items = sorted(stateEnergies, key=lambda x: x[0])\n",
    "transitions = []\n",
    "for i in range(len(items)):\n",
    "    for j in range(len(items)):\n",
    "        if i != j:\n",
    "            E = items[j][0] - items[i][0]\n",
    "            if E > 0:\n",
    "                transitions.append((E, items[i][1] + \" - \" + items[j][1]))\n",
    "\n",
    "transitions.sort(key=lambda x: x[0])\n",
    "#for t in transitions:\n",
    "#    print(t)\n",
    "\n",
    "#directTransitions = np.array([np.abs(stateEnergies[i + 1][0] - stateEnergies[i][0]) for i in range(0, len(stateEnergies) - 1, 1)])\n",
    "#directTransitions = []\n",
    "#for i in range(0, len(stateEnergies)-1, 1):\n",
    "#    diff = stateEnergies[i+1][0] - stateEnergies[i][0]\n",
    "#    directTransitions.append(diff)\n",
    "#print(directTransitions)\n",
    "'''\n",
    "\n",
    "'''\n",
    "# Read the Stark-shifted energies from a file\n",
    "energies = np.load('/home/user/eigenvalues.npy')\n",
    "\n",
    "# Combine energies with state labels\n",
    "stateEnergies = zip(energies, level_labels_short)\n",
    "for energy,state in zip(energies, level_labels_short):\n",
    "    print(state, energy)\n",
    "\n",
    "# Compute all resonance energies\n",
    "items = sorted(stateEnergies, key=lambda x: x[0])\n",
    "transitions = []\n",
    "for i in range(len(items)):\n",
    "    for j in range(len(items)):\n",
    "        if i != j:\n",
    "            E = items[j][0] - items[i][0]\n",
    "            if E > 0:\n",
    "                transitions.append((E, items[i][1] + \" - \" + items[j][1]))\n",
    "\n",
    "transitions.sort(key=lambda x: x[0])\n",
    "for t in transitions:\n",
    "    print(t)\n",
    "'''"
   ],
   "metadata": {
    "collapsed": false,
    "pycharm": {
     "name": "#%%\n"
    }
   }
  },
  {
   "cell_type": "code",
   "execution_count": null,
   "outputs": [],
   "source": [
    "# Plot time dependent populations of the basis states for different initial states\n",
    "'''\n",
    "filenameLabels = createTwoTransmonsStateLabels(includeLeakage=True, labelLeakageAsNumbers=True, makeLatexKets=False)\n",
    "plotLabels = createTwoTransmonsStateLabels(includeLeakage=True, labelLeakageAsNumbers=True, makeLatexKets=True)\n",
    "for i in [0]: #range(model.tot_dim):\n",
    "    print(i)\n",
    "    psi_init = [[0] * model.tot_dim]\n",
    "    psi_init[0][i] = 1\n",
    "    psi_init /= np.linalg.norm(psi_init)\n",
    "    print(\"initial state: \", psi_init)\n",
    "    init_state = tf.transpose(tf.constant(psi_init, tf.complex128))\n",
    "    sequence = [gate.get_key()]\n",
    "\n",
    "    populations = calculatePopulation(exp, init_state, [gate.get_key()])\n",
    "    output.save(populations, f\"population_{filenameLabels[i]}\")\n",
    "    plotPopulation(exp, populations, sequence=[gate.get_key()],\n",
    "                   labels=plotLabels, filename=output.createFileName(f\"population_{filenameLabels[i]}\", \"svg\"))\n",
    "    #phases = calculatePhases(exp, init_state, [gate.get_key()], stepFraction=1)\n",
    "    #phases = phases[0,:].reshape((1, phases.shape[1]))\n",
    "    #output.save(phases, f\"phases_{filenameLabels[i]}\")\n",
    "    #plotPopulation(exp, phases, sequence=[gate.get_key()],\n",
    "    #               labels=plotLabels, filename=output.createFileName(f\"phases_{filenameLabels[i]}\", \"svg\"))\n",
    "'''\n",
    "#printEntanglementEvolution(exp, gate, output)"
   ],
   "metadata": {
    "collapsed": false,
    "pycharm": {
     "name": "#%%\n"
    }
   }
  },
  {
   "cell_type": "code",
   "execution_count": null,
   "outputs": [],
   "source": [
    "# Specify the parameters to be optimised and initialise the optimiser\n",
    "opt_map = []\n",
    "for drive in [drives[i] for i in OPTIMISABLE_DRIVES]:\n",
    "    for env in envelopesForDrive[drive.name]:\n",
    "        if USE_COMPLEX_AMPLITUDE:\n",
    "            opt_map.append([(gate.get_key(), drive.name, env.name, \"ampR\")])\n",
    "            opt_map.append([(gate.get_key(), drive.name, env.name, \"ampI\")])\n",
    "        else:\n",
    "            opt_map.append([(gate.get_key(), drive.name, env.name, \"amp\")])\n",
    "        #opt_map.append([(gate.get_key(), drive.name, env.name, \"freq_offset\")])\n",
    "        opt_map.append([(gate.get_key(), drive.name, env.name, \"xy_angle\")])\n",
    "        opt_map.append([(gate.get_key(), drive.name, env.name, \"sigmaR\")])\n",
    "        opt_map.append([(gate.get_key(), drive.name, env.name, \"sigmaI\")])\n",
    "        if useDRAG:\n",
    "            opt_map.append([(gate.get_key(), drive.name, env.name, \"delta\")])\n",
    "        if usePWC:\n",
    "            opt_map.append([(gate.get_key(), drive.name, env.name, \"inphase\")])\n",
    "            opt_map.append([(gate.get_key(), drive.name, env.name, \"quadrature\")])\n",
    "            #opt_map.append([(gate.get_key(), drive.name, env.name, \"t_bin_end\")])\n",
    "        #else:\n",
    "        #    opt_map.append([(gate.get_key(), drive.name, env.name, \"amps\")])\n",
    "        #    if OPTIMISE_FREQUENCIES:\n",
    "        #        opt_map.append([(gate.get_key(), drive.name, env.name, \"freqs\")])\n",
    "        #    opt_map.append([(gate.get_key(), drive.name, env.name, \"phases\")])\n",
    "        #    if OPTIMISE_TFINAL:\n",
    "        #        opt_map.append([(gate.get_key(), drive.name, env.name, \"t_final\")])\n",
    "    for carrier in carriersForDrive[drive.name]:\n",
    "        opt_map.append([(gate.get_key(), drive.name, carrier.name, \"freq\")])\n",
    "    #    #opt_map.append([(gate.get_key(), drive.name, carrier.name, \"framechange\")])\n",
    "parameter_map.set_opt_map(opt_map)\n",
    "parameter_map.print_parameters()"
   ],
   "metadata": {
    "collapsed": false,
    "pycharm": {
     "name": "#%%\n"
    }
   }
  },
  {
   "cell_type": "code",
   "execution_count": null,
   "metadata": {
    "pycharm": {
     "name": "#%%\n"
    }
   },
   "outputs": [],
   "source": [
    "infidelities = []\n",
    "\n",
    "for algorithm, params in selected_algorithms:\n",
    "    if algorithm == ALGORITHM_LBFGS:\n",
    "        infidelities = optimise(output, qubits, exp, algorithms.lbfgs, {\n",
    "            \"maxfun\": 50,\n",
    "            \"ftol\": 1e-5,\n",
    "            **params\n",
    "        }, gate)\n",
    "    elif algorithm == ALGORITHM_LBFGS_GRAD_FREE:\n",
    "        infidelities = optimise(output, qubits, exp, algorithms.lbfgs_grad_free, {\n",
    "            \"maxfun\": 1000,\n",
    "            \"gtol\": 1e-4,\n",
    "            \"ftol\": 1e-4,\n",
    "            **params\n",
    "        }, gate)\n",
    "    elif algorithm == ALGORITHM_CMAES:\n",
    "        infidelities = optimise(output, qubits, exp, algorithms.cmaes, {\n",
    "            \"popsize\": 15,\n",
    "            \"spread\": 0.02,\n",
    "            \"maxfevals\": 2000,\n",
    "            \"init_point\": \"True\",\n",
    "            \"stop_at_sigma\": 1e-3,\n",
    "            \"stop_at_convergence\": 20,\n",
    "            **params\n",
    "        }, gate)\n",
    "    elif algorithm == ALGORITHM_GCMAES:\n",
    "        infidelities = optimise(output, qubits, exp, algorithms.gcmaes, {\n",
    "            \"cmaes\": {\"popsize\": 12, \"spread\": 0.05, \"maxfevals\": 20,\n",
    "                      \"init_point\": \"True\", \"stop_at_sigma\": 1e-4, \"stop_at_convergence\": 20, **params[\"cmaes\"]},\n",
    "            \"lbfgs\": {\"maxfun\": 500, \"ftol\": 1e-6, **params[\"lbfgs\"]}\n",
    "        }, gate)\n",
    "    else:\n",
    "        print(\"Unknown algorithm: \", algorithm)"
   ]
  },
  {
   "cell_type": "code",
   "execution_count": null,
   "metadata": {
    "pycharm": {
     "name": "#%%\n"
    }
   },
   "outputs": [],
   "source": [
    "# Plot results\n",
    "output = DataOutput(output_dir, file_suffix='after')\n",
    "plotData(np.arange(len(infidelities)), infidelities, xlabel=\"Step\",\n",
    "         ylabel=\"Infidelity\", filename=output.createFileName(\"convergence\", \"svg\"))\n",
    "printSignal(exp, qubits, gate, output=output, states=transitions)\n",
    "#printAllSignals(exp, qubits, output, directory=\"devices_after\")\n",
    "printPropagator(exp, gate, createTwoTransmonsQubitLabels(includeLeakage=True, makeLatexKets=True), createTwoTransmonsQubitLabels(includeLeakage=False, makeLatexKets=True), output, savePartials=False)\n",
    "#printTimeEvolution(exp, init_state, gate, level_labels, output)\n",
    "#printEntanglementEvolution(exp, gate, output)\n",
    "parameter_map.write_config(output.createFileName(\"parameter_map\", \"json\"))"
   ]
  },
  {
   "cell_type": "code",
   "execution_count": null,
   "outputs": [],
   "source": [],
   "metadata": {
    "collapsed": false,
    "pycharm": {
     "name": "#%%\n"
    }
   }
  }
 ],
 "metadata": {
  "kernelspec": {
   "display_name": "Python 3 (ipykernel)",
   "language": "python",
   "name": "python3"
  },
  "language_info": {
   "codemirror_mode": {
    "name": "ipython",
    "version": 3
   },
   "file_extension": ".py",
   "mimetype": "text/x-python",
   "name": "python",
   "nbconvert_exporter": "python",
   "pygments_lexer": "ipython3",
   "version": "3.10.6"
  }
 },
 "nbformat": 4,
 "nbformat_minor": 1
}