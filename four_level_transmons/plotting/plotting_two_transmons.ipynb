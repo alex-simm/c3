{
 "cells": [
  {
   "cell_type": "code",
   "execution_count": null,
   "outputs": [],
   "source": [
    "from typing import List, Tuple\n",
    "\n",
    "import numpy as np\n",
    "import matplotlib as mpl\n",
    "from matplotlib import pyplot as plt, colors, cm\n",
    "from c3.experiment import Experiment\n",
    "from c3.libraries.chip import Drive\n",
    "from c3.parametermap import ParameterMap\n",
    "from c3.model import Model\n",
    "from c3.signal.gates import Instruction\n",
    "import four_level_transmons.plotting as plotting\n",
    "import four_level_transmons.utilities as utilities\n",
    "import four_level_transmons.notebook_utils as notebook_utils\n",
    "import scipy.linalg\n",
    "import string\n",
    "from c3.utils import qt_utils\n",
    "from c3.libraries import constants\n",
    "import four_level_transmons.custom_gates as custom_gates\n",
    "from c3.utils import tf_utils\n",
    "from c3.generator.generator import Generator\n",
    "\n",
    "np.set_printoptions(linewidth=300)"
   ],
   "metadata": {
    "collapsed": false,
    "pycharm": {
     "name": "#%%\n"
    }
   }
  },
  {
   "cell_type": "markdown",
   "source": [
    "### Input files"
   ],
   "metadata": {
    "collapsed": false,
    "pycharm": {
     "name": "#%% md\n"
    }
   }
  },
  {
   "cell_type": "code",
   "execution_count": null,
   "outputs": [],
   "source": [
    "#baseDir = '/home/user/Schreibtisch/results/4-level qubit/two transmons/Fourier basis 5 levels, 1000ns/CZ/10/'\n",
    "baseDir = '/home/user/Schreibtisch/results/4-level qubit/two transmons/Fourier basis 5 levels, 1000ns/CZ neu/10/'\n",
    "propagator = np.load(baseDir + 'propagator_after.npy')\n",
    "propagatorShort = np.load(baseDir + 'propagator_after_0.01ns.npy')\n",
    "time, signal = np.load(baseDir + 'signal_t1_after.npy')\n",
    "#_, entropy = np.load(baseDir + '/home/user/Schreibtisch/results/4-level qubit/2 LOs/1 transmon/iCNOT/entanglement_after.npy',allow_pickle=True)"
   ],
   "metadata": {
    "collapsed": false,
    "pycharm": {
     "name": "#%%\n"
    }
   }
  },
  {
   "cell_type": "markdown",
   "source": [
    "### Helper functions and preparation"
   ],
   "metadata": {
    "collapsed": false,
    "pycharm": {
     "name": "#%% md\n"
    }
   }
  },
  {
   "cell_type": "code",
   "execution_count": null,
   "outputs": [],
   "source": [
    "def getModel(isDressed=False, addDrives=False) -> Model:\n",
    "    qubit_levels = [5, 5]\n",
    "    qubit_frequencies = [5e9, 4.5e9]\n",
    "    anharmonicities = [-300e6, -250e6]\n",
    "    t1s = [25e-6, 25e-6]\n",
    "    t2stars = [35e-6, 35e-6]\n",
    "    qubit_temps = 50e-3\n",
    "    couplingStrength = 20e6\n",
    "    qubits = utilities.createQubits(qubit_levels, qubit_frequencies, anharmonicities, t1s, t2stars, qubit_temps)\n",
    "    coupling = utilities.createChainCouplings([couplingStrength], qubits)\n",
    "    if addDrives:\n",
    "        drives = utilities.createDrives(qubits)\n",
    "        coupling = coupling + drives\n",
    "    model = Model(qubits, coupling)\n",
    "    model.set_lindbladian(False)\n",
    "    model.set_dressed(isDressed)\n",
    "    model.set_FR(False)\n",
    "    return model\n",
    "\n",
    "\n",
    "def getDriftHamiltonian(isDressed=False):\n",
    "    return getModel(isDressed).get_Hamiltonian()\n",
    "\n",
    "\n",
    "def cutSpectrum(frequencies, spectrum, limits):\n",
    "    leftCut = np.argwhere(frequencies > limits[0]).flatten()\n",
    "    leftIdx = leftCut[0] if len(leftCut) > 0 else 0\n",
    "    rightCut = np.argwhere(frequencies < limits[1]).flatten()\n",
    "    rightIdx = rightCut[-1] if len(rightCut) > 0 else -1\n",
    "    return frequencies[leftIdx:rightIdx], spectrum[leftIdx:rightIdx]"
   ],
   "metadata": {
    "collapsed": false,
    "pycharm": {
     "name": "#%%\n"
    }
   }
  },
  {
   "cell_type": "markdown",
   "source": [
    "### Reads a propagator from a file and plots it"
   ],
   "metadata": {
    "collapsed": false,
    "pycharm": {
     "name": "#%% md\n"
    }
   }
  },
  {
   "cell_type": "code",
   "execution_count": null,
   "outputs": [],
   "source": [
    "def plotPropagators():\n",
    "    # Load and project the propagator\n",
    "    propagatorProjected = tf_utils.tf_project_to_comp(\n",
    "        propagator, dims=[5, 5], index=[0, 1], outdims=[4, 4]\n",
    "    )\n",
    "\n",
    "    # Define an ideal gate and compute the fidelity\n",
    "    name = 'CZ'\n",
    "    #ideal = qt_utils.np_kron_n([constants.GATES[\"rz90p\"], constants.Id])\n",
    "    #ideal = np.array([[1,0,0,-1j], [0,1,-1j,0], [0,-1j,1,0], [-1j,0,0,1]]) / np.sqrt(2.0)\n",
    "    ideal = custom_gates.GATE_CZ_t1q2_t2q2\n",
    "    #ideal = np.eye(16) + 0.0j * np.eye(16)\n",
    "    idealPadded = qt_utils.pad_matrix(ideal, propagator.shape[0] - ideal.shape[0], 'fulluni')\n",
    "    print(\"Infidelity: \", 1.0 - tf_utils.tf_unitary_overlap(propagatorProjected, ideal).numpy())\n",
    "\n",
    "    # Correct the global phase in the propagator, which might be different from the ideal gate\n",
    "    phase = np.angle(ideal[0, 0]) - np.angle(propagator[0, 0])\n",
    "    propagatorCorrected = propagator * np.exp(1.0j * phase)\n",
    "    propagatorCorrectedProjected = tf_utils.tf_project_to_comp(\n",
    "        propagatorCorrected, dims=[5, 5], index=[0, 1], outdims=[4, 4]\n",
    "    )\n",
    "\n",
    "    baseDir = \"/home/user\"\n",
    "    #plotting.plotComplexMatrixHinton(ideal, maxAbsolute=1, xlabels=level_labels_bra, ylabels=level_labels_ket,\n",
    "    #                                 gridColour=\"gray\", colourMap='hsv', tickLabelSize=16)\n",
    "    #plotting.plotComplexMatrixHinton(propagator, maxAbsolute=1,\n",
    "    #                                 xlabels=utilities.createTwoTransmonsQubitLabels(makeLatexBras=True, labelLeakageAsNumbers=False),\n",
    "    #                                 ylabels=utilities.createTwoTransmonsQubitLabels(makeLatexKets=True, labelLeakageAsNumbers=False), gridColour=\"gray\",\n",
    "    #                                 filename=f'{baseDir}/{name}_propagator.pdf', colourMap='hsv', tickLabelSize=16)\n",
    "    plotting.plotComplexMatrixHinton(propagatorProjected, maxAbsolute=1,\n",
    "                                     xlabels=utilities.createTwoTransmonsQubitLabels(makeLatexBras=True, includeLeakage=False),\n",
    "                                     ylabels=utilities.createTwoTransmonsQubitLabels(makeLatexKets=True, includeLeakage=False), gridColour=\"gray\",\n",
    "                                     filename=f'{baseDir}/{name}_propagator.pdf', colourMap='hsv', tickLabelSize=16,\n",
    "                                     comparisonMatrix=ideal)\n",
    "    #plotting.plotComplexMatrix(propagatorProjected, colourMap='hsv', xlabels=level_labels_bra, ylabels=level_labels_ket,\n",
    "#                           filename='/home/user/rx90p_q2_propagator_3d.pdf')\n",
    "    maxz = np.max(np.absolute(propagatorCorrectedProjected - ideal))\n",
    "    #plotting.plotComplexMatrix(propagatorCorrectedProjected - ideal, xlabels=utilities.createTwoTransmonsQubitLabels(makeLatexKets=True, includeLeakage=False),\n",
    "    #                           ylabels=utilities.createTwoTransmonsQubitLabels(makeLatexBras=True, includeLeakage=False), filename=f'/home/user/{name}_propagator_diff.pdf',\n",
    "    #                           colourMap='hsv', zlimits=(0.0, 0.1), zticks=np.round(np.arange(0.0, maxz, maxz / 5), 2))\n",
    "plotPropagators()"
   ],
   "metadata": {
    "collapsed": false,
    "pycharm": {
     "name": "#%%\n"
    }
   }
  },
  {
   "cell_type": "markdown",
   "source": [
    "### Reads a time dependent signal and plots it"
   ],
   "metadata": {
    "collapsed": false,
    "pycharm": {
     "name": "#%% md\n"
    }
   }
  },
  {
   "cell_type": "code",
   "execution_count": null,
   "outputs": [],
   "source": [
    "# Plots the time-dependent signal from a file\n",
    "fig = plt.figure(figsize=(12, 6))\n",
    "ax = fig.add_subplot(111)\n",
    "ax.plot(time * 1e9, signal / 1e6)\n",
    "ax.set_xlabel(\"Time [ns]\", fontsize=24)\n",
    "ax.set_ylabel(\"Amplitude [MHz]\", fontsize=24)\n",
    "ax.tick_params(axis='both', which='major', labelsize=24)\n",
    "plt.tight_layout()\n",
    "plt.savefig('/home/user/cz_1000ns_signal.pdf', bbox_inches=\"tight\", dpi=100)\n",
    "plt.show()"
   ],
   "metadata": {
    "collapsed": false,
    "pycharm": {
     "name": "#%%\n"
    }
   }
  },
  {
   "cell_type": "code",
   "execution_count": null,
   "outputs": [],
   "source": [
    "def createSpectrumPlot(ax, freq: np.array, freq_signal: np.array, addYAxis: bool = True) -> None:\n",
    "    ax.plot(freq / 1e9, np.abs(freq_signal))\n",
    "    #plt.plot(freq / 1e9, freq_signal.real, label=\"real\")\n",
    "    #plt.plot(freq / 1e9, freq_signal.imag, label=\"imag\")\n",
    "\n",
    "    #ax.set_xlabel(\"Frequency [GHz]\", fontsize=24)\n",
    "    if addYAxis:\n",
    "        ax.set_ylabel(\"Spectral amplitude\", fontsize=24)\n",
    "\n",
    "    ax.set_xlim(np.min(freq) / 1e9, np.max(freq) / 1e9)\n",
    "    #ax.set_ylim(-0.01 * np.max(np.abs(freq_signal)), 1.05 * np.max(np.abs(freq_signal)))\n",
    "    #ax.set_ylim(-0.05, 1.1)\n",
    "\n",
    "    ax.tick_params(axis='both', which='major', labelsize=24)\n",
    "\n",
    "def plotEnergyLabels(ax, frequencyRange: Tuple[float, float], freq_signal: np.array) -> None:\n",
    "    # Calculate all resonances\n",
    "    stateEnergies = notebook_utils.getEnergiesFromPropagator(propagatorShort, t_final=1e-11, dt=1e-12)\n",
    "    transitions = notebook_utils.calculateTransitions(stateEnergies, utilities.createTwoTransmonsStateLabels(makeLatexKets=True))\n",
    "\n",
    "    # only transitions within a range\n",
    "    inRange = [s for s in transitions if frequencyRange[0] < s[0] < frequencyRange[1]]\n",
    "    energies = np.array([s[0] for s in inRange])\n",
    "    labels = np.array([s[1] for s in inRange])\n",
    "    sortedIndices = np.argsort(energies)\n",
    "    sortedEnergies = energies[sortedIndices]\n",
    "\n",
    "    # a tick for each transition energy\n",
    "    ymax = np.max(np.abs(freq_signal))\n",
    "    transitionSpacing = (frequencyRange[1] - frequencyRange[0]) / 5\n",
    "    previousShifted = 0\n",
    "    for i, E in enumerate(sortedEnergies):\n",
    "        if i > 0 and abs(sortedEnergies[i] - sortedEnergies[i - 1]) < transitionSpacing:\n",
    "            y = ymax * ((8.0 - previousShifted) / 9)\n",
    "            previousShifted = (previousShifted + 1) % 4\n",
    "        else:\n",
    "            y = ymax\n",
    "            previousShifted = 0\n",
    "        ax.vlines(sortedEnergies[i] / 1e9, 0.0, y, colors=[\"grey\"], linestyles=\":\", lw=2.5)\n",
    "        ax.annotate(\n",
    "            text=labels[sortedIndices[i]],\n",
    "            xy=(E / 1e9, 1.01 * y),\n",
    "            xycoords=\"data\",\n",
    "            verticalalignment=\"top\",\n",
    "            horizontalalignment=\"center\",\n",
    "            rotation=270,\n",
    "            fontsize=18\n",
    "        )\n",
    "\n",
    "def plotSpectrum(time: np.array, signal: np.array, frequencyRanges: List[Tuple[float, float]], normalise=False, addLabels=True,\n",
    "                 nthOrder=1, paddingFactor=1, filename=None) -> None:\n",
    "    fig = plt.figure(figsize=(20, 6))\n",
    "    axes = fig.subplots(1, len(frequencyRanges), sharey=True)\n",
    "    if len(frequencyRanges) == 1:\n",
    "        axes = [axes]\n",
    "\n",
    "    # Pad the signal with zeros for better resolution\n",
    "    if paddingFactor != 1:\n",
    "        time2 = np.arange(time[0], paddingFactor*time[-1], time[1]-time[0])\n",
    "        signal2 = np.zeros(paddingFactor*len(signal))\n",
    "        signal2[0:len(signal)] = signal\n",
    "    else:\n",
    "        time2 = time\n",
    "        signal2 = signal\n",
    "\n",
    "    # Calculate the spectrum\n",
    "    freq_signal = np.fft.rfft(signal2)\n",
    "    freq = np.fft.rfftfreq(len(time2), time2[-1] / len(time2))\n",
    "    #freq_signal = freq_signal[:len(freq_signal)//2]\n",
    "    #freq = freq[:len(freq)//2]\n",
    "    freq *= nthOrder\n",
    "\n",
    "    for plotIdx, frequencyRange in enumerate(frequencyRanges):\n",
    "        freq2, freq_signal2 = cutSpectrum(freq, freq_signal, frequencyRange)\n",
    "        if normalise:\n",
    "            freq_signal2 /= np.max(np.abs(freq_signal2))\n",
    "\n",
    "        #ax = fig.add_subplot(100 + (10*len(frequencyRanges) + (plotIdx+1)), sharey=True)\n",
    "        ax = axes[plotIdx]\n",
    "        createSpectrumPlot(ax, freq2, freq_signal2, addYAxis=(plotIdx==0))\n",
    "        if addLabels:\n",
    "            plotEnergyLabels(ax, frequencyRange, freq_signal2)\n",
    "\n",
    "    #plt.tight_layout()\n",
    "    fig.text(0.5, -0.03, 'Frequency [GHz]', ha='center', fontsize=24)\n",
    "    plt.subplots_adjust(left=0.1, bottom=0.1, right=0.9, top=0.9, wspace=0.1, hspace=0.1)\n",
    "    if filename is not None:\n",
    "        plt.savefig(filename, bbox_gdpPercapinches=\"tight\", dpi=100)\n",
    "    plt.show()\n",
    "\n",
    "rangeFullT1 = (3.94e9, 4.65e9)\n",
    "rangeFullT2 = (3.95e9, 4.58e9)\n",
    "rangesT1 = [(3.975e9, 4.05e9), (4.475e9, 4.6e9)]\n",
    "rangesT2 = [(3.975e9, 4.03e9), (4.47e9, 4.525e9)]\n",
    "#(4.44e9, 4.65e9)\n",
    "\n",
    "#for order in range(1, 4):\n",
    "#    for r in range(len(rangesT2)):\n",
    "#        plotSpectrum(time, signal, (rangesT2[r][0]*order, rangesT2[r][1]*order), addLabels=True, nthOrder=order,\n",
    "#        filename=f'/home/user/range{r+1}_order{order}.pdf')\n",
    "plotSpectrum(time, signal, [(4.09e9, 4.17e9), (4.35e9, 4.405e9), (4.678e9, 4.725e9), (4.98e9, 5.02e9)], addLabels=True, nthOrder=1, normalise=False, filename=\"/home/user/cz_1000ns_spectrum1.pdf\")\n",
    "#plotSpectrum(time, signal, [(4.0e9, 6.0e9)], addLabels=True, nthOrder=1, normalise=True, filename=None)\n",
    "#plotSpectrum(time, signal, [(4.98e9, 5.02e9)], addLabels=True, nthOrder=1, normalise=True, filename=None)"
   ],
   "metadata": {
    "collapsed": false,
    "pycharm": {
     "name": "#%%\n"
    }
   }
  },
  {
   "cell_type": "code",
   "execution_count": null,
   "outputs": [],
   "source": [
    "def plotEnergyDiamond(energies: np.array):\n",
    "    model = getModel(True, False)\n",
    "    #energies = model.eigenframe.numpy()/np.pi/2e9\n",
    "    energies /= 1e9\n",
    "    fig, ax = plt.subplots(1, figsize=(10, 10))\n",
    "    for ii, states_tuples in enumerate(model.state_labels):\n",
    "        manifold = sum(states_tuples)\n",
    "        ax.plot(\n",
    "            [states_tuples[0]-0.5-0.5*manifold, states_tuples[0]+0.5-0.5*manifold],\n",
    "            [energies[ii], energies[ii]],\n",
    "            c='black'\n",
    "        )\n",
    "        ax.text(\n",
    "            states_tuples[0]-0.5*manifold, energies[ii]-0.5, states_tuples,\n",
    "            horizontalalignment='center', verticalalignment=\"top\", fontsize='16'\n",
    "        )\n",
    "    ax.set_ylim(-3, energies[-1]*1.1)\n",
    "    ax.set_ylabel(\"Frequency [GHz]\", fontsize=18)\n",
    "    ax.set_xlim(-0.4*manifold, 0.4*manifold)\n",
    "    plt.savefig('/home/user/diamond.svg')\n",
    "\n",
    "allStateEnergies = notebook_utils.getEnergiesFromPropagator(propagatorShort, t_final=1e-11, dt=1e-12)\n",
    "plotEnergyDiamond(allStateEnergies)"
   ],
   "metadata": {
    "collapsed": false,
    "pycharm": {
     "name": "#%%\n"
    }
   }
  },
  {
   "cell_type": "markdown",
   "source": [
    "### Reads the time dependent entanglement entropy of a gate and plots it"
   ],
   "metadata": {
    "collapsed": false,
    "pycharm": {
     "name": "#%% md\n"
    }
   }
  },
  {
   "cell_type": "code",
   "execution_count": null,
   "outputs": [],
   "source": [
    "fig, ax = plt.subplots(1, 1)\n",
    "ax.plot(time * 1e9, entropy[:-1], color='black')\n",
    "\n",
    "ax.set_xlabel(\"Time [ns]\", fontsize=14)\n",
    "ax.set_ylabel(\"Entropy [MHz]\", fontsize=14)\n",
    "ax.set_ylim(0, 1.01)\n",
    "\n",
    "plt.tight_layout()\n",
    "plt.savefig('/home/user/rz90p_q2_signal.pdf', bbox_inches=\"tight\", dpi=100)\n",
    "plt.show()"
   ],
   "metadata": {
    "collapsed": false,
    "pycharm": {
     "name": "#%%\n"
    }
   }
  },
  {
   "cell_type": "code",
   "execution_count": null,
   "outputs": [],
   "source": [],
   "metadata": {
    "collapsed": false,
    "pycharm": {
     "name": "#%%\n"
    }
   }
  }
 ],
 "metadata": {
  "kernelspec": {
   "display_name": "Python 3",
   "language": "python",
   "name": "python3"
  },
  "language_info": {
   "codemirror_mode": {
    "name": "ipython",
    "version": 2
   },
   "file_extension": ".py",
   "mimetype": "text/x-python",
   "name": "python",
   "nbconvert_exporter": "python",
   "pygments_lexer": "ipython2",
   "version": "2.7.6"
  }
 },
 "nbformat": 4,
 "nbformat_minor": 0
}