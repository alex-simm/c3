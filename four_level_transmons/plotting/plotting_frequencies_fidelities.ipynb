{
 "cells": [
  {
   "cell_type": "code",
   "execution_count": null,
   "outputs": [],
   "source": [
    "import numpy as np\n",
    "import matplotlib as mpl\n",
    "import matplotlib.pyplot as plt\n",
    "import os\n",
    "from typing import Dict, List, Tuple\n",
    "\n",
    "np.set_printoptions(linewidth=300)"
   ],
   "metadata": {
    "collapsed": false,
    "pycharm": {
     "name": "#%%\n"
    }
   }
  },
  {
   "cell_type": "code",
   "execution_count": null,
   "outputs": [],
   "source": [
    "baseDir = '/home/user/Schreibtisch/results/4-level qubit/two transmons'\n",
    "\n",
    "\n",
    "def getSubdirectories(directory: str):\n",
    "    return [name for name in os.listdir(directory) if os.path.isdir(os.path.join(directory, name))]\n",
    "\n",
    "\n",
    "def cutByFidelity(fidelities: np.array, otherValues: np.array) -> Tuple[np.array, np.array]:\n",
    "    indices = np.where(fidelities < 0.9)\n",
    "    if len(indices[0]) > 0:\n",
    "        last = indices[0][-1]\n",
    "        fidelities = fidelities[last+1:]\n",
    "        otherValues = otherValues[last+1:]\n",
    "    return fidelities, otherValues\n",
    "\n",
    "\n",
    "def cutByFrequency(frequencies: np.array, otherValues: np.array, maxFrequencies=None, minFrequencies=None) -> Tuple[np.array, np.array]:\n",
    "    if maxFrequencies:\n",
    "        indices = np.where(frequencies <= maxFrequencies)[0]\n",
    "        if len(indices) > 0:\n",
    "            frequencies = frequencies[:indices[-1]+1]\n",
    "            otherValues = otherValues[:indices[-1]+1]\n",
    "    if minFrequencies:\n",
    "        indices = np.where(frequencies >= minFrequencies)[0]\n",
    "        if len(indices) > 0:\n",
    "            frequencies = frequencies[indices[0]:]\n",
    "            otherValues = otherValues[indices[0]:]\n",
    "    return frequencies, otherValues\n",
    "\n",
    "\n",
    "def readFidelity(gateDir) -> float:\n",
    "    subDir = [x[0] for x in os.walk(gateDir)][2]\n",
    "    file = subDir + \"/best_point_open_loop.c3log\"\n",
    "    with open(file, 'r') as file:\n",
    "        line = [l for l in file if \"goal:\" in l][0]\n",
    "        line = line.strip()[6:]\n",
    "        return float(line)\n",
    "\n",
    "\n",
    "def readFidelitiesForFrequencies(time: int, gate: str) -> Tuple[np.array, np.array]:\n",
    "    gateBaseDir = f\"{baseDir}/Fourier basis 5 levels, {time}ns/{gate}\"\n",
    "    subdirs = getSubdirectories(gateBaseDir)\n",
    "    numbers = [int(s) for s in subdirs if s.isnumeric()]\n",
    "    numbers.sort()\n",
    "    frequencies = []\n",
    "    fidelities = []\n",
    "    for N in numbers:\n",
    "        gateDir = f\"{gateBaseDir}/{N}\"\n",
    "        if os.path.exists(gateDir):\n",
    "            frequencies.append(N)\n",
    "            fidelities.append(1.0 - readFidelity(gateDir))\n",
    "    return np.array(frequencies), np.array(fidelities)\n",
    "\n",
    "\n",
    "def readFidelitiesForTimes(frequencies: int, gateName: str, gateForTime: Dict[int, str]) -> Tuple[np.array, np.array]:\n",
    "    times = []\n",
    "    fidelities = []\n",
    "    for time in [1000, 500, 400, 300, 200]:\n",
    "        gate = gateForTime[time] if time in gateForTime else gateName\n",
    "        gateDir = f\"{baseDir}/Fourier basis 5 levels, {time}ns/{gate}/{frequencies}\"\n",
    "        if os.path.exists(gateDir):\n",
    "            times.append(time)\n",
    "            fidelities.append(1.0 - readFidelity(gateDir))\n",
    "    return np.array(times), np.array(fidelities)\n",
    "\n",
    "#readFidelitiesForFrequencies(1000, \"unity\")"
   ],
   "metadata": {
    "collapsed": false,
    "pycharm": {
     "name": "#%%\n"
    }
   }
  },
  {
   "cell_type": "markdown",
   "source": [
    "## Fidelities vs number of frequencies for a fixed gate time"
   ],
   "metadata": {
    "collapsed": false,
    "pycharm": {
     "name": "#%% md\n"
    }
   }
  },
  {
   "cell_type": "code",
   "execution_count": null,
   "outputs": [],
   "source": [
    "def plotFidelityOverFrequenciesFixedT(T: int, gates: Dict[str, str], filename: str = None):\n",
    "    fig = plt.figure(figsize=(10, 7))\n",
    "    axis = fig.add_subplot(111)\n",
    "\n",
    "    minFrequencies, maxFrequencies = 1000, 0\n",
    "    markers = ['o', 'x', 's', 'd', 'o']\n",
    "    for idx, (gateName, gateDir) in enumerate(gates.items()):\n",
    "        frequencies, fidelities = readFidelitiesForFrequencies(T, gateDir)\n",
    "        frequencies, fidelities = cutByFrequency(frequencies, otherValues=fidelities, maxFrequencies=200)\n",
    "        fidelities, frequencies = cutByFidelity(fidelities, frequencies)\n",
    "        plt.plot(frequencies, fidelities, label=gateName, marker=markers[idx], ms=7)\n",
    "        minFrequencies = min(minFrequencies, min(frequencies))\n",
    "        maxFrequencies = max(maxFrequencies, max(frequencies))\n",
    "\n",
    "    plt.xlabel('Number of frequencies $N$', fontsize=24)\n",
    "    plt.xscale('log')\n",
    "    plt.xticks([x for x in [10, 15, 20, 30, 40, 50, 60, 80, 100, 200] if minFrequencies-5 <= x <= maxFrequencies+5])\n",
    "    axis.get_xaxis().set_major_formatter(mpl.ticker.ScalarFormatter())\n",
    "\n",
    "    plt.ylabel('Fidelity $F$', fontsize=24)\n",
    "    #plt.yscale('log')\n",
    "    #plt.yticks([x for x in [0.9, 0.92, 0.94, 0.96, 0.98, 1.0]])\n",
    "    #plt.title(f\"T = {T} ns\", fontsize=20)\n",
    "\n",
    "    axis.tick_params(axis='both', which='major', labelsize=24)\n",
    "    #plt.hlines(0.9, minFrequencies, maxFrequencies, linestyles=\":\", colors=\"gray\")\n",
    "    plt.legend(loc='lower right', fontsize=24)\n",
    "    plt.tight_layout()\n",
    "\n",
    "    #fig.gca().get_xaxis().set_major_formatter(mpl.ticker.ScalarFormatter())\n",
    "    if filename:\n",
    "        plt.savefig(filename)\n",
    "    plt.show()\n",
    "\n",
    "#\"unity\": \"unity\", \"CNOT\": \"CNOT\", \"iSWAP\": \"iSWAP\"\n",
    "plotFidelityOverFrequenciesFixedT(1000, {\"CZ\": \"CZ neu\", \"CX\": \"CNOT\", \"CCCZ\": \"CCCZ\", \"CCCX\": \"CCCX\"}, filename='/home/user/four_qubit_gates_fidelities.pdf')\n",
    "#plotFidelityOverFrequenciesFixedT(500, {\"unity\": \"unity\", \"CZ\": \"CZ\", \"CCCX\": \"CCCX\"})\n",
    "#plotFidelityOverFrequenciesFixedT(300, {\"unity\": \"unity\", \"CZ\": \"CZ\", \"CCCX\": \"CCCX\"})print(\"nach max: \", frequencies)"
   ],
   "metadata": {
    "collapsed": false,
    "pycharm": {
     "name": "#%%\n"
    }
   }
  },
  {
   "cell_type": "markdown",
   "source": [
    "## Fidelities vs number of frequencies for a fixed gate"
   ],
   "metadata": {
    "collapsed": false,
    "pycharm": {
     "name": "#%% md\n"
    }
   }
  },
  {
   "cell_type": "code",
   "execution_count": null,
   "outputs": [],
   "source": [
    "def plotFidelityOverFrequenciesFixedGate(gateForTime: Dict[int, str], filename: str = None):\n",
    "    fig = plt.figure(figsize=(10,7))\n",
    "    axis = fig.add_subplot(111)\n",
    "\n",
    "    minFrequencies, maxFrequencies = 1000, 0\n",
    "    markers = ['o', 'x', 's', 'd']\n",
    "    for idx, (T, gate) in enumerate(gateForTime.items()):\n",
    "        frequencies, fidelities = readFidelitiesForFrequencies(T, gate)\n",
    "        fidelities, frequencies = cutByFidelity(fidelities, frequencies)\n",
    "        if len(fidelities) > 0:\n",
    "            plt.plot(frequencies, fidelities, label=f\"{T} ns\", marker=markers[idx], ms=7)\n",
    "            minFrequencies = min(minFrequencies, min(frequencies))\n",
    "            maxFrequencies = max(maxFrequencies, max(frequencies))\n",
    "\n",
    "    plt.xlabel('Number of frequencies $N$', fontsize=24)\n",
    "    plt.xscale('log')\n",
    "    plt.xticks([x for x in [10, 15, 20, 30, 40, 50, 70, 100, 200, 300, 500] if minFrequencies-5 <= x <= maxFrequencies+5])\n",
    "    axis.get_xaxis().set_major_formatter(mpl.ticker.ScalarFormatter())\n",
    "\n",
    "    plt.ylabel('Fidelity $F$', fontsize=24)\n",
    "    #plt.title(gateName, fontsize=20)\n",
    "    #plt.ylim(0.87, 1.01)\n",
    "\n",
    "    axis.tick_params(axis='both', which='major', labelsize=24)\n",
    "    #plt.hlines(0.9, minFrequencies, maxFrequencies, linestyles=\":\", colors=\"gray\")\n",
    "    plt.legend(loc='lower right', fontsize=24)\n",
    "    plt.tight_layout()\n",
    "\n",
    "    #fig.gca().get_xaxis().set_major_formatter(mpl.ticker.ScalarFormatter())\n",
    "    if filename:\n",
    "        plt.savefig(filename)\n",
    "    plt.show()\n",
    "\n",
    "#plotFidelityOverFrequenciesFixedGate(\"unity\", {1000: \"unity x-0\", 500: \"unity\", 300: \"unity\", 200: \"unity\"})\n",
    "plotFidelityOverFrequenciesFixedGate({1000: \"CZ neu\", 500: \"CZ\", 300: \"CZ\", 200: \"CZ\"}, filename='/home/user/two_transmons_fidelities_CZ.pdf')\n",
    "plotFidelityOverFrequenciesFixedGate({1000: \"CCCX\", 500: \"CCCX\", 300: \"CCCX\", 200: \"CCCX\"}, filename='/home/user/two_transmons_fidelities_CCCX.pdf')"
   ],
   "metadata": {
    "collapsed": false,
    "pycharm": {
     "name": "#%%\n"
    }
   }
  },
  {
   "cell_type": "markdown",
   "source": [
    "## Fidelity vs gate time for a fixed gate"
   ],
   "metadata": {
    "collapsed": false,
    "pycharm": {
     "name": "#%% md\n"
    }
   }
  },
  {
   "cell_type": "code",
   "execution_count": null,
   "outputs": [],
   "source": [
    "def plotFidelityOverTimeFixedGate(gateName: str, gateForTimes: Dict[int, str], frequencies: List[int]):\n",
    "    fig = plt.figure(figsize=(10,8))\n",
    "    axis = fig.add_subplot(111)\n",
    "\n",
    "    allTimes = np.array([])\n",
    "    for freq in frequencies:\n",
    "        times, fidelities = readFidelitiesForTimes(freq, gateName, gateForTimes)\n",
    "        plt.plot(np.array(times), fidelities, 'o-', label=f\"{freq} frequencies\")\n",
    "        allTimes = np.append(allTimes, times)\n",
    "\n",
    "    plt.xlabel('Gate time [ns]', fontsize=20)\n",
    "    #plt.xscale('log')\n",
    "    plt.xticks(list(set(allTimes)))\n",
    "    axis.get_xaxis().set_major_formatter(mpl.ticker.ScalarFormatter())\n",
    "\n",
    "    plt.ylabel('Fidelity', fontsize=20)\n",
    "    plt.title(gateName, fontsize=20)\n",
    "    #plt.ylim(0.87, 1.01)\n",
    "\n",
    "    axis.tick_params(axis='both', which='major', labelsize=16)\n",
    "    #plt.hlines(0.9, minFrequencies, maxFrequencies, linestyles=\":\", colors=\"gray\")\n",
    "    plt.legend(loc='lower right', fontsize=16)\n",
    "\n",
    "    #fig.gca().get_xaxis().set_major_formatter(mpl.ticker.ScalarFormatter())\n",
    "    plt.show()\n",
    "\n",
    "plotFidelityOverTimeFixedGate(\"unity\", {}, [100, 80, 60, 40, 35])\n",
    "plotFidelityOverTimeFixedGate(\"CZ\", {1000:\"CZ from unity\"}, [100, 80, 60, 40, 35])\n",
    "plotFidelityOverTimeFixedGate(\"CCCZ\", {}, [200, 100, 60, 60, 40, 30])\n",
    "plotFidelityOverTimeFixedGate(\"CCCX\", {}, [200, 100, 60, 60, 40, 30])\n",
    "#plotFidelityOverTimeFixedGate(\"CZ\", [100, 80, 60, 40, 35])"
   ],
   "metadata": {
    "collapsed": false,
    "pycharm": {
     "name": "#%%\n"
    }
   }
  },
  {
   "cell_type": "code",
   "execution_count": null,
   "outputs": [],
   "source": [],
   "metadata": {
    "collapsed": false,
    "pycharm": {
     "name": "#%%\n"
    }
   }
  }
 ],
 "metadata": {
  "kernelspec": {
   "display_name": "Python 3",
   "language": "python",
   "name": "python3"
  },
  "language_info": {
   "codemirror_mode": {
    "name": "ipython",
    "version": 2
   },
   "file_extension": ".py",
   "mimetype": "text/x-python",
   "name": "python",
   "nbconvert_exporter": "python",
   "pygments_lexer": "ipython2",
   "version": "2.7.6"
  }
 },
 "nbformat": 4,
 "nbformat_minor": 0
}