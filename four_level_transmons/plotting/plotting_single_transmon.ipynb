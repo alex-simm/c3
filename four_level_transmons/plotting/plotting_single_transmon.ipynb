{
 "cells": [
  {
   "cell_type": "markdown",
   "source": [
    "### Creates different kinds of plots for a single transmon with two qubits."
   ],
   "metadata": {
    "collapsed": false,
    "pycharm": {
     "name": "#%% md\n"
    }
   }
  },
  {
   "cell_type": "code",
   "execution_count": null,
   "outputs": [],
   "source": [
    "from typing import Tuple\n",
    "import numpy as np\n",
    "import scipy.linalg\n",
    "from matplotlib import pyplot as plt\n",
    "\n",
    "import four_level_transmons.custom_gates as custom_gates\n",
    "import four_level_transmons.plotting as plotting\n",
    "import four_level_transmons.utilities as utilities\n",
    "import four_level_transmons.notebook_utils as notebook_utils\n",
    "from c3.model import Model\n",
    "from c3.utils import qt_utils\n",
    "from c3.utils import tf_utils\n",
    "from c3.libraries import constants\n",
    "\n",
    "np.set_printoptions(linewidth=300)"
   ],
   "metadata": {
    "collapsed": false,
    "pycharm": {
     "name": "#%%\n"
    }
   }
  },
  {
   "cell_type": "markdown",
   "source": [
    "### Helper functions and preparation"
   ],
   "metadata": {
    "collapsed": false,
    "pycharm": {
     "name": "#%% md\n"
    }
   }
  },
  {
   "cell_type": "code",
   "execution_count": null,
   "outputs": [],
   "source": [
    "# Helper functions\n",
    "def getModel() -> Model:\n",
    "    qubit_levels = [5]\n",
    "    qubit_frequencies = [5e9]\n",
    "    anharmonicities = [-300e6]\n",
    "    t1s = [25e-6]\n",
    "    t2stars = [35e-6]\n",
    "    qubit_temps = 50e-3\n",
    "    couplingStrength = 20e6\n",
    "    qubits = utilities.createQubits(qubit_levels, qubit_frequencies, anharmonicities, t1s, t2stars, qubit_temps)\n",
    "    coupling = utilities.createChainCouplings([couplingStrength], qubits)\n",
    "    model = Model(qubits, coupling)\n",
    "    model.set_lindbladian(False)\n",
    "    model.set_dressed(False)\n",
    "    model.set_FR(False)\n",
    "    return model\n",
    "\n",
    "\n",
    "def getHamiltonian():\n",
    "    return getModel().get_Hamiltonian()\n",
    "\n",
    "\n",
    "def cutSpectrum(frequencies: np.array, amplitudes: np.array, limits: Tuple[float, float]) -> Tuple[np.array, np.array]:\n",
    "    \"\"\"\n",
    "    Cuts the two lists of frequencies and corresponding amplitudes at a lower and upper frequency cutoff. Returns both lists after cutting.\n",
    "    \"\"\"\n",
    "    leftCut = np.argwhere(frequencies > limits[0]).flatten()\n",
    "    leftIdx = leftCut[0] if len(leftCut) > 0 else 0\n",
    "    rightCut = np.argwhere(frequencies < limits[1]).flatten()\n",
    "    rightIdx = rightCut[-1] if len(rightCut) > 0 else -1\n",
    "    return frequencies[leftIdx:rightIdx], amplitudes[leftIdx:rightIdx]"
   ],
   "metadata": {
    "collapsed": false,
    "pycharm": {
     "name": "#%%\n"
    }
   }
  },
  {
   "cell_type": "code",
   "execution_count": null,
   "outputs": [],
   "source": [
    "baseDir = '/home/user/Schreibtisch/results/4-level qubit/single transmon/2 LOs/double iSWAP 40ns/'\n",
    "propagator = np.load(baseDir + 'propagator_after.npy')\n",
    "time, signal = np.load(baseDir + 'signal_after.npy')\n",
    "name = 'double_iswap'"
   ],
   "metadata": {
    "collapsed": false,
    "pycharm": {
     "name": "#%%\n"
    }
   }
  },
  {
   "cell_type": "markdown",
   "source": [
    "### Reads a propagator from a file and plots it"
   ],
   "metadata": {
    "collapsed": false,
    "pycharm": {
     "name": "#%% md\n"
    }
   }
  },
  {
   "cell_type": "code",
   "execution_count": null,
   "outputs": [],
   "source": [
    "# Load and project the propagator\n",
    "propagatorProjected = tf_utils.tf_project_to_comp(\n",
    "    propagator, dims=[5], index=[0, 1], outdims=[4]\n",
    ")\n",
    "\n",
    "# Define an ideal gate and compute the fidelity\n",
    "ideal = qt_utils.np_kron_n([constants.Id, constants.GATES[\"rx90p\"]])\n",
    "#ideal = custom_gates.GATE_CZ_t1q2_t2q2\n",
    "#ideal = np.eye(16) + 0.0j * np.eye(16)\n",
    "#ideal = np.array([[1,0,0,-1j], [0,1,-1j,0], [0,-1j,1,0], [-1j,0,0,1]]) / np.sqrt(2.0)\n",
    "#ideal = constants.ISWAP\n",
    "idealPadded = qt_utils.pad_matrix(ideal, propagator.shape[0] - ideal.shape[0], 'fulluni')\n",
    "print(\"Infidelity: \", 1.0 - tf_utils.tf_unitary_overlap(propagatorProjected, ideal).numpy())\n",
    "\n",
    "# Correct the global phase in the propagator, which might be different from the ideal gate\n",
    "phase = np.angle(ideal[0,0]) - np.angle(propagator[0,0])\n",
    "propagatorCorrected = propagator * np.exp(1.0j * phase)\n",
    "propagatorCorrectedProjected = tf_utils.tf_project_to_comp(\n",
    "    propagatorCorrected, dims=[5], index=[0, 1], outdims=[4]\n",
    ")\n",
    "\n",
    "# Create the plots\n",
    "baseDir = \"/home/user\"\n",
    "labelsX = utilities.createSingleTransmonQubitLabels(makeLatexBras=True, labelLeakageAsNumbers=False)\n",
    "labelsY = utilities.createSingleTransmonQubitLabels(makeLatexKets=True, labelLeakageAsNumbers=False)\n",
    "plotting.plotComplexMatrixHinton(propagator, maxAbsolute=1, xlabels=labelsX, ylabels=labelsY, gridColour=\"gray\",\n",
    "                                 filename=f'{baseDir}/{name}_propagator.pdf', colourMap='hsv', tickLabelSize=24,\n",
    "                                 #comparisonMatrix=idealPadded,\n",
    "                                 addAbsValueAsText=True\n",
    "                                 )\n",
    "'''\n",
    "plotting.plotComplexMatrix(propagator, xlabels=labelsY, ylabels=labelsX,\n",
    "                           filename=f'{baseDir}/{name}_propagator_3d.pdf',\n",
    "                           colourMap='hsv', zlimits=(0.0, 1.05*np.max(np.abs(propagator))),\n",
    "                           zticks=np.round(np.arange(0.0, 1.0, 0.2), 3))\n",
    "\n",
    "#plotting.plotComplexMatrix(propagatorCorrectedProjected, colourMap='hsv', xlabels=labelsX[:4], ylabels=labelsY[:4],\n",
    "#                           filename=f'{baseDir}/rx90p_q2_propagator_3d.svg')\n",
    "#plotting.plotComplexMatrix(propagatorCorrected, colourMap='hsv', xlabels=labelsX, ylabels=labelsY,\n",
    "#                           filename=f'{baseDir}/rx90p_q2_propagator_3d.svg')\n",
    "zmax = np.max(np.abs(propagatorCorrectedProjected - ideal))\n",
    "plotting.plotComplexMatrix(propagatorCorrectedProjected - ideal, xlabels=labelsY[:4], ylabels=labelsX[:4],\n",
    "                           filename=f'{baseDir}/{name}_propagator_diff.pdf',\n",
    "                           colourMap='hsv', zlimits=(0.0, 1.05*zmax), zticks=np.round(np.arange(0.0, 0.101, 0.02), 3))\n",
    "'''"
   ],
   "metadata": {
    "collapsed": false,
    "pycharm": {
     "name": "#%%\n"
    }
   }
  },
  {
   "cell_type": "markdown",
   "source": [
    "### Reads a time dependent signal and plots it"
   ],
   "metadata": {
    "collapsed": false,
    "pycharm": {
     "name": "#%% md\n"
    }
   }
  },
  {
   "cell_type": "code",
   "execution_count": null,
   "outputs": [],
   "source": [
    "fig = plt.figure(figsize=(12, 8))\n",
    "ax = fig.add_subplot(111)\n",
    "ax.plot(time * 1e9, signal / 1e6)\n",
    "ax.set_xlabel(\"Time [ns]\", fontsize=24)\n",
    "ax.set_ylabel(\"Amplitude [MHz]\", fontsize=24)\n",
    "ax.tick_params(axis='both', which='major', labelsize=24)\n",
    "plt.tight_layout()\n",
    "plt.savefig(f'/home/user/{name}_signal.pdf', bbox_inches=\"tight\", dpi=100)\n",
    "plt.show()"
   ],
   "metadata": {
    "collapsed": false,
    "pycharm": {
     "name": "#%%\n"
    }
   }
  },
  {
   "cell_type": "markdown",
   "source": [
    "### Plots the frequency spectrum of the above signal"
   ],
   "metadata": {
    "collapsed": false,
    "pycharm": {
     "name": "#%% md\n"
    }
   }
  },
  {
   "cell_type": "code",
   "execution_count": null,
   "outputs": [],
   "source": [
    "def plotSpectrum(time: np.array, signal: np.array, frequencyRange: Tuple[float, float], normalise=False, addLabels=True,\n",
    "                 filename=None, paddingFactor=20) -> None:\n",
    "    # Pad the signal with zeros for better resolution\n",
    "    if paddingFactor != 1:\n",
    "        time2 = np.arange(time[0], paddingFactor*time[-1], time[1]-time[0])\n",
    "        signal2 = np.zeros(paddingFactor*len(signal))\n",
    "        signal2[0:len(signal)] = signal\n",
    "    else:\n",
    "        time2 = time\n",
    "        signal2 = signal\n",
    "\n",
    "    # Calculate the spectrum\n",
    "    freq_signal = np.fft.rfft(signal2)\n",
    "    freq = np.fft.rfftfreq(len(time2), time2[-1] / len(time2))\n",
    "    freq_signal = freq_signal[:len(freq_signal)//2]\n",
    "    freq = freq[:len(freq)//2]\n",
    "    freq, freq_signal = cutSpectrum(freq, freq_signal, frequencyRange)\n",
    "    if normalise:\n",
    "        freq_signal /= np.max(np.abs(freq_signal))\n",
    "\n",
    "    # Create the plot\n",
    "    fig = plt.figure(figsize=(10, 5))\n",
    "    ax = fig.subplots(1, 1)\n",
    "    plt.plot(freq / 1e9, np.abs(freq_signal)**2)\n",
    "    #plt.plot(freq / 1e9, freq_signal.real, label=\"real\")\n",
    "    #plt.plot(freq / 1e9, freq_signal.imag, label=\"imag\")\n",
    "    #plt.legend()\n",
    "    plt.xlabel(\"Frequency [GHz]\", fontsize=24)\n",
    "    plt.ylabel(\"Spectral amplitude\", fontsize=24)\n",
    "    plt.xlim(np.min(freq) / 1e9, np.max(freq) / 1e9)\n",
    "    plt.ylim(-0.05, 1.1)\n",
    "    ax.tick_params(axis='both', which='major', labelsize=24)\n",
    "\n",
    "    # Add labels for the model's resonances\n",
    "    if addLabels:\n",
    "        # Calculate all resonances\n",
    "        stateEnergies = notebook_utils.getEnergiesFromHamiltonian(getHamiltonian())\n",
    "        transitions = notebook_utils.calculateTransitions(stateEnergies, utilities.createSingleTransmonQubitLabels(makeLatexKets=True))\n",
    "\n",
    "        # only transitions within a range\n",
    "        inRange = [s for s in transitions if frequencyRange[0] < s[0] < frequencyRange[1]]\n",
    "        energies = np.array([s[0] for s in inRange])\n",
    "        labels = np.array([s[1] for s in inRange])\n",
    "        sortedIndices = np.argsort(energies)\n",
    "        sortedEnergies = energies[sortedIndices]\n",
    "\n",
    "        # a tick for each transition energy\n",
    "        ymax = 1.0 #np.max(np.abs(freq_signal))\n",
    "        transitionSpacing = (frequencyRange[1] - frequencyRange[0]) / 10\n",
    "        previousShifted = 0\n",
    "        for i, E in enumerate(sortedEnergies):\n",
    "            if i > 0 and abs(sortedEnergies[i] - sortedEnergies[i - 1]) < transitionSpacing:\n",
    "                y = ymax * ((8.0 - previousShifted) / 9)\n",
    "                previousShifted = (previousShifted + 1) % 4\n",
    "            else:\n",
    "                y = ymax\n",
    "                previousShifted = 0\n",
    "            ax.vlines(sortedEnergies[i] / 1e9, 0.0, y, colors=[\"grey\"], linestyles=\":\", lw=2.5)\n",
    "            ax.annotate(\n",
    "                text=labels[sortedIndices[i]].replace(' - ', '$\\\\leftrightarrow$'),\n",
    "                xy=(E / 1e9, 1.01*y),\n",
    "                xycoords=\"data\",\n",
    "                #verticalalignment=\"bottom\",\n",
    "                horizontalalignment=\"center\",\n",
    "                #rotation=270,\n",
    "                fontsize=22\n",
    "            )\n",
    "\n",
    "    plt.tight_layout()\n",
    "    if filename is not None:\n",
    "        plt.savefig(filename, bbox_gdpPercapinches=\"tight\", dpi=100)\n",
    "    plt.show()\n",
    "\n",
    "plotSpectrum(time, signal, (4.15e9, 5.3e9), addLabels=True, filename=f'/home/user/{name}_spectrum.pdf', normalise=True)\n",
    "#plotSpectrum(time, signal, (4.6e9, 4.8e9), addLabels=True, filename=f'/home/user/{name}_spectrum.pdf', normalise=True)"
   ],
   "metadata": {
    "collapsed": false,
    "pycharm": {
     "name": "#%%\n"
    }
   }
  },
  {
   "cell_type": "code",
   "execution_count": null,
   "outputs": [],
   "source": [],
   "metadata": {
    "collapsed": false,
    "pycharm": {
     "name": "#%%\n"
    }
   }
  }
 ],
 "metadata": {
  "kernelspec": {
   "display_name": "Python 3",
   "language": "python",
   "name": "python3"
  },
  "language_info": {
   "codemirror_mode": {
    "name": "ipython",
    "version": 2
   },
   "file_extension": ".py",
   "mimetype": "text/x-python",
   "name": "python",
   "nbconvert_exporter": "python",
   "pygments_lexer": "ipython2",
   "version": "2.7.6"
  }
 },
 "nbformat": 4,
 "nbformat_minor": 0
}