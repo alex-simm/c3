{
 "cells": [
  {
   "cell_type": "markdown",
   "source": [
    "Creates plots that are independent of the system's dimension or Hamiltonian"
   ],
   "metadata": {
    "collapsed": false,
    "pycharm": {
     "name": "#%% md\n"
    }
   }
  },
  {
   "cell_type": "code",
   "execution_count": null,
   "outputs": [],
   "source": [
    "import numpy as np\n",
    "import matplotlib as mpl\n",
    "from matplotlib import pyplot as plt, colors, cm\n",
    "import scipy.signal as scps\n",
    "\n",
    "np.set_printoptions(linewidth=300)"
   ],
   "metadata": {
    "collapsed": false,
    "pycharm": {
     "name": "#%%\n"
    }
   }
  },
  {
   "cell_type": "markdown",
   "source": [
    "### Reads the time dependent entanglement entropy of a gate and plots it"
   ],
   "metadata": {
    "collapsed": false,
    "pycharm": {
     "name": "#%% md\n"
    }
   }
  },
  {
   "cell_type": "code",
   "execution_count": null,
   "outputs": [],
   "source": [
    "time, entropy = np.load('/home/user/Schreibtisch/results/4-level qubit/2 LOs/1 transmon/iCNOT/entanglement_after.npy', allow_pickle=True)\n",
    "\n",
    "fig, ax = plt.subplots(1,1)\n",
    "ax.plot(time * 1e9, entropy[:-1], color='black')\n",
    "\n",
    "ax.set_xlabel(\"Time [ns]\", fontsize=14)\n",
    "ax.set_ylabel(\"Entropy [MHz]\", fontsize=14)\n",
    "ax.set_ylim(0, 1.01)\n",
    "\n",
    "plt.tight_layout()\n",
    "plt.savefig('/home/user/rz90p_q2_signal.pdf', bbox_inches=\"tight\", dpi=100)\n",
    "plt.show()"
   ],
   "metadata": {
    "collapsed": false,
    "pycharm": {
     "name": "#%%\n"
    }
   }
  },
  {
   "cell_type": "markdown",
   "source": [
    "### Creates a spectrogram of a signal's frequency spectrum"
   ],
   "metadata": {
    "collapsed": false,
    "pycharm": {
     "name": "#%% md\n"
    }
   }
  },
  {
   "cell_type": "code",
   "execution_count": null,
   "outputs": [],
   "source": [
    "# Load the signal and calculate the spectrogram\n",
    "def plotSpectrogram(filename, segmentLen=512) -> None:\n",
    "    time, signal = np.load(filename)\n",
    "    f, t, Sxx = scps.spectrogram(signal, fs=20e9, nperseg=segmentLen)\n",
    "\n",
    "    # Create the plot\n",
    "    fig = plt.figure(figsize=(12, 8))\n",
    "    ax = fig.add_subplot(111)\n",
    "    plt.pcolormesh(t*1e9, f, Sxx, shading='nearest', cmap=cm.get_cmap(\"viridis\"))\n",
    "    ax.yaxis.set_major_formatter(mpl.ticker.FuncFormatter(lambda y, pos: '{0:g}'.format(y * 1e-9)))\n",
    "    ax.set_ylim(4.2e9, 5.2e9)\n",
    "    ax.tick_params(axis='both', which='major', labelsize=16)\n",
    "    plt.ylabel('Frequency [GHz]', fontsize=20)\n",
    "    plt.xlabel('Time [ns]', fontsize=20)\n",
    "    plt.title(f\"Segment = {segmentLen}\", fontsize=20)\n",
    "\n",
    "    # Add a colour bar\n",
    "    norm = colors.Normalize(vmin=np.min(Sxx), vmax=np.max(Sxx))\n",
    "    cbar = fig.colorbar(\n",
    "        cm.ScalarMappable(norm=norm, cmap=cm.get_cmap(\"viridis\")),\n",
    "        ax=ax,\n",
    "        shrink=1,\n",
    "        pad=0.1,\n",
    "        #ticks=[-np.pi, -np.pi / 2, 0, np.pi / 2, np.pi],\n",
    "    )\n",
    "    plt.show()\n",
    "\n",
    "for size in [2048, 512, 128]:\n",
    "    plotSpectrogram('/home/user/Schreibtisch/results/4-level qubit/Fourier basis 5 levels, 1000ns/100 freqs/CZ/signal_t1_after.npy', segmentLen=size)"
   ],
   "metadata": {
    "collapsed": false,
    "pycharm": {
     "name": "#%%\n"
    }
   }
  },
  {
   "cell_type": "code",
   "execution_count": null,
   "outputs": [],
   "source": [],
   "metadata": {
    "collapsed": false,
    "pycharm": {
     "name": "#%%\n"
    }
   }
  }
 ],
 "metadata": {
  "kernelspec": {
   "display_name": "Python 3",
   "language": "python",
   "name": "python3"
  },
  "language_info": {
   "codemirror_mode": {
    "name": "ipython",
    "version": 2
   },
   "file_extension": ".py",
   "mimetype": "text/x-python",
   "name": "python",
   "nbconvert_exporter": "python",
   "pygments_lexer": "ipython2",
   "version": "2.7.6"
  }
 },
 "nbformat": 4,
 "nbformat_minor": 0
}